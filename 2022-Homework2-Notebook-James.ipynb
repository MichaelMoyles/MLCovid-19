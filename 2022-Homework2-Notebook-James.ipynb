{
 "cells": [
  {
   "cell_type": "markdown",
   "metadata": {},
   "source": [
    "# Homework2\n",
    "\n",
    "Please note that this is a group project (2 students per group). If you do not have a group yet, please email georgiana.ifrim@ucd.ie to be assigned to a group.\n",
    "\n",
    "Please upload to Brightspace a **.zip** archive containing your Jupyter Notebook with solutions and all data required to reproduce your solutions. \n",
    "\n",
    "Please also prepare a **requirements.txt** file which lists all the packages that you have used for your homework, one package per line. This will allow us to install all required packages.\n",
    "\n",
    "Please name your .zip archive using your full names and student ids as follows - **Firstname1_Lastname1_id1_Firstname2_Lastname2_id2_COMP47350_Homework1.zip**. Please only 1 person in the team submit this zip file to Brightspace (no need for each member to submit a duplicate of the zip).\n",
    "\n",
    "For your Notebook, please split the code and explanations into cells so it is easy to see and read the results of each step of your solution. Please remember to name your variables and methods with self-explanatory names. Please remember to write comments and where needed, justifications, for the decisions you make and code you write. \n",
    "\n",
    "Your code and analysis is like a story that awaits to be read, please make it a nice and clear story. Always start with an introduction about the problem and your understanding of the problem domain and data analytics solution and describe your steps and your findings from each step.\n",
    "\n",
    "The accepted file formats for the homework are:\n",
    "    - .ipynb\n",
    "    - .zip\n",
    "    - .pdf\n",
    "    - .csv\n",
    "    \n",
    "Please aim to keep the whole code for Homework2 in a single notebook. In case you need to first prepare the data and prefer to do this in a separate notebook, before starting on Homework2, you can do this, but to the Homework2 notebook add a short summary of what was done to prepare the data. Please document the structure of your files in a README.txt file, so your submission folder and files are easy to navigate for an outsider.\n",
    "\n",
    "Usage of external tools/files is discouraged for portability reasons. Files in any other format but mentioned above can be used but will not considered for the submission (including .doc, .rar, .7z, .pages, .xlsx, .tex etc.). \n",
    "Any image format is allowed to be used as far as the images appear embedded in your report (.ipynb or .pdf or .html).\n",
    "\n",
    "**Deadline: Monday, 8 May, 2023, midnight.** \n"
   ]
  },
  {
   "cell_type": "markdown",
   "metadata": {},
   "source": [
    "## Exercises\n",
    "\n",
    "**This homework focuses on training and evaluating prediction models for a particular problem and dataset.**\n",
    "The data comes from the Centers for Disease Control and Prevention (CDC: https://covid.cdc.gov/covid-data-tracker/). CDC is a USA health protection agency and is in charge of collecting data about the COVID-19 pandemic, and in particular, tracking cases, deaths, and trends of COVID-19 in the United States. CDC collects and makes public deidentified individual-case data on a daily basis, submitted using standardized case reporting forms. In this analysis, we focus on using the data collected by CDC to build a data analytics solution for death risk prediction. \n",
    "\n",
    "The dataset we work with is a sample of the public data released by CDC, where the outcome for the target feature **death_yn** is known (i.e., either 'yes' or 'no'):\n",
    "https://data.cdc.gov/Case-Surveillance/COVID-19-Case-Surveillance-Public-Use-Data/vbim-akqf\n",
    "\n",
    "The goal in this homework is to work with the data to build and evaluate prediction models that capture the relationship between the descriptive features and the target feature **death_yn**. For this homework you are asked to use the same dataset allocated to you in Homework1 (you can use your cleaned/prepared CSV from Homework1 or start from the raw dataset, clean it according to concepts covered in the lectures/labs, then use it for training prediction models). To use the 2 individual files allocated for Homework1, you can merge them first, then clean the resulting dataset, before starting on Homework2 requirements.\n",
    " \n",
    "There are 5 parts for this homework. Each part has an indicative maximum percentage given in brackets, e.g., part (1) has a maximum of 25% shown as [25]. The total that can be achieved is 100.\n",
    "\n",
    "\n",
    "(1). [25] **Data Understanding and Preparation:** Exploring relationships between feature pairs and selecting/transforming promising features based on a given training set.\n",
    "\n",
    "    - (1.1) Split the dataset into two datasets: 70% training and 30% test. Keep the test set aside. \n",
    "    - (1.2) On the training set:\n",
    "        - Plot the correlations between all the continuous features (if any). Discuss what you observe in these plots.\n",
    "        - For each continuous feature, plot its interaction with the target feature (a plot for each pair of   continuous feature and target feature). Discuss what you observe from these plots, e.g., which continuous features seem to be better at predicting the target feature? Choose a subset of continuous features you find promising (if any). Justify your choices.\n",
    "        - For each categorical feature, plot its pairwise interaction with the target feature. Discuss what  knowledge you gain from these plots, e.g., which categorical features seem to be better at predicting the target feature? Choose a subset of categorical features you find promising (if any). Justify your choices.\n",
    "      \n",
    "    \n",
    "(2). [15] **Predictive Modeling:** Linear Regression.  \n",
    "\n",
    "    - (2.1) On the training set, train a linear regression model to predict the target feature, using only the  descriptive features selected in exercise (1) above. \n",
    "    - (2.2) Print the coefficients learned by the model and discuss their role in the model (e.g., interpret the model by analysing each coefficient and how it relates each input feature to the target feature).    \n",
    "    - (2.3) Print the predicted target feature value for the first 10 training examples. Threshold the predicted target feature value given by the linear regression model at 0.5, to get the predicted class for each example. Print the predicted class for the first 10 examples. Print a few classification evaluation measures computed on the full training set (e.g., Accuracy, Confusion matrix, Precision, Recall, F1) and discuss your findings so far.\n",
    "    - (2.4) Evaluate the model using classification evaluation measures on the hold-out (30% examples) test set. Compare these results with the evaluation results obtained on the training (70%) dataset. Also compare these results with a cross-validated model (i.e., a new model trained and evaluated using cross-validation on the full dataset). You can use classic k-fold cross-validation or repeated random train/test (70/30) splits. Compare the cross-validation metrics to those obtained on the single train/test split and discuss your findings.\n",
    "    \n",
    "(3). [15] **Predictive Modeling:** Logistic Regression.  \n",
    "\n",
    "    - (3.1) On the training set, train a logistic regression model to predict the target feature, using the descriptive features selected in exercise (1) above.   \n",
    "    - (3.2) Print the coefficients learned by the model and discuss their role in the model (e.g., interpret the model).    \n",
    "    - (3.3) Print the predicted target feature value for the first 10 training examples. Print the predicted class for the first 10 examples. Print a few classification evaluation measures computed on the full training set (e.g., Accuracy, Confusion matrix, Precision, Recall, F1) and discuss your findings so far.\n",
    "    - (3.4) Evaluate the model using classification evaluation measures on the hold-out (30% examples) test set. Compare these results with the evaluation results obtained when using the training (70%) dataset for evaluation. Also compare these results with a cross-validated model (i.e., a new model trained and evaluated using cross-validation on the full dataset). You can use classic k-fold cross-validation or repeated train/test (70/30) splits. Compare the cross-validation metrics to those obtained on the single train/test split and discuss your findings.\n",
    "    \n",
    "    \n",
    "(4). [20] **Predictive Modeling:** Random Forest.  \n",
    "\n",
    "    - (4.1) On the training set, train a random forest model to predict the target feature, using the descriptive features selected in exercise (1) above.   \n",
    "    - (4.2) Can you interpret the random forest model? Discuss any knowledge you can gain in regard of the working of this model.   \n",
    "    - (4.3) Print the predicted target feature value for the first 10 training examples. Print the predicted class for the first 10 examples. Print a few classification evaluation measures computed on the full training set (e.g., Accuracy, Confusion matrix, Precision, Recall, F1) and discuss your findings so far.\n",
    "    - (4.4) Evaluate the model using classification evaluation measures on the hold-out (30% examples) test set. Compare these results with the evaluation results obtained when using the training (70%) dataset for evaluation. Also compare these results with a cross-validated model (i.e., a new model trained and evaluated using cross-validation on the full dataset). You can use classic k-fold cross-validation or repeated train/test (70/30) splits. Compare the cross-validation metrics to those obtained on the single train/test split and to the Random Forest out-of-sample error and discuss your findings.\n",
    "    \n",
    "(5). [25] **Improving Predictive Models.**\n",
    "\n",
    "    - (5.1) Which model of the ones trained above performs better at predicting the target feature? Is it more   accurate than a simple model that always predicts the majority class (i.e., if 'no' is the majority class in your dataset, the simple model always predicts 'no' for the target feature)? Justify your answers.\n",
    "    - (5.2) Summarise your understanding of the problem and of your predictive modeling results so far. Can you think of any new ideas to improve the best model so far (e.g., by using furher data prep such as: feature selection, feature re-scaling, creating new features, combining predictive models, or using other domain knowledge)? Please show how your ideas actually work in practice (with code), by training and evaluating your proposed models. Summarise your findings so far. "
   ]
  },
  {
   "cell_type": "markdown",
   "metadata": {},
   "source": [
    "## Introduction\n",
    "- This notebook will apply the cleaned dataset from Task1 and use it to create 3 different models to predict whether the features can predict the death from Covid-19\n",
    "\n",
    "$This homework will be broken down into 4 main parts:$\n",
    "1. We will review the dataset from homework one and decide on which features to use to build our model\n",
    "2. We will create a Linear Regression model and analyse\n",
    "3. We will create a Logistical Regression model and analyse\n",
    "4. We will create a Random Forest model and analyse\n",
    "5. We will then try to optimized each model  "
   ]
  },
  {
   "cell_type": "code",
   "execution_count": 5,
   "metadata": {
    "scrolled": true
   },
   "outputs": [],
   "source": [
    "import pandas as pd\n",
    "import numpy as np\n",
    "import seaborn as sns\n",
    "import matplotlib.pyplot as plt\n",
    "import matplotlib.patches as mpatches\n",
    "\n",
    "from patsy import dmatrices\n",
    "\n",
    "from sklearn.linear_model import LinearRegression\n",
    "from sklearn.linear_model import LogisticRegression\n",
    "from sklearn.tree import DecisionTreeClassifier\n",
    "from sklearn.ensemble import RandomForestClassifier\n",
    "from sklearn.model_selection import train_test_split\n",
    "from sklearn import metrics\n",
    "from sklearn.model_selection import cross_validate\n",
    "from sklearn.model_selection import cross_val_score\n",
    "from sklearn.tree import export_graphviz\n",
    "\n",
    "import graphviz\n",
    "from graphviz import Source\n",
    "\n",
    "# ignore warnings\n",
    "import warnings\n",
    "warnings.filterwarnings('ignore')"
   ]
  },
  {
   "cell_type": "markdown",
   "metadata": {},
   "source": [
    "Our two original datasets have been combined and cleaned (Task1) and is now imported as a starting point for this work.\n",
    "1. The accompanying data quality report from Task1 can be found attached as PDF as a background to this cleaned dataset;\n",
    "2. A summary of this plan can be seen in the table below;\n",
    "3. In addition, a number of extra features were added (to better capture the problem domain) that were not in the original dataset.\n",
    "    - death_prob_sex_age\n",
    "    - death_prob_medical\n",
    "    - death_prob_month\n",
    "    - state_party"
   ]
  },
  {
   "cell_type": "markdown",
   "metadata": {},
   "source": [
    "### Summary of data quality plan:\n",
    "\n",
    "| Feature Names                      | Data Quality Issue                     | Handling Strategy                |\n",
    "|------------------------------------|----------------------------------------|----------------------------------|\n",
    "| case_month                         | None                                   | Do Nothing                       |\n",
    "| res_state                          | None                                   | Do Nothing                       |\n",
    "| state_fips_code                    | None                                   | Do Nothing                       |\n",
    "| res_county                         | Missing Values (6%)                    | Replace with 'Missing'           |\n",
    "| county_fips_code                   | Missing Values (6%)                    | Replace with 'Missing'           |\n",
    "| age_group                          | Missing Values (0.8%)                  | Replace with 'Missing'           |\n",
    "| sex                                | Missing Values (2%)                    | Impute based on data proportions |\n",
    "| race                               | Missing Values (23%)                   | Replace with 'Missing'           |\n",
    "| ethnicity                          | Missing Values (31%)                   | Replace with 'Missing'           |\n",
    "| case_onset_interval                | Constant Column                        | Drop                             |\n",
    "| case_process_specimen_interval     | Negative Values & Missing Values (56%) | Replace with mode                |\n",
    "| process                            | Missing Values (91%)                   | Drop                             |\n",
    "| exposure_yn                        | Constant Column                        | Drop                             |\n",
    "| current_status                     | None                                   | Do Nothing                       |\n",
    "| sympotom_status                    | Missing Values (53%)                   | Replace with 'Missing'           |\n",
    "| hosp_yn                            | Missing Values (33%)                   | Replace with 'Missing'           |\n",
    "| icu_yn                             | Missing Values (91%)                   | Drop                             |\n",
    "| death_yn                           | None                                   | Do Nothing                       |\n",
    "| underlying_conditions_yn           | Missing Values (91%)                   | Drop                             |"
   ]
  },
  {
   "cell_type": "markdown",
   "metadata": {},
   "source": [
    "##  1.1 Review, prepare and split the dataset into two datasets: 70% training and 30% test\n",
    "Here we will import cleaned dataset"
   ]
  },
  {
   "cell_type": "code",
   "execution_count": 63,
   "metadata": {},
   "outputs": [
    {
     "data": {
      "text/html": [
       "<div>\n",
       "<style scoped>\n",
       "    .dataframe tbody tr th:only-of-type {\n",
       "        vertical-align: middle;\n",
       "    }\n",
       "\n",
       "    .dataframe tbody tr th {\n",
       "        vertical-align: top;\n",
       "    }\n",
       "\n",
       "    .dataframe thead th {\n",
       "        text-align: right;\n",
       "    }\n",
       "</style>\n",
       "<table border=\"1\" class=\"dataframe\">\n",
       "  <thead>\n",
       "    <tr style=\"text-align: right;\">\n",
       "      <th></th>\n",
       "      <th>case_month</th>\n",
       "      <th>res_state</th>\n",
       "      <th>state_fips_code</th>\n",
       "      <th>res_county</th>\n",
       "      <th>county_fips_code</th>\n",
       "      <th>age_group</th>\n",
       "      <th>sex</th>\n",
       "      <th>race</th>\n",
       "      <th>ethnicity</th>\n",
       "      <th>case_positive_specimen_interval</th>\n",
       "      <th>current_status</th>\n",
       "      <th>symptom_status</th>\n",
       "      <th>hosp_yn</th>\n",
       "      <th>death_yn</th>\n",
       "      <th>death_prob_sex_age</th>\n",
       "      <th>death_prob_medical</th>\n",
       "      <th>state_party</th>\n",
       "      <th>death_prob_month</th>\n",
       "    </tr>\n",
       "  </thead>\n",
       "  <tbody>\n",
       "    <tr>\n",
       "      <th>0</th>\n",
       "      <td>2020-12</td>\n",
       "      <td>CA</td>\n",
       "      <td>6</td>\n",
       "      <td>RIVERSIDE</td>\n",
       "      <td>6065.0</td>\n",
       "      <td>65+ years</td>\n",
       "      <td>Male</td>\n",
       "      <td>Missing</td>\n",
       "      <td>Missing</td>\n",
       "      <td>0</td>\n",
       "      <td>Laboratory-confirmed case</td>\n",
       "      <td>Missing</td>\n",
       "      <td>Missing</td>\n",
       "      <td>Yes</td>\n",
       "      <td>0.7429577464788732</td>\n",
       "      <td>Missing</td>\n",
       "      <td>Democrat</td>\n",
       "      <td>0.427450</td>\n",
       "    </tr>\n",
       "    <tr>\n",
       "      <th>1</th>\n",
       "      <td>2022-01</td>\n",
       "      <td>NJ</td>\n",
       "      <td>34</td>\n",
       "      <td>GLOUCESTER</td>\n",
       "      <td>34015.0</td>\n",
       "      <td>65+ years</td>\n",
       "      <td>Male</td>\n",
       "      <td>White</td>\n",
       "      <td>Non-Hispanic/Latino</td>\n",
       "      <td>2</td>\n",
       "      <td>Laboratory-confirmed case</td>\n",
       "      <td>Symptomatic</td>\n",
       "      <td>Yes</td>\n",
       "      <td>Yes</td>\n",
       "      <td>0.7429577464788732</td>\n",
       "      <td>0.8035019455252919</td>\n",
       "      <td>Democrat</td>\n",
       "      <td>0.173905</td>\n",
       "    </tr>\n",
       "    <tr>\n",
       "      <th>2</th>\n",
       "      <td>2020-11</td>\n",
       "      <td>TN</td>\n",
       "      <td>47</td>\n",
       "      <td>PUTNAM</td>\n",
       "      <td>47141.0</td>\n",
       "      <td>65+ years</td>\n",
       "      <td>Male</td>\n",
       "      <td>White</td>\n",
       "      <td>Non-Hispanic/Latino</td>\n",
       "      <td>0</td>\n",
       "      <td>Laboratory-confirmed case</td>\n",
       "      <td>Symptomatic</td>\n",
       "      <td>Yes</td>\n",
       "      <td>Yes</td>\n",
       "      <td>0.7429577464788732</td>\n",
       "      <td>0.8035019455252919</td>\n",
       "      <td>Republican</td>\n",
       "      <td>0.324263</td>\n",
       "    </tr>\n",
       "    <tr>\n",
       "      <th>3</th>\n",
       "      <td>2020-04</td>\n",
       "      <td>NY</td>\n",
       "      <td>36</td>\n",
       "      <td>WESTCHESTER</td>\n",
       "      <td>36119.0</td>\n",
       "      <td>65+ years</td>\n",
       "      <td>Male</td>\n",
       "      <td>Black</td>\n",
       "      <td>Non-Hispanic/Latino</td>\n",
       "      <td>0</td>\n",
       "      <td>Laboratory-confirmed case</td>\n",
       "      <td>Symptomatic</td>\n",
       "      <td>Yes</td>\n",
       "      <td>Yes</td>\n",
       "      <td>0.7429577464788732</td>\n",
       "      <td>0.8035019455252919</td>\n",
       "      <td>Democrat</td>\n",
       "      <td>0.782269</td>\n",
       "    </tr>\n",
       "    <tr>\n",
       "      <th>4</th>\n",
       "      <td>2020-03</td>\n",
       "      <td>TN</td>\n",
       "      <td>47</td>\n",
       "      <td>SUMNER</td>\n",
       "      <td>47165.0</td>\n",
       "      <td>65+ years</td>\n",
       "      <td>Female</td>\n",
       "      <td>White</td>\n",
       "      <td>Non-Hispanic/Latino</td>\n",
       "      <td>0</td>\n",
       "      <td>Laboratory-confirmed case</td>\n",
       "      <td>Symptomatic</td>\n",
       "      <td>Yes</td>\n",
       "      <td>Yes</td>\n",
       "      <td>0.6741793238608526</td>\n",
       "      <td>0.8035019455252919</td>\n",
       "      <td>Republican</td>\n",
       "      <td>0.720820</td>\n",
       "    </tr>\n",
       "  </tbody>\n",
       "</table>\n",
       "</div>"
      ],
      "text/plain": [
       "  case_month res_state  state_fips_code   res_county county_fips_code  \\\n",
       "0    2020-12        CA                6    RIVERSIDE           6065.0   \n",
       "1    2022-01        NJ               34   GLOUCESTER          34015.0   \n",
       "2    2020-11        TN               47       PUTNAM          47141.0   \n",
       "3    2020-04        NY               36  WESTCHESTER          36119.0   \n",
       "4    2020-03        TN               47       SUMNER          47165.0   \n",
       "\n",
       "   age_group     sex     race            ethnicity  \\\n",
       "0  65+ years    Male  Missing              Missing   \n",
       "1  65+ years    Male    White  Non-Hispanic/Latino   \n",
       "2  65+ years    Male    White  Non-Hispanic/Latino   \n",
       "3  65+ years    Male    Black  Non-Hispanic/Latino   \n",
       "4  65+ years  Female    White  Non-Hispanic/Latino   \n",
       "\n",
       "   case_positive_specimen_interval             current_status symptom_status  \\\n",
       "0                                0  Laboratory-confirmed case        Missing   \n",
       "1                                2  Laboratory-confirmed case    Symptomatic   \n",
       "2                                0  Laboratory-confirmed case    Symptomatic   \n",
       "3                                0  Laboratory-confirmed case    Symptomatic   \n",
       "4                                0  Laboratory-confirmed case    Symptomatic   \n",
       "\n",
       "   hosp_yn death_yn  death_prob_sex_age  death_prob_medical state_party  \\\n",
       "0  Missing      Yes  0.7429577464788732             Missing    Democrat   \n",
       "1      Yes      Yes  0.7429577464788732  0.8035019455252919    Democrat   \n",
       "2      Yes      Yes  0.7429577464788732  0.8035019455252919  Republican   \n",
       "3      Yes      Yes  0.7429577464788732  0.8035019455252919    Democrat   \n",
       "4      Yes      Yes  0.6741793238608526  0.8035019455252919  Republican   \n",
       "\n",
       "   death_prob_month  \n",
       "0          0.427450  \n",
       "1          0.173905  \n",
       "2          0.324263  \n",
       "3          0.782269  \n",
       "4          0.720820  "
      ]
     },
     "execution_count": 63,
     "metadata": {},
     "output_type": "execute_result"
    }
   ],
   "source": [
    "# read in the cleaned csv\n",
    "df = pd.read_csv(\"covid19_cdc_cleaned_data.csv\", keep_default_na=True, delimiter=',', skipinitialspace=True)\n",
    "df.head(5)"
   ]
  },
  {
   "cell_type": "code",
   "execution_count": 7,
   "metadata": {},
   "outputs": [
    {
     "data": {
      "text/html": [
       "<div>\n",
       "<style scoped>\n",
       "    .dataframe tbody tr th:only-of-type {\n",
       "        vertical-align: middle;\n",
       "    }\n",
       "\n",
       "    .dataframe tbody tr th {\n",
       "        vertical-align: top;\n",
       "    }\n",
       "\n",
       "    .dataframe thead th {\n",
       "        text-align: right;\n",
       "    }\n",
       "</style>\n",
       "<table border=\"1\" class=\"dataframe\">\n",
       "  <thead>\n",
       "    <tr style=\"text-align: right;\">\n",
       "      <th></th>\n",
       "      <th>case_month</th>\n",
       "      <th>res_state</th>\n",
       "      <th>state_fips_code</th>\n",
       "      <th>res_county</th>\n",
       "      <th>county_fips_code</th>\n",
       "      <th>age_group</th>\n",
       "      <th>sex</th>\n",
       "      <th>race</th>\n",
       "      <th>ethnicity</th>\n",
       "      <th>case_positive_specimen_interval</th>\n",
       "      <th>current_status</th>\n",
       "      <th>symptom_status</th>\n",
       "      <th>hosp_yn</th>\n",
       "      <th>death_yn</th>\n",
       "      <th>death_prob_sex_age</th>\n",
       "      <th>death_prob_medical</th>\n",
       "      <th>state_party</th>\n",
       "      <th>death_prob_month</th>\n",
       "    </tr>\n",
       "  </thead>\n",
       "  <tbody>\n",
       "    <tr>\n",
       "      <th>39995</th>\n",
       "      <td>2022-02</td>\n",
       "      <td>MN</td>\n",
       "      <td>27</td>\n",
       "      <td>POLK</td>\n",
       "      <td>27119.0</td>\n",
       "      <td>0 - 17 years</td>\n",
       "      <td>Female</td>\n",
       "      <td>Missing</td>\n",
       "      <td>Missing</td>\n",
       "      <td>0</td>\n",
       "      <td>Laboratory-confirmed case</td>\n",
       "      <td>Missing</td>\n",
       "      <td>Missing</td>\n",
       "      <td>No</td>\n",
       "      <td>0.0003727171077152441</td>\n",
       "      <td>Missing</td>\n",
       "      <td>Democrat</td>\n",
       "      <td>0.132992</td>\n",
       "    </tr>\n",
       "    <tr>\n",
       "      <th>39996</th>\n",
       "      <td>2022-11</td>\n",
       "      <td>OH</td>\n",
       "      <td>39</td>\n",
       "      <td>FRANKLIN</td>\n",
       "      <td>39049.0</td>\n",
       "      <td>18 to 49 years</td>\n",
       "      <td>Female</td>\n",
       "      <td>Black</td>\n",
       "      <td>Non-Hispanic/Latino</td>\n",
       "      <td>0</td>\n",
       "      <td>Laboratory-confirmed case</td>\n",
       "      <td>Missing</td>\n",
       "      <td>Missing</td>\n",
       "      <td>No</td>\n",
       "      <td>0.005774216356351638</td>\n",
       "      <td>Missing</td>\n",
       "      <td>Republican</td>\n",
       "      <td>0.007246</td>\n",
       "    </tr>\n",
       "    <tr>\n",
       "      <th>39997</th>\n",
       "      <td>2021-10</td>\n",
       "      <td>MI</td>\n",
       "      <td>26</td>\n",
       "      <td>WAYNE</td>\n",
       "      <td>26163.0</td>\n",
       "      <td>18 to 49 years</td>\n",
       "      <td>Female</td>\n",
       "      <td>Black</td>\n",
       "      <td>Non-Hispanic/Latino</td>\n",
       "      <td>0</td>\n",
       "      <td>Laboratory-confirmed case</td>\n",
       "      <td>Symptomatic</td>\n",
       "      <td>No</td>\n",
       "      <td>No</td>\n",
       "      <td>0.005774216356351638</td>\n",
       "      <td>0.05534841329024774</td>\n",
       "      <td>Democrat</td>\n",
       "      <td>0.144886</td>\n",
       "    </tr>\n",
       "    <tr>\n",
       "      <th>39998</th>\n",
       "      <td>2021-09</td>\n",
       "      <td>IN</td>\n",
       "      <td>18</td>\n",
       "      <td>ALLEN</td>\n",
       "      <td>18003.0</td>\n",
       "      <td>50 to 64 years</td>\n",
       "      <td>Female</td>\n",
       "      <td>White</td>\n",
       "      <td>Non-Hispanic/Latino</td>\n",
       "      <td>0</td>\n",
       "      <td>Laboratory-confirmed case</td>\n",
       "      <td>Missing</td>\n",
       "      <td>No</td>\n",
       "      <td>No</td>\n",
       "      <td>0.09107413010590015</td>\n",
       "      <td>Missing</td>\n",
       "      <td>Republican</td>\n",
       "      <td>0.189514</td>\n",
       "    </tr>\n",
       "    <tr>\n",
       "      <th>39999</th>\n",
       "      <td>2020-11</td>\n",
       "      <td>MD</td>\n",
       "      <td>24</td>\n",
       "      <td>PRINCE GEORGE'S</td>\n",
       "      <td>24033.0</td>\n",
       "      <td>50 to 64 years</td>\n",
       "      <td>Male</td>\n",
       "      <td>White</td>\n",
       "      <td>Hispanic/Latino</td>\n",
       "      <td>0</td>\n",
       "      <td>Laboratory-confirmed case</td>\n",
       "      <td>Symptomatic</td>\n",
       "      <td>No</td>\n",
       "      <td>No</td>\n",
       "      <td>0.22256664600123993</td>\n",
       "      <td>0.05534841329024774</td>\n",
       "      <td>Democrat</td>\n",
       "      <td>0.324263</td>\n",
       "    </tr>\n",
       "  </tbody>\n",
       "</table>\n",
       "</div>"
      ],
      "text/plain": [
       "      case_month res_state  state_fips_code       res_county county_fips_code  \\\n",
       "39995    2022-02        MN               27             POLK          27119.0   \n",
       "39996    2022-11        OH               39         FRANKLIN          39049.0   \n",
       "39997    2021-10        MI               26            WAYNE          26163.0   \n",
       "39998    2021-09        IN               18            ALLEN          18003.0   \n",
       "39999    2020-11        MD               24  PRINCE GEORGE'S          24033.0   \n",
       "\n",
       "            age_group     sex     race            ethnicity  \\\n",
       "39995    0 - 17 years  Female  Missing              Missing   \n",
       "39996  18 to 49 years  Female    Black  Non-Hispanic/Latino   \n",
       "39997  18 to 49 years  Female    Black  Non-Hispanic/Latino   \n",
       "39998  50 to 64 years  Female    White  Non-Hispanic/Latino   \n",
       "39999  50 to 64 years    Male    White      Hispanic/Latino   \n",
       "\n",
       "       case_positive_specimen_interval             current_status  \\\n",
       "39995                                0  Laboratory-confirmed case   \n",
       "39996                                0  Laboratory-confirmed case   \n",
       "39997                                0  Laboratory-confirmed case   \n",
       "39998                                0  Laboratory-confirmed case   \n",
       "39999                                0  Laboratory-confirmed case   \n",
       "\n",
       "      symptom_status  hosp_yn death_yn     death_prob_sex_age  \\\n",
       "39995        Missing  Missing       No  0.0003727171077152441   \n",
       "39996        Missing  Missing       No   0.005774216356351638   \n",
       "39997    Symptomatic       No       No   0.005774216356351638   \n",
       "39998        Missing       No       No    0.09107413010590015   \n",
       "39999    Symptomatic       No       No    0.22256664600123993   \n",
       "\n",
       "        death_prob_medical state_party  death_prob_month  \n",
       "39995              Missing    Democrat          0.132992  \n",
       "39996              Missing  Republican          0.007246  \n",
       "39997  0.05534841329024774    Democrat          0.144886  \n",
       "39998              Missing  Republican          0.189514  \n",
       "39999  0.05534841329024774    Democrat          0.324263  "
      ]
     },
     "execution_count": 7,
     "metadata": {},
     "output_type": "execute_result"
    }
   ],
   "source": [
    "df.tail(5)"
   ]
  },
  {
   "cell_type": "markdown",
   "metadata": {},
   "source": [
    "The cleaned csv shape, datatypes will be inspected. We will also check for any remaining null values"
   ]
  },
  {
   "cell_type": "code",
   "execution_count": 8,
   "metadata": {},
   "outputs": [
    {
     "data": {
      "text/plain": [
       "(40000, 18)"
      ]
     },
     "execution_count": 8,
     "metadata": {},
     "output_type": "execute_result"
    }
   ],
   "source": [
    "df.shape"
   ]
  },
  {
   "cell_type": "code",
   "execution_count": 9,
   "metadata": {},
   "outputs": [
    {
     "name": "stdout",
     "output_type": "stream",
     "text": [
      "<class 'pandas.core.frame.DataFrame'>\n",
      "RangeIndex: 40000 entries, 0 to 39999\n",
      "Data columns (total 18 columns):\n",
      " #   Column                           Non-Null Count  Dtype  \n",
      "---  ------                           --------------  -----  \n",
      " 0   case_month                       40000 non-null  object \n",
      " 1   res_state                        40000 non-null  object \n",
      " 2   state_fips_code                  40000 non-null  int64  \n",
      " 3   res_county                       40000 non-null  object \n",
      " 4   county_fips_code                 40000 non-null  object \n",
      " 5   age_group                        40000 non-null  object \n",
      " 6   sex                              40000 non-null  object \n",
      " 7   race                             40000 non-null  object \n",
      " 8   ethnicity                        40000 non-null  object \n",
      " 9   case_positive_specimen_interval  40000 non-null  int64  \n",
      " 10  current_status                   40000 non-null  object \n",
      " 11  symptom_status                   40000 non-null  object \n",
      " 12  hosp_yn                          40000 non-null  object \n",
      " 13  death_yn                         40000 non-null  object \n",
      " 14  death_prob_sex_age               40000 non-null  object \n",
      " 15  death_prob_medical               40000 non-null  object \n",
      " 16  state_party                      40000 non-null  object \n",
      " 17  death_prob_month                 40000 non-null  float64\n",
      "dtypes: float64(1), int64(2), object(15)\n",
      "memory usage: 5.5+ MB\n"
     ]
    }
   ],
   "source": [
    "df.info()"
   ]
  },
  {
   "cell_type": "code",
   "execution_count": 10,
   "metadata": {},
   "outputs": [
    {
     "data": {
      "text/plain": [
       "case_month                         0\n",
       "res_state                          0\n",
       "state_fips_code                    0\n",
       "res_county                         0\n",
       "county_fips_code                   0\n",
       "age_group                          0\n",
       "sex                                0\n",
       "race                               0\n",
       "ethnicity                          0\n",
       "case_positive_specimen_interval    0\n",
       "current_status                     0\n",
       "symptom_status                     0\n",
       "hosp_yn                            0\n",
       "death_yn                           0\n",
       "death_prob_sex_age                 0\n",
       "death_prob_medical                 0\n",
       "state_party                        0\n",
       "death_prob_month                   0\n",
       "dtype: int64"
      ]
     },
     "execution_count": 10,
     "metadata": {},
     "output_type": "execute_result"
    }
   ],
   "source": [
    "df.isna().sum()"
   ]
  },
  {
   "cell_type": "markdown",
   "metadata": {},
   "source": [
    "### Convert features to appropriate datatypes\n",
    "We will now review the datatypes and convert if needed. This will help avoid plotting errors later in the notebook\n",
    "- The target feature \"death_yn\" is type object, with values \"Yes\" & \"No\", this will be converted to a category value as outlined in the data quality report\n",
    "- The values of state_fips_code and count_fips_code are incorrectly stored as float64 types, they will be converted to category types as they represent states and counties respectively\n",
    "- The continuous features are case_positive_specimen_interval, death_prob_sex_age, death_prob_medical, death_prob_month\n",
    "- The rest of the features are categorical\n",
    "- There are no NaN values but it is noted that for some values the string \"Missing\" is used in place of missing data, this will be review later in the project"
   ]
  },
  {
   "cell_type": "code",
   "execution_count": 11,
   "metadata": {},
   "outputs": [
    {
     "name": "stdout",
     "output_type": "stream",
     "text": [
      "Column Name: case_month \n",
      "Data Type: object \n",
      "Number of Unique Values: 35\n",
      "['2020-12' '2022-01' '2020-11' '2020-04' '2020-03' '2021-08' '2021-07'\n",
      " '2022-02' '2021-11' '2022-06' '2020-07' '2021-01' '2020-05' '2021-10'\n",
      " '2020-06' '2020-08' '2021-12' '2020-09' '2020-10' '2021-03' '2022-10'\n",
      " '2021-04' '2021-09' '2021-02' '2022-05' '2020-01' '2022-07' '2021-05'\n",
      " '2022-11' '2022-03' '2022-08' '2022-09' '2022-04' '2021-06' '2020-02']\n",
      "\n",
      "Column Name: res_state \n",
      "Data Type: object \n",
      "Number of Unique Values: 49\n",
      "['CA' 'NJ' 'TN' 'NY' 'FL' 'MI' 'KY' 'MA' 'IL' 'WI' 'SC' 'TX' 'OH' 'NV'\n",
      " 'ND' 'AR' 'AZ' 'NH' 'PR' 'IN' 'MO' 'CT' 'AL' 'KS' 'UT' 'PA' 'OK' 'CO'\n",
      " 'OR' 'VA' 'MN' 'MD' 'LA' 'MT' 'NC' 'NM' 'GA' 'MS' 'ME' 'WA' 'ID' 'DC'\n",
      " 'IA' 'RI' 'WY' 'AK' 'VT' 'VI' 'GU']\n",
      "\n",
      "Column Name: state_fips_code \n",
      "Data Type: int64 \n",
      "Number of Unique Values: 49\n",
      "[ 6 34 47 36 12 26 21 25 17 55 45 48 39 32 38  5  4 33 72 18 29  9  1 20\n",
      " 49 42 40  8 41 51 27 24 22 30 37 35 13 28 23 53 16 11 19 44 56  2 50 78\n",
      " 66]\n",
      "\n",
      "Column Name: res_county \n",
      "Data Type: object \n",
      "Number of Unique Values: 930\n",
      "['RIVERSIDE' 'GLOUCESTER' 'PUTNAM' 'WESTCHESTER' 'SUMNER' 'LEE' 'BROWARD'\n",
      " 'LOS ANGELES' 'MACOMB' 'KERN' 'Missing' 'TULARE' 'BAY' 'MIDDLESEX' 'COOK'\n",
      " 'DUNN' 'SOMERSET' 'ORANGEBURG' 'BEXAR' 'BRISTOL' 'WAYNE' 'CLARK' 'CASS'\n",
      " 'SALINE' 'KINGS' 'MARICOPA' 'LUCAS' 'KNOX' 'FRANKLIN' 'SAN BERNARDINO'\n",
      " 'LAKE' 'PALM BEACH' 'WASHOE' 'STANISLAUS' 'DUPAGE' 'HILLSBOROUGH'\n",
      " 'MARION' 'ASHTABULA' 'PIMA' 'HAMPDEN' 'HENDRICKS' 'ORANGE' 'PINELLAS'\n",
      " 'FAIRFIELD' 'MONTGOMERY' 'GREENVILLE' 'CAMDEN' 'AUTAUGA' 'BUTTE'\n",
      " 'FLORENCE' 'ROCKINGHAM' 'ESSEX' 'UTAH' 'OCEAN' 'GRANT' 'OAKLAND' 'COMAL'\n",
      " 'TARRANT' 'HIGHLANDS' 'MIAMI-DADE' 'YORK' 'PULASKI' 'WESTMORELAND'\n",
      " 'BUTLER' 'WORCESTER' 'PINAL' 'OKLAHOMA' 'JACKSON' 'DELAWARE' 'QUEENS'\n",
      " 'ALLEN' 'EL PASO' 'HARRIS' 'DUVAL' 'MADISON' 'WOOD' 'JEFFERSON' 'PASSAIC'\n",
      " 'CUYAHOGA' 'PEORIA' 'SUMMIT' 'MULTNOMAH' 'SHELBY' 'INDIAN RIVER'\n",
      " 'PLYMOUTH' 'HENNEPIN' 'MCLEAN' 'SEBASTIAN' 'CONTRA COSTA' 'RUTHERFORD'\n",
      " 'OCONEE' 'FAYETTE' 'MONMOUTH' 'SARASOTA' 'SALT LAKE' 'BALTIMORE'\n",
      " 'TERREBONNE' 'YELLOWSTONE' 'HARTFORD' 'SPARTANBURG' 'NASSAU' 'CHESTER'\n",
      " 'NEW HANOVER' 'BERGEN' 'NORFOLK' 'CARTER' 'WRIGHT' 'YUMA' 'SAN JUAN'\n",
      " 'HAMILTON' 'SUFFOLK' 'BERKS' 'DALLAS' 'ERIE' 'MILWAUKEE' 'MOBILE'\n",
      " 'ALLEGHENY' 'DO�A ANA' 'LANCASTER' 'ST. JOSEPH' 'MEDINA' 'DANE'\n",
      " 'PHILADELPHIA' 'SHAWNEE' 'INGHAM' 'HANCOCK' 'HIDALGO' 'NEW HAVEN'\n",
      " 'HERNANDO' 'COCHISE' 'PITTSBURG' 'OKALOOSA' 'MANATEE' 'INDEPENDENCE'\n",
      " 'UNION' 'POLK' 'RICE' 'RICHMOND' 'SAN DIEGO' 'TRAVIS' 'MAHONING' 'CLAY'\n",
      " 'RENO' 'BOYLE' 'LEXINGTON' 'HOUSTON' 'LYCOMING' \"PRINCE GEORGE'S\" 'FLOYD'\n",
      " 'TUSCARAWAS' 'ORLEANS' 'MAVERICK' 'SANTA CLARA' 'CAMBRIA' 'IMPERIAL'\n",
      " 'ANOKA' 'GREENE' 'AROOSTOOK' 'KENOSHA' 'MECKLENBURG' 'LEON' 'GRADY'\n",
      " 'BURLINGTON' 'YAVAPAI' 'TULSA' 'ST. LOUIS' 'MARTIN' 'CRAWFORD' 'MCLENNAN'\n",
      " 'CATAWBA' 'HUDSON' 'LAWRENCE' 'FREDERICK' 'COLUMBIANA' 'KING' 'ADAMS'\n",
      " 'DORCHESTER' 'DENVER' 'GENESEE' 'SEDGWICK' 'SAN JOAQUIN' 'NEW YORK'\n",
      " 'SPOKANE' 'CITRUS' 'MERCED' 'DAVIDSON' 'SULLIVAN' 'VOLUSIA' 'MOHAVE'\n",
      " 'KENT' 'KLAMATH' 'OSCEOLA' 'LANE' 'BRONX' 'SNOHOMISH' 'WAUKESHA' 'PASCO'\n",
      " 'FRESNO' 'STARK' 'WILL' 'SACRAMENTO' 'SANTA BARBARA' 'LUZERNE'\n",
      " 'BARNSTABLE' 'CADDO' 'JOHNSON' 'THURSTON' 'WAKE' 'CALCASIEU' 'ALAMEDA'\n",
      " 'BERNALILLO' 'COLUMBIA' 'SANTA CRUZ' 'SAN LUIS OBISPO' 'BREVARD' 'MERCER'\n",
      " 'ARAPAHOE' 'SANGAMON' 'MCHENRY' 'BROWN' 'PORTER' 'ROGERS' 'MACOUPIN'\n",
      " 'RICHLAND' 'DAKOTA' 'WINNEBAGO' 'COLLIN' 'LOGAN' 'LICKING' 'SAGINAW'\n",
      " 'CANYON' 'SEMINOLE' 'ROCKLAND' 'LUBBOCK' 'MONROE' 'HARFORD' 'CAPE MAY'\n",
      " 'KOOTENAI' 'SHIAWASSEE' 'WASHINGTON' 'DISTRICT OF COLUMBIA' 'SONOMA'\n",
      " 'BUCKS' 'SCIOTO' 'HORRY' 'NAVAJO' 'BOONE' 'OUTAGAMIE' 'CUMBERLAND'\n",
      " 'WARREN' 'CHARLOTTE' 'BENTON' 'ELKHART' 'LEHIGH' 'ST. JOHNS'\n",
      " 'CAPE GIRARDEAU' 'KANE' 'CLERMONT' 'ST. CLAIR' \"ST. MARY'S\" 'SHASTA'\n",
      " 'MORRIS' 'WILKES' 'WASHTENAW' 'RAMSEY' 'ST. LUCIE' 'NUECES' 'RACINE'\n",
      " 'MUSKOGEE' 'LEWIS AND CLARK' 'HARNETT' 'CHESTERFIELD' 'LYNCHBURG CITY'\n",
      " 'ONTARIO' 'BLOUNT' 'PICKENS' 'LARIMER' 'ANDERSON' 'LAGRANGE' 'BERKSHIRE'\n",
      " 'INDIANA' 'MESA' 'VENTURA' 'MUSKINGUM' 'GRAND FORKS' 'MARINETTE'\n",
      " 'POTTAWATOMIE' 'MANITOWOC' 'VANDERBURGH' 'ROCK ISLAND' 'CLAIBORNE'\n",
      " 'LEBANON' 'CAMPBELL' 'CHARLESTON' 'BOULDER' 'DARLINGTON' 'ATLANTIC'\n",
      " 'NORTHAMPTON' 'GASTON' 'VIRGINIA BEACH CITY' 'PIERCE' 'OGLE' 'LAPEER'\n",
      " 'CARSON CITY' 'EAST BATON ROUGE' 'LOUDOUN' 'STEPHENS' 'ESCAMBIA'\n",
      " 'ST. TAMMANY' 'SUSSEX' 'SUMTER' 'TAZEWELL' 'GEAUGA' 'ETOWAH' 'IOSCO'\n",
      " 'SEVIER' 'WELD' 'MONTEREY' 'ROCKBRIDGE' 'CHIPPEWA' 'BARRY' 'YAKIMA'\n",
      " 'PLACER' 'TIPPECANOE' 'RICHMOND CITY' 'TUSCALOOSA' 'CALDWELL' 'VAN WERT'\n",
      " 'MACON' 'OTTER TAIL' 'LORAIN' 'SMYTH' 'MARIN' 'TRUMBULL' 'PRINCE WILLIAM'\n",
      " 'BONNEVILLE' 'MUSCATINE' 'OTTAWA' 'PICKAWAY' 'TANGIPAHOA' 'PROVIDENCE'\n",
      " 'NORTHUMBERLAND' 'BALDWIN' 'IREDELL' 'RAPIDES' 'LACKAWANNA' 'HENRY'\n",
      " 'HUNTERDON' 'ANDROSCOGGIN' 'MIFFLIN' 'GUILFORD' 'SILVER BOW' 'JASPER'\n",
      " 'MCKINLEY' 'DAUPHIN' 'CRAIGHEAD' 'LAFAYETTE' 'NEW LONDON' 'BUNCOMBE'\n",
      " 'MERRIMACK' 'BERRIEN' 'HAMPSHIRE' 'COLLIER' 'HOWARD' 'SCHUYLKILL'\n",
      " 'FAIRFAX' 'CLEVELAND' 'FOND DU LAC' 'ARLINGTON' 'SENECA' 'PERSON'\n",
      " 'DOUGLAS' 'LONOKE' 'SURRY' 'CLACKAMAS' 'ONONDAGA' 'ADA'\n",
      " 'MATANUSKA-SUSITNA' 'WEBSTER' 'CARROLL' 'STEARNS' 'HARDIN' 'GARLAND'\n",
      " 'LARAMIE' 'BRAZORIA' 'SANTA ROSA' 'DODGE' 'ST. CHARLES' 'WEBB'\n",
      " 'BALTIMORE CITY' 'LOUDON' 'TALLAPOOSA' 'FLAGLER' 'SAN FRANCISCO'\n",
      " 'NEWPORT NEWS CITY' 'DECATUR' 'MIAMI' 'OVERTON' 'WILLIAMS' 'CHRISTIAN'\n",
      " 'PARKER' 'WARD' 'DEKALB' 'HARVEY' 'WALKER' 'AIKEN' 'GILA' 'FULTON'\n",
      " 'BEAVER' 'FORSYTH' 'KENTON' 'KANKAKEE' 'BRADFORD' 'ROWAN' 'PLATTE'\n",
      " 'GIBSON' 'GRATIOT' 'WILSON' 'GARFIELD' 'TUSCOLA' 'CASCADE' 'WAUPACA'\n",
      " 'OLMSTED' 'PUEBLO' 'MAURY' 'BARTON' 'MONTROSE' 'PORTAGE' 'TEHAMA'\n",
      " 'BANNOCK' 'ALLEGANY' 'ANNE ARUNDEL' 'LASALLE' 'BRUNSWICK' 'HAYWOOD'\n",
      " 'HURON' 'CLINTON' 'NYE' 'KAUFMAN' 'WILLIAMSON' 'ST. LOUIS CITY' 'BLAIR'\n",
      " 'WARRICK' 'HENDERSON' 'DAVIS' 'NATRONA' 'ARMSTRONG' 'MORGAN' 'TIOGA'\n",
      " 'HENRICO' 'OUACHITA' 'BONNER' 'CHAVES' 'POTTAWATTAMIE' 'MUSKEGON'\n",
      " 'MORTON' 'TWIN FALLS' 'MOORE' 'SAN MATEO' 'SALEM' 'LAURENS'\n",
      " 'ROANOKE CITY' 'ALBANY' 'SAMPSON' 'OTSEGO' 'NIAGARA' 'RANDOLPH' 'WEBER'\n",
      " 'DURHAM' 'DUTCHESS' 'HUNTINGTON' 'WYOMING' 'MORRISON' 'LINCOLN'\n",
      " 'GRANVILLE' 'SCOTLAND' 'CAYUGA' 'ROCK' 'LEAVENWORTH' 'DESCHUTES'\n",
      " 'HALIFAX' 'JENNINGS' 'BEAUFORT' 'ROBESON' 'PREBLE' 'OSWEGO' 'WICOMICO'\n",
      " 'ST. CROIX' 'STANLY' 'BEDFORD' 'PORTSMOUTH CITY' 'CARLTON' 'MUHLENBERG'\n",
      " 'OLDHAM' 'RIPLEY' 'BECKER' 'ONEIDA' 'MAYES' 'CALLOWAY' 'POTTER' 'LAUREL'\n",
      " 'TODD' 'BLUE EARTH' 'CHESAPEAKE CITY' 'NICOLLET' 'SCHENECTADY'\n",
      " 'TRANSYLVANIA' 'LETCHER' 'STEELE' 'STOKES' 'CARVER' 'CHAUTAUQUA'\n",
      " 'MARSHALL' 'COCONINO' 'WHITE' 'COMANCHE' 'WYANDOTTE' 'CABARRUS' 'CHARLES'\n",
      " 'LIVINGSTON' 'BROOME' 'KANDIYOHI' 'PENDER' 'WICHITA' 'CENTRE' 'HOLMES'\n",
      " 'ST. LAWRENCE' 'CHEROKEE' 'LYON' 'SCOTT' 'WABASHA' 'CORTLAND' 'CURRY'\n",
      " 'EAU CLAIRE' 'PENOBSCOT' 'HAMPTON CITY' 'OXFORD' 'COOS' 'RILEY'\n",
      " 'MILLE LACS' 'COWLEY' 'DALE' 'PAYNE' 'CHARLOTTESVILLE CITY' 'GREENUP'\n",
      " 'CUSTER' 'RENSSELAER' 'ONSLOW' 'BELL' 'DAVIESS' 'GALLIA'\n",
      " 'HARRISONBURG CITY' 'JAY' 'WELLS' 'WINONA' 'CAMERON' 'BULLITT' 'MIDLAND'\n",
      " 'KOSCIUSKO' 'GREENWOOD' 'HOOD RIVER' 'GONZALES' 'BARREN' 'SHERBURNE'\n",
      " 'PITT' 'CECIL' 'STEUBEN' 'VIGO' 'ALAMANCE' 'FAUQUIER' 'NELSON' 'LINN'\n",
      " 'EMMET' 'BENNINGTON' 'BELKNAP' 'HARDEE' 'VAN BUREN' 'DEFIANCE' 'WOODBURY'\n",
      " 'COLUMBUS' 'YADKIN' 'FLATHEAD' 'HOKE' 'GRAY' 'OSAGE' 'UMATILLA'\n",
      " 'CURRITUCK' 'ADDISON' 'RUTLAND' 'TOMPKINS' 'HAMBLEN' 'HOCKING' 'GARVIN'\n",
      " 'HOPKINS' 'NASH' 'MISSOULA' 'JONES' 'JOSEPHINE' 'BOYD' 'TAYLOR'\n",
      " 'CULPEPER' 'BURKE' 'CHISAGO' 'GALLATIN' 'NEWPORT' 'ASHLAND' 'HANOVER'\n",
      " 'PONTOTOC' 'ULSTER' 'JOHNSTON' 'WOODFORD' 'NORFOLK CITY' 'JEROME' 'DYER'\n",
      " 'SARATOGA' 'CHAMBERS' 'LENAWEE' 'POPE' 'CHATHAM' 'MANASSAS CITY'\n",
      " 'FORT BEND' 'BARTHOLOMEW' 'DENTON' 'STAFFORD' 'WILLACY' 'BRYAN'\n",
      " 'MARATHON' 'BERKELEY' 'ITASCA' 'RANDALL' 'WHITLEY' 'WATAUGA' 'ASHE'\n",
      " 'EDGECOMBE' 'FILLMORE' 'ANSON' 'YAMHILL' 'GRAYSON' 'ISABELLA' 'MCPHERSON'\n",
      " 'LEWIS' 'CHEMUNG' 'ALBEMARLE' 'SAGADAHOC' 'CREEK' 'WINDHAM' 'MOWER'\n",
      " 'ANTRIM' 'CORYELL' 'SPOTSYLVANIA' 'DUPLIN' 'WEXFORD' 'WAKULLA'\n",
      " 'COVINGTON' 'DELTA' 'MARQUETTE' 'SEWARD' 'CALUMET' 'CROW WING'\n",
      " 'HILLSDALE' 'DEARBORN' 'BLAINE' 'CATTARAUGUS' 'SUFFOLK CITY' 'GRIMES'\n",
      " 'FORD' 'EATON' 'POWHATAN' 'ALLEGAN' 'SWEETWATER' 'LENOIR' 'MCMINN' 'ELKO'\n",
      " 'CASSIA' 'ECTOR' 'CLARENDON' 'DAVIE' 'SCHOHARIE' 'GEORGETOWN' 'HOCKLEY'\n",
      " 'BELTRAMI' 'CLEBURNE' 'ALACHUA' 'DUBOIS' 'HERKIMER' 'TALBOT' 'VILAS'\n",
      " 'BRADLEY' 'CRAVEN' 'ALEXANDRIA CITY' 'COFFEE' 'MANISTEE' 'LE SUEUR'\n",
      " 'WYTHE' 'JESSAMINE' 'ROANOKE' 'NOBLE' 'ROSS' 'BLADEN' 'ROBERTSON' 'EAGLE'\n",
      " 'ELMORE' 'ST. FRANCIS' 'CLATSOP' 'MASON' 'GADSDEN' 'KENNEBEC' 'WISE'\n",
      " 'GREEN' 'PINE' 'COLLETON' 'DANVILLE CITY' 'TIPTON' 'SAUK' 'MONTCALM'\n",
      " 'LAPORTE' 'NEWAYGO' 'IONIA' 'BINGHAM' 'CALHOUN' 'CAROLINE' 'COCKE'\n",
      " 'BRAZOS' 'ALEXANDER' 'ATHENS' 'SHENANDOAH' 'CARTERET' 'SANDUSKY' 'MCLEOD'\n",
      " 'STARR' 'BOX ELDER' 'NEZ PERCE' 'FINNEY' 'WAGONER' 'MEEKER' 'WALTON'\n",
      " 'NAVARRO' 'MCKEAN' 'LEVY' 'ADAIR' 'WINDSOR' 'WABASH' 'ISANTI' 'GUERNSEY'\n",
      " 'CHITTENDEN' 'BARRON' 'MCDOWELL' 'ROCKWALL' 'PERRY' 'NOBLES' 'CHENANGO'\n",
      " 'RUSSELL' 'ELLIS' 'DARKE' 'FORREST' 'FREEBORN' 'CHEATHAM' 'ISLE OF WIGHT'\n",
      " 'STARKE' 'COSHOCTON' 'STRAFFORD' 'HOUGHTON' 'HINDS' 'LOUISA' 'CANADIAN'\n",
      " 'WYANDOT' 'VICTORIA' 'HARLAN' 'GOOCHLAND' 'PITTSYLVANIA' 'BAKER'\n",
      " 'CALVERT' 'LA CROSSE' 'GRAVES' 'IRON' \"QUEEN ANNE'S\" 'OCONTO' 'SIOUX'\n",
      " 'WASATCH' 'RAVALLI' 'LITCHFIELD' 'CHESHIRE' 'GRAFTON' 'MCCRACKEN'\n",
      " 'CRITTENDEN' 'BELMONT' 'VANCE' 'DILLON' 'TILLAMOOK' 'GEARY' 'OWEN'\n",
      " 'BOTETOURT' 'CACHE' 'PIKE' 'HAYS' 'OZAUKEE' 'HIGHLAND' 'BAXTER'\n",
      " 'CHURCHILL' 'ROANE' 'GOODHUE' 'KERSHAW' 'GRAHAM' 'CHAMPAIGN' 'WALDO'\n",
      " 'AUGLAIZE' 'BRANCH' 'MENOMINEE' 'RANKIN' 'FREMONT' 'VENANGO' 'PASQUOTANK'\n",
      " 'BEE' 'SEQUOYAH' 'MISSISSIPPI' 'KALAMAZOO' 'WASCO' 'MILLER' 'OHIO'\n",
      " 'MINIDOKA' 'WALWORTH' 'BECKHAM' 'LAMOILLE' 'WAYNESBORO CITY' 'MALHEUR'\n",
      " 'JAMES CITY' 'WAPELLO' 'HUTCHINSON' 'DICKINSON' 'DUBUQUE' 'CROOK' 'DARE'\n",
      " 'AMHERST' 'CASWELL' 'DINWIDDIE' 'DESOTO' 'MUSCOGEE' 'SALEM CITY' 'CARBON'\n",
      " 'UVALDE' 'AUGUSTA' 'WEAKLEY' 'PRINCE GEORGE' 'COOKE' 'MECOSTA' 'LAVACA'\n",
      " 'ANCHORAGE' 'CHARLEVOIX' 'SHEBOYGAN' 'MEADE' 'BURNET' 'HARRISON' 'CONWAY'\n",
      " 'MCCURTAIN' 'MORROW' 'SMITH' 'HUBBARD' 'CLEARFIELD' 'MARLBORO' 'MCCLAIN'\n",
      " 'OKMULGEE' 'FLUVANNA' 'HERTFORD' 'POSEY' 'ACCOMACK' 'LE FLORE' 'HENDRY'\n",
      " 'GRAND TRAVERSE' 'HOPEWELL CITY' 'JUNEAU' 'VALENCIA' 'CALAVERAS' 'COLES'\n",
      " 'EL DORADO' 'KITSAP' 'TREMPEALEAU' 'STEPHENSON' 'JERSEY' 'KAY'\n",
      " 'LAFOURCHE' 'SANTA FE' 'EFFINGHAM' 'TROUP' 'CULLMAN' 'LAUDERDALE'\n",
      " 'NEWBERRY' 'BUCHANAN' 'TOM GREEN' 'CIBOLA' 'OTERO' 'TETON' 'HARDEMAN'\n",
      " 'GALVESTON' 'FAULKNER' 'WINCHESTER CITY' 'STORY' 'THOMAS' 'VERNON' 'KERR'\n",
      " 'SPENCER' 'WAUSHARA' 'OCEANA' 'HOT SPRING' 'OGEMAW' 'LEELANAU' 'TYLER'\n",
      " 'EDGEFIELD' 'GUADALUPE' 'HOOD' 'BLACK HAWK' 'PAGE' 'YELL' 'HAWKINS'\n",
      " 'RUSK' 'CERRO GORDO' 'GLADWIN' 'TOOELE' 'SUSQUEHANNA' 'LAMAR' 'LATAH'\n",
      " 'MEIGS' 'WINSTON' 'NACOGDOCHES' 'SANPETE' 'KING GEORGE' 'ELK'\n",
      " 'PETERSBURG CITY' 'SUWANNEE' 'PARK' 'UINTAH']\n",
      "\n",
      "Column Name: county_fips_code \n",
      "Data Type: object \n",
      "Number of Unique Values: 1327\n",
      "['6065.0' '34015.0' '47141.0' ... '49047.0' '47079.0' '48253.0']\n",
      "\n",
      "Column Name: age_group \n",
      "Data Type: object \n",
      "Number of Unique Values: 5\n",
      "['65+ years' '50 to 64 years' '18 to 49 years' 'Missing' '0 - 17 years']\n",
      "\n",
      "Column Name: sex \n",
      "Data Type: object \n",
      "Number of Unique Values: 3\n",
      "['Male' 'Female' 'Other']\n",
      "\n",
      "Column Name: race \n",
      "Data Type: object \n",
      "Number of Unique Values: 7\n",
      "['Missing' 'White' 'Black' 'Asian' 'Multiple/Other'\n",
      " 'American Indian/Alaska Native' 'Native Hawaiian/Other Pacific Islander']\n",
      "\n",
      "Column Name: ethnicity \n",
      "Data Type: object \n",
      "Number of Unique Values: 3\n",
      "['Missing' 'Non-Hispanic/Latino' 'Hispanic/Latino']\n",
      "\n",
      "Column Name: case_positive_specimen_interval \n",
      "Data Type: int64 \n",
      "Number of Unique Values: 41\n",
      "[ 0  2  1  5 13  3  4 14  9 53  6 22 16  8 33 30 36 20  7 60 18 44 38 27\n",
      " 73 45 21 29 10 31 12 26 28 25 52 19 32 50 11 67 24]\n",
      "\n",
      "Column Name: current_status \n",
      "Data Type: object \n",
      "Number of Unique Values: 2\n",
      "['Laboratory-confirmed case' 'Probable Case']\n",
      "\n",
      "Column Name: symptom_status \n",
      "Data Type: object \n",
      "Number of Unique Values: 3\n",
      "['Missing' 'Symptomatic' 'Asymptomatic']\n",
      "\n",
      "Column Name: hosp_yn \n",
      "Data Type: object \n",
      "Number of Unique Values: 3\n",
      "['Missing' 'Yes' 'No']\n",
      "\n",
      "Column Name: death_yn \n",
      "Data Type: object \n",
      "Number of Unique Values: 2\n",
      "['Yes' 'No']\n",
      "\n",
      "Column Name: death_prob_sex_age \n",
      "Data Type: object \n",
      "Number of Unique Values: 9\n",
      "['0.7429577464788732' '0.6741793238608526' '0.22256664600123993'\n",
      " '0.019941775836972344' '0.09107413010590015' '0.005774216356351638'\n",
      " 'Missing' '0.0003727171077152441' '0.0']\n",
      "\n",
      "Column Name: death_prob_medical \n",
      "Data Type: object \n",
      "Number of Unique Values: 5\n",
      "['Missing' '0.8035019455252919' '0.05534841329024774'\n",
      " '0.11136890951276102' '0.723404255319149']\n",
      "\n",
      "Column Name: state_party \n",
      "Data Type: object \n",
      "Number of Unique Values: 3\n",
      "['Democrat' 'Republican' 'PR']\n",
      "\n",
      "Column Name: death_prob_month \n",
      "Data Type: float64 \n",
      "Number of Unique Values: 35\n",
      "[0.42744984 0.17390473 0.32426304 0.78226858 0.72082019 0.27147577\n",
      " 0.27309783 0.13299233 0.20684039 0.06551298 0.33365201 0.35148515\n",
      " 0.54242424 0.14488636 0.25411061 0.29903978 0.16935773 0.19055375\n",
      " 0.25042735 0.07894737 0.06849315 0.07551487 0.18951358 0.1839196\n",
      " 0.02629482 0.90909091 0.07948443 0.05292479 0.00724638 0.04424779\n",
      " 0.0396927  0.06153846 0.0230608  0.05555556 0.66666667]\n",
      "\n"
     ]
    }
   ],
   "source": [
    "# Display all unique values in each column\n",
    "columns = df.columns\n",
    "\n",
    "for column in columns:\n",
    "    print(\"Column Name:\", column, \"\\nData Type:\", df[column].dtype, \"\\nNumber of Unique Values:\", str(len(df[column].unique())))\n",
    "    print(df[column].unique())\n",
    "    print()"
   ]
  },
  {
   "cell_type": "code",
   "execution_count": 12,
   "metadata": {},
   "outputs": [],
   "source": [
    "# change datatype of state_fips_code and county_fips_code to categorical\n",
    "df[\"state_fips_code\"] = df[\"state_fips_code\"].astype('category')\n",
    "df[\"county_fips_code\"] = df[\"county_fips_code\"].astype('category')"
   ]
  },
  {
   "cell_type": "code",
   "execution_count": 13,
   "metadata": {},
   "outputs": [],
   "source": [
    "# convert all object types to categorical datatypes\n",
    "object_columns = df.select_dtypes(['object']).columns\n",
    "for column in object_columns:\n",
    "    df[column] = df[column].astype('category')"
   ]
  },
  {
   "cell_type": "markdown",
   "metadata": {},
   "source": [
    "Check the data types again"
   ]
  },
  {
   "cell_type": "code",
   "execution_count": 14,
   "metadata": {},
   "outputs": [
    {
     "name": "stdout",
     "output_type": "stream",
     "text": [
      "<class 'pandas.core.frame.DataFrame'>\n",
      "RangeIndex: 40000 entries, 0 to 39999\n",
      "Data columns (total 18 columns):\n",
      " #   Column                           Non-Null Count  Dtype   \n",
      "---  ------                           --------------  -----   \n",
      " 0   case_month                       40000 non-null  category\n",
      " 1   res_state                        40000 non-null  category\n",
      " 2   state_fips_code                  40000 non-null  category\n",
      " 3   res_county                       40000 non-null  category\n",
      " 4   county_fips_code                 40000 non-null  category\n",
      " 5   age_group                        40000 non-null  category\n",
      " 6   sex                              40000 non-null  category\n",
      " 7   race                             40000 non-null  category\n",
      " 8   ethnicity                        40000 non-null  category\n",
      " 9   case_positive_specimen_interval  40000 non-null  int64   \n",
      " 10  current_status                   40000 non-null  category\n",
      " 11  symptom_status                   40000 non-null  category\n",
      " 12  hosp_yn                          40000 non-null  category\n",
      " 13  death_yn                         40000 non-null  category\n",
      " 14  death_prob_sex_age               40000 non-null  category\n",
      " 15  death_prob_medical               40000 non-null  category\n",
      " 16  state_party                      40000 non-null  category\n",
      " 17  death_prob_month                 40000 non-null  float64 \n",
      "dtypes: category(16), float64(1), int64(1)\n",
      "memory usage: 1.4 MB\n"
     ]
    }
   ],
   "source": [
    "df.info()"
   ]
  },
  {
   "cell_type": "markdown",
   "metadata": {},
   "source": [
    "Separate out continuous and categorical features"
   ]
  },
  {
   "cell_type": "code",
   "execution_count": 15,
   "metadata": {},
   "outputs": [],
   "source": [
    "continuous_columns = df.select_dtypes(['float64','int64']).columns\n",
    "category_columns = df.select_dtypes('category').columns"
   ]
  },
  {
   "cell_type": "markdown",
   "metadata": {},
   "source": [
    "### The dataset will now be split into two datasets: 70% training and 30% test\n",
    "- First we will set the target feature \"y\" to be death_yn\n",
    "- Then we will set \"X\" to be the remaining features in the dataframe"
   ]
  },
  {
   "cell_type": "code",
   "execution_count": 16,
   "metadata": {},
   "outputs": [],
   "source": [
    "y = pd.DataFrame(df[\"death_yn\"])\n",
    "X = df.drop([\"death_yn\"],1)"
   ]
  },
  {
   "cell_type": "markdown",
   "metadata": {},
   "source": [
    "### The data set can now be split\n",
    "- The train test split will randomly split the dataset as per the test size\n",
    "- We will set the random state=1 to allow the random shuffle to be repeated within this notebook only"
   ]
  },
  {
   "cell_type": "code",
   "execution_count": 17,
   "metadata": {},
   "outputs": [
    {
     "name": "stdout",
     "output_type": "stream",
     "text": [
      "original range is:  40000\n",
      "training range (70%):\t rows 0 to 28000\n",
      "test range (30%): \t rows 28000 to 40000\n"
     ]
    }
   ],
   "source": [
    "# Split the dataset into two datasets: 70% training and 30% test\n",
    "X_train, X_test, y_train, y_test = train_test_split(X, y, test_size=0.3,random_state=1)\n",
    "\n",
    "print(\"original range is: \",df.shape[0])\n",
    "print(\"training range (70%):\\t rows 0 to\", round(X_train.shape[0]))\n",
    "print(\"test range (30%): \\t rows\", round(X_train.shape[0]), \"to\", round(X_train.shape[0]) + X_test.shape[0])"
   ]
  },
  {
   "cell_type": "markdown",
   "metadata": {},
   "source": [
    "The dataset is now ready for plotting"
   ]
  },
  {
   "cell_type": "markdown",
   "metadata": {},
   "source": [
    "## 1.2 On the training set we will now carry out a series of plots comparing all features to help make decisions on what features to keep for the model \n",
    "\n",
    "- All plots will be using the training subset of dataset: X_train, y_train\n",
    "\n",
    "### 1.2.1 Convert numeric features to continuous\n",
    "Currently, \"death_prob_sex_age\" and \"death_prob_medical\" are stored as categorical values as they contain the word \"Missing\" and their values are relatively limited. We will check the numeric only data's correlation against the other continuous features and the target feature as well as check them as categorical features. To do this, we have to find the best method of how to convert them to floating-point values. The following approaches will be considered:\n",
    "    1. Perform imputation with the median\n",
    "    2. Replace with strange value e.g. 2\n",
    "    3. Replace with the mean\n",
    "    4. Drop the features"
   ]
  },
  {
   "cell_type": "code",
   "execution_count": 18,
   "metadata": {},
   "outputs": [],
   "source": [
    "corr_X_train = X_train.replace(\"Missing\", np.nan)\n",
    "\n",
    "corr_X_train[\"death_prob_sex_age\"] = corr_X_train[\"death_prob_sex_age\"].astype('float64')\n",
    "\n",
    "# 1. Perform imputation with median\n",
    "corr_X_train['death_prob_sex_age_median'] = corr_X_train['death_prob_sex_age'].fillna(corr_X_train['death_prob_sex_age'].median())\n",
    "# 2. Replace with strange value e.g. 2\n",
    "corr_X_train['death_prob_sex_age_strange_value'] = corr_X_train['death_prob_sex_age'].fillna(2)\n",
    "# 3. Perform imputation with mean\n",
    "corr_X_train['death_prob_sex_age_mean'] = corr_X_train['death_prob_sex_age'].fillna(corr_X_train['death_prob_sex_age'].mean())"
   ]
  },
  {
   "cell_type": "code",
   "execution_count": 19,
   "metadata": {},
   "outputs": [
    {
     "data": {
      "text/html": [
       "<div>\n",
       "<style scoped>\n",
       "    .dataframe tbody tr th:only-of-type {\n",
       "        vertical-align: middle;\n",
       "    }\n",
       "\n",
       "    .dataframe tbody tr th {\n",
       "        vertical-align: top;\n",
       "    }\n",
       "\n",
       "    .dataframe thead th {\n",
       "        text-align: right;\n",
       "    }\n",
       "</style>\n",
       "<table border=\"1\" class=\"dataframe\">\n",
       "  <thead>\n",
       "    <tr style=\"text-align: right;\">\n",
       "      <th></th>\n",
       "      <th>death_prob_sex_age_median</th>\n",
       "      <th>death_prob_sex_age_mean</th>\n",
       "      <th>death_prob_sex_age_strange_value</th>\n",
       "      <th>death_prob_sex_age</th>\n",
       "      <th>death_yn</th>\n",
       "    </tr>\n",
       "  </thead>\n",
       "  <tbody>\n",
       "    <tr>\n",
       "      <th>death_prob_sex_age_median</th>\n",
       "      <td>1.000000</td>\n",
       "      <td>0.997707</td>\n",
       "      <td>0.856831</td>\n",
       "      <td>1.000000</td>\n",
       "      <td>0.724593</td>\n",
       "    </tr>\n",
       "    <tr>\n",
       "      <th>death_prob_sex_age_mean</th>\n",
       "      <td>0.997707</td>\n",
       "      <td>1.000000</td>\n",
       "      <td>0.889762</td>\n",
       "      <td>1.000000</td>\n",
       "      <td>0.723916</td>\n",
       "    </tr>\n",
       "    <tr>\n",
       "      <th>death_prob_sex_age_strange_value</th>\n",
       "      <td>0.856831</td>\n",
       "      <td>0.889762</td>\n",
       "      <td>1.000000</td>\n",
       "      <td>1.000000</td>\n",
       "      <td>0.628354</td>\n",
       "    </tr>\n",
       "    <tr>\n",
       "      <th>death_prob_sex_age</th>\n",
       "      <td>1.000000</td>\n",
       "      <td>1.000000</td>\n",
       "      <td>1.000000</td>\n",
       "      <td>1.000000</td>\n",
       "      <td>0.725672</td>\n",
       "    </tr>\n",
       "    <tr>\n",
       "      <th>death_yn</th>\n",
       "      <td>0.724593</td>\n",
       "      <td>0.723916</td>\n",
       "      <td>0.628354</td>\n",
       "      <td>0.725672</td>\n",
       "      <td>1.000000</td>\n",
       "    </tr>\n",
       "  </tbody>\n",
       "</table>\n",
       "</div>"
      ],
      "text/plain": [
       "                                  death_prob_sex_age_median  \\\n",
       "death_prob_sex_age_median                          1.000000   \n",
       "death_prob_sex_age_mean                            0.997707   \n",
       "death_prob_sex_age_strange_value                   0.856831   \n",
       "death_prob_sex_age                                 1.000000   \n",
       "death_yn                                           0.724593   \n",
       "\n",
       "                                  death_prob_sex_age_mean  \\\n",
       "death_prob_sex_age_median                        0.997707   \n",
       "death_prob_sex_age_mean                          1.000000   \n",
       "death_prob_sex_age_strange_value                 0.889762   \n",
       "death_prob_sex_age                               1.000000   \n",
       "death_yn                                         0.723916   \n",
       "\n",
       "                                  death_prob_sex_age_strange_value  \\\n",
       "death_prob_sex_age_median                                 0.856831   \n",
       "death_prob_sex_age_mean                                   0.889762   \n",
       "death_prob_sex_age_strange_value                          1.000000   \n",
       "death_prob_sex_age                                        1.000000   \n",
       "death_yn                                                  0.628354   \n",
       "\n",
       "                                  death_prob_sex_age  death_yn  \n",
       "death_prob_sex_age_median                   1.000000  0.724593  \n",
       "death_prob_sex_age_mean                     1.000000  0.723916  \n",
       "death_prob_sex_age_strange_value            1.000000  0.628354  \n",
       "death_prob_sex_age                          1.000000  0.725672  \n",
       "death_yn                                    0.725672  1.000000  "
      ]
     },
     "execution_count": 19,
     "metadata": {},
     "output_type": "execute_result"
    }
   ],
   "source": [
    "# death_yn will be mapped to 1 and 0 in order to perform correlations against it\n",
    "corr_y_train = pd.DataFrame(y_train[\"death_yn\"].map({'Yes': 1, 'No': 0}))\n",
    "corr_y_train[\"death_yn\"] = corr_y_train[\"death_yn\"].astype('int64')\n",
    "\n",
    "df_corr_temp = pd.concat([corr_X_train, corr_y_train], axis=1, )\n",
    "df_prob = df_corr_temp[['death_prob_sex_age_median','death_prob_sex_age_mean','death_prob_sex_age_strange_value', 'death_prob_sex_age', 'death_yn']].corr()\n",
    "df_prob"
   ]
  },
  {
   "cell_type": "markdown",
   "metadata": {},
   "source": [
    "For \"death_prob_sex_age\", the strange value makes the correlation negative while the median provides the closest to the actual correlation so this will be kept as the value and the strange value and the mean will be dropped. The original value with \"Missing\" values will be kept until the feature is inspected as a categorical feature and its correlation with other features is reviewed as well. A decision will be made then"
   ]
  },
  {
   "cell_type": "code",
   "execution_count": 20,
   "metadata": {},
   "outputs": [
    {
     "data": {
      "text/html": [
       "<div>\n",
       "<style scoped>\n",
       "    .dataframe tbody tr th:only-of-type {\n",
       "        vertical-align: middle;\n",
       "    }\n",
       "\n",
       "    .dataframe tbody tr th {\n",
       "        vertical-align: top;\n",
       "    }\n",
       "\n",
       "    .dataframe thead th {\n",
       "        text-align: right;\n",
       "    }\n",
       "</style>\n",
       "<table border=\"1\" class=\"dataframe\">\n",
       "  <thead>\n",
       "    <tr style=\"text-align: right;\">\n",
       "      <th></th>\n",
       "      <th>death_prob_medical_median</th>\n",
       "      <th>death_prob_medical_mean</th>\n",
       "      <th>death_prob_medical_strange_value</th>\n",
       "      <th>death_prob_medical</th>\n",
       "      <th>death_yn</th>\n",
       "    </tr>\n",
       "  </thead>\n",
       "  <tbody>\n",
       "    <tr>\n",
       "      <th>death_prob_medical_median</th>\n",
       "      <td>1.000000</td>\n",
       "      <td>0.922020</td>\n",
       "      <td>-0.173605</td>\n",
       "      <td>1.000000</td>\n",
       "      <td>0.401617</td>\n",
       "    </tr>\n",
       "    <tr>\n",
       "      <th>death_prob_medical_mean</th>\n",
       "      <td>0.922020</td>\n",
       "      <td>1.000000</td>\n",
       "      <td>0.221198</td>\n",
       "      <td>1.000000</td>\n",
       "      <td>0.456767</td>\n",
       "    </tr>\n",
       "    <tr>\n",
       "      <th>death_prob_medical_strange_value</th>\n",
       "      <td>-0.173605</td>\n",
       "      <td>0.221198</td>\n",
       "      <td>1.000000</td>\n",
       "      <td>1.000000</td>\n",
       "      <td>0.150237</td>\n",
       "    </tr>\n",
       "    <tr>\n",
       "      <th>death_prob_medical</th>\n",
       "      <td>1.000000</td>\n",
       "      <td>1.000000</td>\n",
       "      <td>1.000000</td>\n",
       "      <td>1.000000</td>\n",
       "      <td>0.747447</td>\n",
       "    </tr>\n",
       "    <tr>\n",
       "      <th>death_yn</th>\n",
       "      <td>0.401617</td>\n",
       "      <td>0.456767</td>\n",
       "      <td>0.150237</td>\n",
       "      <td>0.747447</td>\n",
       "      <td>1.000000</td>\n",
       "    </tr>\n",
       "  </tbody>\n",
       "</table>\n",
       "</div>"
      ],
      "text/plain": [
       "                                  death_prob_medical_median  \\\n",
       "death_prob_medical_median                          1.000000   \n",
       "death_prob_medical_mean                            0.922020   \n",
       "death_prob_medical_strange_value                  -0.173605   \n",
       "death_prob_medical                                 1.000000   \n",
       "death_yn                                           0.401617   \n",
       "\n",
       "                                  death_prob_medical_mean  \\\n",
       "death_prob_medical_median                        0.922020   \n",
       "death_prob_medical_mean                          1.000000   \n",
       "death_prob_medical_strange_value                 0.221198   \n",
       "death_prob_medical                               1.000000   \n",
       "death_yn                                         0.456767   \n",
       "\n",
       "                                  death_prob_medical_strange_value  \\\n",
       "death_prob_medical_median                                -0.173605   \n",
       "death_prob_medical_mean                                   0.221198   \n",
       "death_prob_medical_strange_value                          1.000000   \n",
       "death_prob_medical                                        1.000000   \n",
       "death_yn                                                  0.150237   \n",
       "\n",
       "                                  death_prob_medical  death_yn  \n",
       "death_prob_medical_median                   1.000000  0.401617  \n",
       "death_prob_medical_mean                     1.000000  0.456767  \n",
       "death_prob_medical_strange_value            1.000000  0.150237  \n",
       "death_prob_medical                          1.000000  0.747447  \n",
       "death_yn                                    0.747447  1.000000  "
      ]
     },
     "execution_count": 20,
     "metadata": {},
     "output_type": "execute_result"
    }
   ],
   "source": [
    "corr_X_train[\"death_prob_medical\"] = corr_X_train[\"death_prob_medical\"].astype('float64')\n",
    "\n",
    "# 1. Perform imputation with median\n",
    "corr_X_train['death_prob_medical_median'] = corr_X_train['death_prob_medical'].fillna(corr_X_train['death_prob_medical'].median())\n",
    "# 2. Replace with strange value e.g. 2\n",
    "corr_X_train['death_prob_medical_strange_value'] = corr_X_train['death_prob_medical'].fillna(2)\n",
    "# 3. Perform imputation with mean\n",
    "corr_X_train['death_prob_medical_mean'] = corr_X_train['death_prob_medical'].fillna(corr_X_train['death_prob_medical'].mean())\n",
    "\n",
    "df_corr_temp = pd.concat([corr_X_train, corr_y_train], axis=1)\n",
    "df_prob = df_corr_temp[['death_prob_medical_median','death_prob_medical_mean','death_prob_medical_strange_value', 'death_prob_medical', 'death_yn']].corr()\n",
    "df_prob"
   ]
  },
  {
   "cell_type": "markdown",
   "metadata": {},
   "source": [
    "For \"death_prob_medical\", the strange value and median have a lower correlation than the actual correlation. The mean imputation is still lower than the actual correlation but is the best option to remove all NaN values. We will consider this after reviewing the feature as its original categorical feature and after reviewing its correlation with other features"
   ]
  },
  {
   "cell_type": "code",
   "execution_count": 21,
   "metadata": {},
   "outputs": [],
   "source": [
    "# drop the other features\n",
    "corr_X_train = corr_X_train.drop(['death_prob_sex_age_strange_value', 'death_prob_medical_strange_value', 'death_prob_sex_age_mean', 'death_prob_medical_median'],1)"
   ]
  },
  {
   "cell_type": "markdown",
   "metadata": {},
   "source": [
    "### 1.2.2 Plot the correlations between all the continuous features.\n",
    "Using code from the sample lab solution"
   ]
  },
  {
   "cell_type": "code",
   "execution_count": 22,
   "metadata": {},
   "outputs": [
    {
     "data": {
      "text/plain": [
       "(array([0.5, 1.5, 2.5, 3.5, 4.5, 5.5]),\n",
       " [Text(0.5, 0, 'case_positive_specimen_interval'),\n",
       "  Text(1.5, 0, 'death_prob_sex_age'),\n",
       "  Text(2.5, 0, 'death_prob_medical'),\n",
       "  Text(3.5, 0, 'death_prob_month'),\n",
       "  Text(4.5, 0, 'death_prob_sex_age_median'),\n",
       "  Text(5.5, 0, 'death_prob_medical_mean')])"
      ]
     },
     "execution_count": 22,
     "metadata": {},
     "output_type": "execute_result"
    },
    {
     "data": {
      "image/png": "[encoded data removed]",
      "text/plain": [
       "<Figure size 2000x2000 with 2 Axes>"
      ]
     },
     "metadata": {},
     "output_type": "display_data"
    }
   ],
   "source": [
    "# Correlation matrix using code found on https://stanford.edu/~mwaskom/software/seaborn/examples/many_pairwise_correlations.html & sample lab solution\n",
    "sns.set(style=\"white\")\n",
    "\n",
    "# Calculate correlation of all pairs of continuous features\n",
    "corr = corr_X_train.corr()\n",
    "\n",
    "# Set up the matplotlib figure\n",
    "f, ax = plt.subplots(figsize=(20, 20))\n",
    "\n",
    "# Generate a custom colormap - blue and red\n",
    "cmap = sns.diverging_palette(220, 10, as_cmap=True)\n",
    "\n",
    "# Draw the heatmap with the mask and correct aspect ratio\n",
    "sns.heatmap(corr, annot=True, cmap=cmap, vmax=1, vmin=-1,\n",
    "            square=True, xticklabels=True, yticklabels=True,\n",
    "            linewidths=.5, cbar_kws={\"shrink\": .5}, ax=ax)\n",
    "plt.yticks(rotation = 0)\n",
    "plt.xticks(rotation = 90)"
   ]
  },
  {
   "cell_type": "markdown",
   "metadata": {},
   "source": [
    "### Interpretation of the results\n",
    "- Highest correlations -  We will discuss the correlations found in the above heat map\n",
    "    - \"death_prob_medical\" and \"death_prob_sex_age\" have the highest correlation of 0.6. This is not surprising as the likelihood of death will be related to the age of the person. Some that are hospitalised is likely to be older. \"death_prob_sex_age_median\" has the same correlation too. However, \"death_prob_medical_mean\" has a lower correlation than \"death_prob_medical\" with the other feature. The correlation is not high enough to drop either feature as they have a high enough independence from each other. There correlation with the target feature will be inspected in the next section of the project.\n",
    "    - \"death_prob_month\" and \"death_prob_sex_age\" have a correlation of 0.28. This is surprising as age and sex shouldn't be related to the month in which the case was recorded. It is not high enough to justify dropping either features. \"death_prob_sex_age_median\" has the same correlation too. We will review both of their correlation to the target value later in the project.\n",
    "    - \"death_prob_month\" and \"death_prob_medical\" have a correlation of 0.28. This is again surprising as medical treatment shouldn't be related to the month in which a case was reported. However, \"death_prob_medical_mean\" has a lower correlation than \"death_prob_medical\" again.\n",
    "- Weaker correlations - We can see a number of features with no apparent correlation to any other features\n",
    "    - \"case_positive_interval\" has a negligible correlation with the other features, we will consider dropping this as a feature after reviewing its correlation with the target feature"
   ]
  },
  {
   "cell_type": "markdown",
   "metadata": {},
   "source": [
    "### 1.2.3 Plot interaction between continuous features and target feature\n",
    "- Here we will loop over each continuous feature and make a scatter plot against the target 'death_yn'\n",
    "- We will discuss what we observe from these plots, e.g. which continuous features seem to be better at predicting the target feature\n",
    "- We will choose a subset of continuous features we find promising (if any) and justify our choice."
   ]
  },
  {
   "cell_type": "markdown",
   "metadata": {},
   "source": [
    "Using code from the sample lab solution"
   ]
  },
  {
   "cell_type": "code",
   "execution_count": 23,
   "metadata": {},
   "outputs": [
    {
     "data": {
      "text/html": [
       "<div>\n",
       "<style scoped>\n",
       "    .dataframe tbody tr th:only-of-type {\n",
       "        vertical-align: middle;\n",
       "    }\n",
       "\n",
       "    .dataframe tbody tr th {\n",
       "        vertical-align: top;\n",
       "    }\n",
       "\n",
       "    .dataframe thead th {\n",
       "        text-align: right;\n",
       "    }\n",
       "</style>\n",
       "<table border=\"1\" class=\"dataframe\">\n",
       "  <thead>\n",
       "    <tr style=\"text-align: right;\">\n",
       "      <th></th>\n",
       "      <th>death_yn</th>\n",
       "    </tr>\n",
       "  </thead>\n",
       "  <tbody>\n",
       "    <tr>\n",
       "      <th>death_prob_medical</th>\n",
       "      <td>0.747447</td>\n",
       "    </tr>\n",
       "    <tr>\n",
       "      <th>death_prob_sex_age</th>\n",
       "      <td>0.725672</td>\n",
       "    </tr>\n",
       "    <tr>\n",
       "      <th>death_prob_sex_age_median</th>\n",
       "      <td>0.724593</td>\n",
       "    </tr>\n",
       "    <tr>\n",
       "      <th>death_prob_medical_mean</th>\n",
       "      <td>0.456767</td>\n",
       "    </tr>\n",
       "    <tr>\n",
       "      <th>death_prob_month</th>\n",
       "      <td>0.390469</td>\n",
       "    </tr>\n",
       "    <tr>\n",
       "      <th>case_positive_specimen_interval</th>\n",
       "      <td>0.003827</td>\n",
       "    </tr>\n",
       "  </tbody>\n",
       "</table>\n",
       "</div>"
      ],
      "text/plain": [
       "                                 death_yn\n",
       "death_prob_medical               0.747447\n",
       "death_prob_sex_age               0.725672\n",
       "death_prob_sex_age_median        0.724593\n",
       "death_prob_medical_mean          0.456767\n",
       "death_prob_month                 0.390469\n",
       "case_positive_specimen_interval  0.003827"
      ]
     },
     "execution_count": 23,
     "metadata": {},
     "output_type": "execute_result"
    },
    {
     "data": {
      "image/png": "[encoded data removed]",
      "text/plain": [
       "<Figure size 640x480 with 1 Axes>"
      ]
     },
     "metadata": {},
     "output_type": "display_data"
    },
    {
     "data": {
      "image/png": "[encoded data removed]",
      "text/plain": [
       "<Figure size 640x480 with 1 Axes>"
      ]
     },
     "metadata": {},
     "output_type": "display_data"
    },
    {
     "data": {
      "image/png": "[encoded data removed]",
      "text/plain": [
       "<Figure size 640x480 with 1 Axes>"
      ]
     },
     "metadata": {},
     "output_type": "display_data"
    },
    {
     "data": {
      "image/png": "[encoded data removed]",
      "text/plain": [
       "<Figure size 640x480 with 1 Axes>"
      ]
     },
     "metadata": {},
     "output_type": "display_data"
    },
    {
     "data": {
      "image/png": "[encoded data removed]",
      "text/plain": [
       "<Figure size 640x480 with 1 Axes>"
      ]
     },
     "metadata": {},
     "output_type": "display_data"
    },
    {
     "data": {
      "image/png": "[encoded data removed]",
      "text/plain": [
       "<Figure size 640x480 with 1 Axes>"
      ]
     },
     "metadata": {},
     "output_type": "display_data"
    }
   ],
   "source": [
    "# dict to hold correlation values\n",
    "corr_dict = {}\n",
    "\n",
    "# separating out the continuous features\n",
    "continuous_columns_X_train = corr_X_train[[\"case_positive_specimen_interval\", \"death_prob_month\", \"death_prob_medical\", \"death_prob_medical_mean\", \"death_prob_sex_age\", \"death_prob_sex_age_median\"]]\n",
    "\n",
    "# death_yn will be mapped to 1 and 0 in order to perform correlations against it\n",
    "corr_y_train = pd.DataFrame(y_train[\"death_yn\"].map({'Yes': 1, 'No': 0}))\n",
    "corr_y_train[\"death_yn\"] = corr_y_train[\"death_yn\"].astype('int64')\n",
    "\n",
    "# plot pairwise interaction between all continuous features and target\n",
    "for column in continuous_columns_X_train:\n",
    "    # create temp df to merge column and target\n",
    "    df_temp = pd.concat([continuous_columns_X_train[column], corr_y_train], axis=1)\n",
    "    # store correlation in variable\n",
    "    correlation = df_temp[[column, 'death_yn']].corr().values[0,1]\n",
    "    # plot the column and target feature\n",
    "    df_temp.plot(kind='scatter', x=column, y=\"death_yn\", label=\"%.3f\" % correlation)\n",
    "    # add correlation to dict\n",
    "    corr_dict[column] = correlation\n",
    "\n",
    "# dataframe holding sorted correlation values to aid in interpreting results\n",
    "corr_df = pd.DataFrame.from_dict(corr_dict, orient='index', columns=['death_yn']).sort_values('death_yn', ascending=False)\n",
    "corr_df"
   ]
  },
  {
   "cell_type": "markdown",
   "metadata": {},
   "source": [
    "### Interpretation of the results\n",
    "- Observing the plots, visually there are no clearly defined correlations and this is probably to be expected with a complex problem like this. There are many interactions to take into account.\n",
    "- Each correlation will be reviewed individually as there are only a few continuous features in the dataframe:\n",
    "\n",
    "- The strongest correlations are \"death_prob_medical\", \"death_prob_sex_age\" and  \"death_prob_sex_age_median\".\n",
    "    - death_prob_medical makes sense as a person that is hospitalised has a higher likelihood of death than a person not hospitalised as their case would have been deemed less severe. The imputed value has again, a much lower correlation, it will be reviewed again as a categorical value to determine the best course of action, it is unlikely to be dropped due to its importance.\n",
    "    - death_prob_sex_age has a high correlation with death, a person's age likely has a larger impact here on the correlation. death_prob_sex_age_median has a similar correlation value, a final decision will be made after reviewing it as a categorical value but a strong case for keeping the value as its imputation is being made by the results\n",
    "    - death_prob_month has a lower correlation but is still strong at 0.4, this feature will be kept\n",
    "- The weakest correlation is \"case_positive_specimen_interval\"\n",
    "    - This is unsurprising as the interval between the case was reported to the CDC and when the case was found is unlikely to effect the outcome of the patient. This feature should be removed as it will complicate the model, the impact of this decision will be evaluated in part 5."
   ]
  },
  {
   "cell_type": "markdown",
   "metadata": {},
   "source": [
    "### 1.2.4 Plot interaction between categorical features and target feature\n",
    "- Here we will plot a pairwise interaction between each categorical feature against the target feature. \n",
    "- We will discuss what we observe from these plots, e.g., which categorical features seem to be better at predicting the target feature.\n",
    "- We will choose a subset of categorical features we find promising (if any) and justify our choice.\n",
    "\n",
    "There are many categorical features, a stacked bar plot will be created for each"
   ]
  },
  {
   "cell_type": "markdown",
   "metadata": {},
   "source": [
    "##### Create stacked bar plots for all categorical features\n",
    "Using code from the lab task"
   ]
  },
  {
   "cell_type": "code",
   "execution_count": 24,
   "metadata": {},
   "outputs": [
    {
     "name": "stdout",
     "output_type": "stream",
     "text": [
      "\n",
      " case_month\n",
      "Index \t \t \t Count\n",
      "2022-01 \t \t \t 3633\n",
      "2022-07 \t \t \t 657\n",
      "2020-10 \t \t \t 826\n",
      "2020-11 \t \t \t 1874\n",
      "2021-12 \t \t \t 1960\n",
      "2021-02 \t \t \t 680\n",
      "2021-11 \t \t \t 848\n",
      "2020-09 \t \t \t 417\n",
      "2020-05 \t \t \t 468\n",
      "2020-12 \t \t \t 2429\n",
      "2020-04 \t \t \t 1065\n",
      "2021-04 \t \t \t 618\n",
      "2021-07 \t \t \t 511\n",
      "2022-05 \t \t \t 900\n",
      "2022-08 \t \t \t 516\n",
      "2021-09 \t \t \t 1079\n",
      "2020-06 \t \t \t 478\n",
      "2022-09 \t \t \t 369\n",
      "2021-01 \t \t \t 1951\n",
      "2022-04 \t \t \t 318\n",
      "2021-08 \t \t \t 1287\n",
      "2022-06 \t \t \t 557\n",
      "2021-03 \t \t \t 628\n",
      "2020-08 \t \t \t 516\n",
      "2020-07 \t \t \t 767\n",
      "2021-10 \t \t \t 740\n",
      "2022-11 \t \t \t 88\n",
      "2022-02 \t \t \t 568\n",
      "2022-03 \t \t \t 159\n",
      "2022-10 \t \t \t 265\n",
      "2020-03 \t \t \t 448\n",
      "2021-05 \t \t \t 235\n",
      "2021-06 \t \t \t 136\n",
      "2020-01 \t \t \t 8\n",
      "2020-02 \t \t \t 1\n"
     ]
    },
    {
     "ename": "ValueError",
     "evalue": "keyword grid_b is not recognized; valid keywords are ['size', 'width', 'color', 'tickdir', 'pad', 'labelsize', 'labelcolor', 'zorder', 'gridOn', 'tick1On', 'tick2On', 'label1On', 'label2On', 'length', 'direction', 'left', 'bottom', 'right', 'top', 'labelleft', 'labelbottom', 'labelright', 'labeltop', 'labelrotation', 'grid_agg_filter', 'grid_alpha', 'grid_animated', 'grid_antialiased', 'grid_clip_box', 'grid_clip_on', 'grid_clip_path', 'grid_color', 'grid_dash_capstyle', 'grid_dash_joinstyle', 'grid_dashes', 'grid_data', 'grid_drawstyle', 'grid_figure', 'grid_fillstyle', 'grid_gapcolor', 'grid_gid', 'grid_in_layout', 'grid_label', 'grid_linestyle', 'grid_linewidth', 'grid_marker', 'grid_markeredgecolor', 'grid_markeredgewidth', 'grid_markerfacecolor', 'grid_markerfacecoloralt', 'grid_markersize', 'grid_markevery', 'grid_mouseover', 'grid_path_effects', 'grid_picker', 'grid_pickradius', 'grid_rasterized', 'grid_sketch_params', 'grid_snap', 'grid_solid_capstyle', 'grid_solid_joinstyle', 'grid_transform', 'grid_url', 'grid_visible', 'grid_xdata', 'grid_ydata', 'grid_zorder', 'grid_aa', 'grid_c', 'grid_ds', 'grid_ls', 'grid_lw', 'grid_mec', 'grid_mew', 'grid_mfc', 'grid_mfcalt', 'grid_ms']",
     "output_type": "error",
     "traceback": [
      "\u001b[1;31m---------------------------------------------------------------------------\u001b[0m",
      "\u001b[1;31mValueError\u001b[0m                                Traceback (most recent call last)",
      "Cell \u001b[1;32mIn[24], line 42\u001b[0m\n\u001b[0;32m     39\u001b[0m my_plot\u001b[38;5;241m.\u001b[39mlegend(handles\u001b[38;5;241m=\u001b[39m[red_patch, blue_patch], frameon \u001b[38;5;241m=\u001b[39m \u001b[38;5;28;01mTrue\u001b[39;00m)\n\u001b[0;32m     41\u001b[0m \u001b[38;5;66;03m# add gridlines\u001b[39;00m\n\u001b[1;32m---> 42\u001b[0m \u001b[43mplt\u001b[49m\u001b[38;5;241;43m.\u001b[39;49m\u001b[43mgrid\u001b[49m\u001b[43m(\u001b[49m\u001b[43mb\u001b[49m\u001b[38;5;241;43m=\u001b[39;49m\u001b[38;5;28;43;01mTrue\u001b[39;49;00m\u001b[43m,\u001b[49m\u001b[43m \u001b[49m\u001b[43mwhich\u001b[49m\u001b[38;5;241;43m=\u001b[39;49m\u001b[38;5;124;43m'\u001b[39;49m\u001b[38;5;124;43mmajor\u001b[39;49m\u001b[38;5;124;43m'\u001b[39;49m\u001b[43m,\u001b[49m\u001b[43m \u001b[49m\u001b[43mcolor\u001b[49m\u001b[38;5;241;43m=\u001b[39;49m\u001b[38;5;124;43m'\u001b[39;49m\u001b[38;5;124;43m#666666\u001b[39;49m\u001b[38;5;124;43m'\u001b[39;49m\u001b[43m,\u001b[49m\u001b[43m \u001b[49m\u001b[43mlinestyle\u001b[49m\u001b[38;5;241;43m=\u001b[39;49m\u001b[38;5;124;43m'\u001b[39;49m\u001b[38;5;124;43m-\u001b[39;49m\u001b[38;5;124;43m'\u001b[39;49m\u001b[43m)\u001b[49m\n\u001b[0;32m     43\u001b[0m plt\u001b[38;5;241m.\u001b[39mminorticks_on()\n\u001b[0;32m     44\u001b[0m plt\u001b[38;5;241m.\u001b[39mgrid(b\u001b[38;5;241m=\u001b[39m\u001b[38;5;28;01mTrue\u001b[39;00m, which\u001b[38;5;241m=\u001b[39m\u001b[38;5;124m'\u001b[39m\u001b[38;5;124mminor\u001b[39m\u001b[38;5;124m'\u001b[39m, color\u001b[38;5;241m=\u001b[39m\u001b[38;5;124m'\u001b[39m\u001b[38;5;124m#999999\u001b[39m\u001b[38;5;124m'\u001b[39m, linestyle\u001b[38;5;241m=\u001b[39m\u001b[38;5;124m'\u001b[39m\u001b[38;5;124m-\u001b[39m\u001b[38;5;124m'\u001b[39m, alpha\u001b[38;5;241m=\u001b[39m\u001b[38;5;241m0.2\u001b[39m)\n",
      "File \u001b[1;32m~\\anaconda3\\lib\\site-packages\\matplotlib\\pyplot.py:2589\u001b[0m, in \u001b[0;36mgrid\u001b[1;34m(visible, which, axis, **kwargs)\u001b[0m\n\u001b[0;32m   2587\u001b[0m \u001b[38;5;129m@_copy_docstring_and_deprecators\u001b[39m(Axes\u001b[38;5;241m.\u001b[39mgrid)\n\u001b[0;32m   2588\u001b[0m \u001b[38;5;28;01mdef\u001b[39;00m \u001b[38;5;21mgrid\u001b[39m(visible\u001b[38;5;241m=\u001b[39m\u001b[38;5;28;01mNone\u001b[39;00m, which\u001b[38;5;241m=\u001b[39m\u001b[38;5;124m'\u001b[39m\u001b[38;5;124mmajor\u001b[39m\u001b[38;5;124m'\u001b[39m, axis\u001b[38;5;241m=\u001b[39m\u001b[38;5;124m'\u001b[39m\u001b[38;5;124mboth\u001b[39m\u001b[38;5;124m'\u001b[39m, \u001b[38;5;241m*\u001b[39m\u001b[38;5;241m*\u001b[39mkwargs):\n\u001b[1;32m-> 2589\u001b[0m     \u001b[38;5;28;01mreturn\u001b[39;00m gca()\u001b[38;5;241m.\u001b[39mgrid(visible\u001b[38;5;241m=\u001b[39mvisible, which\u001b[38;5;241m=\u001b[39mwhich, axis\u001b[38;5;241m=\u001b[39maxis, \u001b[38;5;241m*\u001b[39m\u001b[38;5;241m*\u001b[39mkwargs)\n",
      "File \u001b[1;32m~\\anaconda3\\lib\\site-packages\\matplotlib\\axes\\_base.py:3196\u001b[0m, in \u001b[0;36m_AxesBase.grid\u001b[1;34m(self, visible, which, axis, **kwargs)\u001b[0m\n\u001b[0;32m   3194\u001b[0m _api\u001b[38;5;241m.\u001b[39mcheck_in_list([\u001b[38;5;124m'\u001b[39m\u001b[38;5;124mx\u001b[39m\u001b[38;5;124m'\u001b[39m, \u001b[38;5;124m'\u001b[39m\u001b[38;5;124my\u001b[39m\u001b[38;5;124m'\u001b[39m, \u001b[38;5;124m'\u001b[39m\u001b[38;5;124mboth\u001b[39m\u001b[38;5;124m'\u001b[39m], axis\u001b[38;5;241m=\u001b[39maxis)\n\u001b[0;32m   3195\u001b[0m \u001b[38;5;28;01mif\u001b[39;00m axis \u001b[38;5;129;01min\u001b[39;00m [\u001b[38;5;124m'\u001b[39m\u001b[38;5;124mx\u001b[39m\u001b[38;5;124m'\u001b[39m, \u001b[38;5;124m'\u001b[39m\u001b[38;5;124mboth\u001b[39m\u001b[38;5;124m'\u001b[39m]:\n\u001b[1;32m-> 3196\u001b[0m     \u001b[38;5;28mself\u001b[39m\u001b[38;5;241m.\u001b[39mxaxis\u001b[38;5;241m.\u001b[39mgrid(visible, which\u001b[38;5;241m=\u001b[39mwhich, \u001b[38;5;241m*\u001b[39m\u001b[38;5;241m*\u001b[39mkwargs)\n\u001b[0;32m   3197\u001b[0m \u001b[38;5;28;01mif\u001b[39;00m axis \u001b[38;5;129;01min\u001b[39;00m [\u001b[38;5;124m'\u001b[39m\u001b[38;5;124my\u001b[39m\u001b[38;5;124m'\u001b[39m, \u001b[38;5;124m'\u001b[39m\u001b[38;5;124mboth\u001b[39m\u001b[38;5;124m'\u001b[39m]:\n\u001b[0;32m   3198\u001b[0m     \u001b[38;5;28mself\u001b[39m\u001b[38;5;241m.\u001b[39myaxis\u001b[38;5;241m.\u001b[39mgrid(visible, which\u001b[38;5;241m=\u001b[39mwhich, \u001b[38;5;241m*\u001b[39m\u001b[38;5;241m*\u001b[39mkwargs)\n",
      "File \u001b[1;32m~\\anaconda3\\lib\\site-packages\\matplotlib\\axis.py:1655\u001b[0m, in \u001b[0;36mAxis.grid\u001b[1;34m(self, visible, which, **kwargs)\u001b[0m\n\u001b[0;32m   1652\u001b[0m \u001b[38;5;28;01mif\u001b[39;00m which \u001b[38;5;129;01min\u001b[39;00m [\u001b[38;5;124m'\u001b[39m\u001b[38;5;124mmajor\u001b[39m\u001b[38;5;124m'\u001b[39m, \u001b[38;5;124m'\u001b[39m\u001b[38;5;124mboth\u001b[39m\u001b[38;5;124m'\u001b[39m]:\n\u001b[0;32m   1653\u001b[0m     gridkw[\u001b[38;5;124m'\u001b[39m\u001b[38;5;124mgridOn\u001b[39m\u001b[38;5;124m'\u001b[39m] \u001b[38;5;241m=\u001b[39m (\u001b[38;5;129;01mnot\u001b[39;00m \u001b[38;5;28mself\u001b[39m\u001b[38;5;241m.\u001b[39m_major_tick_kw[\u001b[38;5;124m'\u001b[39m\u001b[38;5;124mgridOn\u001b[39m\u001b[38;5;124m'\u001b[39m]\n\u001b[0;32m   1654\u001b[0m                         \u001b[38;5;28;01mif\u001b[39;00m visible \u001b[38;5;129;01mis\u001b[39;00m \u001b[38;5;28;01mNone\u001b[39;00m \u001b[38;5;28;01melse\u001b[39;00m visible)\n\u001b[1;32m-> 1655\u001b[0m     \u001b[38;5;28mself\u001b[39m\u001b[38;5;241m.\u001b[39mset_tick_params(which\u001b[38;5;241m=\u001b[39m\u001b[38;5;124m'\u001b[39m\u001b[38;5;124mmajor\u001b[39m\u001b[38;5;124m'\u001b[39m, \u001b[38;5;241m*\u001b[39m\u001b[38;5;241m*\u001b[39mgridkw)\n\u001b[0;32m   1656\u001b[0m \u001b[38;5;28mself\u001b[39m\u001b[38;5;241m.\u001b[39mstale \u001b[38;5;241m=\u001b[39m \u001b[38;5;28;01mTrue\u001b[39;00m\n",
      "File \u001b[1;32m~\\anaconda3\\lib\\site-packages\\matplotlib\\axis.py:927\u001b[0m, in \u001b[0;36mAxis.set_tick_params\u001b[1;34m(self, which, reset, **kwargs)\u001b[0m\n\u001b[0;32m    914\u001b[0m \u001b[38;5;124;03m\"\"\"\u001b[39;00m\n\u001b[0;32m    915\u001b[0m \u001b[38;5;124;03mSet appearance parameters for ticks, ticklabels, and gridlines.\u001b[39;00m\n\u001b[0;32m    916\u001b[0m \n\u001b[1;32m   (...)\u001b[0m\n\u001b[0;32m    924\u001b[0m \u001b[38;5;124;03m    gridlines.\u001b[39;00m\n\u001b[0;32m    925\u001b[0m \u001b[38;5;124;03m\"\"\"\u001b[39;00m\n\u001b[0;32m    926\u001b[0m _api\u001b[38;5;241m.\u001b[39mcheck_in_list([\u001b[38;5;124m'\u001b[39m\u001b[38;5;124mmajor\u001b[39m\u001b[38;5;124m'\u001b[39m, \u001b[38;5;124m'\u001b[39m\u001b[38;5;124mminor\u001b[39m\u001b[38;5;124m'\u001b[39m, \u001b[38;5;124m'\u001b[39m\u001b[38;5;124mboth\u001b[39m\u001b[38;5;124m'\u001b[39m], which\u001b[38;5;241m=\u001b[39mwhich)\n\u001b[1;32m--> 927\u001b[0m kwtrans \u001b[38;5;241m=\u001b[39m \u001b[38;5;28;43mself\u001b[39;49m\u001b[38;5;241;43m.\u001b[39;49m\u001b[43m_translate_tick_params\u001b[49m\u001b[43m(\u001b[49m\u001b[43mkwargs\u001b[49m\u001b[43m)\u001b[49m\n\u001b[0;32m    929\u001b[0m \u001b[38;5;66;03m# the kwargs are stored in self._major/minor_tick_kw so that any\u001b[39;00m\n\u001b[0;32m    930\u001b[0m \u001b[38;5;66;03m# future new ticks will automatically get them\u001b[39;00m\n\u001b[0;32m    931\u001b[0m \u001b[38;5;28;01mif\u001b[39;00m reset:\n",
      "File \u001b[1;32m~\\anaconda3\\lib\\site-packages\\matplotlib\\axis.py:1071\u001b[0m, in \u001b[0;36mAxis._translate_tick_params\u001b[1;34m(kw, reverse)\u001b[0m\n\u001b[0;32m   1069\u001b[0m \u001b[38;5;28;01mfor\u001b[39;00m key \u001b[38;5;129;01min\u001b[39;00m kw_:\n\u001b[0;32m   1070\u001b[0m     \u001b[38;5;28;01mif\u001b[39;00m key \u001b[38;5;129;01mnot\u001b[39;00m \u001b[38;5;129;01min\u001b[39;00m allowed_keys:\n\u001b[1;32m-> 1071\u001b[0m         \u001b[38;5;28;01mraise\u001b[39;00m \u001b[38;5;167;01mValueError\u001b[39;00m(\n\u001b[0;32m   1072\u001b[0m             \u001b[38;5;124m\"\u001b[39m\u001b[38;5;124mkeyword \u001b[39m\u001b[38;5;132;01m%s\u001b[39;00m\u001b[38;5;124m is not recognized; valid keywords are \u001b[39m\u001b[38;5;132;01m%s\u001b[39;00m\u001b[38;5;124m\"\u001b[39m\n\u001b[0;32m   1073\u001b[0m             \u001b[38;5;241m%\u001b[39m (key, allowed_keys))\n\u001b[0;32m   1074\u001b[0m kwtrans\u001b[38;5;241m.\u001b[39mupdate(kw_)\n\u001b[0;32m   1075\u001b[0m \u001b[38;5;28;01mreturn\u001b[39;00m kwtrans\n",
      "\u001b[1;31mValueError\u001b[0m: keyword grid_b is not recognized; valid keywords are ['size', 'width', 'color', 'tickdir', 'pad', 'labelsize', 'labelcolor', 'zorder', 'gridOn', 'tick1On', 'tick2On', 'label1On', 'label2On', 'length', 'direction', 'left', 'bottom', 'right', 'top', 'labelleft', 'labelbottom', 'labelright', 'labeltop', 'labelrotation', 'grid_agg_filter', 'grid_alpha', 'grid_animated', 'grid_antialiased', 'grid_clip_box', 'grid_clip_on', 'grid_clip_path', 'grid_color', 'grid_dash_capstyle', 'grid_dash_joinstyle', 'grid_dashes', 'grid_data', 'grid_drawstyle', 'grid_figure', 'grid_fillstyle', 'grid_gapcolor', 'grid_gid', 'grid_in_layout', 'grid_label', 'grid_linestyle', 'grid_linewidth', 'grid_marker', 'grid_markeredgecolor', 'grid_markeredgewidth', 'grid_markerfacecolor', 'grid_markerfacecoloralt', 'grid_markersize', 'grid_markevery', 'grid_mouseover', 'grid_path_effects', 'grid_picker', 'grid_pickradius', 'grid_rasterized', 'grid_sketch_params', 'grid_snap', 'grid_solid_capstyle', 'grid_solid_joinstyle', 'grid_transform', 'grid_url', 'grid_visible', 'grid_xdata', 'grid_ydata', 'grid_zorder', 'grid_aa', 'grid_c', 'grid_ds', 'grid_ls', 'grid_lw', 'grid_mec', 'grid_mew', 'grid_mfc', 'grid_mfcalt', 'grid_ms']"
     ]
    },
    {
     "data": {
      "image/png": "[encoded data removed]",
      "text/plain": [
       "<Figure size 1500x700 with 1 Axes>"
      ]
     },
     "metadata": {},
     "output_type": "display_data"
    }
   ],
   "source": [
    "# we will create temp dataframe for these plots, merging X_train and y_train\n",
    "df_temp= pd.concat([X_train, y_train], axis=1)\n",
    "\n",
    "# removing target feature as it can't be grouped against itself for stacked barchart\n",
    "category_columns_no_death = category_columns.drop([\"death_yn\"],1)\n",
    "\n",
    "# for each categorical feature create a stacked bar plot\n",
    "for categorical_feature in category_columns_no_death:\n",
    "    \n",
    "    categorical_count = pd.unique(df_temp[categorical_feature].ravel())\n",
    "\n",
    "    # add new percentage column and set values to zero\n",
    "    df_temp['percent'] = 0\n",
    "\n",
    "    #print header\n",
    "    print(\"\\n\", categorical_feature)\n",
    "    print(\"Index \\t \\t \\t Count\")\n",
    "\n",
    "    # for each categorical feature\n",
    "    for i in categorical_count:\n",
    "\n",
    "        count = df_temp[df_temp[categorical_feature] == i].count()['death_yn']\n",
    "        count_percentage = (1 / count) * 100\n",
    "\n",
    "        # print out index vs count\n",
    "        print(i, \"\\t \\t \\t\", count)\n",
    "\n",
    "        index_list = df_temp[df_temp[categorical_feature] == i].index.tolist()\n",
    "        for ind in index_list:\n",
    "            df_temp.loc[ind, 'percent'] = count_percentage\n",
    "\n",
    "    group = df_temp[['percent',categorical_feature,'death_yn']].groupby([categorical_feature,'death_yn']).sum()\n",
    "\n",
    "    my_plot = group.unstack().plot(kind='bar', stacked=True, title=f\"death_yn vs {categorical_feature}\", figsize=(15,7), grid=True)\n",
    "\n",
    "    # add legend\n",
    "    red_patch = mpatches.Patch(color='orange', label='Death')\n",
    "    blue_patch = mpatches.Patch(color='blue', label='No Death')\n",
    "    my_plot.legend(handles=[red_patch, blue_patch], frameon = True)\n",
    "\n",
    "    # add gridlines\n",
    "    plt.grid(b=True, which='major', color='#666666', linestyle='-')\n",
    "    plt.minorticks_on()\n",
    "    plt.grid(b=True, which='minor', color='#999999', linestyle='-', alpha=0.2)\n",
    "\n",
    "    # add labels\n",
    "    my_plot.set_xlabel(\"Number of Instances\")\n",
    "    my_plot.set_ylabel(\"Deaths\")\n",
    "    my_plot.set_ylim([0,100])\n",
    "    \n",
    "# drop 'percent' that was used only for stacked bar plot\n",
    "df_temp = df_temp.drop(\"percent\", 1)"
   ]
  },
  {
   "cell_type": "markdown",
   "metadata": {},
   "source": [
    "### Interpretation of the results\n",
    "\n",
    "death_yn vs case_month\n",
    "- Observing the plots we can see that deaths decrease as over the course of the pandemic, this suggests the month a person contracts Covid-19 is a good predictor for death. This feature will be kept\n",
    "\n",
    "death_yn vs res_state and state_fips_code\n",
    "- There is a wide variety of values between res_state and state_fips_code with death_yn. The feature will be kept but res_state and state_fips_code are duplications of each other so res_state will be dropped as a feature and state_fips_code will be kept as it a unique identifier of states. This will prevent duplication of data being inputted into the prediction models.\n",
    "\n",
    "death_yn vs res_county and county_fips_code\n",
    "- These features have too much data to inspect visually, upon review of the data quality report and from learnings from the data preparation stage these features will be dropped. The county level data becomes too granular and there is not enough instances per county to reliably predict the target feature, therefore to decomplexify the model these features will be dropped\n",
    "\n",
    "death_yn vs age_group\n",
    "- Each bin has different values that make intuitive sense, older cohorts died more than younger cohorts due to contracting Covid-19. Therefor the feature should be kept\n",
    "\n",
    "death_yn vs race\n",
    "- All bins have different values, meaning a person's race may have been a predictor of death, this feature will be kept\n",
    "\n",
    "death_yn vs ethnicity\n",
    "- Both bins have different values, meaning a person's ethnicity may have been a predictor of death, this feature will be kept\n",
    "\n",
    "death_yn vs current_status\n",
    "- It is interesting to see that a probable case vs a laboratory confirmed case show little difference in death rates, these features will be kept as enough difference that it could be substantial for the prediction model\n",
    "\n",
    "death_yn vs symptom_status\n",
    "- It is interesting to see that the two values show little difference in death rates, we would have expected symptomatic cases to have a much higher level of deaths as intuitively symptomatic case could be thought of as worse. These features will be kept as enough difference that it could be substantial for the prediction model and it will be interesting to see if they effect the model\n",
    "\n",
    "death_yn vs symptom_status\n",
    "- It is interesting to see that the two values show little difference in death rates, these features will be kept as enough difference that it could be substantial for the prediction model\n",
    "\n",
    "death_yn vs hospital_yn\n",
    "- This is an unsurprising result, if a person is hospitalised, they are more likely to have a more sever case of Covid-19 that results in death\n",
    "\n",
    "death_yn vs death_prob_sex_age\n",
    "- From this chart and the correlation chart we believe the feature's classification should be changed from categorical to continuous with the imputed value of death_prob_sex_age_imputed used as it will be easier to use in the model as a numeric value and has no values missing\n",
    "\n",
    "death_yn vs death_prob_medical\n",
    "- From this chart and the correlation chart we believe the feature's classification should be changed from categorical to continuous with the imputed value of death_prob_medical_imputed used. Although it's correlation is not as strong as the original value with NaN values ignored it will be easier to use in the model as a numeric value and has no values missing\n",
    "\n",
    "death_yn vs state_party\n",
    "- This value was an added feature from part 1 of this project, although it is interesting, it will be dropped as it directly related to the state_fips_code which may influence the prediction model. The state_fips_code will provide a better level of granularity for the model.\n"
   ]
  },
  {
   "cell_type": "markdown",
   "metadata": {},
   "source": [
    "Before dropping add the imputed values to the original and drop the original values"
   ]
  },
  {
   "cell_type": "code",
   "execution_count": 34,
   "metadata": {},
   "outputs": [],
   "source": [
    "df[\"death_prob_sex_age\"] = df[\"death_prob_sex_age\"].replace(\"Missing\", np.nan)\n",
    "df[\"death_prob_medical\"] = df[\"death_prob_medical\"].replace(\"Missing\", np.nan)\n",
    "\n",
    "df[\"death_prob_sex_age\"] = df[\"death_prob_sex_age\"].astype('float64')\n",
    "df[\"death_prob_medical\"] = df[\"death_prob_medical\"].astype('float64')\n",
    "\n",
    "# Perform imputation with median\n",
    "df['death_prob_sex_age_median'] = df['death_prob_sex_age'].fillna(df['death_prob_sex_age'].median())\n",
    "\n",
    "# Perform imputation with mean\n",
    "df['death_prob_medical_mean'] = df['death_prob_medical'].fillna(df['death_prob_medical'].mean())"
   ]
  },
  {
   "cell_type": "code",
   "execution_count": 35,
   "metadata": {},
   "outputs": [],
   "source": [
    "df[\"death_yn\"] = df[\"death_yn\"].map({'Yes': 1, 'No': 0})\n",
    "df[\"death_yn\"] = df[\"death_yn\"].astype('int64')"
   ]
  },
  {
   "cell_type": "code",
   "execution_count": 36,
   "metadata": {},
   "outputs": [
    {
     "name": "stdout",
     "output_type": "stream",
     "text": [
      "<class 'pandas.core.frame.DataFrame'>\n",
      "RangeIndex: 40000 entries, 0 to 39999\n",
      "Data columns (total 20 columns):\n",
      " #   Column                           Non-Null Count  Dtype   \n",
      "---  ------                           --------------  -----   \n",
      " 0   case_month                       40000 non-null  category\n",
      " 1   res_state                        40000 non-null  category\n",
      " 2   state_fips_code                  40000 non-null  category\n",
      " 3   res_county                       40000 non-null  category\n",
      " 4   county_fips_code                 40000 non-null  category\n",
      " 5   age_group                        40000 non-null  category\n",
      " 6   sex                              40000 non-null  category\n",
      " 7   race                             40000 non-null  category\n",
      " 8   ethnicity                        40000 non-null  category\n",
      " 9   case_positive_specimen_interval  40000 non-null  int64   \n",
      " 10  current_status                   40000 non-null  category\n",
      " 11  symptom_status                   40000 non-null  category\n",
      " 12  hosp_yn                          40000 non-null  category\n",
      " 13  death_yn                         40000 non-null  int64   \n",
      " 14  death_prob_sex_age               39673 non-null  float64 \n",
      " 15  death_prob_medical               16145 non-null  float64 \n",
      " 16  state_party                      40000 non-null  category\n",
      " 17  death_prob_month                 40000 non-null  float64 \n",
      " 18  death_prob_sex_age_median        40000 non-null  float64 \n",
      " 19  death_prob_medical_mean          40000 non-null  float64 \n",
      "dtypes: category(13), float64(5), int64(2)\n",
      "memory usage: 2.8 MB\n",
      "None\n"
     ]
    }
   ],
   "source": [
    "# Check the types and NaN values\n",
    "print(df.info())"
   ]
  },
  {
   "cell_type": "markdown",
   "metadata": {},
   "source": [
    "We will now drop these aforementioned features\n",
    "- Before dropping, we will duplicate the original dataframe, df, and label it df_rev1\n",
    "- We will drop features from this copy only (df_rev1)\n",
    "- This will allow us to revert to the original dataset later if we decide to compare the performance of the reduced dataset (df_rev1) with the original dataset (df)"
   ]
  },
  {
   "cell_type": "code",
   "execution_count": 37,
   "metadata": {},
   "outputs": [
    {
     "name": "stdout",
     "output_type": "stream",
     "text": [
      "\n",
      "New shape: (40000, 13) \n",
      "\n",
      "<class 'pandas.core.frame.DataFrame'>\n",
      "RangeIndex: 40000 entries, 0 to 39999\n",
      "Data columns (total 13 columns):\n",
      " #   Column                     Non-Null Count  Dtype   \n",
      "---  ------                     --------------  -----   \n",
      " 0   case_month                 40000 non-null  category\n",
      " 1   state_fips_code            40000 non-null  category\n",
      " 2   age_group                  40000 non-null  category\n",
      " 3   sex                        40000 non-null  category\n",
      " 4   race                       40000 non-null  category\n",
      " 5   ethnicity                  40000 non-null  category\n",
      " 6   current_status             40000 non-null  category\n",
      " 7   symptom_status             40000 non-null  category\n",
      " 8   hosp_yn                    40000 non-null  category\n",
      " 9   death_yn                   40000 non-null  int64   \n",
      " 10  death_prob_month           40000 non-null  float64 \n",
      " 11  death_prob_sex_age_median  40000 non-null  float64 \n",
      " 12  death_prob_medical_mean    40000 non-null  float64 \n",
      "dtypes: category(9), float64(3), int64(1)\n",
      "memory usage: 1.6 MB\n"
     ]
    }
   ],
   "source": [
    "# before dropping make copy of original\n",
    "df_rev1 = df.copy()\n",
    "# drop low value features\n",
    "df_rev1.drop([\"res_state\", \"res_county\", \"county_fips_code\", \"case_positive_specimen_interval\", \"death_prob_sex_age\", \"death_prob_medical\", \"state_party\"], 1, inplace=True)\n",
    "print('\\nNew shape:', df_rev1.shape, '\\n')\n",
    "df_rev1.info()"
   ]
  },
  {
   "cell_type": "markdown",
   "metadata": {},
   "source": []
  },
  {
   "cell_type": "markdown",
   "metadata": {},
   "source": [
    "## 1.3 Prepare dataset for modeling\n",
    "Now we have picked our descriptive features for the whole dataset, a number of additional steps will need to be taken to prepare the dataset for modeling\n",
    "- We will now convert the categorical variables into dummies variable to allow modeling\n",
    "- We will then remove the redundant dummies which contain no additional information\n",
    "- We will then set up the train test split again based on the dataset with the dummies included"
   ]
  },
  {
   "cell_type": "markdown",
   "metadata": {},
   "source": [
    "#### Set up dummy features.\n",
    "This will split up each categorical feature into a number of dummy features. The data type changes to \"uint8\""
   ]
  },
  {
   "cell_type": "code",
   "execution_count": 38,
   "metadata": {},
   "outputs": [
    {
     "data": {
      "text/plain": [
       "death_yn                        int64\n",
       "death_prob_month              float64\n",
       "death_prob_sex_age_median     float64\n",
       "death_prob_medical_mean       float64\n",
       "case_month_2020-01              uint8\n",
       "                               ...   \n",
       "symptom_status_Missing          uint8\n",
       "symptom_status_Symptomatic      uint8\n",
       "hosp_yn_Missing                 uint8\n",
       "hosp_yn_No                      uint8\n",
       "hosp_yn_Yes                     uint8\n",
       "Length: 114, dtype: object"
      ]
     },
     "execution_count": 38,
     "metadata": {},
     "output_type": "execute_result"
    }
   ],
   "source": [
    "# set up dummies features\n",
    "df_rev1 = pd.get_dummies(df_rev1)\n",
    "df_rev1.dtypes"
   ]
  },
  {
   "cell_type": "markdown",
   "metadata": {},
   "source": [
    "### Remove reference columns to prevent multicollinearity"
   ]
  },
  {
   "cell_type": "code",
   "execution_count": 39,
   "metadata": {},
   "outputs": [
    {
     "data": {
      "text/plain": [
       "death_yn                          int64\n",
       "death_prob_month                float64\n",
       "death_prob_sex_age_median       float64\n",
       "death_prob_medical_mean         float64\n",
       "case_month_2020-02                uint8\n",
       "                                 ...   \n",
       "current_status_Probable Case      uint8\n",
       "symptom_status_Missing            uint8\n",
       "symptom_status_Symptomatic        uint8\n",
       "hosp_yn_Missing                   uint8\n",
       "hosp_yn_Yes                       uint8\n",
       "Length: 105, dtype: object"
      ]
     },
     "execution_count": 39,
     "metadata": {},
     "output_type": "execute_result"
    }
   ],
   "source": [
    "df_rev1 = df_rev1.drop(['case_month_2020-01', 'state_fips_code_1', 'age_group_0 - 17 years', 'sex_Female', 'race_American Indian/Alaska Native', 'ethnicity_Hispanic/Latino', 'current_status_Laboratory-confirmed case', 'symptom_status_Asymptomatic', 'hosp_yn_No'],1)\n",
    "df_rev1.dtypes"
   ]
  },
  {
   "cell_type": "markdown",
   "metadata": {},
   "source": [
    "#### Continuous columns are:"
   ]
  },
  {
   "cell_type": "code",
   "execution_count": 40,
   "metadata": {},
   "outputs": [
    {
     "data": {
      "text/plain": [
       "['death_prob_month', 'death_prob_sex_age_median', 'death_prob_medical_mean']"
      ]
     },
     "execution_count": 40,
     "metadata": {},
     "output_type": "execute_result"
    }
   ],
   "source": [
    "continuous_columns = df_rev1.select_dtypes(include=['int64','float64']).columns.tolist()\n",
    "# remove the target \"death_yn\"\n",
    "continuous_columns.pop(0)\n",
    "continuous_columns"
   ]
  },
  {
   "cell_type": "markdown",
   "metadata": {},
   "source": [
    "#### Categorical columns are:"
   ]
  },
  {
   "cell_type": "code",
   "execution_count": 41,
   "metadata": {},
   "outputs": [
    {
     "data": {
      "text/plain": [
       "['case_month_2020-02',\n",
       " 'case_month_2020-03',\n",
       " 'case_month_2020-04',\n",
       " 'case_month_2020-05',\n",
       " 'case_month_2020-06',\n",
       " 'case_month_2020-07',\n",
       " 'case_month_2020-08',\n",
       " 'case_month_2020-09',\n",
       " 'case_month_2020-10',\n",
       " 'case_month_2020-11',\n",
       " 'case_month_2020-12',\n",
       " 'case_month_2021-01',\n",
       " 'case_month_2021-02',\n",
       " 'case_month_2021-03',\n",
       " 'case_month_2021-04',\n",
       " 'case_month_2021-05',\n",
       " 'case_month_2021-06',\n",
       " 'case_month_2021-07',\n",
       " 'case_month_2021-08',\n",
       " 'case_month_2021-09',\n",
       " 'case_month_2021-10',\n",
       " 'case_month_2021-11',\n",
       " 'case_month_2021-12',\n",
       " 'case_month_2022-01',\n",
       " 'case_month_2022-02',\n",
       " 'case_month_2022-03',\n",
       " 'case_month_2022-04',\n",
       " 'case_month_2022-05',\n",
       " 'case_month_2022-06',\n",
       " 'case_month_2022-07',\n",
       " 'case_month_2022-08',\n",
       " 'case_month_2022-09',\n",
       " 'case_month_2022-10',\n",
       " 'case_month_2022-11',\n",
       " 'state_fips_code_2',\n",
       " 'state_fips_code_4',\n",
       " 'state_fips_code_5',\n",
       " 'state_fips_code_6',\n",
       " 'state_fips_code_8',\n",
       " 'state_fips_code_9',\n",
       " 'state_fips_code_11',\n",
       " 'state_fips_code_12',\n",
       " 'state_fips_code_13',\n",
       " 'state_fips_code_16',\n",
       " 'state_fips_code_17',\n",
       " 'state_fips_code_18',\n",
       " 'state_fips_code_19',\n",
       " 'state_fips_code_20',\n",
       " 'state_fips_code_21',\n",
       " 'state_fips_code_22',\n",
       " 'state_fips_code_23',\n",
       " 'state_fips_code_24',\n",
       " 'state_fips_code_25',\n",
       " 'state_fips_code_26',\n",
       " 'state_fips_code_27',\n",
       " 'state_fips_code_28',\n",
       " 'state_fips_code_29',\n",
       " 'state_fips_code_30',\n",
       " 'state_fips_code_32',\n",
       " 'state_fips_code_33',\n",
       " 'state_fips_code_34',\n",
       " 'state_fips_code_35',\n",
       " 'state_fips_code_36',\n",
       " 'state_fips_code_37',\n",
       " 'state_fips_code_38',\n",
       " 'state_fips_code_39',\n",
       " 'state_fips_code_40',\n",
       " 'state_fips_code_41',\n",
       " 'state_fips_code_42',\n",
       " 'state_fips_code_44',\n",
       " 'state_fips_code_45',\n",
       " 'state_fips_code_47',\n",
       " 'state_fips_code_48',\n",
       " 'state_fips_code_49',\n",
       " 'state_fips_code_50',\n",
       " 'state_fips_code_51',\n",
       " 'state_fips_code_53',\n",
       " 'state_fips_code_55',\n",
       " 'state_fips_code_56',\n",
       " 'state_fips_code_66',\n",
       " 'state_fips_code_72',\n",
       " 'state_fips_code_78',\n",
       " 'age_group_18 to 49 years',\n",
       " 'age_group_50 to 64 years',\n",
       " 'age_group_65+ years',\n",
       " 'age_group_Missing',\n",
       " 'sex_Male',\n",
       " 'sex_Other',\n",
       " 'race_Asian',\n",
       " 'race_Black',\n",
       " 'race_Missing',\n",
       " 'race_Multiple/Other',\n",
       " 'race_Native Hawaiian/Other Pacific Islander',\n",
       " 'race_White',\n",
       " 'ethnicity_Missing',\n",
       " 'ethnicity_Non-Hispanic/Latino',\n",
       " 'current_status_Probable Case',\n",
       " 'symptom_status_Missing',\n",
       " 'symptom_status_Symptomatic',\n",
       " 'hosp_yn_Missing',\n",
       " 'hosp_yn_Yes']"
      ]
     },
     "execution_count": 41,
     "metadata": {},
     "output_type": "execute_result"
    }
   ],
   "source": [
    "categorical_columns = df_rev1.select_dtypes(include=['uint8']).columns.tolist()\n",
    "categorical_columns"
   ]
  },
  {
   "cell_type": "markdown",
   "metadata": {},
   "source": [
    "#### Total features are:"
   ]
  },
  {
   "cell_type": "code",
   "execution_count": 42,
   "metadata": {},
   "outputs": [
    {
     "data": {
      "text/plain": [
       "['death_prob_month',\n",
       " 'death_prob_sex_age_median',\n",
       " 'death_prob_medical_mean',\n",
       " 'case_month_2020-02',\n",
       " 'case_month_2020-03',\n",
       " 'case_month_2020-04',\n",
       " 'case_month_2020-05',\n",
       " 'case_month_2020-06',\n",
       " 'case_month_2020-07',\n",
       " 'case_month_2020-08',\n",
       " 'case_month_2020-09',\n",
       " 'case_month_2020-10',\n",
       " 'case_month_2020-11',\n",
       " 'case_month_2020-12',\n",
       " 'case_month_2021-01',\n",
       " 'case_month_2021-02',\n",
       " 'case_month_2021-03',\n",
       " 'case_month_2021-04',\n",
       " 'case_month_2021-05',\n",
       " 'case_month_2021-06',\n",
       " 'case_month_2021-07',\n",
       " 'case_month_2021-08',\n",
       " 'case_month_2021-09',\n",
       " 'case_month_2021-10',\n",
       " 'case_month_2021-11',\n",
       " 'case_month_2021-12',\n",
       " 'case_month_2022-01',\n",
       " 'case_month_2022-02',\n",
       " 'case_month_2022-03',\n",
       " 'case_month_2022-04',\n",
       " 'case_month_2022-05',\n",
       " 'case_month_2022-06',\n",
       " 'case_month_2022-07',\n",
       " 'case_month_2022-08',\n",
       " 'case_month_2022-09',\n",
       " 'case_month_2022-10',\n",
       " 'case_month_2022-11',\n",
       " 'state_fips_code_2',\n",
       " 'state_fips_code_4',\n",
       " 'state_fips_code_5',\n",
       " 'state_fips_code_6',\n",
       " 'state_fips_code_8',\n",
       " 'state_fips_code_9',\n",
       " 'state_fips_code_11',\n",
       " 'state_fips_code_12',\n",
       " 'state_fips_code_13',\n",
       " 'state_fips_code_16',\n",
       " 'state_fips_code_17',\n",
       " 'state_fips_code_18',\n",
       " 'state_fips_code_19',\n",
       " 'state_fips_code_20',\n",
       " 'state_fips_code_21',\n",
       " 'state_fips_code_22',\n",
       " 'state_fips_code_23',\n",
       " 'state_fips_code_24',\n",
       " 'state_fips_code_25',\n",
       " 'state_fips_code_26',\n",
       " 'state_fips_code_27',\n",
       " 'state_fips_code_28',\n",
       " 'state_fips_code_29',\n",
       " 'state_fips_code_30',\n",
       " 'state_fips_code_32',\n",
       " 'state_fips_code_33',\n",
       " 'state_fips_code_34',\n",
       " 'state_fips_code_35',\n",
       " 'state_fips_code_36',\n",
       " 'state_fips_code_37',\n",
       " 'state_fips_code_38',\n",
       " 'state_fips_code_39',\n",
       " 'state_fips_code_40',\n",
       " 'state_fips_code_41',\n",
       " 'state_fips_code_42',\n",
       " 'state_fips_code_44',\n",
       " 'state_fips_code_45',\n",
       " 'state_fips_code_47',\n",
       " 'state_fips_code_48',\n",
       " 'state_fips_code_49',\n",
       " 'state_fips_code_50',\n",
       " 'state_fips_code_51',\n",
       " 'state_fips_code_53',\n",
       " 'state_fips_code_55',\n",
       " 'state_fips_code_56',\n",
       " 'state_fips_code_66',\n",
       " 'state_fips_code_72',\n",
       " 'state_fips_code_78',\n",
       " 'age_group_18 to 49 years',\n",
       " 'age_group_50 to 64 years',\n",
       " 'age_group_65+ years',\n",
       " 'age_group_Missing',\n",
       " 'sex_Male',\n",
       " 'sex_Other',\n",
       " 'race_Asian',\n",
       " 'race_Black',\n",
       " 'race_Missing',\n",
       " 'race_Multiple/Other',\n",
       " 'race_Native Hawaiian/Other Pacific Islander',\n",
       " 'race_White',\n",
       " 'ethnicity_Missing',\n",
       " 'ethnicity_Non-Hispanic/Latino',\n",
       " 'current_status_Probable Case',\n",
       " 'symptom_status_Missing',\n",
       " 'symptom_status_Symptomatic',\n",
       " 'hosp_yn_Missing',\n",
       " 'hosp_yn_Yes']"
      ]
     },
     "execution_count": 42,
     "metadata": {},
     "output_type": "execute_result"
    }
   ],
   "source": [
    "features = continuous_columns + categorical_columns\n",
    "features"
   ]
  },
  {
   "cell_type": "markdown",
   "metadata": {},
   "source": [
    "### Setting up the train/test split\n",
    "- This is based on the dataset with dummy values\n",
    "- The Target is stored in dataframe \"y\"\n",
    "- The remaining features are stored in dataframe \"X\"\n",
    "- Both are split into training and test subsets"
   ]
  },
  {
   "cell_type": "code",
   "execution_count": 43,
   "metadata": {},
   "outputs": [
    {
     "name": "stdout",
     "output_type": "stream",
     "text": [
      "original range is:  40000\n",
      "training range (70%):\t rows 0 to 28000\n",
      "test range (30%): \t rows 28000 to 40000\n"
     ]
    }
   ],
   "source": [
    "# y is the target\n",
    "y = df_rev1[\"death_yn\"]\n",
    "# X is everything else\n",
    "X = df_rev1.drop([\"death_yn\"],1)\n",
    "# Split the dataset into two datasets: 70% training and 30% test\n",
    "X_train, X_test, y_train, y_test = train_test_split(X, y, random_state=1,  test_size=0.3)\n",
    "\n",
    "print(\"original range is: \",df_rev1.shape[0])\n",
    "print(\"training range (70%):\\t rows 0 to\", round(X_train.shape[0]))\n",
    "print(\"test range (30%): \\t rows\", round(X_train.shape[0]), \"to\", round(X_train.shape[0]) + X_test.shape[0])"
   ]
  },
  {
   "cell_type": "code",
   "execution_count": 44,
   "metadata": {},
   "outputs": [
    {
     "name": "stdout",
     "output_type": "stream",
     "text": [
      "\n",
      "Descriptive features in X:\n",
      "        death_prob_month  death_prob_sex_age_median  death_prob_medical_mean  \\\n",
      "8224           0.173905                   0.742958                 0.225519   \n",
      "11219          0.173905                   0.019942                 0.225519   \n",
      "17353          0.173905                   0.091074                 0.225519   \n",
      "15305          0.079484                   0.005774                 0.225519   \n",
      "30147          0.250427                   0.000373                 0.225519   \n",
      "\n",
      "       case_month_2020-02  case_month_2020-03  case_month_2020-04  \\\n",
      "8224                    0                   0                   0   \n",
      "11219                   0                   0                   0   \n",
      "17353                   0                   0                   0   \n",
      "15305                   0                   0                   0   \n",
      "30147                   0                   0                   0   \n",
      "\n",
      "       case_month_2020-05  case_month_2020-06  case_month_2020-07  \\\n",
      "8224                    0                   0                   0   \n",
      "11219                   0                   0                   0   \n",
      "17353                   0                   0                   0   \n",
      "15305                   0                   0                   0   \n",
      "30147                   0                   0                   0   \n",
      "\n",
      "       case_month_2020-08  ...  race_Multiple/Other  \\\n",
      "8224                    0  ...                    0   \n",
      "11219                   0  ...                    0   \n",
      "17353                   0  ...                    0   \n",
      "15305                   0  ...                    0   \n",
      "30147                   0  ...                    0   \n",
      "\n",
      "       race_Native Hawaiian/Other Pacific Islander  race_White  \\\n",
      "8224                                             0           0   \n",
      "11219                                            0           0   \n",
      "17353                                            0           1   \n",
      "15305                                            0           0   \n",
      "30147                                            0           1   \n",
      "\n",
      "       ethnicity_Missing  ethnicity_Non-Hispanic/Latino  \\\n",
      "8224                   1                              0   \n",
      "11219                  1                              0   \n",
      "17353                  0                              1   \n",
      "15305                  1                              0   \n",
      "30147                  0                              1   \n",
      "\n",
      "       current_status_Probable Case  symptom_status_Missing  \\\n",
      "8224                              0                       1   \n",
      "11219                             0                       1   \n",
      "17353                             0                       1   \n",
      "15305                             0                       1   \n",
      "30147                             0                       1   \n",
      "\n",
      "       symptom_status_Symptomatic  hosp_yn_Missing  hosp_yn_Yes  \n",
      "8224                            0                1            0  \n",
      "11219                           0                0            0  \n",
      "17353                           0                1            0  \n",
      "15305                           0                1            0  \n",
      "30147                           0                0            0  \n",
      "\n",
      "[5 rows x 104 columns]\n",
      "\n",
      "Target feature in y:\n",
      " 8224     0\n",
      "11219    0\n",
      "17353    0\n",
      "15305    0\n",
      "30147    0\n",
      "Name: death_yn, dtype: int64\n"
     ]
    }
   ],
   "source": [
    "print(\"\\nDescriptive features in X:\\n\", X_train.head(5))\n",
    "print(\"\\nTarget feature in y:\\n\", y_train.head(5))"
   ]
  },
  {
   "cell_type": "markdown",
   "metadata": {},
   "source": [
    "#### Reset the indexes of the training and test splits\n",
    "- We can see from the X_train printout below that the indexes are out of order\n",
    "- This is the same for y_train, X_test, y_test\n",
    "- This will need to be dealt with next as it could affect the merging of dataframes"
   ]
  },
  {
   "cell_type": "markdown",
   "metadata": {},
   "source": [
    "We will now reset the index of all training and test dataframes"
   ]
  },
  {
   "cell_type": "code",
   "execution_count": 45,
   "metadata": {},
   "outputs": [
    {
     "data": {
      "text/html": [
       "<div>\n",
       "<style scoped>\n",
       "    .dataframe tbody tr th:only-of-type {\n",
       "        vertical-align: middle;\n",
       "    }\n",
       "\n",
       "    .dataframe tbody tr th {\n",
       "        vertical-align: top;\n",
       "    }\n",
       "\n",
       "    .dataframe thead th {\n",
       "        text-align: right;\n",
       "    }\n",
       "</style>\n",
       "<table border=\"1\" class=\"dataframe\">\n",
       "  <thead>\n",
       "    <tr style=\"text-align: right;\">\n",
       "      <th></th>\n",
       "      <th>death_prob_month</th>\n",
       "      <th>death_prob_sex_age_median</th>\n",
       "      <th>death_prob_medical_mean</th>\n",
       "      <th>case_month_2020-02</th>\n",
       "      <th>case_month_2020-03</th>\n",
       "      <th>case_month_2020-04</th>\n",
       "      <th>case_month_2020-05</th>\n",
       "      <th>case_month_2020-06</th>\n",
       "      <th>case_month_2020-07</th>\n",
       "      <th>case_month_2020-08</th>\n",
       "      <th>...</th>\n",
       "      <th>race_Multiple/Other</th>\n",
       "      <th>race_Native Hawaiian/Other Pacific Islander</th>\n",
       "      <th>race_White</th>\n",
       "      <th>ethnicity_Missing</th>\n",
       "      <th>ethnicity_Non-Hispanic/Latino</th>\n",
       "      <th>current_status_Probable Case</th>\n",
       "      <th>symptom_status_Missing</th>\n",
       "      <th>symptom_status_Symptomatic</th>\n",
       "      <th>hosp_yn_Missing</th>\n",
       "      <th>hosp_yn_Yes</th>\n",
       "    </tr>\n",
       "  </thead>\n",
       "  <tbody>\n",
       "    <tr>\n",
       "      <th>0</th>\n",
       "      <td>0.173905</td>\n",
       "      <td>0.742958</td>\n",
       "      <td>0.225519</td>\n",
       "      <td>0</td>\n",
       "      <td>0</td>\n",
       "      <td>0</td>\n",
       "      <td>0</td>\n",
       "      <td>0</td>\n",
       "      <td>0</td>\n",
       "      <td>0</td>\n",
       "      <td>...</td>\n",
       "      <td>0</td>\n",
       "      <td>0</td>\n",
       "      <td>0</td>\n",
       "      <td>1</td>\n",
       "      <td>0</td>\n",
       "      <td>0</td>\n",
       "      <td>1</td>\n",
       "      <td>0</td>\n",
       "      <td>1</td>\n",
       "      <td>0</td>\n",
       "    </tr>\n",
       "    <tr>\n",
       "      <th>1</th>\n",
       "      <td>0.173905</td>\n",
       "      <td>0.019942</td>\n",
       "      <td>0.225519</td>\n",
       "      <td>0</td>\n",
       "      <td>0</td>\n",
       "      <td>0</td>\n",
       "      <td>0</td>\n",
       "      <td>0</td>\n",
       "      <td>0</td>\n",
       "      <td>0</td>\n",
       "      <td>...</td>\n",
       "      <td>0</td>\n",
       "      <td>0</td>\n",
       "      <td>0</td>\n",
       "      <td>1</td>\n",
       "      <td>0</td>\n",
       "      <td>0</td>\n",
       "      <td>1</td>\n",
       "      <td>0</td>\n",
       "      <td>0</td>\n",
       "      <td>0</td>\n",
       "    </tr>\n",
       "    <tr>\n",
       "      <th>2</th>\n",
       "      <td>0.173905</td>\n",
       "      <td>0.091074</td>\n",
       "      <td>0.225519</td>\n",
       "      <td>0</td>\n",
       "      <td>0</td>\n",
       "      <td>0</td>\n",
       "      <td>0</td>\n",
       "      <td>0</td>\n",
       "      <td>0</td>\n",
       "      <td>0</td>\n",
       "      <td>...</td>\n",
       "      <td>0</td>\n",
       "      <td>0</td>\n",
       "      <td>1</td>\n",
       "      <td>0</td>\n",
       "      <td>1</td>\n",
       "      <td>0</td>\n",
       "      <td>1</td>\n",
       "      <td>0</td>\n",
       "      <td>1</td>\n",
       "      <td>0</td>\n",
       "    </tr>\n",
       "    <tr>\n",
       "      <th>3</th>\n",
       "      <td>0.079484</td>\n",
       "      <td>0.005774</td>\n",
       "      <td>0.225519</td>\n",
       "      <td>0</td>\n",
       "      <td>0</td>\n",
       "      <td>0</td>\n",
       "      <td>0</td>\n",
       "      <td>0</td>\n",
       "      <td>0</td>\n",
       "      <td>0</td>\n",
       "      <td>...</td>\n",
       "      <td>0</td>\n",
       "      <td>0</td>\n",
       "      <td>0</td>\n",
       "      <td>1</td>\n",
       "      <td>0</td>\n",
       "      <td>0</td>\n",
       "      <td>1</td>\n",
       "      <td>0</td>\n",
       "      <td>1</td>\n",
       "      <td>0</td>\n",
       "    </tr>\n",
       "    <tr>\n",
       "      <th>4</th>\n",
       "      <td>0.250427</td>\n",
       "      <td>0.000373</td>\n",
       "      <td>0.225519</td>\n",
       "      <td>0</td>\n",
       "      <td>0</td>\n",
       "      <td>0</td>\n",
       "      <td>0</td>\n",
       "      <td>0</td>\n",
       "      <td>0</td>\n",
       "      <td>0</td>\n",
       "      <td>...</td>\n",
       "      <td>0</td>\n",
       "      <td>0</td>\n",
       "      <td>1</td>\n",
       "      <td>0</td>\n",
       "      <td>1</td>\n",
       "      <td>0</td>\n",
       "      <td>1</td>\n",
       "      <td>0</td>\n",
       "      <td>0</td>\n",
       "      <td>0</td>\n",
       "    </tr>\n",
       "  </tbody>\n",
       "</table>\n",
       "<p>5 rows × 104 columns</p>\n",
       "</div>"
      ],
      "text/plain": [
       "   death_prob_month  death_prob_sex_age_median  death_prob_medical_mean  \\\n",
       "0          0.173905                   0.742958                 0.225519   \n",
       "1          0.173905                   0.019942                 0.225519   \n",
       "2          0.173905                   0.091074                 0.225519   \n",
       "3          0.079484                   0.005774                 0.225519   \n",
       "4          0.250427                   0.000373                 0.225519   \n",
       "\n",
       "   case_month_2020-02  case_month_2020-03  case_month_2020-04  \\\n",
       "0                   0                   0                   0   \n",
       "1                   0                   0                   0   \n",
       "2                   0                   0                   0   \n",
       "3                   0                   0                   0   \n",
       "4                   0                   0                   0   \n",
       "\n",
       "   case_month_2020-05  case_month_2020-06  case_month_2020-07  \\\n",
       "0                   0                   0                   0   \n",
       "1                   0                   0                   0   \n",
       "2                   0                   0                   0   \n",
       "3                   0                   0                   0   \n",
       "4                   0                   0                   0   \n",
       "\n",
       "   case_month_2020-08  ...  race_Multiple/Other  \\\n",
       "0                   0  ...                    0   \n",
       "1                   0  ...                    0   \n",
       "2                   0  ...                    0   \n",
       "3                   0  ...                    0   \n",
       "4                   0  ...                    0   \n",
       "\n",
       "   race_Native Hawaiian/Other Pacific Islander  race_White  ethnicity_Missing  \\\n",
       "0                                            0           0                  1   \n",
       "1                                            0           0                  1   \n",
       "2                                            0           1                  0   \n",
       "3                                            0           0                  1   \n",
       "4                                            0           1                  0   \n",
       "\n",
       "   ethnicity_Non-Hispanic/Latino  current_status_Probable Case  \\\n",
       "0                              0                             0   \n",
       "1                              0                             0   \n",
       "2                              1                             0   \n",
       "3                              0                             0   \n",
       "4                              1                             0   \n",
       "\n",
       "   symptom_status_Missing  symptom_status_Symptomatic  hosp_yn_Missing  \\\n",
       "0                       1                           0                1   \n",
       "1                       1                           0                0   \n",
       "2                       1                           0                1   \n",
       "3                       1                           0                1   \n",
       "4                       1                           0                0   \n",
       "\n",
       "   hosp_yn_Yes  \n",
       "0            0  \n",
       "1            0  \n",
       "2            0  \n",
       "3            0  \n",
       "4            0  \n",
       "\n",
       "[5 rows x 104 columns]"
      ]
     },
     "execution_count": 45,
     "metadata": {},
     "output_type": "execute_result"
    }
   ],
   "source": [
    "# reset the index of X\n",
    "X_train.reset_index(drop=True, inplace=True)\n",
    "X_test.reset_index(drop=True, inplace=True)\n",
    "X_train.head(5)"
   ]
  },
  {
   "cell_type": "code",
   "execution_count": 46,
   "metadata": {},
   "outputs": [
    {
     "data": {
      "text/plain": [
       "0    0\n",
       "1    0\n",
       "2    0\n",
       "3    0\n",
       "4    0\n",
       "Name: death_yn, dtype: int64"
      ]
     },
     "execution_count": 46,
     "metadata": {},
     "output_type": "execute_result"
    }
   ],
   "source": [
    "# reset the index of y\n",
    "y_train.reset_index(drop=True, inplace=True)\n",
    "y_test.reset_index(drop=True, inplace=True)\n",
    "y_train.head(5)"
   ]
  },
  {
   "cell_type": "markdown",
   "metadata": {},
   "source": [
    "The datasets are now ready for modeling"
   ]
  },
  {
   "cell_type": "markdown",
   "metadata": {},
   "source": [
    "(2)Linear Regression Model\n",
    "\n",
    "2.1 Train a Linear Regression Model using only the descriptive features selected from part 1 above\n"
   ]
  },
  {
   "cell_type": "code",
   "execution_count": 47,
   "metadata": {},
   "outputs": [
    {
     "data": {
      "text/html": [
       "<style>#sk-container-id-1 {color: black;background-color: white;}#sk-container-id-1 pre{padding: 0;}#sk-container-id-1 div.sk-toggleable {background-color: white;}#sk-container-id-1 label.sk-toggleable__label {cursor: pointer;display: block;width: 100%;margin-bottom: 0;padding: 0.3em;box-sizing: border-box;text-align: center;}#sk-container-id-1 label.sk-toggleable__label-arrow:before {content: \"▸\";float: left;margin-right: 0.25em;color: #696969;}#sk-container-id-1 label.sk-toggleable__label-arrow:hover:before {color: black;}#sk-container-id-1 div.sk-estimator:hover label.sk-toggleable__label-arrow:before {color: black;}#sk-container-id-1 div.sk-toggleable__content {max-height: 0;max-width: 0;overflow: hidden;text-align: left;background-color: #f0f8ff;}#sk-container-id-1 div.sk-toggleable__content pre {margin: 0.2em;color: black;border-radius: 0.25em;background-color: #f0f8ff;}#sk-container-id-1 input.sk-toggleable__control:checked~div.sk-toggleable__content {max-height: 200px;max-width: 100%;overflow: auto;}#sk-container-id-1 input.sk-toggleable__control:checked~label.sk-toggleable__label-arrow:before {content: \"▾\";}#sk-container-id-1 div.sk-estimator input.sk-toggleable__control:checked~label.sk-toggleable__label {background-color: #d4ebff;}#sk-container-id-1 div.sk-label input.sk-toggleable__control:checked~label.sk-toggleable__label {background-color: #d4ebff;}#sk-container-id-1 input.sk-hidden--visually {border: 0;clip: rect(1px 1px 1px 1px);clip: rect(1px, 1px, 1px, 1px);height: 1px;margin: -1px;overflow: hidden;padding: 0;position: absolute;width: 1px;}#sk-container-id-1 div.sk-estimator {font-family: monospace;background-color: #f0f8ff;border: 1px dotted black;border-radius: 0.25em;box-sizing: border-box;margin-bottom: 0.5em;}#sk-container-id-1 div.sk-estimator:hover {background-color: #d4ebff;}#sk-container-id-1 div.sk-parallel-item::after {content: \"\";width: 100%;border-bottom: 1px solid gray;flex-grow: 1;}#sk-container-id-1 div.sk-label:hover label.sk-toggleable__label {background-color: #d4ebff;}#sk-container-id-1 div.sk-serial::before {content: \"\";position: absolute;border-left: 1px solid gray;box-sizing: border-box;top: 0;bottom: 0;left: 50%;z-index: 0;}#sk-container-id-1 div.sk-serial {display: flex;flex-direction: column;align-items: center;background-color: white;padding-right: 0.2em;padding-left: 0.2em;position: relative;}#sk-container-id-1 div.sk-item {position: relative;z-index: 1;}#sk-container-id-1 div.sk-parallel {display: flex;align-items: stretch;justify-content: center;background-color: white;position: relative;}#sk-container-id-1 div.sk-item::before, #sk-container-id-1 div.sk-parallel-item::before {content: \"\";position: absolute;border-left: 1px solid gray;box-sizing: border-box;top: 0;bottom: 0;left: 50%;z-index: -1;}#sk-container-id-1 div.sk-parallel-item {display: flex;flex-direction: column;z-index: 1;position: relative;background-color: white;}#sk-container-id-1 div.sk-parallel-item:first-child::after {align-self: flex-end;width: 50%;}#sk-container-id-1 div.sk-parallel-item:last-child::after {align-self: flex-start;width: 50%;}#sk-container-id-1 div.sk-parallel-item:only-child::after {width: 0;}#sk-container-id-1 div.sk-dashed-wrapped {border: 1px dashed gray;margin: 0 0.4em 0.5em 0.4em;box-sizing: border-box;padding-bottom: 0.4em;background-color: white;}#sk-container-id-1 div.sk-label label {font-family: monospace;font-weight: bold;display: inline-block;line-height: 1.2em;}#sk-container-id-1 div.sk-label-container {text-align: center;}#sk-container-id-1 div.sk-container {/* jupyter's `normalize.less` sets `[hidden] { display: none; }` but bootstrap.min.css set `[hidden] { display: none !important; }` so we also need the `!important` here to be able to override the default hidden behavior on the sphinx rendered scikit-learn.org. See: https://github.com/scikit-learn/scikit-learn/issues/21755 */display: inline-block !important;position: relative;}#sk-container-id-1 div.sk-text-repr-fallback {display: none;}</style><div id=\"sk-container-id-1\" class=\"sk-top-container\"><div class=\"sk-text-repr-fallback\"><pre>LinearRegression()</pre><b>In a Jupyter environment, please rerun this cell to show the HTML representation or trust the notebook. <br />On GitHub, the HTML representation is unable to render, please try loading this page with nbviewer.org.</b></div><div class=\"sk-container\" hidden><div class=\"sk-item\"><div class=\"sk-estimator sk-toggleable\"><input class=\"sk-toggleable__control sk-hidden--visually\" id=\"sk-estimator-id-1\" type=\"checkbox\" checked><label for=\"sk-estimator-id-1\" class=\"sk-toggleable__label sk-toggleable__label-arrow\">LinearRegression</label><div class=\"sk-toggleable__content\"><pre>LinearRegression()</pre></div></div></div></div></div>"
      ],
      "text/plain": [
       "LinearRegression()"
      ]
     },
     "execution_count": 47,
     "metadata": {},
     "output_type": "execute_result"
    }
   ],
   "source": [
    "# Train Linear Regression using the sklearn library\n",
    "linear_regression = LinearRegression()\n",
    "linear_regression.fit(X_train, y_train)"
   ]
  },
  {
   "cell_type": "code",
   "execution_count": 54,
   "metadata": {},
   "outputs": [
    {
     "data": {
      "image/png": "[encoded data removed]",
      "text/plain": [
       "<Figure size 640x480 with 1 Axes>"
      ]
     },
     "metadata": {},
     "output_type": "display_data"
    }
   ],
   "source": [
    "# Get predicted values for test data\n",
    "y_pred = linear_regression.predict(X_test)\n",
    "\n",
    "# Plot predicted vs actual values\n",
    "plt.scatter(y_test, y_pred)\n",
    "plt.xlabel('Actual values')\n",
    "plt.ylabel('Predicted values')\n",
    "plt.title('Linear regression model')\n",
    "\n",
    "# Add linear regression line\n",
    "z = np.polyfit(y_test, y_pred, 1)\n",
    "p = np.poly1d(z)\n",
    "plt.plot(y_test,p(y_test),\"r--\")\n",
    "\n",
    "plt.show()"
   ]
  },
  {
   "cell_type": "markdown",
   "metadata": {},
   "source": [
    "2.2 Printing out the coeffiecients"
   ]
  },
  {
   "cell_type": "code",
   "execution_count": 84,
   "metadata": {
    "scrolled": true
   },
   "outputs": [
    {
     "name": "stdout",
     "output_type": "stream",
     "text": [
      "Coefficients: [-3.95781502e+11  4.68505859e-01 -1.55334473e-02 -9.59470308e+10\n",
      " -7.45140682e+10 -5.01939323e+10 -1.45119884e+11 -2.59229085e+11\n",
      " -2.27748073e+11 -2.41446952e+11 -2.84383718e+11 -2.60686852e+11\n",
      " -2.31464053e+11 -1.90624626e+11 -2.20690045e+11 -2.87009391e+11\n",
      " -3.28555457e+11 -3.29913975e+11 -3.38854712e+11 -3.37813504e+11\n",
      " -2.51714298e+11 -2.52356277e+11 -2.84795395e+11 -3.02458023e+11\n",
      " -2.77937765e+11 -2.92772708e+11 -2.90973092e+11 -3.07165462e+11\n",
      " -3.42288909e+11 -3.50674329e+11 -3.49394362e+11 -3.33872540e+11\n",
      " -3.28342900e+11 -3.44091728e+11 -3.35445581e+11 -3.32693043e+11\n",
      " -3.56933383e+11  1.31879449e-02 -4.92095947e-03 -3.57894897e-02\n",
      "  2.40638733e-01 -9.99145508e-02  1.27173424e-01 -2.58744717e-01\n",
      " -4.58221436e-02 -1.02407455e-01 -1.27093792e-01  1.28574371e-01\n",
      " -1.55914307e-01 -9.66291428e-02 -1.63841248e-01 -1.83299065e-01\n",
      "  2.57517338e-01 -1.73082352e-01 -1.13082886e-01 -6.14547729e-03\n",
      " -3.01742554e-03 -2.67059326e-01 -1.42265081e-01  2.30654120e-01\n",
      " -1.16903901e-01 -1.23453140e-03 -1.59237385e-01 -1.45713806e-01\n",
      "  1.36185050e-01 -1.80360794e-01 -2.15685844e-01  3.49029854e-01\n",
      " -1.33628845e-01 -1.34648323e-01 -1.52404785e-01  6.49509430e-02\n",
      " -2.25447893e-01 -9.74483490e-02 -2.40428448e-02 -9.16090012e-02\n",
      " -1.06400490e-01 -1.96598411e-01 -1.25353813e-01  2.53020048e-01\n",
      " -1.08630180e-01 -8.78226161e-02  1.58747137e-02  2.91899920e-01\n",
      " -1.66402757e-01 -1.71890259e-02 -1.65939331e-02  7.05490112e-02\n",
      "  5.71255684e-02 -7.01904297e-04  8.34712386e-02  3.05442810e-02\n",
      "  3.06472778e-02  1.47857666e-02 -9.18483734e-03 -8.69921744e-02\n",
      "  3.44958305e-02 -6.63566589e-02 -7.05718994e-03  2.66113281e-02\n",
      "  3.15780640e-02 -4.00924683e-02  1.19369507e-01  3.69285583e-01]\n"
     ]
    },
    {
     "ename": "IndexError",
     "evalue": "invalid index to scalar variable.",
     "output_type": "error",
     "traceback": [
      "\u001b[1;31m---------------------------------------------------------------------------\u001b[0m",
      "\u001b[1;31mIndexError\u001b[0m                                Traceback (most recent call last)",
      "Cell \u001b[1;32mIn[84], line 6\u001b[0m\n\u001b[0;32m      4\u001b[0m \u001b[38;5;66;03m# Interpret the coefficients\u001b[39;00m\n\u001b[0;32m      5\u001b[0m \u001b[38;5;28;01mfor\u001b[39;00m i \u001b[38;5;129;01min\u001b[39;00m \u001b[38;5;28mrange\u001b[39m(\u001b[38;5;28mlen\u001b[39m(X\u001b[38;5;241m.\u001b[39mcolumns)):\n\u001b[1;32m----> 6\u001b[0m     \u001b[38;5;28mprint\u001b[39m(\u001b[38;5;124mf\u001b[39m\u001b[38;5;124m\"\u001b[39m\u001b[38;5;132;01m{\u001b[39;00mX\u001b[38;5;241m.\u001b[39mcolumns[i]\u001b[38;5;132;01m}\u001b[39;00m\u001b[38;5;124m: \u001b[39m\u001b[38;5;132;01m{\u001b[39;00mlinear_regression\u001b[38;5;241m.\u001b[39mcoef_[\u001b[38;5;241m0\u001b[39m][i]\u001b[38;5;132;01m}\u001b[39;00m\u001b[38;5;124m\"\u001b[39m)\n",
      "\u001b[1;31mIndexError\u001b[0m: invalid index to scalar variable."
     ]
    }
   ],
   "source": [
    "# Print the coefficients learned by the model\n",
    "print(\"Coefficients:\", linear_regression.coef_)\n",
    "\n",
    "# Interpret the coefficients\n",
    "for i in range(len(X.columns)):\n",
    "    print(f\"{X.columns[i]}: {linear_regression.coef_[0][i]}\")"
   ]
  },
  {
   "cell_type": "markdown",
   "metadata": {},
   "source": [
    "2.3: Predicting the first 10 values"
   ]
  },
  {
   "cell_type": "code",
   "execution_count": 72,
   "metadata": {
    "scrolled": true
   },
   "outputs": [
    {
     "name": "stdout",
     "output_type": "stream",
     "text": [
      "Example 1: Predicted class = 0, Actual value = 0\n",
      "Example 2: Predicted class = 0, Actual value = 0\n",
      "Example 3: Predicted class = 0, Actual value = 0\n",
      "Example 4: Predicted class = 0, Actual value = 0\n",
      "Example 5: Predicted class = 0, Actual value = 0\n",
      "Example 6: Predicted class = 0, Actual value = 0\n",
      "Example 7: Predicted class = 0, Actual value = 0\n",
      "Example 8: Predicted class = 1, Actual value = 1\n",
      "Example 9: Predicted class = 0, Actual value = 0\n",
      "Example 10: Predicted class = 0, Actual value = 0\n"
     ]
    }
   ],
   "source": [
    "# Use the trained model to make predictions on the first 10 training examples\n",
    "y_pred = linear_regression.predict(X_train[:10])\n",
    "\n",
    "# Threshold the predicted target feature value at 0.5 to get the predicted class\n",
    "y_pred_class = np.where(y_pred >= 0.5, 1, 0)\n",
    "\n",
    "# Print the predicted class and the actual values for the first 10 training examples\n",
    "for i in range(10):\n",
    "    print(f\"Example {i+1}: Predicted class = {y_pred_class[i]}, Actual value = {y_train[i]}\")"
   ]
  },
  {
   "cell_type": "markdown",
   "metadata": {},
   "source": [
    "Now we will show the output for various features"
   ]
  },
  {
   "cell_type": "code",
   "execution_count": 75,
   "metadata": {},
   "outputs": [
    {
     "name": "stdout",
     "output_type": "stream",
     "text": [
      "Accuracy: 0.94\n",
      "Confusion matrix:\n",
      "[[20272   713]\n",
      " [  837  6178]]\n",
      "Precision: 0.90\n",
      "Recall: 0.88\n",
      "F1: 0.89\n"
     ]
    }
   ],
   "source": [
    "# Compute predictions for the full training set\n",
    "y_pred = linear_regression.predict(X_train)\n",
    "\n",
    "# Threshold the predicted target feature value at 0.5 to get the predicted class\n",
    "y_pred_class = np.where(y_pred >= 0.5, 1, 0)\n",
    "\n",
    "# Compute evaluation measures\n",
    "accuracy = metrics.accuracy_score(y_train, y_pred_class)\n",
    "confusion_matrix = metrics.confusion_matrix(y_train, y_pred_class)\n",
    "precision = metrics.precision_score(y_train, y_pred_class)\n",
    "recall = metrics.recall_score(y_train, y_pred_class)\n",
    "f1 = metrics.f1_score(y_train, y_pred_class)\n",
    "\n",
    "# Print evaluation measures\n",
    "print(f\"Accuracy: {accuracy:.2f}\")\n",
    "print(f\"Confusion matrix:\\n{confusion_matrix}\")\n",
    "print(f\"Precision: {precision:.2f}\")\n",
    "print(f\"Recall: {recall:.2f}\")\n",
    "print(f\"F1: {f1:.2f}\")"
   ]
  },
  {
   "cell_type": "markdown",
   "metadata": {},
   "source": [
    "We can see from the above metrics the following results:\n",
    "\n",
    "Accuracy Score = 0.94\n",
    "- We are seeing a brilliant accuracy score here of 94% correct predictions \n",
    "- Finish Out the rest of these"
   ]
  },
  {
   "cell_type": "markdown",
   "metadata": {},
   "source": [
    "2.4 Printing 100 predicted target features and evaluate the prediction"
   ]
  },
  {
   "cell_type": "code",
   "execution_count": 96,
   "metadata": {},
   "outputs": [
    {
     "data": {
      "text/html": [
       "<div>\n",
       "<style scoped>\n",
       "    .dataframe tbody tr th:only-of-type {\n",
       "        vertical-align: middle;\n",
       "    }\n",
       "\n",
       "    .dataframe tbody tr th {\n",
       "        vertical-align: top;\n",
       "    }\n",
       "\n",
       "    .dataframe thead th {\n",
       "        text-align: right;\n",
       "    }\n",
       "</style>\n",
       "<table border=\"1\" class=\"dataframe\">\n",
       "  <thead>\n",
       "    <tr style=\"text-align: right;\">\n",
       "      <th></th>\n",
       "      <th>ActualClass</th>\n",
       "      <th>PredictedClass</th>\n",
       "    </tr>\n",
       "  </thead>\n",
       "  <tbody>\n",
       "    <tr>\n",
       "      <th>0</th>\n",
       "      <td>0</td>\n",
       "      <td>0</td>\n",
       "    </tr>\n",
       "    <tr>\n",
       "      <th>1</th>\n",
       "      <td>0</td>\n",
       "      <td>0</td>\n",
       "    </tr>\n",
       "    <tr>\n",
       "      <th>2</th>\n",
       "      <td>0</td>\n",
       "      <td>0</td>\n",
       "    </tr>\n",
       "    <tr>\n",
       "      <th>3</th>\n",
       "      <td>0</td>\n",
       "      <td>0</td>\n",
       "    </tr>\n",
       "    <tr>\n",
       "      <th>4</th>\n",
       "      <td>0</td>\n",
       "      <td>0</td>\n",
       "    </tr>\n",
       "    <tr>\n",
       "      <th>...</th>\n",
       "      <td>...</td>\n",
       "      <td>...</td>\n",
       "    </tr>\n",
       "    <tr>\n",
       "      <th>95</th>\n",
       "      <td>0</td>\n",
       "      <td>0</td>\n",
       "    </tr>\n",
       "    <tr>\n",
       "      <th>96</th>\n",
       "      <td>0</td>\n",
       "      <td>0</td>\n",
       "    </tr>\n",
       "    <tr>\n",
       "      <th>97</th>\n",
       "      <td>1</td>\n",
       "      <td>1</td>\n",
       "    </tr>\n",
       "    <tr>\n",
       "      <th>98</th>\n",
       "      <td>0</td>\n",
       "      <td>0</td>\n",
       "    </tr>\n",
       "    <tr>\n",
       "      <th>99</th>\n",
       "      <td>0</td>\n",
       "      <td>0</td>\n",
       "    </tr>\n",
       "  </tbody>\n",
       "</table>\n",
       "<p>100 rows × 2 columns</p>\n",
       "</div>"
      ],
      "text/plain": [
       "    ActualClass  PredictedClass\n",
       "0             0               0\n",
       "1             0               0\n",
       "2             0               0\n",
       "3             0               0\n",
       "4             0               0\n",
       "..          ...             ...\n",
       "95            0               0\n",
       "96            0               0\n",
       "97            1               1\n",
       "98            0               0\n",
       "99            0               0\n",
       "\n",
       "[100 rows x 2 columns]"
      ]
     },
     "execution_count": 96,
     "metadata": {},
     "output_type": "execute_result"
    }
   ],
   "source": [
    "# Predicted class labels for all examples,\n",
    "# using the trained model, on in-sample data (same sample used for training and test)\n",
    "linear_regression_predictions_train = linear_regression.predict(X_train)\n",
    "linear_regression_predictions_train = np.where(linear_regression_predictions_train >= 0.5, 1, 0)\n",
    "df_true_vs_linear_regression_predicted = pd.DataFrame({'ActualClass': y_train, 'PredictedClass': linear_regression_predictions_train})\n",
    "df_true_vs_linear_regression_predicted.head(100)"
   ]
  },
  {
   "cell_type": "code",
   "execution_count": 97,
   "metadata": {},
   "outputs": [
    {
     "name": "stdout",
     "output_type": "stream",
     "text": [
      "==================== Train Data =======================\n",
      "Accuracy:  0.9446428571428571\n",
      "Confusion matrix: \n",
      " [[20272   713]\n",
      " [  837  6178]]\n",
      "Classification report:\n",
      "                precision    recall  f1-score   support\n",
      "\n",
      "           0       0.96      0.97      0.96     20985\n",
      "           1       0.90      0.88      0.89      7015\n",
      "\n",
      "    accuracy                           0.94     28000\n",
      "   macro avg       0.93      0.92      0.93     28000\n",
      "weighted avg       0.94      0.94      0.94     28000\n",
      "\n"
     ]
    }
   ],
   "source": [
    "print(\"==================== Train Data =======================\")\n",
    "print(\"Accuracy: \", metrics.accuracy_score(y_train, linear_regression_predictions_train))\n",
    "print(\"Confusion matrix: \\n\", metrics.confusion_matrix(y_train, linear_regression_predictions_train))\n",
    "print(\"Classification report:\\n \", metrics.classification_report(y_train, linear_regression_predictions_train))"
   ]
  },
  {
   "cell_type": "markdown",
   "metadata": {},
   "source": [
    "We will now examine the model using the 30% hold out test set"
   ]
  },
  {
   "cell_type": "code",
   "execution_count": 99,
   "metadata": {},
   "outputs": [
    {
     "data": {
      "text/html": [
       "<div>\n",
       "<style scoped>\n",
       "    .dataframe tbody tr th:only-of-type {\n",
       "        vertical-align: middle;\n",
       "    }\n",
       "\n",
       "    .dataframe tbody tr th {\n",
       "        vertical-align: top;\n",
       "    }\n",
       "\n",
       "    .dataframe thead th {\n",
       "        text-align: right;\n",
       "    }\n",
       "</style>\n",
       "<table border=\"1\" class=\"dataframe\">\n",
       "  <thead>\n",
       "    <tr style=\"text-align: right;\">\n",
       "      <th></th>\n",
       "      <th>ActualClass</th>\n",
       "      <th>PredictedClass</th>\n",
       "    </tr>\n",
       "  </thead>\n",
       "  <tbody>\n",
       "    <tr>\n",
       "      <th>0</th>\n",
       "      <td>1</td>\n",
       "      <td>1</td>\n",
       "    </tr>\n",
       "    <tr>\n",
       "      <th>1</th>\n",
       "      <td>0</td>\n",
       "      <td>0</td>\n",
       "    </tr>\n",
       "    <tr>\n",
       "      <th>2</th>\n",
       "      <td>0</td>\n",
       "      <td>0</td>\n",
       "    </tr>\n",
       "    <tr>\n",
       "      <th>3</th>\n",
       "      <td>0</td>\n",
       "      <td>0</td>\n",
       "    </tr>\n",
       "    <tr>\n",
       "      <th>4</th>\n",
       "      <td>0</td>\n",
       "      <td>0</td>\n",
       "    </tr>\n",
       "    <tr>\n",
       "      <th>5</th>\n",
       "      <td>1</td>\n",
       "      <td>1</td>\n",
       "    </tr>\n",
       "    <tr>\n",
       "      <th>6</th>\n",
       "      <td>0</td>\n",
       "      <td>0</td>\n",
       "    </tr>\n",
       "    <tr>\n",
       "      <th>7</th>\n",
       "      <td>0</td>\n",
       "      <td>0</td>\n",
       "    </tr>\n",
       "    <tr>\n",
       "      <th>8</th>\n",
       "      <td>0</td>\n",
       "      <td>0</td>\n",
       "    </tr>\n",
       "    <tr>\n",
       "      <th>9</th>\n",
       "      <td>0</td>\n",
       "      <td>0</td>\n",
       "    </tr>\n",
       "    <tr>\n",
       "      <th>10</th>\n",
       "      <td>0</td>\n",
       "      <td>0</td>\n",
       "    </tr>\n",
       "    <tr>\n",
       "      <th>11</th>\n",
       "      <td>0</td>\n",
       "      <td>0</td>\n",
       "    </tr>\n",
       "    <tr>\n",
       "      <th>12</th>\n",
       "      <td>0</td>\n",
       "      <td>0</td>\n",
       "    </tr>\n",
       "    <tr>\n",
       "      <th>13</th>\n",
       "      <td>1</td>\n",
       "      <td>1</td>\n",
       "    </tr>\n",
       "    <tr>\n",
       "      <th>14</th>\n",
       "      <td>1</td>\n",
       "      <td>1</td>\n",
       "    </tr>\n",
       "    <tr>\n",
       "      <th>15</th>\n",
       "      <td>0</td>\n",
       "      <td>0</td>\n",
       "    </tr>\n",
       "    <tr>\n",
       "      <th>16</th>\n",
       "      <td>1</td>\n",
       "      <td>1</td>\n",
       "    </tr>\n",
       "    <tr>\n",
       "      <th>17</th>\n",
       "      <td>0</td>\n",
       "      <td>0</td>\n",
       "    </tr>\n",
       "    <tr>\n",
       "      <th>18</th>\n",
       "      <td>0</td>\n",
       "      <td>0</td>\n",
       "    </tr>\n",
       "    <tr>\n",
       "      <th>19</th>\n",
       "      <td>0</td>\n",
       "      <td>0</td>\n",
       "    </tr>\n",
       "  </tbody>\n",
       "</table>\n",
       "</div>"
      ],
      "text/plain": [
       "    ActualClass  PredictedClass\n",
       "0             1               1\n",
       "1             0               0\n",
       "2             0               0\n",
       "3             0               0\n",
       "4             0               0\n",
       "5             1               1\n",
       "6             0               0\n",
       "7             0               0\n",
       "8             0               0\n",
       "9             0               0\n",
       "10            0               0\n",
       "11            0               0\n",
       "12            0               0\n",
       "13            1               1\n",
       "14            1               1\n",
       "15            0               0\n",
       "16            1               1\n",
       "17            0               0\n",
       "18            0               0\n",
       "19            0               0"
      ]
     },
     "execution_count": 99,
     "metadata": {},
     "output_type": "execute_result"
    }
   ],
   "source": [
    "# Predicted class labels for all examples,\n",
    "# using the trained model, on in-sample data (same sample used for training and test)\n",
    "linear_regression_predictions_test = linear_regression.predict(X_test)\n",
    "linear_regression_predictions_test = np.where(linear_regression_predictions_test >= 0.5, 1, 0)\n",
    "df_true_vs_linear_regression_predicted_test = pd.DataFrame({'ActualClass': y_test, 'PredictedClass': linear_regression_predictions_test})\n",
    "df_true_vs_linear_regression_predicted_test.head(20)"
   ]
  },
  {
   "cell_type": "markdown",
   "metadata": {},
   "source": [
    "Evaluation metrics based on test data"
   ]
  },
  {
   "cell_type": "code",
   "execution_count": 100,
   "metadata": {},
   "outputs": [
    {
     "name": "stdout",
     "output_type": "stream",
     "text": [
      "==================== Test Data =======================\n",
      "Accuracy:  0.9448333333333333\n",
      "Confusion matrix: \n",
      " [[8698  317]\n",
      " [ 345 2640]]\n",
      "Classification report:\n",
      "                precision    recall  f1-score   support\n",
      "\n",
      "           0       0.96      0.96      0.96      9015\n",
      "           1       0.89      0.88      0.89      2985\n",
      "\n",
      "    accuracy                           0.94     12000\n",
      "   macro avg       0.93      0.92      0.93     12000\n",
      "weighted avg       0.94      0.94      0.94     12000\n",
      "\n",
      "==================== Train Data =======================\n",
      "Accuracy:  0.9446428571428571\n",
      "Confusion matrix: \n",
      " [[20272   713]\n",
      " [  837  6178]]\n",
      "Classification report:\n",
      "                precision    recall  f1-score   support\n",
      "\n",
      "           0       0.96      0.97      0.96     20985\n",
      "           1       0.90      0.88      0.89      7015\n",
      "\n",
      "    accuracy                           0.94     28000\n",
      "   macro avg       0.93      0.92      0.93     28000\n",
      "weighted avg       0.94      0.94      0.94     28000\n",
      "\n",
      "======================================================\n"
     ]
    }
   ],
   "source": [
    "print(\"==================== Test Data =======================\")\n",
    "print(\"Accuracy: \", metrics.accuracy_score(y_test, linear_regression_predictions_test))\n",
    "print(\"Confusion matrix: \\n\", metrics.confusion_matrix(y_test, linear_regression_predictions_test))\n",
    "print(\"Classification report:\\n \", metrics.classification_report(y_test, linear_regression_predictions_test))\n",
    "print(\"==================== Train Data =======================\")\n",
    "print(\"Accuracy: \", metrics.accuracy_score(y_train, linear_regression_predictions_train))\n",
    "print(\"Confusion matrix: \\n\", metrics.confusion_matrix(y_train, linear_regression_predictions_train))\n",
    "print(\"Classification report:\\n \", metrics.classification_report(y_train, linear_regression_predictions_train))\n",
    "print(\"======================================================\")"
   ]
  },
  {
   "cell_type": "markdown",
   "metadata": {},
   "source": [
    "We will now perform the cross validation portion of the question"
   ]
  },
  {
   "cell_type": "code",
   "execution_count": 109,
   "metadata": {},
   "outputs": [],
   "source": [
    "def cross_val_LinearRegression_DF(X,y):\n",
    "    \"\"\"Function to perform cross validation and store results\n",
    "    in dataframe. Cross validation looks at accuracy, precision,\n",
    "    recall, f1. Returns a dataframe with results\"\"\"\n",
    "\n",
    "    # store results in dict\n",
    "    linear_regression_results = {}\n",
    "    # metrics to test against\n",
    "    test_metrics = ['explained_variance', 'max_error', 'neg_mean_absolute_error',\n",
    "                    'neg_mean_squared_error', 'neg_root_mean_squared_error',\n",
    "                    'neg_mean_squared_log_error', 'r2']\n",
    "\n",
    "    for metric in test_metrics:\n",
    "        # generate test results\n",
    "        result = cross_val_score(LinearRegression(), X, y, scoring=metric, cv=10)\n",
    "        # store result in dict\n",
    "        linear_regression_results[metric] = result.mean()\n",
    "\n",
    "    # create dataframe with results\n",
    "    linear_regression_df = pd.DataFrame.from_dict(linear_regression_results, orient='index', columns=['Linear_Regression'])\n",
    "\n",
    "    return linear_regression_df"
   ]
  },
  {
   "cell_type": "markdown",
   "metadata": {},
   "source": [
    "We will now output the results after running it a couple of times"
   ]
  },
  {
   "cell_type": "code",
   "execution_count": 110,
   "metadata": {},
   "outputs": [
    {
     "name": "stdout",
     "output_type": "stream",
     "text": [
      "Mean results from 10 fold cross validation are:\n"
     ]
    },
    {
     "data": {
      "text/html": [
       "<div>\n",
       "<style scoped>\n",
       "    .dataframe tbody tr th:only-of-type {\n",
       "        vertical-align: middle;\n",
       "    }\n",
       "\n",
       "    .dataframe tbody tr th {\n",
       "        vertical-align: top;\n",
       "    }\n",
       "\n",
       "    .dataframe thead th {\n",
       "        text-align: right;\n",
       "    }\n",
       "</style>\n",
       "<table border=\"1\" class=\"dataframe\">\n",
       "  <thead>\n",
       "    <tr style=\"text-align: right;\">\n",
       "      <th></th>\n",
       "      <th>Linear_Regression</th>\n",
       "    </tr>\n",
       "  </thead>\n",
       "  <tbody>\n",
       "    <tr>\n",
       "      <th>explained_variance</th>\n",
       "      <td>0.142021</td>\n",
       "    </tr>\n",
       "    <tr>\n",
       "      <th>max_error</th>\n",
       "      <td>-1.096857</td>\n",
       "    </tr>\n",
       "    <tr>\n",
       "      <th>neg_mean_absolute_error</th>\n",
       "      <td>-0.175128</td>\n",
       "    </tr>\n",
       "    <tr>\n",
       "      <th>neg_mean_squared_error</th>\n",
       "      <td>-0.063720</td>\n",
       "    </tr>\n",
       "    <tr>\n",
       "      <th>neg_root_mean_squared_error</th>\n",
       "      <td>-0.243349</td>\n",
       "    </tr>\n",
       "    <tr>\n",
       "      <th>neg_mean_squared_log_error</th>\n",
       "      <td>NaN</td>\n",
       "    </tr>\n",
       "    <tr>\n",
       "      <th>r2</th>\n",
       "      <td>0.142010</td>\n",
       "    </tr>\n",
       "  </tbody>\n",
       "</table>\n",
       "</div>"
      ],
      "text/plain": [
       "                             Linear_Regression\n",
       "explained_variance                    0.142021\n",
       "max_error                            -1.096857\n",
       "neg_mean_absolute_error              -0.175128\n",
       "neg_mean_squared_error               -0.063720\n",
       "neg_root_mean_squared_error          -0.243349\n",
       "neg_mean_squared_log_error                 NaN\n",
       "r2                                    0.142010"
      ]
     },
     "execution_count": 110,
     "metadata": {},
     "output_type": "execute_result"
    }
   ],
   "source": [
    "LinearRegressionDF = cross_val_LinearRegression_DF(X,y)\n",
    "print(f\"Mean results from 10 fold cross validation are:\")\n",
    "LinearRegressionDF"
   ]
  },
  {
   "cell_type": "markdown",
   "metadata": {},
   "source": [
    "(3) Logistic Regression\n",
    "\n",
    "3.1 Train a logistic regression model using on the descriptive features selected from part 1 above"
   ]
  },
  {
   "cell_type": "code",
   "execution_count": 93,
   "metadata": {},
   "outputs": [
    {
     "data": {
      "text/html": [
       "<style>#sk-container-id-6 {color: black;background-color: white;}#sk-container-id-6 pre{padding: 0;}#sk-container-id-6 div.sk-toggleable {background-color: white;}#sk-container-id-6 label.sk-toggleable__label {cursor: pointer;display: block;width: 100%;margin-bottom: 0;padding: 0.3em;box-sizing: border-box;text-align: center;}#sk-container-id-6 label.sk-toggleable__label-arrow:before {content: \"▸\";float: left;margin-right: 0.25em;color: #696969;}#sk-container-id-6 label.sk-toggleable__label-arrow:hover:before {color: black;}#sk-container-id-6 div.sk-estimator:hover label.sk-toggleable__label-arrow:before {color: black;}#sk-container-id-6 div.sk-toggleable__content {max-height: 0;max-width: 0;overflow: hidden;text-align: left;background-color: #f0f8ff;}#sk-container-id-6 div.sk-toggleable__content pre {margin: 0.2em;color: black;border-radius: 0.25em;background-color: #f0f8ff;}#sk-container-id-6 input.sk-toggleable__control:checked~div.sk-toggleable__content {max-height: 200px;max-width: 100%;overflow: auto;}#sk-container-id-6 input.sk-toggleable__control:checked~label.sk-toggleable__label-arrow:before {content: \"▾\";}#sk-container-id-6 div.sk-estimator input.sk-toggleable__control:checked~label.sk-toggleable__label {background-color: #d4ebff;}#sk-container-id-6 div.sk-label input.sk-toggleable__control:checked~label.sk-toggleable__label {background-color: #d4ebff;}#sk-container-id-6 input.sk-hidden--visually {border: 0;clip: rect(1px 1px 1px 1px);clip: rect(1px, 1px, 1px, 1px);height: 1px;margin: -1px;overflow: hidden;padding: 0;position: absolute;width: 1px;}#sk-container-id-6 div.sk-estimator {font-family: monospace;background-color: #f0f8ff;border: 1px dotted black;border-radius: 0.25em;box-sizing: border-box;margin-bottom: 0.5em;}#sk-container-id-6 div.sk-estimator:hover {background-color: #d4ebff;}#sk-container-id-6 div.sk-parallel-item::after {content: \"\";width: 100%;border-bottom: 1px solid gray;flex-grow: 1;}#sk-container-id-6 div.sk-label:hover label.sk-toggleable__label {background-color: #d4ebff;}#sk-container-id-6 div.sk-serial::before {content: \"\";position: absolute;border-left: 1px solid gray;box-sizing: border-box;top: 0;bottom: 0;left: 50%;z-index: 0;}#sk-container-id-6 div.sk-serial {display: flex;flex-direction: column;align-items: center;background-color: white;padding-right: 0.2em;padding-left: 0.2em;position: relative;}#sk-container-id-6 div.sk-item {position: relative;z-index: 1;}#sk-container-id-6 div.sk-parallel {display: flex;align-items: stretch;justify-content: center;background-color: white;position: relative;}#sk-container-id-6 div.sk-item::before, #sk-container-id-6 div.sk-parallel-item::before {content: \"\";position: absolute;border-left: 1px solid gray;box-sizing: border-box;top: 0;bottom: 0;left: 50%;z-index: -1;}#sk-container-id-6 div.sk-parallel-item {display: flex;flex-direction: column;z-index: 1;position: relative;background-color: white;}#sk-container-id-6 div.sk-parallel-item:first-child::after {align-self: flex-end;width: 50%;}#sk-container-id-6 div.sk-parallel-item:last-child::after {align-self: flex-start;width: 50%;}#sk-container-id-6 div.sk-parallel-item:only-child::after {width: 0;}#sk-container-id-6 div.sk-dashed-wrapped {border: 1px dashed gray;margin: 0 0.4em 0.5em 0.4em;box-sizing: border-box;padding-bottom: 0.4em;background-color: white;}#sk-container-id-6 div.sk-label label {font-family: monospace;font-weight: bold;display: inline-block;line-height: 1.2em;}#sk-container-id-6 div.sk-label-container {text-align: center;}#sk-container-id-6 div.sk-container {/* jupyter's `normalize.less` sets `[hidden] { display: none; }` but bootstrap.min.css set `[hidden] { display: none !important; }` so we also need the `!important` here to be able to override the default hidden behavior on the sphinx rendered scikit-learn.org. See: https://github.com/scikit-learn/scikit-learn/issues/21755 */display: inline-block !important;position: relative;}#sk-container-id-6 div.sk-text-repr-fallback {display: none;}</style><div id=\"sk-container-id-6\" class=\"sk-top-container\"><div class=\"sk-text-repr-fallback\"><pre>LogisticRegression(random_state=1)</pre><b>In a Jupyter environment, please rerun this cell to show the HTML representation or trust the notebook. <br />On GitHub, the HTML representation is unable to render, please try loading this page with nbviewer.org.</b></div><div class=\"sk-container\" hidden><div class=\"sk-item\"><div class=\"sk-estimator sk-toggleable\"><input class=\"sk-toggleable__control sk-hidden--visually\" id=\"sk-estimator-id-6\" type=\"checkbox\" checked><label for=\"sk-estimator-id-6\" class=\"sk-toggleable__label sk-toggleable__label-arrow\">LogisticRegression</label><div class=\"sk-toggleable__content\"><pre>LogisticRegression(random_state=1)</pre></div></div></div></div></div>"
      ],
      "text/plain": [
       "LogisticRegression(random_state=1)"
      ]
     },
     "execution_count": 93,
     "metadata": {},
     "output_type": "execute_result"
    }
   ],
   "source": [
    "# Create a logistic regression object\n",
    "logistic_regression = LogisticRegression(random_state=1)\n",
    "\n",
    "# Train the logistic regression model on the training data\n",
    "logistic_regression.fit(X_train, y_train)"
   ]
  },
  {
   "cell_type": "code",
   "execution_count": 82,
   "metadata": {
    "scrolled": true
   },
   "outputs": [
    {
     "data": {
      "image/png": "[encoded data removed]",
      "text/plain": [
       "<Figure size 1000x600 with 1 Axes>"
      ]
     },
     "metadata": {},
     "output_type": "display_data"
    }
   ],
   "source": [
    "# Plot the coefficients of the logistic regression model\n",
    "plt.figure(figsize=(10,6))\n",
    "plt.bar(X.columns, logistic_regression.coef_[0])\n",
    "plt.xticks(rotation=90)\n",
    "plt.xlabel('Features')\n",
    "plt.ylabel('Coefficients')\n",
    "plt.title('Logistic Regression')\n",
    "plt.show()"
   ]
  },
  {
   "cell_type": "markdown",
   "metadata": {},
   "source": [
    "3.2 Listing the coefficients and the features"
   ]
  },
  {
   "cell_type": "code",
   "execution_count": 78,
   "metadata": {},
   "outputs": [
    {
     "name": "stdout",
     "output_type": "stream",
     "text": [
      "Coefficients: [[ 4.08747877e+00  3.38825341e+00 -2.82356805e-01 -8.83369717e-03\n",
      "   1.27733185e+00  5.86857551e-01  5.94010082e-01  3.24421892e-01\n",
      "   6.10776254e-01  6.11838500e-01  5.64145566e-01  5.02423534e-01\n",
      "   4.81329110e-01  2.43172771e-01  2.18505218e-01  1.62431637e-01\n",
      "   2.48438430e-02  5.69672275e-02 -2.91282414e-01 -5.55989625e-01\n",
      "   8.60657223e-01  6.96617720e-01  3.30407381e-01  2.00338058e-01\n",
      "   6.96495335e-01  6.70400824e-01  4.29591185e-01 -4.70966030e-01\n",
      "  -1.34447698e+00 -7.97804038e-01 -1.11947702e+00 -8.25927107e-01\n",
      "  -9.74022066e-01 -1.22433365e+00 -8.85168907e-01 -1.30301069e+00\n",
      "  -1.89579092e+00  2.13945356e-01  7.76387066e-01  5.17875956e-02\n",
      "   5.94125278e+00 -6.00002274e-01  1.61318419e+00 -1.74570642e+00\n",
      "   1.75812106e-01  2.43200275e-01 -7.98887071e-01  1.78847354e+00\n",
      "  -8.63294940e-01 -3.98031079e-01 -1.15856597e+00 -1.26363738e+00\n",
      "   1.63408803e+00 -1.40282211e+00 -1.58960649e+00  2.29406689e-01\n",
      "   7.53341390e-01 -2.48963616e+00 -6.83462706e-01  2.31285889e+00\n",
      "  -5.86710101e-01  9.38779726e-01 -7.46202704e-01 -1.51803946e+00\n",
      "   1.61913911e+00 -1.39519970e+00 -2.33961301e+00  1.39985743e+00\n",
      "  -9.41658497e-01 -1.02896219e+00 -1.18510508e+00  1.01329103e+00\n",
      "  -1.42988106e+00 -3.69754330e-01  1.49748549e-01  1.73638035e-01\n",
      "  -9.96474503e-02 -1.61034031e+00 -1.03412756e+00  3.66357830e+00\n",
      "  -8.28407227e-01 -6.32441220e-01 -2.53006507e-03  3.90850294e+00\n",
      "  -3.70160700e-01  3.71752018e-01  2.22722375e+00  3.19034337e+00\n",
      "   2.89872751e+00  4.29565094e-02 -1.13050731e-04  6.55765368e-01\n",
      "   7.24694781e-01  2.29846088e-01 -7.50419878e-01 -6.61784138e-03\n",
      "   7.31685008e-01 -1.51595836e+00 -3.07680576e-01  3.84083322e-01\n",
      "   2.87469799e-01 -7.64577694e-01  1.75583896e+00  3.53339686e+00]]\n",
      "death_prob_month: 4.087478774542497\n",
      "death_prob_sex_age_median: 3.388253410240066\n",
      "death_prob_medical_mean: -0.2823568050788388\n",
      "case_month_2020-02: -0.008833697165237093\n",
      "case_month_2020-03: 1.27733185321156\n",
      "case_month_2020-04: 0.5868575514737994\n",
      "case_month_2020-05: 0.5940100824631558\n",
      "case_month_2020-06: 0.32442189242215835\n",
      "case_month_2020-07: 0.6107762540557465\n",
      "case_month_2020-08: 0.6118385001313138\n",
      "case_month_2020-09: 0.5641455663294133\n",
      "case_month_2020-10: 0.5024235336202795\n",
      "case_month_2020-11: 0.4813291095151639\n",
      "case_month_2020-12: 0.24317277055186848\n",
      "case_month_2021-01: 0.2185052183441794\n",
      "case_month_2021-02: 0.16243163722764498\n",
      "case_month_2021-03: 0.02484384304013541\n",
      "case_month_2021-04: 0.056967227500304266\n",
      "case_month_2021-05: -0.2912824143636942\n",
      "case_month_2021-06: -0.5559896254028421\n",
      "case_month_2021-07: 0.8606572233966625\n",
      "case_month_2021-08: 0.6966177200873263\n",
      "case_month_2021-09: 0.33040738113473417\n",
      "case_month_2021-10: 0.2003380583527121\n",
      "case_month_2021-11: 0.6964953345823075\n",
      "case_month_2021-12: 0.6704008240085589\n",
      "case_month_2022-01: 0.42959118463456614\n",
      "case_month_2022-02: -0.4709660300481944\n",
      "case_month_2022-03: -1.344476983334957\n",
      "case_month_2022-04: -0.7978040383248972\n",
      "case_month_2022-05: -1.1194770232666853\n",
      "case_month_2022-06: -0.8259271074198433\n",
      "case_month_2022-07: -0.9740220663744676\n",
      "case_month_2022-08: -1.2243336483265357\n",
      "case_month_2022-09: -0.8851689066359194\n",
      "case_month_2022-10: -1.3030106948491862\n",
      "case_month_2022-11: -1.895790922029412\n",
      "state_fips_code_2: 0.2139453559165749\n",
      "state_fips_code_4: 0.7763870660750009\n",
      "state_fips_code_5: 0.05178759558270947\n",
      "state_fips_code_6: 5.941252776441974\n",
      "state_fips_code_8: -0.6000022744067878\n",
      "state_fips_code_9: 1.6131841926532855\n",
      "state_fips_code_11: -1.7457064216880573\n",
      "state_fips_code_12: 0.17581210627049085\n",
      "state_fips_code_13: 0.24320027453412424\n",
      "state_fips_code_16: -0.7988870710312578\n",
      "state_fips_code_17: 1.7884735432215237\n",
      "state_fips_code_18: -0.8632949395975723\n",
      "state_fips_code_19: -0.39803107901815743\n",
      "state_fips_code_20: -1.1585659707898481\n",
      "state_fips_code_21: -1.2636373754932655\n",
      "state_fips_code_22: 1.6340880344121893\n",
      "state_fips_code_23: -1.4028221102035419\n",
      "state_fips_code_24: -1.5896064852154208\n",
      "state_fips_code_25: 0.22940668926362523\n",
      "state_fips_code_26: 0.7533413902401626\n",
      "state_fips_code_27: -2.489636156401985\n",
      "state_fips_code_28: -0.6834627063228134\n",
      "state_fips_code_29: 2.3128588922255413\n",
      "state_fips_code_30: -0.5867101007267188\n",
      "state_fips_code_32: 0.9387797259438436\n",
      "state_fips_code_33: -0.7462027035209963\n",
      "state_fips_code_34: -1.5180394588021475\n",
      "state_fips_code_35: 1.6191391092344476\n",
      "state_fips_code_36: -1.395199703175706\n",
      "state_fips_code_37: -2.3396130052113837\n",
      "state_fips_code_38: 1.3998574308438934\n",
      "state_fips_code_39: -0.9416584966610628\n",
      "state_fips_code_40: -1.02896219296067\n",
      "state_fips_code_41: -1.1851050780475918\n",
      "state_fips_code_42: 1.013291026036147\n",
      "state_fips_code_44: -1.4298810586970623\n",
      "state_fips_code_45: -0.36975432966119626\n",
      "state_fips_code_47: 0.14974854939396842\n",
      "state_fips_code_48: 0.1736380352699675\n",
      "state_fips_code_49: -0.09964745033466915\n",
      "state_fips_code_50: -1.6103403130356422\n",
      "state_fips_code_51: -1.0341275630139122\n",
      "state_fips_code_53: 3.6635783010084193\n",
      "state_fips_code_55: -0.8284072274299563\n",
      "state_fips_code_56: -0.6324412203813736\n",
      "state_fips_code_66: -0.0025300650677472585\n",
      "state_fips_code_72: 3.9085029436276733\n",
      "state_fips_code_78: -0.3701607000533396\n",
      "age_group_18 to 49 years: 0.3717520178004261\n",
      "age_group_50 to 64 years: 2.2272237467530487\n",
      "age_group_65+ years: 3.190343366447372\n",
      "age_group_Missing: 2.8987275054486417\n",
      "sex_Male: 0.04295650937004862\n",
      "sex_Other: -0.00011305073064119247\n",
      "race_Asian: 0.6557653682214649\n",
      "race_Black: 0.7246947813881056\n",
      "race_Missing: 0.22984608770179393\n",
      "race_Multiple/Other: -0.7504198780263597\n",
      "race_Native Hawaiian/Other Pacific Islander: -0.006617841380819665\n",
      "race_White: 0.7316850079716778\n",
      "ethnicity_Missing: -1.5159583617208967\n",
      "ethnicity_Non-Hispanic/Latino: -0.30768057634379714\n",
      "current_status_Probable Case: 0.3840833220363362\n",
      "symptom_status_Missing: 0.2874697990777973\n",
      "symptom_status_Symptomatic: -0.7645776936548864\n",
      "hosp_yn_Missing: 1.7558389635860143\n",
      "hosp_yn_Yes: 3.5333968614280296\n"
     ]
    }
   ],
   "source": [
    "# Print the coefficients learned by the model\n",
    "print(\"Coefficients:\", logistic_regression.coef_)\n",
    "\n",
    "# Interpret the coefficients\n",
    "for i in range(len(X.columns)):\n",
    "    print(f\"{X.columns[i]}: {logistic_regression.coef_[0][i]}\")"
   ]
  },
  {
   "cell_type": "markdown",
   "metadata": {},
   "source": [
    "What we learn by examining the coefficients weighting from the above output\n",
    "\n",
    "We can see that the following coeffiecients were weighted heavily by the model in order to give a predicition to death_yn\n",
    "- hosp_yn_Yes: 3.5333968614280296\n",
    "- death_prob_month: 4.087478774542497\n",
    "- death_prob_sex_age_median: 3.388253410240066\n",
    "- age_group_50 to 64 years: 2.2272237467530487\n",
    "- age_group_65+ years: 3.190343366447372\n",
    "- state_fips_code_6: 5.941252776441974\n",
    "- state_fips_code_53: 3.6635783010084193\n",
    "\n",
    "\n",
    "It is interesting to note that the last two features seems to be oddly high weighted coefficients in death prediction as they seem to be random location areas for the patients. The first five features however appear to be self explanatory in the prediction of patient mortality\n",
    "\n",
    "The following coefficients are negatively weighted by the model, indicating there is little use in their utilisation in patients mortality predictions\n",
    "- The majority of the case_month dates\n",
    "- A high percentages of the county_fips\n",
    "- The majority of features relating to the patients race\n",
    "\n",
    "This could outline to us that the model is not using the patients race, case_date, or patient location in its predictive process"
   ]
  },
  {
   "cell_type": "markdown",
   "metadata": {},
   "source": [
    "3.3 Predicting the first 10 values"
   ]
  },
  {
   "cell_type": "code",
   "execution_count": 79,
   "metadata": {},
   "outputs": [
    {
     "name": "stdout",
     "output_type": "stream",
     "text": [
      "Example 1: Predicted class = 0, Actual value = 0\n",
      "Example 2: Predicted class = 0, Actual value = 0\n",
      "Example 3: Predicted class = 0, Actual value = 0\n",
      "Example 4: Predicted class = 0, Actual value = 0\n",
      "Example 5: Predicted class = 0, Actual value = 0\n",
      "Example 6: Predicted class = 0, Actual value = 0\n",
      "Example 7: Predicted class = 0, Actual value = 0\n",
      "Example 8: Predicted class = 1, Actual value = 1\n",
      "Example 9: Predicted class = 0, Actual value = 0\n",
      "Example 10: Predicted class = 0, Actual value = 0\n"
     ]
    }
   ],
   "source": [
    "# Use the trained model to make predictions on the first 10 training examples\n",
    "y_pred = logistic_regression.predict(X_train[:10])\n",
    "\n",
    "# Threshold the predicted target feature value at 0.5 to get the predicted class\n",
    "y_pred_class = np.where(y_pred >= 0.5, 1, 0)\n",
    "\n",
    "# Print the predicted class and the actual values for the first 10 training examples\n",
    "for i in range(10):\n",
    "    print(f\"Example {i+1}: Predicted class = {y_pred_class[i]}, Actual value = {y_train[i]}\")"
   ]
  },
  {
   "cell_type": "code",
   "execution_count": 80,
   "metadata": {},
   "outputs": [
    {
     "name": "stdout",
     "output_type": "stream",
     "text": [
      "Accuracy: 0.95\n",
      "Confusion matrix:\n",
      "[[20284   701]\n",
      " [  727  6288]]\n",
      "Precision: 0.90\n",
      "Recall: 0.90\n",
      "F1: 0.90\n"
     ]
    }
   ],
   "source": [
    "# Compute predictions for the full training set\n",
    "y_pred = logistic_regression.predict(X_train)\n",
    "\n",
    "# Threshold the predicted target feature value at 0.5 to get the predicted class\n",
    "y_pred_class = np.where(y_pred >= 0.5, 1, 0)\n",
    "\n",
    "# Compute evaluation measures\n",
    "accuracy = metrics.accuracy_score(y_train, y_pred_class)\n",
    "confusion_matrix = metrics.confusion_matrix(y_train, y_pred_class)\n",
    "precision = metrics.precision_score(y_train, y_pred_class)\n",
    "recall = metrics.recall_score(y_train, y_pred_class)\n",
    "f1 = metrics.f1_score(y_train, y_pred_class)\n",
    "\n",
    "# Print evaluation measures\n",
    "print(f\"Accuracy: {accuracy:.2f}\")\n",
    "print(f\"Confusion matrix:\\n{confusion_matrix}\")\n",
    "print(f\"Precision: {precision:.2f}\")\n",
    "print(f\"Recall: {recall:.2f}\")\n",
    "print(f\"F1: {f1:.2f}\")"
   ]
  },
  {
   "cell_type": "markdown",
   "metadata": {},
   "source": [
    "Let's have a look at what the above evaluation metrics tell us about the effectiveness of the logistical regresssion model\n",
    "\n",
    "Accuracy:\n",
    "- 0.95 accuracy equates to an accuracy rating of 95%, which is one pip higher than what we saw with the linear regression model\n",
    "\n",
    "Confusion Matrix:\n",
    "- True Negatives: 20284 = The model correctly picked these values up as being classified as negative\n",
    "- False Positives: 701 = The model incorrectly picked these values up as being classified as positive\n",
    "- False Negatives: 727 = The model incorrectly picked these values up as being classified as negative\n",
    "- True Positives: 6288 = The model correctly picked these values up as being classified as positives\n",
    "\n",
    "We see that there is a significantly higher proportion of correct values that the model predicted comparted to incorrect values\n",
    "\n",
    "Precision:\n",
    "- As discussed in the previous model, the precision metric is used to gauge how many of the positive predictions are correct. This differs from overall accuracy by just measuring the correct positive predictions, and we can see that the model is returning to us an overall precision level of 90%\n",
    "\n",
    "Recall:\n",
    "- Recall can be considered to be the inverse of precision, outlining to us the amount of positive predictions that slipped through the model. We see here a recall level of 90%, which means that the model failed to detect 10% of positive values\n",
    "\n",
    "F1:\n",
    "- The combination of the precision metric and the recall metric leaves us with the F1 metric, which we see here to by 90%. This means that overall, the model is correctly prediciting 90% of positive values and from what we have learnt above, is failing to pick up 10% of the positive values in the prediction model"
   ]
  },
  {
   "cell_type": "markdown",
   "metadata": {},
   "source": [
    "3.4 Printing 100 predicted target features and evaluate the prediction"
   ]
  },
  {
   "cell_type": "code",
   "execution_count": 86,
   "metadata": {},
   "outputs": [
    {
     "data": {
      "text/html": [
       "<div>\n",
       "<style scoped>\n",
       "    .dataframe tbody tr th:only-of-type {\n",
       "        vertical-align: middle;\n",
       "    }\n",
       "\n",
       "    .dataframe tbody tr th {\n",
       "        vertical-align: top;\n",
       "    }\n",
       "\n",
       "    .dataframe thead th {\n",
       "        text-align: right;\n",
       "    }\n",
       "</style>\n",
       "<table border=\"1\" class=\"dataframe\">\n",
       "  <thead>\n",
       "    <tr style=\"text-align: right;\">\n",
       "      <th></th>\n",
       "      <th>ActualClass</th>\n",
       "      <th>PredictedClass</th>\n",
       "    </tr>\n",
       "  </thead>\n",
       "  <tbody>\n",
       "    <tr>\n",
       "      <th>0</th>\n",
       "      <td>0</td>\n",
       "      <td>0</td>\n",
       "    </tr>\n",
       "    <tr>\n",
       "      <th>1</th>\n",
       "      <td>0</td>\n",
       "      <td>0</td>\n",
       "    </tr>\n",
       "    <tr>\n",
       "      <th>2</th>\n",
       "      <td>0</td>\n",
       "      <td>0</td>\n",
       "    </tr>\n",
       "    <tr>\n",
       "      <th>3</th>\n",
       "      <td>0</td>\n",
       "      <td>0</td>\n",
       "    </tr>\n",
       "    <tr>\n",
       "      <th>4</th>\n",
       "      <td>0</td>\n",
       "      <td>0</td>\n",
       "    </tr>\n",
       "    <tr>\n",
       "      <th>...</th>\n",
       "      <td>...</td>\n",
       "      <td>...</td>\n",
       "    </tr>\n",
       "    <tr>\n",
       "      <th>95</th>\n",
       "      <td>0</td>\n",
       "      <td>0</td>\n",
       "    </tr>\n",
       "    <tr>\n",
       "      <th>96</th>\n",
       "      <td>0</td>\n",
       "      <td>0</td>\n",
       "    </tr>\n",
       "    <tr>\n",
       "      <th>97</th>\n",
       "      <td>1</td>\n",
       "      <td>1</td>\n",
       "    </tr>\n",
       "    <tr>\n",
       "      <th>98</th>\n",
       "      <td>0</td>\n",
       "      <td>0</td>\n",
       "    </tr>\n",
       "    <tr>\n",
       "      <th>99</th>\n",
       "      <td>0</td>\n",
       "      <td>0</td>\n",
       "    </tr>\n",
       "  </tbody>\n",
       "</table>\n",
       "<p>100 rows × 2 columns</p>\n",
       "</div>"
      ],
      "text/plain": [
       "    ActualClass  PredictedClass\n",
       "0             0               0\n",
       "1             0               0\n",
       "2             0               0\n",
       "3             0               0\n",
       "4             0               0\n",
       "..          ...             ...\n",
       "95            0               0\n",
       "96            0               0\n",
       "97            1               1\n",
       "98            0               0\n",
       "99            0               0\n",
       "\n",
       "[100 rows x 2 columns]"
      ]
     },
     "execution_count": 86,
     "metadata": {},
     "output_type": "execute_result"
    }
   ],
   "source": [
    "# Predicted class labels for all examples,\n",
    "# using the trained model, on in-sample data (same sample used for training and test)\n",
    "logistic_regression_predictions_train = logistic_regression.predict(X_train)\n",
    "df_true_vs_logistic_regression_predicted = pd.DataFrame({'ActualClass': y_train, 'PredictedClass': logistic_regression_predictions_train})\n",
    "df_true_vs_logistic_regression_predicted.head(100)"
   ]
  },
  {
   "cell_type": "code",
   "execution_count": 87,
   "metadata": {},
   "outputs": [
    {
     "name": "stdout",
     "output_type": "stream",
     "text": [
      "==================== Train Data =======================\n",
      "Accuracy:  0.949\n",
      "Confusion matrix: \n",
      " [[20284   701]\n",
      " [  727  6288]]\n",
      "Classification report:\n",
      "                precision    recall  f1-score   support\n",
      "\n",
      "           0       0.97      0.97      0.97     20985\n",
      "           1       0.90      0.90      0.90      7015\n",
      "\n",
      "    accuracy                           0.95     28000\n",
      "   macro avg       0.93      0.93      0.93     28000\n",
      "weighted avg       0.95      0.95      0.95     28000\n",
      "\n"
     ]
    }
   ],
   "source": [
    "print(\"==================== Train Data =======================\")\n",
    "print(\"Accuracy: \", metrics.accuracy_score(y_train, logistic_regression_predictions_train))\n",
    "print(\"Confusion matrix: \\n\", metrics.confusion_matrix(y_train, logistic_regression_predictions_train))\n",
    "print(\"Classification report:\\n \", metrics.classification_report(y_train, logistic_regression_predictions_train))"
   ]
  },
  {
   "cell_type": "markdown",
   "metadata": {},
   "source": [
    "We will now examine the model using the 30% hold out test set"
   ]
  },
  {
   "cell_type": "code",
   "execution_count": 88,
   "metadata": {},
   "outputs": [
    {
     "data": {
      "text/html": [
       "<div>\n",
       "<style scoped>\n",
       "    .dataframe tbody tr th:only-of-type {\n",
       "        vertical-align: middle;\n",
       "    }\n",
       "\n",
       "    .dataframe tbody tr th {\n",
       "        vertical-align: top;\n",
       "    }\n",
       "\n",
       "    .dataframe thead th {\n",
       "        text-align: right;\n",
       "    }\n",
       "</style>\n",
       "<table border=\"1\" class=\"dataframe\">\n",
       "  <thead>\n",
       "    <tr style=\"text-align: right;\">\n",
       "      <th></th>\n",
       "      <th>ActualClass</th>\n",
       "      <th>PredictedClass</th>\n",
       "    </tr>\n",
       "  </thead>\n",
       "  <tbody>\n",
       "    <tr>\n",
       "      <th>0</th>\n",
       "      <td>1</td>\n",
       "      <td>1</td>\n",
       "    </tr>\n",
       "    <tr>\n",
       "      <th>1</th>\n",
       "      <td>0</td>\n",
       "      <td>0</td>\n",
       "    </tr>\n",
       "    <tr>\n",
       "      <th>2</th>\n",
       "      <td>0</td>\n",
       "      <td>0</td>\n",
       "    </tr>\n",
       "    <tr>\n",
       "      <th>3</th>\n",
       "      <td>0</td>\n",
       "      <td>0</td>\n",
       "    </tr>\n",
       "    <tr>\n",
       "      <th>4</th>\n",
       "      <td>0</td>\n",
       "      <td>0</td>\n",
       "    </tr>\n",
       "    <tr>\n",
       "      <th>5</th>\n",
       "      <td>1</td>\n",
       "      <td>1</td>\n",
       "    </tr>\n",
       "    <tr>\n",
       "      <th>6</th>\n",
       "      <td>0</td>\n",
       "      <td>0</td>\n",
       "    </tr>\n",
       "    <tr>\n",
       "      <th>7</th>\n",
       "      <td>0</td>\n",
       "      <td>0</td>\n",
       "    </tr>\n",
       "    <tr>\n",
       "      <th>8</th>\n",
       "      <td>0</td>\n",
       "      <td>0</td>\n",
       "    </tr>\n",
       "    <tr>\n",
       "      <th>9</th>\n",
       "      <td>0</td>\n",
       "      <td>0</td>\n",
       "    </tr>\n",
       "    <tr>\n",
       "      <th>10</th>\n",
       "      <td>0</td>\n",
       "      <td>0</td>\n",
       "    </tr>\n",
       "    <tr>\n",
       "      <th>11</th>\n",
       "      <td>0</td>\n",
       "      <td>0</td>\n",
       "    </tr>\n",
       "    <tr>\n",
       "      <th>12</th>\n",
       "      <td>0</td>\n",
       "      <td>0</td>\n",
       "    </tr>\n",
       "    <tr>\n",
       "      <th>13</th>\n",
       "      <td>1</td>\n",
       "      <td>1</td>\n",
       "    </tr>\n",
       "    <tr>\n",
       "      <th>14</th>\n",
       "      <td>1</td>\n",
       "      <td>1</td>\n",
       "    </tr>\n",
       "    <tr>\n",
       "      <th>15</th>\n",
       "      <td>0</td>\n",
       "      <td>0</td>\n",
       "    </tr>\n",
       "    <tr>\n",
       "      <th>16</th>\n",
       "      <td>1</td>\n",
       "      <td>1</td>\n",
       "    </tr>\n",
       "    <tr>\n",
       "      <th>17</th>\n",
       "      <td>0</td>\n",
       "      <td>0</td>\n",
       "    </tr>\n",
       "    <tr>\n",
       "      <th>18</th>\n",
       "      <td>0</td>\n",
       "      <td>0</td>\n",
       "    </tr>\n",
       "    <tr>\n",
       "      <th>19</th>\n",
       "      <td>0</td>\n",
       "      <td>0</td>\n",
       "    </tr>\n",
       "  </tbody>\n",
       "</table>\n",
       "</div>"
      ],
      "text/plain": [
       "    ActualClass  PredictedClass\n",
       "0             1               1\n",
       "1             0               0\n",
       "2             0               0\n",
       "3             0               0\n",
       "4             0               0\n",
       "5             1               1\n",
       "6             0               0\n",
       "7             0               0\n",
       "8             0               0\n",
       "9             0               0\n",
       "10            0               0\n",
       "11            0               0\n",
       "12            0               0\n",
       "13            1               1\n",
       "14            1               1\n",
       "15            0               0\n",
       "16            1               1\n",
       "17            0               0\n",
       "18            0               0\n",
       "19            0               0"
      ]
     },
     "execution_count": 88,
     "metadata": {},
     "output_type": "execute_result"
    }
   ],
   "source": [
    "# Predicted class labels for all examples,\n",
    "# using the trained model, on in-sample data (same sample used for training and test)\n",
    "logistic_regression_predictions_test = logistic_regression.predict(X_test)\n",
    "df_true_vs_logistic_regression_predicted_test = pd.DataFrame({'ActualClass': y_test, 'PredictedClass': logistic_regression_predictions_test})\n",
    "df_true_vs_logistic_regression_predicted_test.head(20)"
   ]
  },
  {
   "cell_type": "markdown",
   "metadata": {},
   "source": [
    "Evalutaion metrics based on test data"
   ]
  },
  {
   "cell_type": "code",
   "execution_count": 89,
   "metadata": {},
   "outputs": [
    {
     "name": "stdout",
     "output_type": "stream",
     "text": [
      "==================== Test Data =======================\n",
      "Accuracy:  0.9505\n",
      "Confusion matrix: \n",
      " [[8705  310]\n",
      " [ 284 2701]]\n",
      "Classification report:\n",
      "                precision    recall  f1-score   support\n",
      "\n",
      "           0       0.97      0.97      0.97      9015\n",
      "           1       0.90      0.90      0.90      2985\n",
      "\n",
      "    accuracy                           0.95     12000\n",
      "   macro avg       0.93      0.94      0.93     12000\n",
      "weighted avg       0.95      0.95      0.95     12000\n",
      "\n",
      "==================== Train Data =======================\n",
      "Accuracy:  0.949\n",
      "Confusion matrix: \n",
      " [[20284   701]\n",
      " [  727  6288]]\n",
      "Classification report:\n",
      "                precision    recall  f1-score   support\n",
      "\n",
      "           0       0.97      0.97      0.97     20985\n",
      "           1       0.90      0.90      0.90      7015\n",
      "\n",
      "    accuracy                           0.95     28000\n",
      "   macro avg       0.93      0.93      0.93     28000\n",
      "weighted avg       0.95      0.95      0.95     28000\n",
      "\n",
      "======================================================\n"
     ]
    }
   ],
   "source": [
    "print(\"==================== Test Data =======================\")\n",
    "print(\"Accuracy: \", metrics.accuracy_score(y_test, logistic_regression_predictions_test))\n",
    "print(\"Confusion matrix: \\n\", metrics.confusion_matrix(y_test, logistic_regression_predictions_test))\n",
    "print(\"Classification report:\\n \", metrics.classification_report(y_test, logistic_regression_predictions_test))\n",
    "print(\"==================== Train Data =======================\")\n",
    "print(\"Accuracy: \", metrics.accuracy_score(y_train, logistic_regression_predictions_train))\n",
    "print(\"Confusion matrix: \\n\", metrics.confusion_matrix(y_train, logistic_regression_predictions_train))\n",
    "print(\"Classification report:\\n \", metrics.classification_report(y_train, logistic_regression_predictions_train))\n",
    "print(\"======================================================\")"
   ]
  },
  {
   "cell_type": "markdown",
   "metadata": {},
   "source": [
    "We will now perform the cross validation portion of the question"
   ]
  },
  {
   "cell_type": "code",
   "execution_count": 91,
   "metadata": {},
   "outputs": [],
   "source": [
    "def cross_val_LogisticRegression_DF(X,y, depth=None, estimators=100):\n",
    "    \"\"\"Function to perform cross validation and store results\n",
    "    in dataframe. Cross validation looks at accuracy, precision,\n",
    "    recall, f1. Returns a dataframe with results\"\"\"\n",
    "\n",
    "    # store results in dict\n",
    "    LogisticRegressionResults = {}\n",
    "    # metrics to test against\n",
    "    test_metrics = ['accuracy','precision','recall', 'f1']\n",
    "\n",
    "    for metric in test_metrics:\n",
    "        # generate test results\n",
    "        result = cross_val_score(LogisticRegression(random_state=1), X, y, scoring=metric, cv=10)\n",
    "        # store result in dict\n",
    "        LogisticRegressionResults[metric] = result.mean()\n",
    "\n",
    "    # create dataframe with results\n",
    "    LogisticRegressionDF = pd.DataFrame.from_dict(LogisticRegressionResults, orient='index', columns=['Logistic_Regression'])\n",
    "\n",
    "    return LogisticRegressionDF"
   ]
  },
  {
   "cell_type": "markdown",
   "metadata": {},
   "source": [
    "We will now output the results after running it a couple of times"
   ]
  },
  {
   "cell_type": "code",
   "execution_count": 92,
   "metadata": {},
   "outputs": [
    {
     "name": "stdout",
     "output_type": "stream",
     "text": [
      "Mean results from 10 fold cross validation are:\n"
     ]
    },
    {
     "data": {
      "text/html": [
       "<div>\n",
       "<style scoped>\n",
       "    .dataframe tbody tr th:only-of-type {\n",
       "        vertical-align: middle;\n",
       "    }\n",
       "\n",
       "    .dataframe tbody tr th {\n",
       "        vertical-align: top;\n",
       "    }\n",
       "\n",
       "    .dataframe thead th {\n",
       "        text-align: right;\n",
       "    }\n",
       "</style>\n",
       "<table border=\"1\" class=\"dataframe\">\n",
       "  <thead>\n",
       "    <tr style=\"text-align: right;\">\n",
       "      <th></th>\n",
       "      <th>Logistic_Regression</th>\n",
       "    </tr>\n",
       "  </thead>\n",
       "  <tbody>\n",
       "    <tr>\n",
       "      <th>accuracy</th>\n",
       "      <td>0.948475</td>\n",
       "    </tr>\n",
       "    <tr>\n",
       "      <th>precision</th>\n",
       "      <td>0.898012</td>\n",
       "    </tr>\n",
       "    <tr>\n",
       "      <th>recall</th>\n",
       "      <td>0.895700</td>\n",
       "    </tr>\n",
       "    <tr>\n",
       "      <th>f1</th>\n",
       "      <td>0.896814</td>\n",
       "    </tr>\n",
       "  </tbody>\n",
       "</table>\n",
       "</div>"
      ],
      "text/plain": [
       "           Logistic_Regression\n",
       "accuracy              0.948475\n",
       "precision             0.898012\n",
       "recall                0.895700\n",
       "f1                    0.896814"
      ]
     },
     "execution_count": 92,
     "metadata": {},
     "output_type": "execute_result"
    }
   ],
   "source": [
    "LogisticRegressionDF = cross_val_LogisticRegression_DF(X,y)\n",
    "print(f\"Mean results from 10 fold cross validation are:\")\n",
    "LogisticRegressionDF"
   ]
  },
  {
   "cell_type": "markdown",
   "metadata": {},
   "source": [
    "## (4) Random Forest Model"
   ]
  },
  {
   "cell_type": "markdown",
   "metadata": {},
   "source": [
    "### 4.1 Train a random forest model using only the descriptive features selected from part 1 above\n",
    "- A random forest model will now be trained on our test data.\n",
    "- We use the RandomForestClassifier() function.\n",
    "- The random state will be set to 1 to allow the results to be repeated"
   ]
  },
  {
   "cell_type": "code",
   "execution_count": 50,
   "metadata": {},
   "outputs": [
    {
     "data": {
      "text/html": [
       "<style>#sk-container-id-4 {color: black;background-color: white;}#sk-container-id-4 pre{padding: 0;}#sk-container-id-4 div.sk-toggleable {background-color: white;}#sk-container-id-4 label.sk-toggleable__label {cursor: pointer;display: block;width: 100%;margin-bottom: 0;padding: 0.3em;box-sizing: border-box;text-align: center;}#sk-container-id-4 label.sk-toggleable__label-arrow:before {content: \"▸\";float: left;margin-right: 0.25em;color: #696969;}#sk-container-id-4 label.sk-toggleable__label-arrow:hover:before {color: black;}#sk-container-id-4 div.sk-estimator:hover label.sk-toggleable__label-arrow:before {color: black;}#sk-container-id-4 div.sk-toggleable__content {max-height: 0;max-width: 0;overflow: hidden;text-align: left;background-color: #f0f8ff;}#sk-container-id-4 div.sk-toggleable__content pre {margin: 0.2em;color: black;border-radius: 0.25em;background-color: #f0f8ff;}#sk-container-id-4 input.sk-toggleable__control:checked~div.sk-toggleable__content {max-height: 200px;max-width: 100%;overflow: auto;}#sk-container-id-4 input.sk-toggleable__control:checked~label.sk-toggleable__label-arrow:before {content: \"▾\";}#sk-container-id-4 div.sk-estimator input.sk-toggleable__control:checked~label.sk-toggleable__label {background-color: #d4ebff;}#sk-container-id-4 div.sk-label input.sk-toggleable__control:checked~label.sk-toggleable__label {background-color: #d4ebff;}#sk-container-id-4 input.sk-hidden--visually {border: 0;clip: rect(1px 1px 1px 1px);clip: rect(1px, 1px, 1px, 1px);height: 1px;margin: -1px;overflow: hidden;padding: 0;position: absolute;width: 1px;}#sk-container-id-4 div.sk-estimator {font-family: monospace;background-color: #f0f8ff;border: 1px dotted black;border-radius: 0.25em;box-sizing: border-box;margin-bottom: 0.5em;}#sk-container-id-4 div.sk-estimator:hover {background-color: #d4ebff;}#sk-container-id-4 div.sk-parallel-item::after {content: \"\";width: 100%;border-bottom: 1px solid gray;flex-grow: 1;}#sk-container-id-4 div.sk-label:hover label.sk-toggleable__label {background-color: #d4ebff;}#sk-container-id-4 div.sk-serial::before {content: \"\";position: absolute;border-left: 1px solid gray;box-sizing: border-box;top: 0;bottom: 0;left: 50%;z-index: 0;}#sk-container-id-4 div.sk-serial {display: flex;flex-direction: column;align-items: center;background-color: white;padding-right: 0.2em;padding-left: 0.2em;position: relative;}#sk-container-id-4 div.sk-item {position: relative;z-index: 1;}#sk-container-id-4 div.sk-parallel {display: flex;align-items: stretch;justify-content: center;background-color: white;position: relative;}#sk-container-id-4 div.sk-item::before, #sk-container-id-4 div.sk-parallel-item::before {content: \"\";position: absolute;border-left: 1px solid gray;box-sizing: border-box;top: 0;bottom: 0;left: 50%;z-index: -1;}#sk-container-id-4 div.sk-parallel-item {display: flex;flex-direction: column;z-index: 1;position: relative;background-color: white;}#sk-container-id-4 div.sk-parallel-item:first-child::after {align-self: flex-end;width: 50%;}#sk-container-id-4 div.sk-parallel-item:last-child::after {align-self: flex-start;width: 50%;}#sk-container-id-4 div.sk-parallel-item:only-child::after {width: 0;}#sk-container-id-4 div.sk-dashed-wrapped {border: 1px dashed gray;margin: 0 0.4em 0.5em 0.4em;box-sizing: border-box;padding-bottom: 0.4em;background-color: white;}#sk-container-id-4 div.sk-label label {font-family: monospace;font-weight: bold;display: inline-block;line-height: 1.2em;}#sk-container-id-4 div.sk-label-container {text-align: center;}#sk-container-id-4 div.sk-container {/* jupyter's `normalize.less` sets `[hidden] { display: none; }` but bootstrap.min.css set `[hidden] { display: none !important; }` so we also need the `!important` here to be able to override the default hidden behavior on the sphinx rendered scikit-learn.org. See: https://github.com/scikit-learn/scikit-learn/issues/21755 */display: inline-block !important;position: relative;}#sk-container-id-4 div.sk-text-repr-fallback {display: none;}</style><div id=\"sk-container-id-4\" class=\"sk-top-container\"><div class=\"sk-text-repr-fallback\"><pre>RandomForestClassifier(max_features=&#x27;auto&#x27;, oob_score=True, random_state=1)</pre><b>In a Jupyter environment, please rerun this cell to show the HTML representation or trust the notebook. <br />On GitHub, the HTML representation is unable to render, please try loading this page with nbviewer.org.</b></div><div class=\"sk-container\" hidden><div class=\"sk-item\"><div class=\"sk-estimator sk-toggleable\"><input class=\"sk-toggleable__control sk-hidden--visually\" id=\"sk-estimator-id-4\" type=\"checkbox\" checked><label for=\"sk-estimator-id-4\" class=\"sk-toggleable__label sk-toggleable__label-arrow\">RandomForestClassifier</label><div class=\"sk-toggleable__content\"><pre>RandomForestClassifier(max_features=&#x27;auto&#x27;, oob_score=True, random_state=1)</pre></div></div></div></div></div>"
      ],
      "text/plain": [
       "RandomForestClassifier(max_features='auto', oob_score=True, random_state=1)"
      ]
     },
     "execution_count": 50,
     "metadata": {},
     "output_type": "execute_result"
    }
   ],
   "source": [
    "# Train RF with 100 trees\n",
    "rfc = RandomForestClassifier(n_estimators=100, max_features='auto', oob_score=True, random_state=1)\n",
    "# Train RF on training data\n",
    "rfc.fit(X_train, y_train)"
   ]
  },
  {
   "cell_type": "markdown",
   "metadata": {},
   "source": [
    "### 4.2 Understanding the Random Forest model\n",
    "We will now try to understand how this random forest model works\n",
    "- We will first start by trying to understand a decision tree\n",
    "- A random forest is made up of an ensemble/collection of decision trees\n",
    "- Decision tree\n",
    "    - A decision tree is a set of if-then-else rules based on splitting the data based on specific features\n",
    "    - The decision on which feature to split on is based on the information gain (Gini index).\n",
    "    - The tree will always split on the feature that gives the highest information gain\n",
    "    - The feature with the highest information gain will sit at the root of each decision tree\n",
    "    - Each decision tree will be a single prediction\n",
    "- Random Forest\n",
    "    - The random forest is made up of a number of decision trees\n",
    "    - The output of the random forest is base on the majority output of all decision trees combined\n",
    "    - This gives reliable results but can be hard to interpret\n",
    "    - The random forest will keep track of the importance of features in terms of information gain, which we will see\n",
    "\n",
    "We will now look at an example of a single decision tree to get a better understanding"
   ]
  },
  {
   "cell_type": "markdown",
   "metadata": {},
   "source": [
    "####  4.2.1  Train Decision tree\n",
    "We will train 2 decision trees, with the same test data\n",
    "- One with max_depth=4 and the other max_depth=10\n",
    "- Max depth determines how deep a decision tree can go before it must give an answer"
   ]
  },
  {
   "cell_type": "code",
   "execution_count": 349,
   "metadata": {},
   "outputs": [
    {
     "name": "stdout",
     "output_type": "stream",
     "text": [
      "Max depth 4: \n",
      " DecisionTreeClassifier(max_depth=4, random_state=1)\n",
      "Max depth 10: \n",
      " DecisionTreeClassifier(max_depth=10, random_state=1)\n"
     ]
    }
   ],
   "source": [
    "dtc4 = DecisionTreeClassifier(max_depth=4, random_state=1)\n",
    "dtc10 = DecisionTreeClassifier(max_depth=10, random_state=1)\n",
    "dtc4.fit(X_train, y_train)\n",
    "dtc10.fit(X_train, y_train)\n",
    "print(\"Max depth 4: \\n\",dtc4)\n",
    "print(\"Max depth 10: \\n\",dtc10)"
   ]
  },
  {
   "cell_type": "markdown",
   "metadata": {},
   "source": [
    "####  4.2.2  Display Decision tree\n",
    "We will create graph of each tree and store as an image"
   ]
  },
  {
   "cell_type": "code",
   "execution_count": 350,
   "metadata": {},
   "outputs": [],
   "source": [
    "# create a Graphviz png\n",
    "with open(\"DecisionTree4.dot\", 'w') as f1:\n",
    "    f1 = export_graphviz(dtc4, out_file=f1, feature_names=X_train.columns)\n",
    "with open(\"DecisionTree10.dot\", 'w') as f2:\n",
    "    f2 = export_graphviz(dtc10, out_file=f2, feature_names=X_train.columns)\n",
    "!dot -Tpng DecisionTree4.dot -o DecisionTree4.png\n",
    "!dot -Tpng DecisionTree10.dot -o DecisionTree10.png"
   ]
  },
  {
   "cell_type": "markdown",
   "metadata": {},
   "source": [
    "We can see below the decision tree with max_depth=4\n",
    "- We can see the root is age_group_65+years with a value of 0.5  - This splits the data best i.e. has the highest information gain\n",
    "- For each split the model selects the next best feature\n",
    "- This continues until it reaches a leaf node where the data cannot be split anymore\n",
    "- The output of this is the prediction\n",
    "- We can see one path below is resolved in 3 branches\n",
    "    - age_group_65+ years <= 0.5 -> hosp_yn <= 0.5 -> state_fips_code_6 <= 0.5> -> Resolved to TRUE\n",
    "    - Note: only 1 entry meets this requirement.\n",
    "    - All other entries need additional branches to be resolved"
   ]
  },
  {
   "cell_type": "markdown",
   "metadata": {},
   "source": [
    "<img src=\"DecisionTree4.png\">"
   ]
  },
  {
   "cell_type": "markdown",
   "metadata": {},
   "source": [
    "Viewing a decision tree with maxdepth=10 shows how complicated this model becomes\n",
    "- This is only one example of a decision tree.\n",
    "- A Random forests has 100 decision trees by default\n",
    "- Each decision tree is given a slightly different view of the data"
   ]
  },
  {
   "cell_type": "markdown",
   "metadata": {},
   "source": [
    "<img src=\"DecisionTree10.png\">"
   ]
  },
  {
   "cell_type": "markdown",
   "metadata": {},
   "source": [
    "#### 4.2.3 Interpretation of the random forest model\n",
    "As mentioned above the random forest will keep track of the importance of features\n",
    "- We can see from the dataframe below the results of this feature importance ranking\n",
    "- The more important features are the features that the random forest has identified as having higher information gain\n",
    "- This list is the combined result of the 100 decision trees that make up the random forest model\n",
    "- This feature ranking will help us in our optimisation process going forward\n",
    "    - What are the best features to keep?\n",
    "    - What features can be safely dropped without loosing information?"
   ]
  },
  {
   "cell_type": "code",
   "execution_count": 351,
   "metadata": {},
   "outputs": [
    {
     "data": {
      "text/html": [
       "<div>\n",
       "<style scoped>\n",
       "    .dataframe tbody tr th:only-of-type {\n",
       "        vertical-align: middle;\n",
       "    }\n",
       "\n",
       "    .dataframe tbody tr th {\n",
       "        vertical-align: top;\n",
       "    }\n",
       "\n",
       "    .dataframe thead th {\n",
       "        text-align: right;\n",
       "    }\n",
       "</style>\n",
       "<table border=\"1\" class=\"dataframe\">\n",
       "  <thead>\n",
       "    <tr style=\"text-align: right;\">\n",
       "      <th></th>\n",
       "      <th>feature</th>\n",
       "      <th>importance</th>\n",
       "    </tr>\n",
       "  </thead>\n",
       "  <tbody>\n",
       "    <tr>\n",
       "      <th>87</th>\n",
       "      <td>age_group_65+ years</td>\n",
       "      <td>1.864049e-01</td>\n",
       "    </tr>\n",
       "    <tr>\n",
       "      <th>1</th>\n",
       "      <td>death_prob_sex_age_median</td>\n",
       "      <td>1.574128e-01</td>\n",
       "    </tr>\n",
       "    <tr>\n",
       "      <th>103</th>\n",
       "      <td>hosp_yn_Yes</td>\n",
       "      <td>1.289697e-01</td>\n",
       "    </tr>\n",
       "    <tr>\n",
       "      <th>0</th>\n",
       "      <td>death_prob_month</td>\n",
       "      <td>6.378429e-02</td>\n",
       "    </tr>\n",
       "    <tr>\n",
       "      <th>2</th>\n",
       "      <td>death_prob_medical_mean</td>\n",
       "      <td>6.181986e-02</td>\n",
       "    </tr>\n",
       "    <tr>\n",
       "      <th>...</th>\n",
       "      <td>...</td>\n",
       "      <td>...</td>\n",
       "    </tr>\n",
       "    <tr>\n",
       "      <th>84</th>\n",
       "      <td>state_fips_code_78</td>\n",
       "      <td>9.166827e-06</td>\n",
       "    </tr>\n",
       "    <tr>\n",
       "      <th>3</th>\n",
       "      <td>case_month_2020-02</td>\n",
       "      <td>5.874146e-08</td>\n",
       "    </tr>\n",
       "    <tr>\n",
       "      <th>95</th>\n",
       "      <td>race_Native Hawaiian/Other Pacific Islander</td>\n",
       "      <td>0.000000e+00</td>\n",
       "    </tr>\n",
       "    <tr>\n",
       "      <th>82</th>\n",
       "      <td>state_fips_code_66</td>\n",
       "      <td>0.000000e+00</td>\n",
       "    </tr>\n",
       "    <tr>\n",
       "      <th>90</th>\n",
       "      <td>sex_Other</td>\n",
       "      <td>0.000000e+00</td>\n",
       "    </tr>\n",
       "  </tbody>\n",
       "</table>\n",
       "<p>104 rows × 2 columns</p>\n",
       "</div>"
      ],
      "text/plain": [
       "                                         feature    importance\n",
       "87                           age_group_65+ years  1.864049e-01\n",
       "1                      death_prob_sex_age_median  1.574128e-01\n",
       "103                                  hosp_yn_Yes  1.289697e-01\n",
       "0                               death_prob_month  6.378429e-02\n",
       "2                        death_prob_medical_mean  6.181986e-02\n",
       "..                                           ...           ...\n",
       "84                            state_fips_code_78  9.166827e-06\n",
       "3                             case_month_2020-02  5.874146e-08\n",
       "95   race_Native Hawaiian/Other Pacific Islander  0.000000e+00\n",
       "82                            state_fips_code_66  0.000000e+00\n",
       "90                                     sex_Other  0.000000e+00\n",
       "\n",
       "[104 rows x 2 columns]"
      ]
     },
     "execution_count": 351,
     "metadata": {},
     "output_type": "execute_result"
    }
   ],
   "source": [
    "importance = pd.DataFrame({'feature': X_train.columns, 'importance':rfc.feature_importances_})\n",
    "importance.sort_values('importance', ascending=False)"
   ]
  },
  {
   "cell_type": "markdown",
   "metadata": {},
   "source": [
    "We can see from the list above that many of the features provide little to no information gain. Only 3 provide any real insight"
   ]
  },
  {
   "cell_type": "markdown",
   "metadata": {},
   "source": [
    "### 4.4 Printing 100 predicted target features and evaluate the prediction\n",
    "- Here we will print the predicted target feature value for the first 100 training examples."
   ]
  },
  {
   "cell_type": "code",
   "execution_count": 352,
   "metadata": {},
   "outputs": [
    {
     "data": {
      "text/html": [
       "<div>\n",
       "<style scoped>\n",
       "    .dataframe tbody tr th:only-of-type {\n",
       "        vertical-align: middle;\n",
       "    }\n",
       "\n",
       "    .dataframe tbody tr th {\n",
       "        vertical-align: top;\n",
       "    }\n",
       "\n",
       "    .dataframe thead th {\n",
       "        text-align: right;\n",
       "    }\n",
       "</style>\n",
       "<table border=\"1\" class=\"dataframe\">\n",
       "  <thead>\n",
       "    <tr style=\"text-align: right;\">\n",
       "      <th></th>\n",
       "      <th>ActualClass</th>\n",
       "      <th>PredictedClass</th>\n",
       "    </tr>\n",
       "  </thead>\n",
       "  <tbody>\n",
       "    <tr>\n",
       "      <th>0</th>\n",
       "      <td>0</td>\n",
       "      <td>0</td>\n",
       "    </tr>\n",
       "    <tr>\n",
       "      <th>1</th>\n",
       "      <td>0</td>\n",
       "      <td>0</td>\n",
       "    </tr>\n",
       "    <tr>\n",
       "      <th>2</th>\n",
       "      <td>0</td>\n",
       "      <td>0</td>\n",
       "    </tr>\n",
       "    <tr>\n",
       "      <th>3</th>\n",
       "      <td>0</td>\n",
       "      <td>0</td>\n",
       "    </tr>\n",
       "    <tr>\n",
       "      <th>4</th>\n",
       "      <td>0</td>\n",
       "      <td>0</td>\n",
       "    </tr>\n",
       "    <tr>\n",
       "      <th>...</th>\n",
       "      <td>...</td>\n",
       "      <td>...</td>\n",
       "    </tr>\n",
       "    <tr>\n",
       "      <th>95</th>\n",
       "      <td>0</td>\n",
       "      <td>0</td>\n",
       "    </tr>\n",
       "    <tr>\n",
       "      <th>96</th>\n",
       "      <td>0</td>\n",
       "      <td>0</td>\n",
       "    </tr>\n",
       "    <tr>\n",
       "      <th>97</th>\n",
       "      <td>1</td>\n",
       "      <td>1</td>\n",
       "    </tr>\n",
       "    <tr>\n",
       "      <th>98</th>\n",
       "      <td>0</td>\n",
       "      <td>0</td>\n",
       "    </tr>\n",
       "    <tr>\n",
       "      <th>99</th>\n",
       "      <td>0</td>\n",
       "      <td>0</td>\n",
       "    </tr>\n",
       "  </tbody>\n",
       "</table>\n",
       "<p>100 rows × 2 columns</p>\n",
       "</div>"
      ],
      "text/plain": [
       "    ActualClass  PredictedClass\n",
       "0             0               0\n",
       "1             0               0\n",
       "2             0               0\n",
       "3             0               0\n",
       "4             0               0\n",
       "..          ...             ...\n",
       "95            0               0\n",
       "96            0               0\n",
       "97            1               1\n",
       "98            0               0\n",
       "99            0               0\n",
       "\n",
       "[100 rows x 2 columns]"
      ]
     },
     "execution_count": 352,
     "metadata": {},
     "output_type": "execute_result"
    }
   ],
   "source": [
    "# Predicted class labels for all examples,\n",
    "# using the trained model, on in-sample data (same sample used for training and test)\n",
    "rfc_predictions_train = rfc.predict(X_train)\n",
    "df_true_vs_rfc_predicted = pd.DataFrame({'ActualClass': y_train, 'PredictedClass': rfc_predictions_train})\n",
    "df_true_vs_rfc_predicted.head(100)"
   ]
  },
  {
   "cell_type": "markdown",
   "metadata": {},
   "source": [
    "### 4.5 Evaluation metrics based on training data\n",
    "- We will print the classification evaluation measures computed on the training set (e.g. Accuracy, Confusion matrix, Precision, Recall, F1)\n",
    "- We will discuss finding based on these measures"
   ]
  },
  {
   "cell_type": "code",
   "execution_count": 353,
   "metadata": {},
   "outputs": [
    {
     "name": "stdout",
     "output_type": "stream",
     "text": [
      "==================== Train Data =======================\n",
      "Accuracy:  0.9846785714285714\n",
      "Confusion matrix: \n",
      " [[20737   248]\n",
      " [  181  6834]]\n",
      "Classification report:\n",
      "                precision    recall  f1-score   support\n",
      "\n",
      "           0       0.99      0.99      0.99     20985\n",
      "           1       0.96      0.97      0.97      7015\n",
      "\n",
      "    accuracy                           0.98     28000\n",
      "   macro avg       0.98      0.98      0.98     28000\n",
      "weighted avg       0.98      0.98      0.98     28000\n",
      "\n"
     ]
    }
   ],
   "source": [
    "print(\"==================== Train Data =======================\")\n",
    "print(\"Accuracy: \", metrics.accuracy_score(y_train, rfc_predictions_train))\n",
    "print(\"Confusion matrix: \\n\", metrics.confusion_matrix(y_train, rfc_predictions_train))\n",
    "print(\"Classification report:\\n \", metrics.classification_report(y_train, rfc_predictions_train))"
   ]
  },
  {
   "cell_type": "markdown",
   "metadata": {},
   "source": [
    "Interpretation of results\n",
    "- The model has learned the results. This is clearly overfitting as the precision, recall and f1-score are too high to be considered realistic"
   ]
  },
  {
   "cell_type": "markdown",
   "metadata": {},
   "source": [
    "### 4.6 Evaluate the model using the hold-out (30% examples) test set\n",
    "- These results from the test data will be compared the results from the training data.\n",
    "- In addition they will be compared to the results from a cross-validated model (i.e., a new model trained and evaluated using cross-validation on the full dataset)."
   ]
  },
  {
   "cell_type": "markdown",
   "metadata": {},
   "source": [
    "Printing Actual death_yn vs predicted based on test data"
   ]
  },
  {
   "cell_type": "code",
   "execution_count": 354,
   "metadata": {},
   "outputs": [
    {
     "data": {
      "text/html": [
       "<div>\n",
       "<style scoped>\n",
       "    .dataframe tbody tr th:only-of-type {\n",
       "        vertical-align: middle;\n",
       "    }\n",
       "\n",
       "    .dataframe tbody tr th {\n",
       "        vertical-align: top;\n",
       "    }\n",
       "\n",
       "    .dataframe thead th {\n",
       "        text-align: right;\n",
       "    }\n",
       "</style>\n",
       "<table border=\"1\" class=\"dataframe\">\n",
       "  <thead>\n",
       "    <tr style=\"text-align: right;\">\n",
       "      <th></th>\n",
       "      <th>ActualClass</th>\n",
       "      <th>PredictedClass</th>\n",
       "    </tr>\n",
       "  </thead>\n",
       "  <tbody>\n",
       "    <tr>\n",
       "      <th>0</th>\n",
       "      <td>1</td>\n",
       "      <td>1</td>\n",
       "    </tr>\n",
       "    <tr>\n",
       "      <th>1</th>\n",
       "      <td>0</td>\n",
       "      <td>0</td>\n",
       "    </tr>\n",
       "    <tr>\n",
       "      <th>2</th>\n",
       "      <td>0</td>\n",
       "      <td>0</td>\n",
       "    </tr>\n",
       "    <tr>\n",
       "      <th>3</th>\n",
       "      <td>0</td>\n",
       "      <td>0</td>\n",
       "    </tr>\n",
       "    <tr>\n",
       "      <th>4</th>\n",
       "      <td>0</td>\n",
       "      <td>0</td>\n",
       "    </tr>\n",
       "    <tr>\n",
       "      <th>5</th>\n",
       "      <td>1</td>\n",
       "      <td>1</td>\n",
       "    </tr>\n",
       "    <tr>\n",
       "      <th>6</th>\n",
       "      <td>0</td>\n",
       "      <td>0</td>\n",
       "    </tr>\n",
       "    <tr>\n",
       "      <th>7</th>\n",
       "      <td>0</td>\n",
       "      <td>0</td>\n",
       "    </tr>\n",
       "    <tr>\n",
       "      <th>8</th>\n",
       "      <td>0</td>\n",
       "      <td>0</td>\n",
       "    </tr>\n",
       "    <tr>\n",
       "      <th>9</th>\n",
       "      <td>0</td>\n",
       "      <td>0</td>\n",
       "    </tr>\n",
       "    <tr>\n",
       "      <th>10</th>\n",
       "      <td>0</td>\n",
       "      <td>0</td>\n",
       "    </tr>\n",
       "    <tr>\n",
       "      <th>11</th>\n",
       "      <td>0</td>\n",
       "      <td>0</td>\n",
       "    </tr>\n",
       "    <tr>\n",
       "      <th>12</th>\n",
       "      <td>0</td>\n",
       "      <td>1</td>\n",
       "    </tr>\n",
       "    <tr>\n",
       "      <th>13</th>\n",
       "      <td>1</td>\n",
       "      <td>1</td>\n",
       "    </tr>\n",
       "    <tr>\n",
       "      <th>14</th>\n",
       "      <td>1</td>\n",
       "      <td>1</td>\n",
       "    </tr>\n",
       "    <tr>\n",
       "      <th>15</th>\n",
       "      <td>0</td>\n",
       "      <td>0</td>\n",
       "    </tr>\n",
       "    <tr>\n",
       "      <th>16</th>\n",
       "      <td>1</td>\n",
       "      <td>1</td>\n",
       "    </tr>\n",
       "    <tr>\n",
       "      <th>17</th>\n",
       "      <td>0</td>\n",
       "      <td>0</td>\n",
       "    </tr>\n",
       "    <tr>\n",
       "      <th>18</th>\n",
       "      <td>0</td>\n",
       "      <td>0</td>\n",
       "    </tr>\n",
       "    <tr>\n",
       "      <th>19</th>\n",
       "      <td>0</td>\n",
       "      <td>0</td>\n",
       "    </tr>\n",
       "  </tbody>\n",
       "</table>\n",
       "</div>"
      ],
      "text/plain": [
       "    ActualClass  PredictedClass\n",
       "0             1               1\n",
       "1             0               0\n",
       "2             0               0\n",
       "3             0               0\n",
       "4             0               0\n",
       "5             1               1\n",
       "6             0               0\n",
       "7             0               0\n",
       "8             0               0\n",
       "9             0               0\n",
       "10            0               0\n",
       "11            0               0\n",
       "12            0               1\n",
       "13            1               1\n",
       "14            1               1\n",
       "15            0               0\n",
       "16            1               1\n",
       "17            0               0\n",
       "18            0               0\n",
       "19            0               0"
      ]
     },
     "execution_count": 354,
     "metadata": {},
     "output_type": "execute_result"
    }
   ],
   "source": [
    "# Predicted class labels for all examples,\n",
    "# using the trained model, on in-sample data (same sample used for training and test)\n",
    "rfc_predictions_test = rfc.predict(X_test)\n",
    "df_true_vs_rfc_predicted_test = pd.DataFrame({'ActualClass': y_test, 'PredictedClass': rfc_predictions_test})\n",
    "df_true_vs_rfc_predicted_test.head(20)"
   ]
  },
  {
   "cell_type": "markdown",
   "metadata": {},
   "source": [
    "Evaluation metrics based on test data"
   ]
  },
  {
   "cell_type": "code",
   "execution_count": 355,
   "metadata": {},
   "outputs": [
    {
     "name": "stdout",
     "output_type": "stream",
     "text": [
      "==================== Test Data =======================\n",
      "Accuracy:  0.9491666666666667\n",
      "Confusion matrix: \n",
      " [[8672  343]\n",
      " [ 267 2718]]\n",
      "Classification report:\n",
      "                precision    recall  f1-score   support\n",
      "\n",
      "           0       0.97      0.96      0.97      9015\n",
      "           1       0.89      0.91      0.90      2985\n",
      "\n",
      "    accuracy                           0.95     12000\n",
      "   macro avg       0.93      0.94      0.93     12000\n",
      "weighted avg       0.95      0.95      0.95     12000\n",
      "\n",
      "==================== Train Data =======================\n",
      "Accuracy:  0.9846785714285714\n",
      "Confusion matrix: \n",
      " [[20737   248]\n",
      " [  181  6834]]\n",
      "Classification report:\n",
      "                precision    recall  f1-score   support\n",
      "\n",
      "           0       0.99      0.99      0.99     20985\n",
      "           1       0.96      0.97      0.97      7015\n",
      "\n",
      "    accuracy                           0.98     28000\n",
      "   macro avg       0.98      0.98      0.98     28000\n",
      "weighted avg       0.98      0.98      0.98     28000\n",
      "\n",
      "======================================================\n"
     ]
    }
   ],
   "source": [
    "print(\"==================== Test Data =======================\")\n",
    "print(\"Accuracy: \", metrics.accuracy_score(y_test, rfc_predictions_test))\n",
    "print(\"Confusion matrix: \\n\", metrics.confusion_matrix(y_test, rfc_predictions_test))\n",
    "print(\"Classification report:\\n \", metrics.classification_report(y_test, rfc_predictions_test))\n",
    "print(\"==================== Train Data =======================\")\n",
    "print(\"Accuracy: \", metrics.accuracy_score(y_train, rfc_predictions_train))\n",
    "print(\"Confusion matrix: \\n\", metrics.confusion_matrix(y_train, rfc_predictions_train))\n",
    "print(\"Classification report:\\n \", metrics.classification_report(y_train, rfc_predictions_train))\n",
    "print(\"======================================================\")"
   ]
  },
  {
   "cell_type": "markdown",
   "metadata": {},
   "source": [
    "Interpretation of test results and comparison with training results\n",
    "- The accuracy for the test is a bit lower as we are not testing the model with data it has not seen before\n",
    "- The scores seem too high to be considered realistic"
   ]
  },
  {
   "cell_type": "markdown",
   "metadata": {},
   "source": [
    "### 4.7 Cross validation\n",
    "- We will preform cross validation and store the results in a dictionary for later use"
   ]
  },
  {
   "cell_type": "code",
   "execution_count": 356,
   "metadata": {},
   "outputs": [],
   "source": [
    "def cross_val_RandomForest_DF(X,y, depth=None, estimators=100):\n",
    "    \"\"\"Function to perform cross validation and store results\n",
    "    in dataframe. Cross validation looks at accuracy, precision,\n",
    "    recall, f1. Returns a dataframe with results\"\"\"\n",
    "\n",
    "    # store results in dict\n",
    "    RandomForestResults = {}\n",
    "    # metrics to test against\n",
    "    test_metrics = ['accuracy','precision','recall', 'f1']\n",
    "\n",
    "    for metric in test_metrics:\n",
    "        # generate test results\n",
    "        result = cross_val_score(RandomForestClassifier(n_estimators=estimators, max_features='auto', oob_score=True, random_state=1, max_depth=depth), X, y, scoring=metric, cv=10)\n",
    "        # store result in dict\n",
    "        RandomForestResults[metric] = result.mean()\n",
    "\n",
    "    # create dataframe with results\n",
    "    RandomForestDF = pd.DataFrame.from_dict(RandomForestResults, orient='index', columns=['Random_Forests'])\n",
    "\n",
    "    return RandomForestDF"
   ]
  },
  {
   "cell_type": "markdown",
   "metadata": {},
   "source": [
    "#### The results for Random Forests are summarized below"
   ]
  },
  {
   "cell_type": "code",
   "execution_count": 357,
   "metadata": {},
   "outputs": [
    {
     "name": "stdout",
     "output_type": "stream",
     "text": [
      "Mean results from 10 fold cross validation are:\n"
     ]
    },
    {
     "data": {
      "text/html": [
       "<div>\n",
       "<style scoped>\n",
       "    .dataframe tbody tr th:only-of-type {\n",
       "        vertical-align: middle;\n",
       "    }\n",
       "\n",
       "    .dataframe tbody tr th {\n",
       "        vertical-align: top;\n",
       "    }\n",
       "\n",
       "    .dataframe thead th {\n",
       "        text-align: right;\n",
       "    }\n",
       "</style>\n",
       "<table border=\"1\" class=\"dataframe\">\n",
       "  <thead>\n",
       "    <tr style=\"text-align: right;\">\n",
       "      <th></th>\n",
       "      <th>Random_Forests</th>\n",
       "    </tr>\n",
       "  </thead>\n",
       "  <tbody>\n",
       "    <tr>\n",
       "      <th>accuracy</th>\n",
       "      <td>0.949750</td>\n",
       "    </tr>\n",
       "    <tr>\n",
       "      <th>precision</th>\n",
       "      <td>0.893406</td>\n",
       "    </tr>\n",
       "    <tr>\n",
       "      <th>recall</th>\n",
       "      <td>0.907300</td>\n",
       "    </tr>\n",
       "    <tr>\n",
       "      <th>f1</th>\n",
       "      <td>0.900268</td>\n",
       "    </tr>\n",
       "  </tbody>\n",
       "</table>\n",
       "</div>"
      ],
      "text/plain": [
       "           Random_Forests\n",
       "accuracy         0.949750\n",
       "precision        0.893406\n",
       "recall           0.907300\n",
       "f1               0.900268"
      ]
     },
     "execution_count": 357,
     "metadata": {},
     "output_type": "execute_result"
    }
   ],
   "source": [
    "RandomForestDF = cross_val_RandomForest_DF(X,y)\n",
    "print(f\"Mean results from 10 fold cross validation are:\")\n",
    "RandomForestDF"
   ]
  },
  {
   "cell_type": "markdown",
   "metadata": {},
   "source": [
    "The results above are inline with expectation\n",
    "- The accuracy is the same\n",
    "- The precision, recall and f1 are all a little lower but in line with the other models"
   ]
  },
  {
   "cell_type": "markdown",
   "metadata": {},
   "source": [
    "### 4.8 Out of bag accuracy\n",
    "- This is the out of bag error estimate\n",
    "- It is an internal error estimate of a random forest as it is being constructed.\n",
    "- It is used as an additional measure and should be line with the cross validation results\n",
    "- This is generally expected to be the lowest"
   ]
  },
  {
   "cell_type": "code",
   "execution_count": 358,
   "metadata": {},
   "outputs": [
    {
     "data": {
      "text/plain": [
       "0.9477857142857142"
      ]
     },
     "execution_count": 358,
     "metadata": {},
     "output_type": "execute_result"
    }
   ],
   "source": [
    "# compute the out-of-bag classification accuracy\n",
    "rfc.oob_score_"
   ]
  },
  {
   "cell_type": "markdown",
   "metadata": {},
   "source": [
    "This value is in line with the Cross validation results above"
   ]
  },
  {
   "cell_type": "code",
   "execution_count": null,
   "metadata": {},
   "outputs": [],
   "source": []
  }
 ],
 "metadata": {
  "kernelspec": {
   "display_name": "Python 3 (ipykernel)",
   "language": "python",
   "name": "python3"
  },
  "language_info": {
   "codemirror_mode": {
    "name": "ipython",
    "version": 3
   },
   "file_extension": ".py",
   "mimetype": "text/x-python",
   "name": "python",
   "nbconvert_exporter": "python",
   "pygments_lexer": "ipython3",
   "version": "3.9.16"
  }
 },
 "nbformat": 4,
 "nbformat_minor": 1
}
