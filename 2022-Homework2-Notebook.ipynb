{
 "cells": [
  {
   "attachments": {},
   "cell_type": "markdown",
   "metadata": {},
   "source": [
    "# Homework2\n",
    "\n",
    "Please note that this is a group project (2 students per group). If you do not have a group yet, please email georgiana.ifrim@ucd.ie to be assigned to a group.\n",
    "\n",
    "Please upload to Brightspace a **.zip** archive containing your Jupyter Notebook with solutions and all data required to reproduce your solutions. \n",
    "\n",
    "Please also prepare a **requirements.txt** file which lists all the packages that you have used for your homework, one package per line. This will allow us to install all required packages.\n",
    "\n",
    "Please name your .zip archive using your full names and student ids as follows - **Firstname1_Lastname1_id1_Firstname2_Lastname2_id2_COMP47350_Homework1.zip**. Please only 1 person in the team submit this zip file to Brightspace (no need for each member to submit a duplicate of the zip).\n",
    "\n",
    "For your Notebook, please split the code and explanations into cells so it is easy to see and read the results of each step of your solution. Please remember to name your variables and methods with self-explanatory names. Please remember to write comments and where needed, justifications, for the decisions you make and code you write. \n",
    "\n",
    "Your code and analysis is like a story that awaits to be read, please make it a nice and clear story. Always start with an introduction about the problem and your understanding of the problem domain and data analytics solution and describe your steps and your findings from each step.\n",
    "\n",
    "The accepted file formats for the homework are:\n",
    "    - .ipynb\n",
    "    - .zip\n",
    "    - .pdf\n",
    "    - .csv\n",
    "    \n",
    "Please aim to keep the whole code for Homework2 in a single notebook. In case you need to first prepare the data and prefer to do this in a separate notebook, before starting on Homework2, you can do this, but to the Homework2 notebook add a short summary of what was done to prepare the data. Please document the structure of your files in a README.txt file, so your submission folder and files are easy to navigate for an outsider.\n",
    "\n",
    "Usage of external tools/files is discouraged for portability reasons. Files in any other format but mentioned above can be used but will not considered for the submission (including .doc, .rar, .7z, .pages, .xlsx, .tex etc.). \n",
    "Any image format is allowed to be used as far as the images appear embedded in your report (.ipynb or .pdf or .html).\n",
    "\n",
    "**Deadline: Monday, 8 May, 2023, midnight.** \n"
   ]
  },
  {
   "attachments": {},
   "cell_type": "markdown",
   "metadata": {},
   "source": [
    "## Exercises\n",
    "\n",
    "**This homework focuses on training and evaluating prediction models for a particular problem and dataset.**\n",
    "The data comes from the Centers for Disease Control and Prevention (CDC: https://covid.cdc.gov/covid-data-tracker/). CDC is a USA health protection agency and is in charge of collecting data about the COVID-19 pandemic, and in particular, tracking cases, deaths, and trends of COVID-19 in the United States. CDC collects and makes public deidentified individual-case data on a daily basis, submitted using standardized case reporting forms. In this analysis, we focus on using the data collected by CDC to build a data analytics solution for death risk prediction. \n",
    "\n",
    "The dataset we work with is a sample of the public data released by CDC, where the outcome for the target feature **death_yn** is known (i.e., either 'yes' or 'no'):\n",
    "https://data.cdc.gov/Case-Surveillance/COVID-19-Case-Surveillance-Public-Use-Data/vbim-akqf\n",
    "\n",
    "The goal in this homework is to work with the data to build and evaluate prediction models that capture the relationship between the descriptive features and the target feature **death_yn**. For this homework you are asked to use the same dataset allocated to you in Homework1 (you can use your cleaned/prepared CSV from Homework1 or start from the raw dataset, clean it according to concepts covered in the lectures/labs, then use it for training prediction models). To use the 2 individual files allocated for Homework1, you can merge them first, then clean the resulting dataset, before starting on Homework2 requirements.\n",
    " \n",
    "There are 5 parts for this homework. Each part has an indicative maximum percentage given in brackets, e.g., part (1) has a maximum of 25% shown as [25]. The total that can be achieved is 100.\n",
    "\n",
    "\n",
    "(1). [25] **Data Understanding and Preparation:** Exploring relationships between feature pairs and selecting/transforming promising features based on a given training set.\n",
    "\n",
    "    - (1.1) Split the dataset into two datasets: 70% training and 30% test. Keep the test set aside. \n",
    "    - (1.2) On the training set:\n",
    "        - Plot the correlations between all the continuous features (if any). Discuss what you observe in these plots.\n",
    "        - For each continuous feature, plot its interaction with the target feature (a plot for each pair of   continuous feature and target feature). Discuss what you observe from these plots, e.g., which continuous features seem to be better at predicting the target feature? Choose a subset of continuous features you find promising (if any). Justify your choices.\n",
    "        - For each categorical feature, plot its pairwise interaction with the target feature. Discuss what  knowledge you gain from these plots, e.g., which categorical features seem to be better at predicting the target feature? Choose a subset of categorical features you find promising (if any). Justify your choices.\n",
    "      \n",
    "    \n",
    "(2). [15] **Predictive Modeling:** Linear Regression.  \n",
    "\n",
    "    - (2.1) On the training set, train a linear regression model to predict the target feature, using only the  descriptive features selected in exercise (1) above. \n",
    "    - (2.2) Print the coefficients learned by the model and discuss their role in the model (e.g., interpret the model by analysing each coefficient and how it relates each input feature to the target feature).    \n",
    "    - (2.3) Print the predicted target feature value for the first 10 training examples. Threshold the predicted target feature value given by the linear regression model at 0.5, to get the predicted class for each example. Print the predicted class for the first 10 examples. Print a few classification evaluation measures computed on the full training set (e.g., Accuracy, Confusion matrix, Precision, Recall, F1) and discuss your findings so far.\n",
    "    - (2.4) Evaluate the model using classification evaluation measures on the hold-out (30% examples) test set. Compare these results with the evaluation results obtained on the training (70%) dataset. Also compare these results with a cross-validated model (i.e., a new model trained and evaluated using cross-validation on the full dataset). You can use classic k-fold cross-validation or repeated random train/test (70/30) splits. Compare the cross-validation metrics to those obtained on the single train/test split and discuss your findings.\n",
    "    \n",
    "(3). [15] **Predictive Modeling:** Logistic Regression.  \n",
    "\n",
    "    - (3.1) On the training set, train a logistic regression model to predict the target feature, using the descriptive features selected in exercise (1) above.   \n",
    "    - (3.2) Print the coefficients learned by the model and discuss their role in the model (e.g., interpret the model).    \n",
    "    - (3.3) Print the predicted target feature value for the first 10 training examples. Print the predicted class for the first 10 examples. Print a few classification evaluation measures computed on the full training set (e.g., Accuracy, Confusion matrix, Precision, Recall, F1) and discuss your findings so far.\n",
    "    - (3.4) Evaluate the model using classification evaluation measures on the hold-out (30% examples) test set. Compare these results with the evaluation results obtained when using the training (70%) dataset for evaluation. Also compare these results with a cross-validated model (i.e., a new model trained and evaluated using cross-validation on the full dataset). You can use classic k-fold cross-validation or repeated train/test (70/30) splits. Compare the cross-validation metrics to those obtained on the single train/test split and discuss your findings.\n",
    "    \n",
    "    \n",
    "(4). [20] **Predictive Modeling:** Random Forest.  \n",
    "\n",
    "    - (4.1) On the training set, train a random forest model to predict the target feature, using the descriptive features selected in exercise (1) above.   \n",
    "    - (4.2) Can you interpret the random forest model? Discuss any knowledge you can gain in regard of the working of this model.   \n",
    "    - (4.3) Print the predicted target feature value for the first 10 training examples. Print the predicted class for the first 10 examples. Print a few classification evaluation measures computed on the full training set (e.g., Accuracy, Confusion matrix, Precision, Recall, F1) and discuss your findings so far.\n",
    "    - (4.4) Evaluate the model using classification evaluation measures on the hold-out (30% examples) test set. Compare these results with the evaluation results obtained when using the training (70%) dataset for evaluation. Also compare these results with a cross-validated model (i.e., a new model trained and evaluated using cross-validation on the full dataset). You can use classic k-fold cross-validation or repeated train/test (70/30) splits. Compare the cross-validation metrics to those obtained on the single train/test split and to the Random Forest out-of-sample error and discuss your findings.\n",
    "    \n",
    "(5). [25] **Improving Predictive Models.**\n",
    "\n",
    "    - (5.1) Which model of the ones trained above performs better at predicting the target feature? Is it more   accurate than a simple model that always predicts the majority class (i.e., if 'no' is the majority class in your dataset, the simple model always predicts 'no' for the target feature)? Justify your answers.\n",
    "    - (5.2) Summarise your understanding of the problem and of your predictive modeling results so far. Can you think of any new ideas to improve the best model so far (e.g., by using furher data prep such as: feature selection, feature re-scaling, creating new features, combining predictive models, or using other domain knowledge)? Please show how your ideas actually work in practice (with code), by training and evaluating your proposed models. Summarise your findings so far. "
   ]
  },
  {
   "attachments": {},
   "cell_type": "markdown",
   "metadata": {},
   "source": [
    "## Introduction\n",
    "- This notebook will apply the cleaned dataset from Task1 and use it to create 3 different models to predict whether the features can predict the death from Covid-19\n",
    "\n",
    "It is broken into 5 main parts:\n",
    "1. Review of the dataset from homework one and decide on which features to use to build our model\n",
    "2. Creation and analysis of a Linear Regression model\n",
    "3. Creation and analysis of Logistical Regression model\n",
    "4. Creation and analysis of Random Forest model\n",
    "5. Optimisation of each model"
   ]
  },
  {
   "cell_type": "code",
   "execution_count": 67,
   "metadata": {},
   "outputs": [],
   "source": [
    "import pandas as pd\n",
    "import numpy as np\n",
    "import seaborn as sns\n",
    "import matplotlib.pyplot as plt\n",
    "import matplotlib.patches as mpatches\n",
    "\n",
    "from patsy import dmatrices\n",
    "\n",
    "from sklearn.linear_model import LinearRegression\n",
    "from sklearn.linear_model import LogisticRegression\n",
    "from sklearn.tree import DecisionTreeClassifier\n",
    "from sklearn.ensemble import RandomForestClassifier\n",
    "from sklearn.model_selection import train_test_split\n",
    "from sklearn import metrics\n",
    "from sklearn.model_selection import cross_validate\n",
    "from sklearn.model_selection import cross_val_score\n",
    "from sklearn.tree import export_graphviz\n",
    "\n",
    "import graphviz\n",
    "from graphviz import Source\n",
    "\n",
    "# ignore warnings\n",
    "import warnings\n",
    "warnings.filterwarnings('ignore')"
   ]
  },
  {
   "attachments": {},
   "cell_type": "markdown",
   "metadata": {},
   "source": [
    "Our two original datasets have been combined and cleaned (Task1) and is now imported as a starting point for this work.\n",
    "1. The accompanying data quality report from Task1 can be found attached as PDF as a background to this cleaned dataset;\n",
    "2. A summary of this plan can be seen in the table below;\n",
    "3. In addition, a number of extra features were added (to better capture the problem domain) that were not in the original dataset.\n",
    "    - death_prob_sex_age -> likelihood of death for an instance as a percentage, given sex and age_group.\n",
    "    - death_prob_medical -> likelihood of death for an instance as a percentage, given the medical information of their symptoms and whether they were hospitalised\n",
    "    - state_party -> records party the state voted for in the 2020 presidential election\n",
    "    - death_prob_month -> percentage of deaths per case_month\n"
   ]
  },
  {
   "attachments": {},
   "cell_type": "markdown",
   "metadata": {},
   "source": [
    "### Summary of data quality plan:\n",
    "\n",
    "| Feature Names                      | Data Quality Issue                     | Handling Strategy                |\n",
    "|------------------------------------|----------------------------------------|----------------------------------|\n",
    "| case_month                         | None                                   | Do Nothing                       |\n",
    "| res_state                          | None                                   | Do Nothing                       |\n",
    "| state_fips_code                    | None                                   | Do Nothing                       |\n",
    "| res_county                         | Missing Values (6%)                    | Replace with 'Missing'           |\n",
    "| county_fips_code                   | Missing Values (6%)                    | Replace with 'Missing'           |\n",
    "| age_group                          | Missing Values (0.8%)                  | Replace with 'Missing'           |\n",
    "| sex                                | Missing Values (2%)                    | Impute based on data proportions |\n",
    "| race                               | Missing Values (23%)                   | Replace with 'Missing'           |\n",
    "| ethnicity                          | Missing Values (31%)                   | Replace with 'Missing'           |\n",
    "| case_onset_interval                | Constant Column                        | Drop                             |\n",
    "| case_process_specimen_interval     | Negative Values & Missing Values (56%) | Replace with mode                |\n",
    "| process                            | Missing Values (91%)                   | Drop                             |\n",
    "| exposure_yn                        | Constant Column                        | Drop                             |\n",
    "| current_status                     | None                                   | Do Nothing                       |\n",
    "| sympotom_status                    | Missing Values (53%)                   | Replace with 'Missing'           |\n",
    "| hosp_yn                            | Missing Values (33%)                   | Replace with 'Missing'           |\n",
    "| icu_yn                             | Missing Values (91%)                   | Drop                             |\n",
    "| death_yn                           | None                                   | Do Nothing                       |\n",
    "| underlying_conditions_yn           | Missing Values (91%)                   | Drop                             |"
   ]
  },
  {
   "attachments": {},
   "cell_type": "markdown",
   "metadata": {},
   "source": [
    "##  1.1 Review, prepare and split the dataset into two datasets: 70% training and 30% test\n",
    "Here we will import cleaned dataset"
   ]
  },
  {
   "cell_type": "code",
   "execution_count": 68,
   "metadata": {},
   "outputs": [
    {
     "data": {
      "text/html": [
       "<div>\n",
       "<style scoped>\n",
       "    .dataframe tbody tr th:only-of-type {\n",
       "        vertical-align: middle;\n",
       "    }\n",
       "\n",
       "    .dataframe tbody tr th {\n",
       "        vertical-align: top;\n",
       "    }\n",
       "\n",
       "    .dataframe thead th {\n",
       "        text-align: right;\n",
       "    }\n",
       "</style>\n",
       "<table border=\"1\" class=\"dataframe\">\n",
       "  <thead>\n",
       "    <tr style=\"text-align: right;\">\n",
       "      <th></th>\n",
       "      <th>case_month</th>\n",
       "      <th>res_state</th>\n",
       "      <th>state_fips_code</th>\n",
       "      <th>res_county</th>\n",
       "      <th>county_fips_code</th>\n",
       "      <th>age_group</th>\n",
       "      <th>sex</th>\n",
       "      <th>race</th>\n",
       "      <th>ethnicity</th>\n",
       "      <th>case_positive_specimen_interval</th>\n",
       "      <th>current_status</th>\n",
       "      <th>symptom_status</th>\n",
       "      <th>hosp_yn</th>\n",
       "      <th>death_yn</th>\n",
       "      <th>death_prob_sex_age</th>\n",
       "      <th>death_prob_medical</th>\n",
       "      <th>state_party</th>\n",
       "      <th>death_prob_month</th>\n",
       "    </tr>\n",
       "  </thead>\n",
       "  <tbody>\n",
       "    <tr>\n",
       "      <th>0</th>\n",
       "      <td>2020-12</td>\n",
       "      <td>CA</td>\n",
       "      <td>6</td>\n",
       "      <td>RIVERSIDE</td>\n",
       "      <td>6065.0</td>\n",
       "      <td>65+ years</td>\n",
       "      <td>Male</td>\n",
       "      <td>Missing</td>\n",
       "      <td>Missing</td>\n",
       "      <td>0</td>\n",
       "      <td>Laboratory-confirmed case</td>\n",
       "      <td>Missing</td>\n",
       "      <td>Missing</td>\n",
       "      <td>Yes</td>\n",
       "      <td>0.7429577464788732</td>\n",
       "      <td>Missing</td>\n",
       "      <td>Democrat</td>\n",
       "      <td>0.427450</td>\n",
       "    </tr>\n",
       "    <tr>\n",
       "      <th>1</th>\n",
       "      <td>2022-01</td>\n",
       "      <td>NJ</td>\n",
       "      <td>34</td>\n",
       "      <td>GLOUCESTER</td>\n",
       "      <td>34015.0</td>\n",
       "      <td>65+ years</td>\n",
       "      <td>Male</td>\n",
       "      <td>White</td>\n",
       "      <td>Non-Hispanic/Latino</td>\n",
       "      <td>2</td>\n",
       "      <td>Laboratory-confirmed case</td>\n",
       "      <td>Symptomatic</td>\n",
       "      <td>Yes</td>\n",
       "      <td>Yes</td>\n",
       "      <td>0.7429577464788732</td>\n",
       "      <td>0.8035019455252919</td>\n",
       "      <td>Democrat</td>\n",
       "      <td>0.173905</td>\n",
       "    </tr>\n",
       "    <tr>\n",
       "      <th>2</th>\n",
       "      <td>2020-11</td>\n",
       "      <td>TN</td>\n",
       "      <td>47</td>\n",
       "      <td>PUTNAM</td>\n",
       "      <td>47141.0</td>\n",
       "      <td>65+ years</td>\n",
       "      <td>Male</td>\n",
       "      <td>White</td>\n",
       "      <td>Non-Hispanic/Latino</td>\n",
       "      <td>0</td>\n",
       "      <td>Laboratory-confirmed case</td>\n",
       "      <td>Symptomatic</td>\n",
       "      <td>Yes</td>\n",
       "      <td>Yes</td>\n",
       "      <td>0.7429577464788732</td>\n",
       "      <td>0.8035019455252919</td>\n",
       "      <td>Republican</td>\n",
       "      <td>0.324263</td>\n",
       "    </tr>\n",
       "    <tr>\n",
       "      <th>3</th>\n",
       "      <td>2020-04</td>\n",
       "      <td>NY</td>\n",
       "      <td>36</td>\n",
       "      <td>WESTCHESTER</td>\n",
       "      <td>36119.0</td>\n",
       "      <td>65+ years</td>\n",
       "      <td>Male</td>\n",
       "      <td>Black</td>\n",
       "      <td>Non-Hispanic/Latino</td>\n",
       "      <td>0</td>\n",
       "      <td>Laboratory-confirmed case</td>\n",
       "      <td>Symptomatic</td>\n",
       "      <td>Yes</td>\n",
       "      <td>Yes</td>\n",
       "      <td>0.7429577464788732</td>\n",
       "      <td>0.8035019455252919</td>\n",
       "      <td>Democrat</td>\n",
       "      <td>0.782269</td>\n",
       "    </tr>\n",
       "    <tr>\n",
       "      <th>4</th>\n",
       "      <td>2020-03</td>\n",
       "      <td>TN</td>\n",
       "      <td>47</td>\n",
       "      <td>SUMNER</td>\n",
       "      <td>47165.0</td>\n",
       "      <td>65+ years</td>\n",
       "      <td>Female</td>\n",
       "      <td>White</td>\n",
       "      <td>Non-Hispanic/Latino</td>\n",
       "      <td>0</td>\n",
       "      <td>Laboratory-confirmed case</td>\n",
       "      <td>Symptomatic</td>\n",
       "      <td>Yes</td>\n",
       "      <td>Yes</td>\n",
       "      <td>0.6741793238608526</td>\n",
       "      <td>0.8035019455252919</td>\n",
       "      <td>Republican</td>\n",
       "      <td>0.720820</td>\n",
       "    </tr>\n",
       "  </tbody>\n",
       "</table>\n",
       "</div>"
      ],
      "text/plain": [
       "  case_month res_state  state_fips_code   res_county county_fips_code  \\\n",
       "0    2020-12        CA                6    RIVERSIDE           6065.0   \n",
       "1    2022-01        NJ               34   GLOUCESTER          34015.0   \n",
       "2    2020-11        TN               47       PUTNAM          47141.0   \n",
       "3    2020-04        NY               36  WESTCHESTER          36119.0   \n",
       "4    2020-03        TN               47       SUMNER          47165.0   \n",
       "\n",
       "   age_group     sex     race            ethnicity  \\\n",
       "0  65+ years    Male  Missing              Missing   \n",
       "1  65+ years    Male    White  Non-Hispanic/Latino   \n",
       "2  65+ years    Male    White  Non-Hispanic/Latino   \n",
       "3  65+ years    Male    Black  Non-Hispanic/Latino   \n",
       "4  65+ years  Female    White  Non-Hispanic/Latino   \n",
       "\n",
       "   case_positive_specimen_interval             current_status symptom_status  \\\n",
       "0                                0  Laboratory-confirmed case        Missing   \n",
       "1                                2  Laboratory-confirmed case    Symptomatic   \n",
       "2                                0  Laboratory-confirmed case    Symptomatic   \n",
       "3                                0  Laboratory-confirmed case    Symptomatic   \n",
       "4                                0  Laboratory-confirmed case    Symptomatic   \n",
       "\n",
       "   hosp_yn death_yn  death_prob_sex_age  death_prob_medical state_party  \\\n",
       "0  Missing      Yes  0.7429577464788732             Missing    Democrat   \n",
       "1      Yes      Yes  0.7429577464788732  0.8035019455252919    Democrat   \n",
       "2      Yes      Yes  0.7429577464788732  0.8035019455252919  Republican   \n",
       "3      Yes      Yes  0.7429577464788732  0.8035019455252919    Democrat   \n",
       "4      Yes      Yes  0.6741793238608526  0.8035019455252919  Republican   \n",
       "\n",
       "   death_prob_month  \n",
       "0          0.427450  \n",
       "1          0.173905  \n",
       "2          0.324263  \n",
       "3          0.782269  \n",
       "4          0.720820  "
      ]
     },
     "execution_count": 68,
     "metadata": {},
     "output_type": "execute_result"
    }
   ],
   "source": [
    "# read in the cleaned csv\n",
    "df = pd.read_csv(\"covid19_cdc_cleaned_data.csv\", keep_default_na=True, delimiter=',', skipinitialspace=True)\n",
    "df.head(5)"
   ]
  },
  {
   "cell_type": "code",
   "execution_count": 69,
   "metadata": {},
   "outputs": [
    {
     "data": {
      "text/html": [
       "<div>\n",
       "<style scoped>\n",
       "    .dataframe tbody tr th:only-of-type {\n",
       "        vertical-align: middle;\n",
       "    }\n",
       "\n",
       "    .dataframe tbody tr th {\n",
       "        vertical-align: top;\n",
       "    }\n",
       "\n",
       "    .dataframe thead th {\n",
       "        text-align: right;\n",
       "    }\n",
       "</style>\n",
       "<table border=\"1\" class=\"dataframe\">\n",
       "  <thead>\n",
       "    <tr style=\"text-align: right;\">\n",
       "      <th></th>\n",
       "      <th>case_month</th>\n",
       "      <th>res_state</th>\n",
       "      <th>state_fips_code</th>\n",
       "      <th>res_county</th>\n",
       "      <th>county_fips_code</th>\n",
       "      <th>age_group</th>\n",
       "      <th>sex</th>\n",
       "      <th>race</th>\n",
       "      <th>ethnicity</th>\n",
       "      <th>case_positive_specimen_interval</th>\n",
       "      <th>current_status</th>\n",
       "      <th>symptom_status</th>\n",
       "      <th>hosp_yn</th>\n",
       "      <th>death_yn</th>\n",
       "      <th>death_prob_sex_age</th>\n",
       "      <th>death_prob_medical</th>\n",
       "      <th>state_party</th>\n",
       "      <th>death_prob_month</th>\n",
       "    </tr>\n",
       "  </thead>\n",
       "  <tbody>\n",
       "    <tr>\n",
       "      <th>39995</th>\n",
       "      <td>2022-02</td>\n",
       "      <td>MN</td>\n",
       "      <td>27</td>\n",
       "      <td>POLK</td>\n",
       "      <td>27119.0</td>\n",
       "      <td>0 - 17 years</td>\n",
       "      <td>Female</td>\n",
       "      <td>Missing</td>\n",
       "      <td>Missing</td>\n",
       "      <td>0</td>\n",
       "      <td>Laboratory-confirmed case</td>\n",
       "      <td>Missing</td>\n",
       "      <td>Missing</td>\n",
       "      <td>No</td>\n",
       "      <td>0.0003727171077152441</td>\n",
       "      <td>Missing</td>\n",
       "      <td>Democrat</td>\n",
       "      <td>0.132992</td>\n",
       "    </tr>\n",
       "    <tr>\n",
       "      <th>39996</th>\n",
       "      <td>2022-11</td>\n",
       "      <td>OH</td>\n",
       "      <td>39</td>\n",
       "      <td>FRANKLIN</td>\n",
       "      <td>39049.0</td>\n",
       "      <td>18 to 49 years</td>\n",
       "      <td>Female</td>\n",
       "      <td>Black</td>\n",
       "      <td>Non-Hispanic/Latino</td>\n",
       "      <td>0</td>\n",
       "      <td>Laboratory-confirmed case</td>\n",
       "      <td>Missing</td>\n",
       "      <td>Missing</td>\n",
       "      <td>No</td>\n",
       "      <td>0.005774216356351638</td>\n",
       "      <td>Missing</td>\n",
       "      <td>Republican</td>\n",
       "      <td>0.007246</td>\n",
       "    </tr>\n",
       "    <tr>\n",
       "      <th>39997</th>\n",
       "      <td>2021-10</td>\n",
       "      <td>MI</td>\n",
       "      <td>26</td>\n",
       "      <td>WAYNE</td>\n",
       "      <td>26163.0</td>\n",
       "      <td>18 to 49 years</td>\n",
       "      <td>Female</td>\n",
       "      <td>Black</td>\n",
       "      <td>Non-Hispanic/Latino</td>\n",
       "      <td>0</td>\n",
       "      <td>Laboratory-confirmed case</td>\n",
       "      <td>Symptomatic</td>\n",
       "      <td>No</td>\n",
       "      <td>No</td>\n",
       "      <td>0.005774216356351638</td>\n",
       "      <td>0.05534841329024774</td>\n",
       "      <td>Democrat</td>\n",
       "      <td>0.144886</td>\n",
       "    </tr>\n",
       "    <tr>\n",
       "      <th>39998</th>\n",
       "      <td>2021-09</td>\n",
       "      <td>IN</td>\n",
       "      <td>18</td>\n",
       "      <td>ALLEN</td>\n",
       "      <td>18003.0</td>\n",
       "      <td>50 to 64 years</td>\n",
       "      <td>Female</td>\n",
       "      <td>White</td>\n",
       "      <td>Non-Hispanic/Latino</td>\n",
       "      <td>0</td>\n",
       "      <td>Laboratory-confirmed case</td>\n",
       "      <td>Missing</td>\n",
       "      <td>No</td>\n",
       "      <td>No</td>\n",
       "      <td>0.09107413010590015</td>\n",
       "      <td>Missing</td>\n",
       "      <td>Republican</td>\n",
       "      <td>0.189514</td>\n",
       "    </tr>\n",
       "    <tr>\n",
       "      <th>39999</th>\n",
       "      <td>2020-11</td>\n",
       "      <td>MD</td>\n",
       "      <td>24</td>\n",
       "      <td>PRINCE GEORGE'S</td>\n",
       "      <td>24033.0</td>\n",
       "      <td>50 to 64 years</td>\n",
       "      <td>Male</td>\n",
       "      <td>White</td>\n",
       "      <td>Hispanic/Latino</td>\n",
       "      <td>0</td>\n",
       "      <td>Laboratory-confirmed case</td>\n",
       "      <td>Symptomatic</td>\n",
       "      <td>No</td>\n",
       "      <td>No</td>\n",
       "      <td>0.22256664600123993</td>\n",
       "      <td>0.05534841329024774</td>\n",
       "      <td>Democrat</td>\n",
       "      <td>0.324263</td>\n",
       "    </tr>\n",
       "  </tbody>\n",
       "</table>\n",
       "</div>"
      ],
      "text/plain": [
       "      case_month res_state  state_fips_code       res_county county_fips_code  \\\n",
       "39995    2022-02        MN               27             POLK          27119.0   \n",
       "39996    2022-11        OH               39         FRANKLIN          39049.0   \n",
       "39997    2021-10        MI               26            WAYNE          26163.0   \n",
       "39998    2021-09        IN               18            ALLEN          18003.0   \n",
       "39999    2020-11        MD               24  PRINCE GEORGE'S          24033.0   \n",
       "\n",
       "            age_group     sex     race            ethnicity  \\\n",
       "39995    0 - 17 years  Female  Missing              Missing   \n",
       "39996  18 to 49 years  Female    Black  Non-Hispanic/Latino   \n",
       "39997  18 to 49 years  Female    Black  Non-Hispanic/Latino   \n",
       "39998  50 to 64 years  Female    White  Non-Hispanic/Latino   \n",
       "39999  50 to 64 years    Male    White      Hispanic/Latino   \n",
       "\n",
       "       case_positive_specimen_interval             current_status  \\\n",
       "39995                                0  Laboratory-confirmed case   \n",
       "39996                                0  Laboratory-confirmed case   \n",
       "39997                                0  Laboratory-confirmed case   \n",
       "39998                                0  Laboratory-confirmed case   \n",
       "39999                                0  Laboratory-confirmed case   \n",
       "\n",
       "      symptom_status  hosp_yn death_yn     death_prob_sex_age  \\\n",
       "39995        Missing  Missing       No  0.0003727171077152441   \n",
       "39996        Missing  Missing       No   0.005774216356351638   \n",
       "39997    Symptomatic       No       No   0.005774216356351638   \n",
       "39998        Missing       No       No    0.09107413010590015   \n",
       "39999    Symptomatic       No       No    0.22256664600123993   \n",
       "\n",
       "        death_prob_medical state_party  death_prob_month  \n",
       "39995              Missing    Democrat          0.132992  \n",
       "39996              Missing  Republican          0.007246  \n",
       "39997  0.05534841329024774    Democrat          0.144886  \n",
       "39998              Missing  Republican          0.189514  \n",
       "39999  0.05534841329024774    Democrat          0.324263  "
      ]
     },
     "execution_count": 69,
     "metadata": {},
     "output_type": "execute_result"
    }
   ],
   "source": [
    "df.tail(5)"
   ]
  },
  {
   "attachments": {},
   "cell_type": "markdown",
   "metadata": {},
   "source": [
    "The cleaned csv shape, datatypes will be inspected. We will also check for any remaining null values"
   ]
  },
  {
   "cell_type": "code",
   "execution_count": 70,
   "metadata": {},
   "outputs": [
    {
     "data": {
      "text/plain": [
       "(40000, 18)"
      ]
     },
     "execution_count": 70,
     "metadata": {},
     "output_type": "execute_result"
    }
   ],
   "source": [
    "df.shape"
   ]
  },
  {
   "cell_type": "code",
   "execution_count": 71,
   "metadata": {},
   "outputs": [
    {
     "name": "stdout",
     "output_type": "stream",
     "text": [
      "<class 'pandas.core.frame.DataFrame'>\n",
      "RangeIndex: 40000 entries, 0 to 39999\n",
      "Data columns (total 18 columns):\n",
      " #   Column                           Non-Null Count  Dtype  \n",
      "---  ------                           --------------  -----  \n",
      " 0   case_month                       40000 non-null  object \n",
      " 1   res_state                        40000 non-null  object \n",
      " 2   state_fips_code                  40000 non-null  int64  \n",
      " 3   res_county                       40000 non-null  object \n",
      " 4   county_fips_code                 40000 non-null  object \n",
      " 5   age_group                        40000 non-null  object \n",
      " 6   sex                              40000 non-null  object \n",
      " 7   race                             40000 non-null  object \n",
      " 8   ethnicity                        40000 non-null  object \n",
      " 9   case_positive_specimen_interval  40000 non-null  int64  \n",
      " 10  current_status                   40000 non-null  object \n",
      " 11  symptom_status                   40000 non-null  object \n",
      " 12  hosp_yn                          40000 non-null  object \n",
      " 13  death_yn                         40000 non-null  object \n",
      " 14  death_prob_sex_age               40000 non-null  object \n",
      " 15  death_prob_medical               40000 non-null  object \n",
      " 16  state_party                      40000 non-null  object \n",
      " 17  death_prob_month                 40000 non-null  float64\n",
      "dtypes: float64(1), int64(2), object(15)\n",
      "memory usage: 5.5+ MB\n"
     ]
    }
   ],
   "source": [
    "df.info()"
   ]
  },
  {
   "cell_type": "code",
   "execution_count": 72,
   "metadata": {},
   "outputs": [
    {
     "data": {
      "text/plain": [
       "case_month                         0\n",
       "res_state                          0\n",
       "state_fips_code                    0\n",
       "res_county                         0\n",
       "county_fips_code                   0\n",
       "age_group                          0\n",
       "sex                                0\n",
       "race                               0\n",
       "ethnicity                          0\n",
       "case_positive_specimen_interval    0\n",
       "current_status                     0\n",
       "symptom_status                     0\n",
       "hosp_yn                            0\n",
       "death_yn                           0\n",
       "death_prob_sex_age                 0\n",
       "death_prob_medical                 0\n",
       "state_party                        0\n",
       "death_prob_month                   0\n",
       "dtype: int64"
      ]
     },
     "execution_count": 72,
     "metadata": {},
     "output_type": "execute_result"
    }
   ],
   "source": [
    "df.isna().sum()"
   ]
  },
  {
   "attachments": {},
   "cell_type": "markdown",
   "metadata": {},
   "source": [
    "### Convert features to appropriate datatypes\n",
    "We will now review the datatypes and convert if needed. This will help avoid plotting errors later in the notebook\n",
    "- The target feature \"death_yn\" is type object, with values \"Yes\" & \"No\", this will be converted to a category value as outlined in the data quality report\n",
    "- The values of state_fips_code and count_fips_code are incorrectly stored as float64 types, they will be converted to category types as they represent states and counties respectively\n",
    "- The continuous features are case_positive_specimen_interval, death_prob_sex_age, death_prob_medical, death_prob_month\n",
    "- The rest of the features are categorical\n",
    "- There are no NaN values but it is noted that for some values the string \"Missing\" is used in place of missing data, this will be review later in the project"
   ]
  },
  {
   "cell_type": "code",
   "execution_count": 73,
   "metadata": {},
   "outputs": [
    {
     "name": "stdout",
     "output_type": "stream",
     "text": [
      "Column Name: case_month \n",
      "Data Type: object \n",
      "Number of Unique Values: 35\n",
      "['2020-12' '2022-01' '2020-11' '2020-04' '2020-03' '2021-08' '2021-07'\n",
      " '2022-02' '2021-11' '2022-06' '2020-07' '2021-01' '2020-05' '2021-10'\n",
      " '2020-06' '2020-08' '2021-12' '2020-09' '2020-10' '2021-03' '2022-10'\n",
      " '2021-04' '2021-09' '2021-02' '2022-05' '2020-01' '2022-07' '2021-05'\n",
      " '2022-11' '2022-03' '2022-08' '2022-09' '2022-04' '2021-06' '2020-02']\n",
      "\n",
      "Column Name: res_state \n",
      "Data Type: object \n",
      "Number of Unique Values: 49\n",
      "['CA' 'NJ' 'TN' 'NY' 'FL' 'MI' 'KY' 'MA' 'IL' 'WI' 'SC' 'TX' 'OH' 'NV'\n",
      " 'ND' 'AR' 'AZ' 'NH' 'PR' 'IN' 'MO' 'CT' 'AL' 'KS' 'UT' 'PA' 'OK' 'CO'\n",
      " 'OR' 'VA' 'MN' 'MD' 'LA' 'MT' 'NC' 'NM' 'GA' 'MS' 'ME' 'WA' 'ID' 'DC'\n",
      " 'IA' 'RI' 'WY' 'AK' 'VT' 'VI' 'GU']\n",
      "\n",
      "Column Name: state_fips_code \n",
      "Data Type: int64 \n",
      "Number of Unique Values: 49\n",
      "[ 6 34 47 36 12 26 21 25 17 55 45 48 39 32 38  5  4 33 72 18 29  9  1 20\n",
      " 49 42 40  8 41 51 27 24 22 30 37 35 13 28 23 53 16 11 19 44 56  2 50 78\n",
      " 66]\n",
      "\n",
      "Column Name: res_county \n",
      "Data Type: object \n",
      "Number of Unique Values: 930\n",
      "['RIVERSIDE' 'GLOUCESTER' 'PUTNAM' 'WESTCHESTER' 'SUMNER' 'LEE' 'BROWARD'\n",
      " 'LOS ANGELES' 'MACOMB' 'KERN' 'Missing' 'TULARE' 'BAY' 'MIDDLESEX' 'COOK'\n",
      " 'DUNN' 'SOMERSET' 'ORANGEBURG' 'BEXAR' 'BRISTOL' 'WAYNE' 'CLARK' 'CASS'\n",
      " 'SALINE' 'KINGS' 'MARICOPA' 'LUCAS' 'KNOX' 'FRANKLIN' 'SAN BERNARDINO'\n",
      " 'LAKE' 'PALM BEACH' 'WASHOE' 'STANISLAUS' 'DUPAGE' 'HILLSBOROUGH'\n",
      " 'MARION' 'ASHTABULA' 'PIMA' 'HAMPDEN' 'HENDRICKS' 'ORANGE' 'PINELLAS'\n",
      " 'FAIRFIELD' 'MONTGOMERY' 'GREENVILLE' 'CAMDEN' 'AUTAUGA' 'BUTTE'\n",
      " 'FLORENCE' 'ROCKINGHAM' 'ESSEX' 'UTAH' 'OCEAN' 'GRANT' 'OAKLAND' 'COMAL'\n",
      " 'TARRANT' 'HIGHLANDS' 'MIAMI-DADE' 'YORK' 'PULASKI' 'WESTMORELAND'\n",
      " 'BUTLER' 'WORCESTER' 'PINAL' 'OKLAHOMA' 'JACKSON' 'DELAWARE' 'QUEENS'\n",
      " 'ALLEN' 'EL PASO' 'HARRIS' 'DUVAL' 'MADISON' 'WOOD' 'JEFFERSON' 'PASSAIC'\n",
      " 'CUYAHOGA' 'PEORIA' 'SUMMIT' 'MULTNOMAH' 'SHELBY' 'INDIAN RIVER'\n",
      " 'PLYMOUTH' 'HENNEPIN' 'MCLEAN' 'SEBASTIAN' 'CONTRA COSTA' 'RUTHERFORD'\n",
      " 'OCONEE' 'FAYETTE' 'MONMOUTH' 'SARASOTA' 'SALT LAKE' 'BALTIMORE'\n",
      " 'TERREBONNE' 'YELLOWSTONE' 'HARTFORD' 'SPARTANBURG' 'NASSAU' 'CHESTER'\n",
      " 'NEW HANOVER' 'BERGEN' 'NORFOLK' 'CARTER' 'WRIGHT' 'YUMA' 'SAN JUAN'\n",
      " 'HAMILTON' 'SUFFOLK' 'BERKS' 'DALLAS' 'ERIE' 'MILWAUKEE' 'MOBILE'\n",
      " 'ALLEGHENY' 'DO�A ANA' 'LANCASTER' 'ST. JOSEPH' 'MEDINA' 'DANE'\n",
      " 'PHILADELPHIA' 'SHAWNEE' 'INGHAM' 'HANCOCK' 'HIDALGO' 'NEW HAVEN'\n",
      " 'HERNANDO' 'COCHISE' 'PITTSBURG' 'OKALOOSA' 'MANATEE' 'INDEPENDENCE'\n",
      " 'UNION' 'POLK' 'RICE' 'RICHMOND' 'SAN DIEGO' 'TRAVIS' 'MAHONING' 'CLAY'\n",
      " 'RENO' 'BOYLE' 'LEXINGTON' 'HOUSTON' 'LYCOMING' \"PRINCE GEORGE'S\" 'FLOYD'\n",
      " 'TUSCARAWAS' 'ORLEANS' 'MAVERICK' 'SANTA CLARA' 'CAMBRIA' 'IMPERIAL'\n",
      " 'ANOKA' 'GREENE' 'AROOSTOOK' 'KENOSHA' 'MECKLENBURG' 'LEON' 'GRADY'\n",
      " 'BURLINGTON' 'YAVAPAI' 'TULSA' 'ST. LOUIS' 'MARTIN' 'CRAWFORD' 'MCLENNAN'\n",
      " 'CATAWBA' 'HUDSON' 'LAWRENCE' 'FREDERICK' 'COLUMBIANA' 'KING' 'ADAMS'\n",
      " 'DORCHESTER' 'DENVER' 'GENESEE' 'SEDGWICK' 'SAN JOAQUIN' 'NEW YORK'\n",
      " 'SPOKANE' 'CITRUS' 'MERCED' 'DAVIDSON' 'SULLIVAN' 'VOLUSIA' 'MOHAVE'\n",
      " 'KENT' 'KLAMATH' 'OSCEOLA' 'LANE' 'BRONX' 'SNOHOMISH' 'WAUKESHA' 'PASCO'\n",
      " 'FRESNO' 'STARK' 'WILL' 'SACRAMENTO' 'SANTA BARBARA' 'LUZERNE'\n",
      " 'BARNSTABLE' 'CADDO' 'JOHNSON' 'THURSTON' 'WAKE' 'CALCASIEU' 'ALAMEDA'\n",
      " 'BERNALILLO' 'COLUMBIA' 'SANTA CRUZ' 'SAN LUIS OBISPO' 'BREVARD' 'MERCER'\n",
      " 'ARAPAHOE' 'SANGAMON' 'MCHENRY' 'BROWN' 'PORTER' 'ROGERS' 'MACOUPIN'\n",
      " 'RICHLAND' 'DAKOTA' 'WINNEBAGO' 'COLLIN' 'LOGAN' 'LICKING' 'SAGINAW'\n",
      " 'CANYON' 'SEMINOLE' 'ROCKLAND' 'LUBBOCK' 'MONROE' 'HARFORD' 'CAPE MAY'\n",
      " 'KOOTENAI' 'SHIAWASSEE' 'WASHINGTON' 'DISTRICT OF COLUMBIA' 'SONOMA'\n",
      " 'BUCKS' 'SCIOTO' 'HORRY' 'NAVAJO' 'BOONE' 'OUTAGAMIE' 'CUMBERLAND'\n",
      " 'WARREN' 'CHARLOTTE' 'BENTON' 'ELKHART' 'LEHIGH' 'ST. JOHNS'\n",
      " 'CAPE GIRARDEAU' 'KANE' 'CLERMONT' 'ST. CLAIR' \"ST. MARY'S\" 'SHASTA'\n",
      " 'MORRIS' 'WILKES' 'WASHTENAW' 'RAMSEY' 'ST. LUCIE' 'NUECES' 'RACINE'\n",
      " 'MUSKOGEE' 'LEWIS AND CLARK' 'HARNETT' 'CHESTERFIELD' 'LYNCHBURG CITY'\n",
      " 'ONTARIO' 'BLOUNT' 'PICKENS' 'LARIMER' 'ANDERSON' 'LAGRANGE' 'BERKSHIRE'\n",
      " 'INDIANA' 'MESA' 'VENTURA' 'MUSKINGUM' 'GRAND FORKS' 'MARINETTE'\n",
      " 'POTTAWATOMIE' 'MANITOWOC' 'VANDERBURGH' 'ROCK ISLAND' 'CLAIBORNE'\n",
      " 'LEBANON' 'CAMPBELL' 'CHARLESTON' 'BOULDER' 'DARLINGTON' 'ATLANTIC'\n",
      " 'NORTHAMPTON' 'GASTON' 'VIRGINIA BEACH CITY' 'PIERCE' 'OGLE' 'LAPEER'\n",
      " 'CARSON CITY' 'EAST BATON ROUGE' 'LOUDOUN' 'STEPHENS' 'ESCAMBIA'\n",
      " 'ST. TAMMANY' 'SUSSEX' 'SUMTER' 'TAZEWELL' 'GEAUGA' 'ETOWAH' 'IOSCO'\n",
      " 'SEVIER' 'WELD' 'MONTEREY' 'ROCKBRIDGE' 'CHIPPEWA' 'BARRY' 'YAKIMA'\n",
      " 'PLACER' 'TIPPECANOE' 'RICHMOND CITY' 'TUSCALOOSA' 'CALDWELL' 'VAN WERT'\n",
      " 'MACON' 'OTTER TAIL' 'LORAIN' 'SMYTH' 'MARIN' 'TRUMBULL' 'PRINCE WILLIAM'\n",
      " 'BONNEVILLE' 'MUSCATINE' 'OTTAWA' 'PICKAWAY' 'TANGIPAHOA' 'PROVIDENCE'\n",
      " 'NORTHUMBERLAND' 'BALDWIN' 'IREDELL' 'RAPIDES' 'LACKAWANNA' 'HENRY'\n",
      " 'HUNTERDON' 'ANDROSCOGGIN' 'MIFFLIN' 'GUILFORD' 'SILVER BOW' 'JASPER'\n",
      " 'MCKINLEY' 'DAUPHIN' 'CRAIGHEAD' 'LAFAYETTE' 'NEW LONDON' 'BUNCOMBE'\n",
      " 'MERRIMACK' 'BERRIEN' 'HAMPSHIRE' 'COLLIER' 'HOWARD' 'SCHUYLKILL'\n",
      " 'FAIRFAX' 'CLEVELAND' 'FOND DU LAC' 'ARLINGTON' 'SENECA' 'PERSON'\n",
      " 'DOUGLAS' 'LONOKE' 'SURRY' 'CLACKAMAS' 'ONONDAGA' 'ADA'\n",
      " 'MATANUSKA-SUSITNA' 'WEBSTER' 'CARROLL' 'STEARNS' 'HARDIN' 'GARLAND'\n",
      " 'LARAMIE' 'BRAZORIA' 'SANTA ROSA' 'DODGE' 'ST. CHARLES' 'WEBB'\n",
      " 'BALTIMORE CITY' 'LOUDON' 'TALLAPOOSA' 'FLAGLER' 'SAN FRANCISCO'\n",
      " 'NEWPORT NEWS CITY' 'DECATUR' 'MIAMI' 'OVERTON' 'WILLIAMS' 'CHRISTIAN'\n",
      " 'PARKER' 'WARD' 'DEKALB' 'HARVEY' 'WALKER' 'AIKEN' 'GILA' 'FULTON'\n",
      " 'BEAVER' 'FORSYTH' 'KENTON' 'KANKAKEE' 'BRADFORD' 'ROWAN' 'PLATTE'\n",
      " 'GIBSON' 'GRATIOT' 'WILSON' 'GARFIELD' 'TUSCOLA' 'CASCADE' 'WAUPACA'\n",
      " 'OLMSTED' 'PUEBLO' 'MAURY' 'BARTON' 'MONTROSE' 'PORTAGE' 'TEHAMA'\n",
      " 'BANNOCK' 'ALLEGANY' 'ANNE ARUNDEL' 'LASALLE' 'BRUNSWICK' 'HAYWOOD'\n",
      " 'HURON' 'CLINTON' 'NYE' 'KAUFMAN' 'WILLIAMSON' 'ST. LOUIS CITY' 'BLAIR'\n",
      " 'WARRICK' 'HENDERSON' 'DAVIS' 'NATRONA' 'ARMSTRONG' 'MORGAN' 'TIOGA'\n",
      " 'HENRICO' 'OUACHITA' 'BONNER' 'CHAVES' 'POTTAWATTAMIE' 'MUSKEGON'\n",
      " 'MORTON' 'TWIN FALLS' 'MOORE' 'SAN MATEO' 'SALEM' 'LAURENS'\n",
      " 'ROANOKE CITY' 'ALBANY' 'SAMPSON' 'OTSEGO' 'NIAGARA' 'RANDOLPH' 'WEBER'\n",
      " 'DURHAM' 'DUTCHESS' 'HUNTINGTON' 'WYOMING' 'MORRISON' 'LINCOLN'\n",
      " 'GRANVILLE' 'SCOTLAND' 'CAYUGA' 'ROCK' 'LEAVENWORTH' 'DESCHUTES'\n",
      " 'HALIFAX' 'JENNINGS' 'BEAUFORT' 'ROBESON' 'PREBLE' 'OSWEGO' 'WICOMICO'\n",
      " 'ST. CROIX' 'STANLY' 'BEDFORD' 'PORTSMOUTH CITY' 'CARLTON' 'MUHLENBERG'\n",
      " 'OLDHAM' 'RIPLEY' 'BECKER' 'ONEIDA' 'MAYES' 'CALLOWAY' 'POTTER' 'LAUREL'\n",
      " 'TODD' 'BLUE EARTH' 'CHESAPEAKE CITY' 'NICOLLET' 'SCHENECTADY'\n",
      " 'TRANSYLVANIA' 'LETCHER' 'STEELE' 'STOKES' 'CARVER' 'CHAUTAUQUA'\n",
      " 'MARSHALL' 'COCONINO' 'WHITE' 'COMANCHE' 'WYANDOTTE' 'CABARRUS' 'CHARLES'\n",
      " 'LIVINGSTON' 'BROOME' 'KANDIYOHI' 'PENDER' 'WICHITA' 'CENTRE' 'HOLMES'\n",
      " 'ST. LAWRENCE' 'CHEROKEE' 'LYON' 'SCOTT' 'WABASHA' 'CORTLAND' 'CURRY'\n",
      " 'EAU CLAIRE' 'PENOBSCOT' 'HAMPTON CITY' 'OXFORD' 'COOS' 'RILEY'\n",
      " 'MILLE LACS' 'COWLEY' 'DALE' 'PAYNE' 'CHARLOTTESVILLE CITY' 'GREENUP'\n",
      " 'CUSTER' 'RENSSELAER' 'ONSLOW' 'BELL' 'DAVIESS' 'GALLIA'\n",
      " 'HARRISONBURG CITY' 'JAY' 'WELLS' 'WINONA' 'CAMERON' 'BULLITT' 'MIDLAND'\n",
      " 'KOSCIUSKO' 'GREENWOOD' 'HOOD RIVER' 'GONZALES' 'BARREN' 'SHERBURNE'\n",
      " 'PITT' 'CECIL' 'STEUBEN' 'VIGO' 'ALAMANCE' 'FAUQUIER' 'NELSON' 'LINN'\n",
      " 'EMMET' 'BENNINGTON' 'BELKNAP' 'HARDEE' 'VAN BUREN' 'DEFIANCE' 'WOODBURY'\n",
      " 'COLUMBUS' 'YADKIN' 'FLATHEAD' 'HOKE' 'GRAY' 'OSAGE' 'UMATILLA'\n",
      " 'CURRITUCK' 'ADDISON' 'RUTLAND' 'TOMPKINS' 'HAMBLEN' 'HOCKING' 'GARVIN'\n",
      " 'HOPKINS' 'NASH' 'MISSOULA' 'JONES' 'JOSEPHINE' 'BOYD' 'TAYLOR'\n",
      " 'CULPEPER' 'BURKE' 'CHISAGO' 'GALLATIN' 'NEWPORT' 'ASHLAND' 'HANOVER'\n",
      " 'PONTOTOC' 'ULSTER' 'JOHNSTON' 'WOODFORD' 'NORFOLK CITY' 'JEROME' 'DYER'\n",
      " 'SARATOGA' 'CHAMBERS' 'LENAWEE' 'POPE' 'CHATHAM' 'MANASSAS CITY'\n",
      " 'FORT BEND' 'BARTHOLOMEW' 'DENTON' 'STAFFORD' 'WILLACY' 'BRYAN'\n",
      " 'MARATHON' 'BERKELEY' 'ITASCA' 'RANDALL' 'WHITLEY' 'WATAUGA' 'ASHE'\n",
      " 'EDGECOMBE' 'FILLMORE' 'ANSON' 'YAMHILL' 'GRAYSON' 'ISABELLA' 'MCPHERSON'\n",
      " 'LEWIS' 'CHEMUNG' 'ALBEMARLE' 'SAGADAHOC' 'CREEK' 'WINDHAM' 'MOWER'\n",
      " 'ANTRIM' 'CORYELL' 'SPOTSYLVANIA' 'DUPLIN' 'WEXFORD' 'WAKULLA'\n",
      " 'COVINGTON' 'DELTA' 'MARQUETTE' 'SEWARD' 'CALUMET' 'CROW WING'\n",
      " 'HILLSDALE' 'DEARBORN' 'BLAINE' 'CATTARAUGUS' 'SUFFOLK CITY' 'GRIMES'\n",
      " 'FORD' 'EATON' 'POWHATAN' 'ALLEGAN' 'SWEETWATER' 'LENOIR' 'MCMINN' 'ELKO'\n",
      " 'CASSIA' 'ECTOR' 'CLARENDON' 'DAVIE' 'SCHOHARIE' 'GEORGETOWN' 'HOCKLEY'\n",
      " 'BELTRAMI' 'CLEBURNE' 'ALACHUA' 'DUBOIS' 'HERKIMER' 'TALBOT' 'VILAS'\n",
      " 'BRADLEY' 'CRAVEN' 'ALEXANDRIA CITY' 'COFFEE' 'MANISTEE' 'LE SUEUR'\n",
      " 'WYTHE' 'JESSAMINE' 'ROANOKE' 'NOBLE' 'ROSS' 'BLADEN' 'ROBERTSON' 'EAGLE'\n",
      " 'ELMORE' 'ST. FRANCIS' 'CLATSOP' 'MASON' 'GADSDEN' 'KENNEBEC' 'WISE'\n",
      " 'GREEN' 'PINE' 'COLLETON' 'DANVILLE CITY' 'TIPTON' 'SAUK' 'MONTCALM'\n",
      " 'LAPORTE' 'NEWAYGO' 'IONIA' 'BINGHAM' 'CALHOUN' 'CAROLINE' 'COCKE'\n",
      " 'BRAZOS' 'ALEXANDER' 'ATHENS' 'SHENANDOAH' 'CARTERET' 'SANDUSKY' 'MCLEOD'\n",
      " 'STARR' 'BOX ELDER' 'NEZ PERCE' 'FINNEY' 'WAGONER' 'MEEKER' 'WALTON'\n",
      " 'NAVARRO' 'MCKEAN' 'LEVY' 'ADAIR' 'WINDSOR' 'WABASH' 'ISANTI' 'GUERNSEY'\n",
      " 'CHITTENDEN' 'BARRON' 'MCDOWELL' 'ROCKWALL' 'PERRY' 'NOBLES' 'CHENANGO'\n",
      " 'RUSSELL' 'ELLIS' 'DARKE' 'FORREST' 'FREEBORN' 'CHEATHAM' 'ISLE OF WIGHT'\n",
      " 'STARKE' 'COSHOCTON' 'STRAFFORD' 'HOUGHTON' 'HINDS' 'LOUISA' 'CANADIAN'\n",
      " 'WYANDOT' 'VICTORIA' 'HARLAN' 'GOOCHLAND' 'PITTSYLVANIA' 'BAKER'\n",
      " 'CALVERT' 'LA CROSSE' 'GRAVES' 'IRON' \"QUEEN ANNE'S\" 'OCONTO' 'SIOUX'\n",
      " 'WASATCH' 'RAVALLI' 'LITCHFIELD' 'CHESHIRE' 'GRAFTON' 'MCCRACKEN'\n",
      " 'CRITTENDEN' 'BELMONT' 'VANCE' 'DILLON' 'TILLAMOOK' 'GEARY' 'OWEN'\n",
      " 'BOTETOURT' 'CACHE' 'PIKE' 'HAYS' 'OZAUKEE' 'HIGHLAND' 'BAXTER'\n",
      " 'CHURCHILL' 'ROANE' 'GOODHUE' 'KERSHAW' 'GRAHAM' 'CHAMPAIGN' 'WALDO'\n",
      " 'AUGLAIZE' 'BRANCH' 'MENOMINEE' 'RANKIN' 'FREMONT' 'VENANGO' 'PASQUOTANK'\n",
      " 'BEE' 'SEQUOYAH' 'MISSISSIPPI' 'KALAMAZOO' 'WASCO' 'MILLER' 'OHIO'\n",
      " 'MINIDOKA' 'WALWORTH' 'BECKHAM' 'LAMOILLE' 'WAYNESBORO CITY' 'MALHEUR'\n",
      " 'JAMES CITY' 'WAPELLO' 'HUTCHINSON' 'DICKINSON' 'DUBUQUE' 'CROOK' 'DARE'\n",
      " 'AMHERST' 'CASWELL' 'DINWIDDIE' 'DESOTO' 'MUSCOGEE' 'SALEM CITY' 'CARBON'\n",
      " 'UVALDE' 'AUGUSTA' 'WEAKLEY' 'PRINCE GEORGE' 'COOKE' 'MECOSTA' 'LAVACA'\n",
      " 'ANCHORAGE' 'CHARLEVOIX' 'SHEBOYGAN' 'MEADE' 'BURNET' 'HARRISON' 'CONWAY'\n",
      " 'MCCURTAIN' 'MORROW' 'SMITH' 'HUBBARD' 'CLEARFIELD' 'MARLBORO' 'MCCLAIN'\n",
      " 'OKMULGEE' 'FLUVANNA' 'HERTFORD' 'POSEY' 'ACCOMACK' 'LE FLORE' 'HENDRY'\n",
      " 'GRAND TRAVERSE' 'HOPEWELL CITY' 'JUNEAU' 'VALENCIA' 'CALAVERAS' 'COLES'\n",
      " 'EL DORADO' 'KITSAP' 'TREMPEALEAU' 'STEPHENSON' 'JERSEY' 'KAY'\n",
      " 'LAFOURCHE' 'SANTA FE' 'EFFINGHAM' 'TROUP' 'CULLMAN' 'LAUDERDALE'\n",
      " 'NEWBERRY' 'BUCHANAN' 'TOM GREEN' 'CIBOLA' 'OTERO' 'TETON' 'HARDEMAN'\n",
      " 'GALVESTON' 'FAULKNER' 'WINCHESTER CITY' 'STORY' 'THOMAS' 'VERNON' 'KERR'\n",
      " 'SPENCER' 'WAUSHARA' 'OCEANA' 'HOT SPRING' 'OGEMAW' 'LEELANAU' 'TYLER'\n",
      " 'EDGEFIELD' 'GUADALUPE' 'HOOD' 'BLACK HAWK' 'PAGE' 'YELL' 'HAWKINS'\n",
      " 'RUSK' 'CERRO GORDO' 'GLADWIN' 'TOOELE' 'SUSQUEHANNA' 'LAMAR' 'LATAH'\n",
      " 'MEIGS' 'WINSTON' 'NACOGDOCHES' 'SANPETE' 'KING GEORGE' 'ELK'\n",
      " 'PETERSBURG CITY' 'SUWANNEE' 'PARK' 'UINTAH']\n",
      "\n",
      "Column Name: county_fips_code \n",
      "Data Type: object \n",
      "Number of Unique Values: 1327\n",
      "['6065.0' '34015.0' '47141.0' ... '49047.0' '47079.0' '48253.0']\n",
      "\n",
      "Column Name: age_group \n",
      "Data Type: object \n",
      "Number of Unique Values: 5\n",
      "['65+ years' '50 to 64 years' '18 to 49 years' 'Missing' '0 - 17 years']\n",
      "\n",
      "Column Name: sex \n",
      "Data Type: object \n",
      "Number of Unique Values: 3\n",
      "['Male' 'Female' 'Other']\n",
      "\n",
      "Column Name: race \n",
      "Data Type: object \n",
      "Number of Unique Values: 7\n",
      "['Missing' 'White' 'Black' 'Asian' 'Multiple/Other'\n",
      " 'American Indian/Alaska Native' 'Native Hawaiian/Other Pacific Islander']\n",
      "\n",
      "Column Name: ethnicity \n",
      "Data Type: object \n",
      "Number of Unique Values: 3\n",
      "['Missing' 'Non-Hispanic/Latino' 'Hispanic/Latino']\n",
      "\n",
      "Column Name: case_positive_specimen_interval \n",
      "Data Type: int64 \n",
      "Number of Unique Values: 41\n",
      "[ 0  2  1  5 13  3  4 14  9 53  6 22 16  8 33 30 36 20  7 60 18 44 38 27\n",
      " 73 45 21 29 10 31 12 26 28 25 52 19 32 50 11 67 24]\n",
      "\n",
      "Column Name: current_status \n",
      "Data Type: object \n",
      "Number of Unique Values: 2\n",
      "['Laboratory-confirmed case' 'Probable Case']\n",
      "\n",
      "Column Name: symptom_status \n",
      "Data Type: object \n",
      "Number of Unique Values: 3\n",
      "['Missing' 'Symptomatic' 'Asymptomatic']\n",
      "\n",
      "Column Name: hosp_yn \n",
      "Data Type: object \n",
      "Number of Unique Values: 3\n",
      "['Missing' 'Yes' 'No']\n",
      "\n",
      "Column Name: death_yn \n",
      "Data Type: object \n",
      "Number of Unique Values: 2\n",
      "['Yes' 'No']\n",
      "\n",
      "Column Name: death_prob_sex_age \n",
      "Data Type: object \n",
      "Number of Unique Values: 9\n",
      "['0.7429577464788732' '0.6741793238608526' '0.22256664600123993'\n",
      " '0.019941775836972344' '0.09107413010590015' '0.005774216356351638'\n",
      " 'Missing' '0.0003727171077152441' '0.0']\n",
      "\n",
      "Column Name: death_prob_medical \n",
      "Data Type: object \n",
      "Number of Unique Values: 5\n",
      "['Missing' '0.8035019455252919' '0.05534841329024774'\n",
      " '0.11136890951276102' '0.723404255319149']\n",
      "\n",
      "Column Name: state_party \n",
      "Data Type: object \n",
      "Number of Unique Values: 3\n",
      "['Democrat' 'Republican' 'PR']\n",
      "\n",
      "Column Name: death_prob_month \n",
      "Data Type: float64 \n",
      "Number of Unique Values: 35\n",
      "[0.42744984 0.17390473 0.32426304 0.78226858 0.72082019 0.27147577\n",
      " 0.27309783 0.13299233 0.20684039 0.06551298 0.33365201 0.35148515\n",
      " 0.54242424 0.14488636 0.25411061 0.29903978 0.16935773 0.19055375\n",
      " 0.25042735 0.07894737 0.06849315 0.07551487 0.18951358 0.1839196\n",
      " 0.02629482 0.90909091 0.07948443 0.05292479 0.00724638 0.04424779\n",
      " 0.0396927  0.06153846 0.0230608  0.05555556 0.66666667]\n",
      "\n"
     ]
    }
   ],
   "source": [
    "# Display all unique values in each column\n",
    "columns = df.columns\n",
    "\n",
    "for column in columns:\n",
    "    print(\"Column Name:\", column, \"\\nData Type:\", df[column].dtype, \"\\nNumber of Unique Values:\", str(len(df[column].unique())))\n",
    "    print(df[column].unique())\n",
    "    print()"
   ]
  },
  {
   "cell_type": "code",
   "execution_count": 74,
   "metadata": {},
   "outputs": [],
   "source": [
    "# change datatype of state_fips_code and county_fips_code to categorical\n",
    "df[\"state_fips_code\"] = df[\"state_fips_code\"].astype('category')\n",
    "df[\"county_fips_code\"] = df[\"county_fips_code\"].astype('category')"
   ]
  },
  {
   "cell_type": "code",
   "execution_count": 75,
   "metadata": {},
   "outputs": [],
   "source": [
    "# convert all object types to categorical datatypes\n",
    "object_columns = df.select_dtypes(['object']).columns\n",
    "for column in object_columns:\n",
    "    df[column] = df[column].astype('category')"
   ]
  },
  {
   "attachments": {},
   "cell_type": "markdown",
   "metadata": {
    "collapsed": false
   },
   "source": [
    "Check the data types again"
   ]
  },
  {
   "cell_type": "code",
   "execution_count": 76,
   "metadata": {
    "collapsed": false
   },
   "outputs": [
    {
     "name": "stdout",
     "output_type": "stream",
     "text": [
      "<class 'pandas.core.frame.DataFrame'>\n",
      "RangeIndex: 40000 entries, 0 to 39999\n",
      "Data columns (total 18 columns):\n",
      " #   Column                           Non-Null Count  Dtype   \n",
      "---  ------                           --------------  -----   \n",
      " 0   case_month                       40000 non-null  category\n",
      " 1   res_state                        40000 non-null  category\n",
      " 2   state_fips_code                  40000 non-null  category\n",
      " 3   res_county                       40000 non-null  category\n",
      " 4   county_fips_code                 40000 non-null  category\n",
      " 5   age_group                        40000 non-null  category\n",
      " 6   sex                              40000 non-null  category\n",
      " 7   race                             40000 non-null  category\n",
      " 8   ethnicity                        40000 non-null  category\n",
      " 9   case_positive_specimen_interval  40000 non-null  int64   \n",
      " 10  current_status                   40000 non-null  category\n",
      " 11  symptom_status                   40000 non-null  category\n",
      " 12  hosp_yn                          40000 non-null  category\n",
      " 13  death_yn                         40000 non-null  category\n",
      " 14  death_prob_sex_age               40000 non-null  category\n",
      " 15  death_prob_medical               40000 non-null  category\n",
      " 16  state_party                      40000 non-null  category\n",
      " 17  death_prob_month                 40000 non-null  float64 \n",
      "dtypes: category(16), float64(1), int64(1)\n",
      "memory usage: 1.4 MB\n"
     ]
    }
   ],
   "source": [
    "df.info()"
   ]
  },
  {
   "attachments": {},
   "cell_type": "markdown",
   "metadata": {
    "collapsed": false
   },
   "source": [
    "Separate out continuous and categorical features"
   ]
  },
  {
   "cell_type": "code",
   "execution_count": 77,
   "metadata": {
    "collapsed": false
   },
   "outputs": [],
   "source": [
    "continuous_columns = df.select_dtypes(['float64','int64']).columns\n",
    "category_columns = df.select_dtypes('category').columns"
   ]
  },
  {
   "attachments": {},
   "cell_type": "markdown",
   "metadata": {},
   "source": [
    "### The dataset will now be split into two datasets: 70% training and 30% test\n",
    "- First we will set the target feature \"y\" to be death_yn\n",
    "- Then we will set \"X\" to be the remaining features in the dataframe"
   ]
  },
  {
   "cell_type": "code",
   "execution_count": 78,
   "metadata": {},
   "outputs": [],
   "source": [
    "y = pd.DataFrame(df[\"death_yn\"])\n",
    "X = df.drop([\"death_yn\"],1)"
   ]
  },
  {
   "attachments": {},
   "cell_type": "markdown",
   "metadata": {},
   "source": [
    "### The data set can now be split\n",
    "- The train test split will randomly split the dataset as per the test size\n",
    "- We will set the random state=1 to allow the random shuffle to be repeated within this notebook only"
   ]
  },
  {
   "cell_type": "code",
   "execution_count": 79,
   "metadata": {},
   "outputs": [
    {
     "name": "stdout",
     "output_type": "stream",
     "text": [
      "original range is:  40000\n",
      "training range (70%):\t rows 0 to 28000\n",
      "test range (30%): \t rows 28000 to 40000\n"
     ]
    }
   ],
   "source": [
    "# Split the dataset into two datasets: 70% training and 30% test\n",
    "X_train, X_test, y_train, y_test = train_test_split(X, y, test_size=0.3,random_state=1)\n",
    "\n",
    "print(\"original range is: \",df.shape[0])\n",
    "print(\"training range (70%):\\t rows 0 to\", round(X_train.shape[0]))\n",
    "print(\"test range (30%): \\t rows\", round(X_train.shape[0]), \"to\", round(X_train.shape[0]) + X_test.shape[0])"
   ]
  },
  {
   "attachments": {},
   "cell_type": "markdown",
   "metadata": {},
   "source": [
    "The dataset is now ready for plotting"
   ]
  },
  {
   "attachments": {},
   "cell_type": "markdown",
   "metadata": {},
   "source": [
    "## 1.2 On the training set we will now carry out a series of plots comparing all features to help make decisions on what features to keep for the model \n",
    "\n",
    "- All plots will be using the training subset of dataset: X_train, y_train\n",
    "\n",
    "### 1.2.1 Convert numeric features to continuous\n",
    "Currently, \"death_prob_sex_age\" and \"death_prob_medical\" are stored as categorical values as they contain the word \"Missing\" and their values are relatively limited. We will check the numeric only data's correlation against the other continuous features and the target feature as well as check them as categorical features. To do this, we have to find the best method of how to convert them to floating-point values. The following approaches will be considered:\n",
    "    1. Perform imputation with the median\n",
    "    2. Replace with strange value e.g. 2\n",
    "    3. Replace with the mean\n",
    "    4. Drop the features"
   ]
  },
  {
   "cell_type": "code",
   "execution_count": 80,
   "metadata": {
    "collapsed": false
   },
   "outputs": [],
   "source": [
    "corr_X_train = X_train.replace(\"Missing\", np.nan)\n",
    "\n",
    "corr_X_train[\"death_prob_sex_age\"] = corr_X_train[\"death_prob_sex_age\"].astype('float64')\n",
    "\n",
    "# 1. Perform imputation with median\n",
    "corr_X_train['death_prob_sex_age_median'] = corr_X_train['death_prob_sex_age'].fillna(corr_X_train['death_prob_sex_age'].median())\n",
    "# 2. Replace with strange value e.g. 2\n",
    "corr_X_train['death_prob_sex_age_strange_value'] = corr_X_train['death_prob_sex_age'].fillna(2)\n",
    "# 3. Perform imputation with mean\n",
    "corr_X_train['death_prob_sex_age_mean'] = corr_X_train['death_prob_sex_age'].fillna(corr_X_train['death_prob_sex_age'].mean())"
   ]
  },
  {
   "cell_type": "code",
   "execution_count": 81,
   "metadata": {
    "collapsed": false
   },
   "outputs": [
    {
     "data": {
      "text/html": [
       "<div>\n",
       "<style scoped>\n",
       "    .dataframe tbody tr th:only-of-type {\n",
       "        vertical-align: middle;\n",
       "    }\n",
       "\n",
       "    .dataframe tbody tr th {\n",
       "        vertical-align: top;\n",
       "    }\n",
       "\n",
       "    .dataframe thead th {\n",
       "        text-align: right;\n",
       "    }\n",
       "</style>\n",
       "<table border=\"1\" class=\"dataframe\">\n",
       "  <thead>\n",
       "    <tr style=\"text-align: right;\">\n",
       "      <th></th>\n",
       "      <th>death_prob_sex_age_median</th>\n",
       "      <th>death_prob_sex_age_mean</th>\n",
       "      <th>death_prob_sex_age_strange_value</th>\n",
       "      <th>death_prob_sex_age</th>\n",
       "      <th>death_yn</th>\n",
       "    </tr>\n",
       "  </thead>\n",
       "  <tbody>\n",
       "    <tr>\n",
       "      <th>death_prob_sex_age_median</th>\n",
       "      <td>1.000000</td>\n",
       "      <td>0.997707</td>\n",
       "      <td>0.856831</td>\n",
       "      <td>1.000000</td>\n",
       "      <td>0.724593</td>\n",
       "    </tr>\n",
       "    <tr>\n",
       "      <th>death_prob_sex_age_mean</th>\n",
       "      <td>0.997707</td>\n",
       "      <td>1.000000</td>\n",
       "      <td>0.889762</td>\n",
       "      <td>1.000000</td>\n",
       "      <td>0.723916</td>\n",
       "    </tr>\n",
       "    <tr>\n",
       "      <th>death_prob_sex_age_strange_value</th>\n",
       "      <td>0.856831</td>\n",
       "      <td>0.889762</td>\n",
       "      <td>1.000000</td>\n",
       "      <td>1.000000</td>\n",
       "      <td>0.628354</td>\n",
       "    </tr>\n",
       "    <tr>\n",
       "      <th>death_prob_sex_age</th>\n",
       "      <td>1.000000</td>\n",
       "      <td>1.000000</td>\n",
       "      <td>1.000000</td>\n",
       "      <td>1.000000</td>\n",
       "      <td>0.725672</td>\n",
       "    </tr>\n",
       "    <tr>\n",
       "      <th>death_yn</th>\n",
       "      <td>0.724593</td>\n",
       "      <td>0.723916</td>\n",
       "      <td>0.628354</td>\n",
       "      <td>0.725672</td>\n",
       "      <td>1.000000</td>\n",
       "    </tr>\n",
       "  </tbody>\n",
       "</table>\n",
       "</div>"
      ],
      "text/plain": [
       "                                  death_prob_sex_age_median  \\\n",
       "death_prob_sex_age_median                          1.000000   \n",
       "death_prob_sex_age_mean                            0.997707   \n",
       "death_prob_sex_age_strange_value                   0.856831   \n",
       "death_prob_sex_age                                 1.000000   \n",
       "death_yn                                           0.724593   \n",
       "\n",
       "                                  death_prob_sex_age_mean  \\\n",
       "death_prob_sex_age_median                        0.997707   \n",
       "death_prob_sex_age_mean                          1.000000   \n",
       "death_prob_sex_age_strange_value                 0.889762   \n",
       "death_prob_sex_age                               1.000000   \n",
       "death_yn                                         0.723916   \n",
       "\n",
       "                                  death_prob_sex_age_strange_value  \\\n",
       "death_prob_sex_age_median                                 0.856831   \n",
       "death_prob_sex_age_mean                                   0.889762   \n",
       "death_prob_sex_age_strange_value                          1.000000   \n",
       "death_prob_sex_age                                        1.000000   \n",
       "death_yn                                                  0.628354   \n",
       "\n",
       "                                  death_prob_sex_age  death_yn  \n",
       "death_prob_sex_age_median                   1.000000  0.724593  \n",
       "death_prob_sex_age_mean                     1.000000  0.723916  \n",
       "death_prob_sex_age_strange_value            1.000000  0.628354  \n",
       "death_prob_sex_age                          1.000000  0.725672  \n",
       "death_yn                                    0.725672  1.000000  "
      ]
     },
     "execution_count": 81,
     "metadata": {},
     "output_type": "execute_result"
    }
   ],
   "source": [
    "# death_yn will be mapped to 1 and 0 in order to perform correlations against it\n",
    "corr_y_train = pd.DataFrame(y_train[\"death_yn\"].map({'Yes': 1, 'No': 0}))\n",
    "corr_y_train[\"death_yn\"] = corr_y_train[\"death_yn\"].astype('int64')\n",
    "\n",
    "df_corr_temp = pd.concat([corr_X_train, corr_y_train], axis=1, )\n",
    "df_prob = df_corr_temp[['death_prob_sex_age_median','death_prob_sex_age_mean','death_prob_sex_age_strange_value', 'death_prob_sex_age', 'death_yn']].corr()\n",
    "df_prob"
   ]
  },
  {
   "attachments": {},
   "cell_type": "markdown",
   "metadata": {
    "collapsed": false
   },
   "source": [
    "For \"death_prob_sex_age\", the strange value makes the correlation negative while the median provides the closest to the actual correlation so this will be kept as the value and the strange value and the mean will be dropped. The original value with \"Missing\" values will be kept until the feature is inspected as a categorical feature and its correlation with other features is reviewed as well. A decision will be made then"
   ]
  },
  {
   "cell_type": "code",
   "execution_count": 82,
   "metadata": {
    "collapsed": false
   },
   "outputs": [
    {
     "data": {
      "text/html": [
       "<div>\n",
       "<style scoped>\n",
       "    .dataframe tbody tr th:only-of-type {\n",
       "        vertical-align: middle;\n",
       "    }\n",
       "\n",
       "    .dataframe tbody tr th {\n",
       "        vertical-align: top;\n",
       "    }\n",
       "\n",
       "    .dataframe thead th {\n",
       "        text-align: right;\n",
       "    }\n",
       "</style>\n",
       "<table border=\"1\" class=\"dataframe\">\n",
       "  <thead>\n",
       "    <tr style=\"text-align: right;\">\n",
       "      <th></th>\n",
       "      <th>death_prob_medical_median</th>\n",
       "      <th>death_prob_medical_mean</th>\n",
       "      <th>death_prob_medical_strange_value</th>\n",
       "      <th>death_prob_medical</th>\n",
       "      <th>death_yn</th>\n",
       "    </tr>\n",
       "  </thead>\n",
       "  <tbody>\n",
       "    <tr>\n",
       "      <th>death_prob_medical_median</th>\n",
       "      <td>1.000000</td>\n",
       "      <td>0.922020</td>\n",
       "      <td>-0.173605</td>\n",
       "      <td>1.000000</td>\n",
       "      <td>0.401617</td>\n",
       "    </tr>\n",
       "    <tr>\n",
       "      <th>death_prob_medical_mean</th>\n",
       "      <td>0.922020</td>\n",
       "      <td>1.000000</td>\n",
       "      <td>0.221198</td>\n",
       "      <td>1.000000</td>\n",
       "      <td>0.456767</td>\n",
       "    </tr>\n",
       "    <tr>\n",
       "      <th>death_prob_medical_strange_value</th>\n",
       "      <td>-0.173605</td>\n",
       "      <td>0.221198</td>\n",
       "      <td>1.000000</td>\n",
       "      <td>1.000000</td>\n",
       "      <td>0.150237</td>\n",
       "    </tr>\n",
       "    <tr>\n",
       "      <th>death_prob_medical</th>\n",
       "      <td>1.000000</td>\n",
       "      <td>1.000000</td>\n",
       "      <td>1.000000</td>\n",
       "      <td>1.000000</td>\n",
       "      <td>0.747447</td>\n",
       "    </tr>\n",
       "    <tr>\n",
       "      <th>death_yn</th>\n",
       "      <td>0.401617</td>\n",
       "      <td>0.456767</td>\n",
       "      <td>0.150237</td>\n",
       "      <td>0.747447</td>\n",
       "      <td>1.000000</td>\n",
       "    </tr>\n",
       "  </tbody>\n",
       "</table>\n",
       "</div>"
      ],
      "text/plain": [
       "                                  death_prob_medical_median  \\\n",
       "death_prob_medical_median                          1.000000   \n",
       "death_prob_medical_mean                            0.922020   \n",
       "death_prob_medical_strange_value                  -0.173605   \n",
       "death_prob_medical                                 1.000000   \n",
       "death_yn                                           0.401617   \n",
       "\n",
       "                                  death_prob_medical_mean  \\\n",
       "death_prob_medical_median                        0.922020   \n",
       "death_prob_medical_mean                          1.000000   \n",
       "death_prob_medical_strange_value                 0.221198   \n",
       "death_prob_medical                               1.000000   \n",
       "death_yn                                         0.456767   \n",
       "\n",
       "                                  death_prob_medical_strange_value  \\\n",
       "death_prob_medical_median                                -0.173605   \n",
       "death_prob_medical_mean                                   0.221198   \n",
       "death_prob_medical_strange_value                          1.000000   \n",
       "death_prob_medical                                        1.000000   \n",
       "death_yn                                                  0.150237   \n",
       "\n",
       "                                  death_prob_medical  death_yn  \n",
       "death_prob_medical_median                   1.000000  0.401617  \n",
       "death_prob_medical_mean                     1.000000  0.456767  \n",
       "death_prob_medical_strange_value            1.000000  0.150237  \n",
       "death_prob_medical                          1.000000  0.747447  \n",
       "death_yn                                    0.747447  1.000000  "
      ]
     },
     "execution_count": 82,
     "metadata": {},
     "output_type": "execute_result"
    }
   ],
   "source": [
    "corr_X_train[\"death_prob_medical\"] = corr_X_train[\"death_prob_medical\"].astype('float64')\n",
    "\n",
    "# 1. Perform imputation with median\n",
    "corr_X_train['death_prob_medical_median'] = corr_X_train['death_prob_medical'].fillna(corr_X_train['death_prob_medical'].median())\n",
    "# 2. Replace with strange value e.g. 2\n",
    "corr_X_train['death_prob_medical_strange_value'] = corr_X_train['death_prob_medical'].fillna(2)\n",
    "# 3. Perform imputation with mean\n",
    "corr_X_train['death_prob_medical_mean'] = corr_X_train['death_prob_medical'].fillna(corr_X_train['death_prob_medical'].mean())\n",
    "\n",
    "df_corr_temp = pd.concat([corr_X_train, corr_y_train], axis=1)\n",
    "df_prob = df_corr_temp[['death_prob_medical_median','death_prob_medical_mean','death_prob_medical_strange_value', 'death_prob_medical', 'death_yn']].corr()\n",
    "df_prob"
   ]
  },
  {
   "attachments": {},
   "cell_type": "markdown",
   "metadata": {
    "collapsed": false
   },
   "source": [
    "For \"death_prob_medical\", the strange value and median have a lower correlation than the actual correlation. The mean imputation is still lower than the actual correlation but is the best option to remove all NaN values. We will consider this after reviewing the feature as its original categorical feature and after reviewing its correlation with other features"
   ]
  },
  {
   "cell_type": "code",
   "execution_count": 83,
   "metadata": {
    "collapsed": false
   },
   "outputs": [],
   "source": [
    "# drop the other features\n",
    "corr_X_train = corr_X_train.drop(['death_prob_sex_age_strange_value', 'death_prob_medical_strange_value', 'death_prob_sex_age_mean', 'death_prob_medical_median'],1)"
   ]
  },
  {
   "attachments": {},
   "cell_type": "markdown",
   "metadata": {
    "collapsed": false
   },
   "source": [
    "### 1.2.2 Plot the correlations between all the continuous features.\n",
    "Using code from the sample lab solution"
   ]
  },
  {
   "cell_type": "code",
   "execution_count": 84,
   "metadata": {},
   "outputs": [
    {
     "data": {
      "text/plain": [
       "(array([0.5, 1.5, 2.5, 3.5, 4.5, 5.5]),\n",
       " [Text(0.5, 0, 'case_positive_specimen_interval'),\n",
       "  Text(1.5, 0, 'death_prob_sex_age'),\n",
       "  Text(2.5, 0, 'death_prob_medical'),\n",
       "  Text(3.5, 0, 'death_prob_month'),\n",
       "  Text(4.5, 0, 'death_prob_sex_age_median'),\n",
       "  Text(5.5, 0, 'death_prob_medical_mean')])"
      ]
     },
     "execution_count": 84,
     "metadata": {},
     "output_type": "execute_result"
    },
    {
     "data": {
      "image/png": "[encoded data removed]",
      "text/plain": [
       "<Figure size 2000x2000 with 2 Axes>"
      ]
     },
     "metadata": {},
     "output_type": "display_data"
    }
   ],
   "source": [
    "# Correlation matrix using code found on https://stanford.edu/~mwaskom/software/seaborn/examples/many_pairwise_correlations.html & sample lab solution\n",
    "sns.set(style=\"white\")\n",
    "\n",
    "# Calculate correlation of all pairs of continuous features\n",
    "corr = corr_X_train.corr()\n",
    "\n",
    "# Set up the matplotlib figure\n",
    "f, ax = plt.subplots(figsize=(20, 20))\n",
    "\n",
    "# Generate a custom colormap - blue and red\n",
    "cmap = sns.diverging_palette(220, 10, as_cmap=True)\n",
    "\n",
    "# Draw the heatmap with the mask and correct aspect ratio\n",
    "sns.heatmap(corr, annot=True, cmap=cmap, vmax=1, vmin=-1,\n",
    "            square=True, xticklabels=True, yticklabels=True,\n",
    "            linewidths=.5, cbar_kws={\"shrink\": .5}, ax=ax)\n",
    "plt.yticks(rotation = 0)\n",
    "plt.xticks(rotation = 90)"
   ]
  },
  {
   "attachments": {},
   "cell_type": "markdown",
   "metadata": {
    "collapsed": false
   },
   "source": [
    "### Interpretation of the results\n",
    "- Highest correlations -  We will discuss the correlations found in the above heat map\n",
    "    - \"death_prob_medical\" and \"death_prob_sex_age\" have the highest correlation of 0.6. This is not surprising as the likelihood of hospitalisation will be related to the age of the person. Those that are hospitalised are likely to be older. \"death_prob_sex_age_median\" has the same correlation too. However, \"death_prob_medical_mean\" has a lower correlation than \"death_prob_medical\" with the other feature. The correlation is not high enough to drop either feature as they have a high enough independence from each other. There correlation with the target feature will be inspected in the next section of the project.\n",
    "    - \"death_prob_month\" and \"death_prob_sex_age\" have a correlation of 0.28. This is surprising as age and sex shouldn't be related to the month in which the case was recorded. It is not high enough to justify dropping either features. \"death_prob_sex_age_median\" has the same correlation too. We will review both of their correlation to the target value later in the project.\n",
    "    - \"death_prob_month\" and \"death_prob_medical\" have a correlation of 0.28. This is again surprising as medical treatment shouldn't be related to the month in which a case was reported. However, \"death_prob_medical_mean\" has a lower correlation than \"death_prob_medical\" again.\n",
    "- Weaker correlations - We can see a number of features with no apparent correlation to any other features\n",
    "    - \"case_positive_interval\" has a negligible correlation with the other features, we will consider dropping this as a feature after reviewing its correlation with the target feature"
   ]
  },
  {
   "attachments": {},
   "cell_type": "markdown",
   "metadata": {},
   "source": [
    "### 1.2.3 Plot interaction between continuous features and target feature\n",
    "- Here we will loop over each continuous feature and make a scatter plot against the target 'death_yn'\n",
    "- We will discuss what we observe from these plots, e.g. which continuous features seem to be better at predicting the target feature\n",
    "- We will choose a subset of continuous features we find promising (if any) and justify our choice."
   ]
  },
  {
   "attachments": {},
   "cell_type": "markdown",
   "metadata": {
    "collapsed": false
   },
   "source": [
    "Using code from the sample lab solution"
   ]
  },
  {
   "cell_type": "code",
   "execution_count": 85,
   "metadata": {},
   "outputs": [
    {
     "data": {
      "text/html": [
       "<div>\n",
       "<style scoped>\n",
       "    .dataframe tbody tr th:only-of-type {\n",
       "        vertical-align: middle;\n",
       "    }\n",
       "\n",
       "    .dataframe tbody tr th {\n",
       "        vertical-align: top;\n",
       "    }\n",
       "\n",
       "    .dataframe thead th {\n",
       "        text-align: right;\n",
       "    }\n",
       "</style>\n",
       "<table border=\"1\" class=\"dataframe\">\n",
       "  <thead>\n",
       "    <tr style=\"text-align: right;\">\n",
       "      <th></th>\n",
       "      <th>death_yn</th>\n",
       "    </tr>\n",
       "  </thead>\n",
       "  <tbody>\n",
       "    <tr>\n",
       "      <th>death_prob_medical</th>\n",
       "      <td>0.747447</td>\n",
       "    </tr>\n",
       "    <tr>\n",
       "      <th>death_prob_sex_age</th>\n",
       "      <td>0.725672</td>\n",
       "    </tr>\n",
       "    <tr>\n",
       "      <th>death_prob_sex_age_median</th>\n",
       "      <td>0.724593</td>\n",
       "    </tr>\n",
       "    <tr>\n",
       "      <th>death_prob_medical_mean</th>\n",
       "      <td>0.456767</td>\n",
       "    </tr>\n",
       "    <tr>\n",
       "      <th>death_prob_month</th>\n",
       "      <td>0.390469</td>\n",
       "    </tr>\n",
       "    <tr>\n",
       "      <th>case_positive_specimen_interval</th>\n",
       "      <td>0.003827</td>\n",
       "    </tr>\n",
       "  </tbody>\n",
       "</table>\n",
       "</div>"
      ],
      "text/plain": [
       "                                 death_yn\n",
       "death_prob_medical               0.747447\n",
       "death_prob_sex_age               0.725672\n",
       "death_prob_sex_age_median        0.724593\n",
       "death_prob_medical_mean          0.456767\n",
       "death_prob_month                 0.390469\n",
       "case_positive_specimen_interval  0.003827"
      ]
     },
     "execution_count": 85,
     "metadata": {},
     "output_type": "execute_result"
    },
    {
     "data": {
      "image/png": "[encoded data removed]",
      "text/plain": [
       "<Figure size 640x480 with 1 Axes>"
      ]
     },
     "metadata": {},
     "output_type": "display_data"
    },
    {
     "data": {
      "image/png": "[encoded data removed]",
      "text/plain": [
       "<Figure size 640x480 with 1 Axes>"
      ]
     },
     "metadata": {},
     "output_type": "display_data"
    },
    {
     "data": {
      "image/png": "[encoded data removed]",
      "text/plain": [
       "<Figure size 640x480 with 1 Axes>"
      ]
     },
     "metadata": {},
     "output_type": "display_data"
    },
    {
     "data": {
      "image/png": "[encoded data removed]",
      "text/plain": [
       "<Figure size 640x480 with 1 Axes>"
      ]
     },
     "metadata": {},
     "output_type": "display_data"
    },
    {
     "data": {
      "image/png": "[encoded data removed]",
      "text/plain": [
       "<Figure size 640x480 with 1 Axes>"
      ]
     },
     "metadata": {},
     "output_type": "display_data"
    },
    {
     "data": {
      "image/png": "[encoded data removed]",
      "text/plain": [
       "<Figure size 640x480 with 1 Axes>"
      ]
     },
     "metadata": {},
     "output_type": "display_data"
    }
   ],
   "source": [
    "# dict to hold correlation values\n",
    "corr_dict = {}\n",
    "\n",
    "# separating out the continuous features\n",
    "continuous_columns_X_train = corr_X_train[[\"case_positive_specimen_interval\", \"death_prob_month\", \"death_prob_medical\", \"death_prob_medical_mean\", \"death_prob_sex_age\", \"death_prob_sex_age_median\"]]\n",
    "\n",
    "# death_yn will be mapped to 1 and 0 in order to perform correlations against it\n",
    "corr_y_train = pd.DataFrame(y_train[\"death_yn\"].map({'Yes': 1, 'No': 0}))\n",
    "corr_y_train[\"death_yn\"] = corr_y_train[\"death_yn\"].astype('int64')\n",
    "\n",
    "# plot pairwise interaction between all continuous features and target\n",
    "for column in continuous_columns_X_train:\n",
    "    # create temp df to merge column and target\n",
    "    df_temp = pd.concat([continuous_columns_X_train[column], corr_y_train], axis=1)\n",
    "    # store correlation in variable\n",
    "    correlation = df_temp[[column, 'death_yn']].corr().values[0,1]\n",
    "    # plot the column and target feature\n",
    "    df_temp.plot(kind='scatter', x=column, y=\"death_yn\", label=\"%.3f\" % correlation)\n",
    "    # add correlation to dict\n",
    "    corr_dict[column] = correlation\n",
    "\n",
    "# dataframe holding sorted correlation values to aid in interpreting results\n",
    "corr_df = pd.DataFrame.from_dict(corr_dict, orient='index', columns=['death_yn']).sort_values('death_yn', ascending=False)\n",
    "corr_df"
   ]
  },
  {
   "attachments": {},
   "cell_type": "markdown",
   "metadata": {
    "collapsed": false
   },
   "source": [
    "### Interpretation of the results\n",
    "- Observing the plots, visually there are no clearly defined correlations and this is probably to be expected with a complex problem like this. There are many interactions to take into account.\n",
    "- Each correlation will be reviewed individually as there are only a few continuous features in the dataframe:\n",
    "\n",
    "- The strongest correlations are \"death_prob_medical\", \"death_prob_sex_age\" and  \"death_prob_sex_age_median\".\n",
    "    - death_prob_medical makes sense as a person that is hospitalised has a higher likelihood of death than a person not hospitalised as their case would have been deemed more severe. The imputed value has again, a much lower correlation, it will be reviewed again as a categorical value to determine the best course of action, it is unlikely to be dropped due to its importance.\n",
    "    - death_prob_sex_age has a high correlation with death, a person's age likely has a larger impact here on the correlation. death_prob_sex_age_median has a similar correlation value, a final decision will be made after reviewing it as a categorical value but a strong case for keeping the value as its imputation is being made by the results\n",
    "    - death_prob_month has a lower correlation but is still strong at 0.4, this feature will be kept\n",
    "- The weakest correlation is \"case_positive_specimen_interval\"\n",
    "    - This is unsurprising as the interval between the case was reported to the CDC and when the case was found is unlikely to effect the outcome of the patient. This feature should be removed as it will complicate the model, the impact of this decision will be evaluated in part 5."
   ]
  },
  {
   "attachments": {},
   "cell_type": "markdown",
   "metadata": {},
   "source": [
    "### 1.2.4 Plot interaction between categorical features and target feature\n",
    "- Here we will plot a pairwise interaction between each categorical feature against the target feature. \n",
    "- We will discuss what we observe from these plots, e.g., which categorical features seem to be better at predicting the target feature.\n",
    "- We will choose a subset of categorical features we find promising (if any) and justify our choice.\n",
    "\n",
    "There are many categorical features, a stacked bar plot will be created for each"
   ]
  },
  {
   "attachments": {},
   "cell_type": "markdown",
   "metadata": {},
   "source": [
    "##### Create stacked bar plots for all categorical features\n",
    "Using code from the lab task"
   ]
  },
  {
   "cell_type": "code",
   "execution_count": 86,
   "metadata": {},
   "outputs": [
    {
     "name": "stdout",
     "output_type": "stream",
     "text": [
      "\n",
      " case_month\n",
      "Index \t \t \t Count\n",
      "2022-01 \t \t \t 3633\n"
     ]
    },
    {
     "ename": "KeyboardInterrupt",
     "evalue": "",
     "output_type": "error",
     "traceback": [
      "\u001b[0;31m---------------------------------------------------------------------------\u001b[0m",
      "\u001b[0;31mKeyboardInterrupt\u001b[0m                         Traceback (most recent call last)",
      "Cell \u001b[0;32mIn[86], line 30\u001b[0m\n\u001b[1;32m     28\u001b[0m     index_list \u001b[38;5;241m=\u001b[39m df_temp[df_temp[categorical_feature] \u001b[38;5;241m==\u001b[39m i]\u001b[38;5;241m.\u001b[39mindex\u001b[38;5;241m.\u001b[39mtolist()\n\u001b[1;32m     29\u001b[0m     \u001b[38;5;28;01mfor\u001b[39;00m ind \u001b[38;5;129;01min\u001b[39;00m index_list:\n\u001b[0;32m---> 30\u001b[0m         df_temp\u001b[38;5;241m.\u001b[39mloc[ind, \u001b[38;5;124m'\u001b[39m\u001b[38;5;124mpercent\u001b[39m\u001b[38;5;124m'\u001b[39m] \u001b[38;5;241m=\u001b[39m count_percentage\n\u001b[1;32m     32\u001b[0m group \u001b[38;5;241m=\u001b[39m df_temp[[\u001b[38;5;124m'\u001b[39m\u001b[38;5;124mpercent\u001b[39m\u001b[38;5;124m'\u001b[39m,categorical_feature,\u001b[38;5;124m'\u001b[39m\u001b[38;5;124mdeath_yn\u001b[39m\u001b[38;5;124m'\u001b[39m]]\u001b[38;5;241m.\u001b[39mgroupby([categorical_feature,\u001b[38;5;124m'\u001b[39m\u001b[38;5;124mdeath_yn\u001b[39m\u001b[38;5;124m'\u001b[39m])\u001b[38;5;241m.\u001b[39msum()\n\u001b[1;32m     34\u001b[0m my_plot \u001b[38;5;241m=\u001b[39m group\u001b[38;5;241m.\u001b[39munstack()\u001b[38;5;241m.\u001b[39mplot(kind\u001b[38;5;241m=\u001b[39m\u001b[38;5;124m'\u001b[39m\u001b[38;5;124mbar\u001b[39m\u001b[38;5;124m'\u001b[39m, stacked\u001b[38;5;241m=\u001b[39m\u001b[38;5;28;01mTrue\u001b[39;00m, title\u001b[38;5;241m=\u001b[39m\u001b[38;5;124mf\u001b[39m\u001b[38;5;124m\"\u001b[39m\u001b[38;5;124mdeath_yn vs \u001b[39m\u001b[38;5;132;01m{\u001b[39;00mcategorical_feature\u001b[38;5;132;01m}\u001b[39;00m\u001b[38;5;124m\"\u001b[39m, figsize\u001b[38;5;241m=\u001b[39m(\u001b[38;5;241m15\u001b[39m,\u001b[38;5;241m7\u001b[39m), grid\u001b[38;5;241m=\u001b[39m\u001b[38;5;28;01mTrue\u001b[39;00m)\n",
      "File \u001b[0;32m/opt/anaconda3/envs/comp47350py39/lib/python3.9/site-packages/pandas/core/indexing.py:814\u001b[0m, in \u001b[0;36m_LocationIndexer.__setitem__\u001b[0;34m(self, key, value)\u001b[0m\n\u001b[1;32m    812\u001b[0m \u001b[38;5;28;01melse\u001b[39;00m:\n\u001b[1;32m    813\u001b[0m     key \u001b[38;5;241m=\u001b[39m com\u001b[38;5;241m.\u001b[39mapply_if_callable(key, \u001b[38;5;28mself\u001b[39m\u001b[38;5;241m.\u001b[39mobj)\n\u001b[0;32m--> 814\u001b[0m indexer \u001b[38;5;241m=\u001b[39m \u001b[38;5;28;43mself\u001b[39;49m\u001b[38;5;241;43m.\u001b[39;49m\u001b[43m_get_setitem_indexer\u001b[49m\u001b[43m(\u001b[49m\u001b[43mkey\u001b[49m\u001b[43m)\u001b[49m\n\u001b[1;32m    815\u001b[0m \u001b[38;5;28mself\u001b[39m\u001b[38;5;241m.\u001b[39m_has_valid_setitem_indexer(key)\n\u001b[1;32m    817\u001b[0m iloc \u001b[38;5;241m=\u001b[39m \u001b[38;5;28mself\u001b[39m \u001b[38;5;28;01mif\u001b[39;00m \u001b[38;5;28mself\u001b[39m\u001b[38;5;241m.\u001b[39mname \u001b[38;5;241m==\u001b[39m \u001b[38;5;124m\"\u001b[39m\u001b[38;5;124miloc\u001b[39m\u001b[38;5;124m\"\u001b[39m \u001b[38;5;28;01melse\u001b[39;00m \u001b[38;5;28mself\u001b[39m\u001b[38;5;241m.\u001b[39mobj\u001b[38;5;241m.\u001b[39miloc\n",
      "File \u001b[0;32m/opt/anaconda3/envs/comp47350py39/lib/python3.9/site-packages/pandas/core/indexing.py:678\u001b[0m, in \u001b[0;36m_LocationIndexer._get_setitem_indexer\u001b[0;34m(self, key)\u001b[0m\n\u001b[1;32m    673\u001b[0m \u001b[38;5;124;03m\"\"\"\u001b[39;00m\n\u001b[1;32m    674\u001b[0m \u001b[38;5;124;03mConvert a potentially-label-based key into a positional indexer.\u001b[39;00m\n\u001b[1;32m    675\u001b[0m \u001b[38;5;124;03m\"\"\"\u001b[39;00m\n\u001b[1;32m    676\u001b[0m \u001b[38;5;28;01mif\u001b[39;00m \u001b[38;5;28mself\u001b[39m\u001b[38;5;241m.\u001b[39mname \u001b[38;5;241m==\u001b[39m \u001b[38;5;124m\"\u001b[39m\u001b[38;5;124mloc\u001b[39m\u001b[38;5;124m\"\u001b[39m:\n\u001b[1;32m    677\u001b[0m     \u001b[38;5;66;03m# always holds here bc iloc overrides _get_setitem_indexer\u001b[39;00m\n\u001b[0;32m--> 678\u001b[0m     \u001b[38;5;28;43mself\u001b[39;49m\u001b[38;5;241;43m.\u001b[39;49m\u001b[43m_ensure_listlike_indexer\u001b[49m\u001b[43m(\u001b[49m\u001b[43mkey\u001b[49m\u001b[43m)\u001b[49m\n\u001b[1;32m    680\u001b[0m \u001b[38;5;28;01mif\u001b[39;00m \u001b[38;5;28misinstance\u001b[39m(key, \u001b[38;5;28mtuple\u001b[39m):\n\u001b[1;32m    681\u001b[0m     \u001b[38;5;28;01mfor\u001b[39;00m x \u001b[38;5;129;01min\u001b[39;00m key:\n",
      "File \u001b[0;32m/opt/anaconda3/envs/comp47350py39/lib/python3.9/site-packages/pandas/core/indexing.py:788\u001b[0m, in \u001b[0;36m_LocationIndexer._ensure_listlike_indexer\u001b[0;34m(self, key, axis, value)\u001b[0m\n\u001b[1;32m    785\u001b[0m \u001b[38;5;28;01mif\u001b[39;00m \u001b[38;5;28mself\u001b[39m\u001b[38;5;241m.\u001b[39mndim \u001b[38;5;241m!=\u001b[39m \u001b[38;5;241m2\u001b[39m:\n\u001b[1;32m    786\u001b[0m     \u001b[38;5;28;01mreturn\u001b[39;00m\n\u001b[0;32m--> 788\u001b[0m \u001b[38;5;28;01mif\u001b[39;00m \u001b[38;5;28misinstance\u001b[39m(key, \u001b[38;5;28mtuple\u001b[39m) \u001b[38;5;129;01mand\u001b[39;00m \u001b[38;5;28;43mlen\u001b[39;49m(key) \u001b[38;5;241m>\u001b[39m \u001b[38;5;241m1\u001b[39m:\n\u001b[1;32m    789\u001b[0m     \u001b[38;5;66;03m# key may be a tuple if we are .loc\u001b[39;00m\n\u001b[1;32m    790\u001b[0m     \u001b[38;5;66;03m# if length of key is > 1 set key to column part\u001b[39;00m\n\u001b[1;32m    791\u001b[0m     key \u001b[38;5;241m=\u001b[39m key[column_axis]\n\u001b[1;32m    792\u001b[0m     axis \u001b[38;5;241m=\u001b[39m column_axis\n",
      "\u001b[0;31mKeyboardInterrupt\u001b[0m: "
     ]
    }
   ],
   "source": [
    "# we will create temp dataframe for these plots, merging X_train and y_train\n",
    "df_temp= pd.concat([X_train, y_train], axis=1)\n",
    "\n",
    "# removing target feature as it can't be grouped against itself for stacked barchart\n",
    "category_columns_no_death = category_columns.drop([\"death_yn\"],1)\n",
    "\n",
    "# for each categorical feature create a stacked bar plot\n",
    "for categorical_feature in category_columns_no_death:\n",
    "    \n",
    "    categorical_count = pd.unique(df_temp[categorical_feature].ravel())\n",
    "\n",
    "    # add new percentage column and set values to zero\n",
    "    df_temp['percent'] = 0\n",
    "\n",
    "    #print header\n",
    "    print(\"\\n\", categorical_feature)\n",
    "    print(\"Index \\t \\t \\t Count\")\n",
    "\n",
    "    # for each categorical feature\n",
    "    for i in categorical_count:\n",
    "\n",
    "        count = df_temp[df_temp[categorical_feature] == i].count()['death_yn']\n",
    "        count_percentage = (1 / count) * 100\n",
    "\n",
    "        # print out index vs count\n",
    "        print(i, \"\\t \\t \\t\", count)\n",
    "\n",
    "        index_list = df_temp[df_temp[categorical_feature] == i].index.tolist()\n",
    "        for ind in index_list:\n",
    "            df_temp.loc[ind, 'percent'] = count_percentage\n",
    "\n",
    "    group = df_temp[['percent',categorical_feature,'death_yn']].groupby([categorical_feature,'death_yn']).sum()\n",
    "\n",
    "    my_plot = group.unstack().plot(kind='bar', stacked=True, title=f\"death_yn vs {categorical_feature}\", figsize=(15,7), grid=True)\n",
    "\n",
    "    # add legend\n",
    "    red_patch = mpatches.Patch(color='orange', label='Death')\n",
    "    blue_patch = mpatches.Patch(color='blue', label='No Death')\n",
    "    my_plot.legend(handles=[red_patch, blue_patch], frameon = True)\n",
    "\n",
    "    # add gridlines\n",
    "    plt.grid(b=True, which='major', color='#666666', linestyle='-')\n",
    "    plt.minorticks_on()\n",
    "    plt.grid(b=True, which='minor', color='#999999', linestyle='-', alpha=0.2)\n",
    "\n",
    "    # add labels\n",
    "    my_plot.set_xlabel(\"Number of Instances\")\n",
    "    my_plot.set_ylabel(\"Deaths\")\n",
    "    my_plot.set_ylim([0,100])\n",
    "    \n",
    "# drop 'percent' that was used only for stacked bar plot\n",
    "df_temp = df_temp.drop(\"percent\", 1)"
   ]
  },
  {
   "attachments": {},
   "cell_type": "markdown",
   "metadata": {
    "collapsed": false
   },
   "source": [
    "### Interpretation of the results\n",
    "\n",
    "death_yn vs case_month\n",
    "- Observing the plots we can see that deaths decrease as over the course of the pandemic, this suggests the month a person contracts Covid-19 is a good predictor for death. This feature will be kept\n",
    "\n",
    "death_yn vs res_state and state_fips_code\n",
    "- There is a wide variety of values between res_state and state_fips_code with death_yn. The feature will be kept but res_state and state_fips_code are duplications of each other so res_state will be dropped as a feature and state_fips_code will be kept as it a unique identifier of states. This will prevent duplication of data being inputted into the prediction models.\n",
    "\n",
    "death_yn vs res_county and county_fips_code\n",
    "- These features have too much data to inspect visually, upon review of the data quality report and from learnings from the data preparation stage these features will be dropped. The county level data is too granular, there is not enough instances per county to reliably predict the target feature, therefore to decomplexify the model these features will be dropped\n",
    "\n",
    "death_yn vs age_group\n",
    "- Each bin has different values that make intuitive sense, older cohorts died more than younger cohorts due to contracting Covid-19. Therefore the feature should be kept\n",
    "\n",
    "death_yn vs race\n",
    "- All bins have different values, meaning a person's race may have been a predictor of death, this feature will be kept\n",
    "\n",
    "death_yn vs ethnicity\n",
    "- Both bins have different values, meaning a person's ethnicity may have been a predictor of death, this feature will be kept\n",
    "\n",
    "death_yn vs current_status\n",
    "- It is interesting to see that a probable case vs a laboratory confirmed case show little difference in death rates, these features will be kept as enough difference that it could be substantial for the prediction model\n",
    "\n",
    "death_yn vs symptom_status\n",
    "- It is interesting to see that the two values show little difference in death rates, we would have expected symptomatic cases to have a much higher level of deaths as intuitively a symptomatic case could be thought of as worse. These features will be kept as there is enough difference that it could be substantial for the prediction model and it will be interesting to see if they effect the model\n",
    "\n",
    "death_yn vs hospital_yn\n",
    "- This is an unsurprising result, if a person is hospitalised, they are more likely to have a more severe case of Covid-19 that results in death\n",
    "\n",
    "death_yn vs death_prob_sex_age\n",
    "- From this chart and the correlation chart we believe the feature's classification should be changed from categorical to continuous with the imputed value of death_prob_sex_age_median used as it will be easier to use in the model as a numeric value and has no values missing\n",
    "\n",
    "death_yn vs death_prob_medical\n",
    "- From this chart and the correlation chart we believe the feature's classification should be changed from categorical to continuous with the imputed value of death_prob_medical_mean used. Although it's correlation is not as strong as the original value, with NaN values ignored, it will be easier to use in the model as a numeric value and has no values missing\n",
    "\n",
    "death_yn vs state_party\n",
    "- This value was an added feature from part 1 of this project, although it is interesting, it will be dropped as it directly related to the state_fips_code which may influence the prediction model. The state_fips_code will provide a better level of granularity for the model.\n"
   ]
  },
  {
   "attachments": {},
   "cell_type": "markdown",
   "metadata": {
    "collapsed": false
   },
   "source": [
    "Before dropping add the imputed values to the original and drop the original values"
   ]
  },
  {
   "cell_type": "code",
   "execution_count": null,
   "metadata": {},
   "outputs": [],
   "source": [
    "df[\"death_prob_sex_age\"] = df[\"death_prob_sex_age\"].replace(\"Missing\", np.nan)\n",
    "df[\"death_prob_medical\"] = df[\"death_prob_medical\"].replace(\"Missing\", np.nan)\n",
    "\n",
    "df[\"death_prob_sex_age\"] = df[\"death_prob_sex_age\"].astype('float64')\n",
    "df[\"death_prob_medical\"] = df[\"death_prob_medical\"].astype('float64')\n",
    "\n",
    "# Perform imputation with median\n",
    "df['death_prob_sex_age_median'] = df['death_prob_sex_age'].fillna(df['death_prob_sex_age'].median())\n",
    "\n",
    "# Perform imputation with mean\n",
    "df['death_prob_medical_mean'] = df['death_prob_medical'].fillna(df['death_prob_medical'].mean())"
   ]
  },
  {
   "cell_type": "code",
   "execution_count": null,
   "metadata": {
    "collapsed": false
   },
   "outputs": [],
   "source": [
    "# map death_yn to numeric values to make correlations easier to calculate\n",
    "df[\"death_yn\"] = df[\"death_yn\"].map({'Yes': 1, 'No': 0})\n",
    "df[\"death_yn\"] = df[\"death_yn\"].astype('int64')"
   ]
  },
  {
   "cell_type": "code",
   "execution_count": null,
   "metadata": {
    "collapsed": false
   },
   "outputs": [],
   "source": [
    "# drop original values\n",
    "df.drop([\"death_prob_sex_age\", \"death_prob_medical\"], 1, inplace=True)"
   ]
  },
  {
   "cell_type": "code",
   "execution_count": null,
   "metadata": {
    "collapsed": false
   },
   "outputs": [],
   "source": [
    "# Check the types and NaN values\n",
    "df.info()"
   ]
  },
  {
   "attachments": {},
   "cell_type": "markdown",
   "metadata": {
    "collapsed": false
   },
   "source": [
    "We will now drop these aforementioned features\n",
    "- Before dropping, we will duplicate the original dataframe, df, and label it df_rev1\n",
    "- We will drop features from this copy only (df_rev1)\n",
    "- This will allow us to revert to the original dataset later if we decide to compare the performance of the reduced dataset (df_rev1) with the original dataset (df)"
   ]
  },
  {
   "cell_type": "code",
   "execution_count": null,
   "metadata": {
    "collapsed": false
   },
   "outputs": [],
   "source": [
    "# before dropping make copy of original\n",
    "df_rev1 = df.copy()\n",
    "# drop low value features\n",
    "df_rev1.drop([\"res_state\", \"res_county\", \"county_fips_code\", \"case_positive_specimen_interval\", \"state_party\"], 1, inplace=True)\n",
    "print('\\nNew shape:', df_rev1.shape, '\\n')\n",
    "df_rev1.info()"
   ]
  },
  {
   "attachments": {},
   "cell_type": "markdown",
   "metadata": {
    "collapsed": false
   },
   "source": [
    "## 1.3 Prepare dataset for modeling\n",
    "Now we have picked our descriptive features for the whole dataset, a number of additional steps will need to be taken to prepare the dataset for modeling\n",
    "- We will now convert the categorical variables into dummies variable to allow modeling\n",
    "- We will then remove the reference columns to prevent multicollinearity\n",
    "- We will then set up the train test split again based on the dataset with the dummies included"
   ]
  },
  {
   "attachments": {},
   "cell_type": "markdown",
   "metadata": {
    "collapsed": false
   },
   "source": [
    "#### Set up dummy features.\n",
    "This will split up each categorical feature into a number of dummy features. The data type changes to \"uint8\""
   ]
  },
  {
   "cell_type": "code",
   "execution_count": null,
   "metadata": {
    "collapsed": false
   },
   "outputs": [],
   "source": [
    "# set up dummies features\n",
    "df_rev1 = pd.get_dummies(df_rev1)\n",
    "df_rev1.dtypes"
   ]
  },
  {
   "attachments": {},
   "cell_type": "markdown",
   "metadata": {
    "collapsed": false
   },
   "source": [
    "### Remove reference columns to prevent multicollinearity"
   ]
  },
  {
   "cell_type": "code",
   "execution_count": null,
   "metadata": {
    "collapsed": false
   },
   "outputs": [],
   "source": [
    "df_rev1 = df_rev1.drop(['case_month_2020-01', 'state_fips_code_1', 'age_group_0 - 17 years', 'sex_Female', 'race_American Indian/Alaska Native', 'ethnicity_Hispanic/Latino', 'current_status_Laboratory-confirmed case', 'symptom_status_Asymptomatic', 'hosp_yn_No'],1)\n",
    "df_rev1.dtypes"
   ]
  },
  {
   "attachments": {},
   "cell_type": "markdown",
   "metadata": {
    "collapsed": false
   },
   "source": [
    "#### Continuous columns are:"
   ]
  },
  {
   "cell_type": "code",
   "execution_count": null,
   "metadata": {
    "collapsed": false
   },
   "outputs": [],
   "source": [
    "continuous_columns = df_rev1.select_dtypes(include=['int64','float64']).columns.tolist()\n",
    "# remove the target \"death_yn\"\n",
    "continuous_columns.pop(0)\n",
    "continuous_columns"
   ]
  },
  {
   "attachments": {},
   "cell_type": "markdown",
   "metadata": {
    "collapsed": false
   },
   "source": [
    "#### Categorical columns are:"
   ]
  },
  {
   "cell_type": "code",
   "execution_count": null,
   "metadata": {
    "collapsed": false
   },
   "outputs": [],
   "source": [
    "categorical_columns = df_rev1.select_dtypes(include=['uint8']).columns.tolist()\n",
    "categorical_columns"
   ]
  },
  {
   "attachments": {},
   "cell_type": "markdown",
   "metadata": {
    "collapsed": false
   },
   "source": [
    "#### Total features are:"
   ]
  },
  {
   "cell_type": "code",
   "execution_count": null,
   "metadata": {
    "collapsed": false
   },
   "outputs": [],
   "source": [
    "features = continuous_columns + categorical_columns\n",
    "features"
   ]
  },
  {
   "attachments": {},
   "cell_type": "markdown",
   "metadata": {
    "collapsed": false
   },
   "source": [
    "### Setting up the train/test split\n",
    "- This is based on the dataset with dummy values\n",
    "- The Target is stored in dataframe \"y\"\n",
    "- The remaining features are stored in dataframe \"X\"\n",
    "- Both are split into training and test subsets"
   ]
  },
  {
   "cell_type": "code",
   "execution_count": null,
   "metadata": {
    "collapsed": false
   },
   "outputs": [],
   "source": [
    "# y is the target\n",
    "y = df_rev1[\"death_yn\"]\n",
    "# X is everything else\n",
    "X = df_rev1.drop([\"death_yn\"],1)\n",
    "# Split the dataset into two datasets: 70% training and 30% test\n",
    "X_train, X_test, y_train, y_test = train_test_split(X, y, random_state=1,  test_size=0.3)\n",
    "\n",
    "print(\"original range is: \",df_rev1.shape[0])\n",
    "print(\"training range (70%):\\t rows 0 to\", round(X_train.shape[0]))\n",
    "print(\"test range (30%): \\t rows\", round(X_train.shape[0]), \"to\", round(X_train.shape[0]) + X_test.shape[0])"
   ]
  },
  {
   "cell_type": "code",
   "execution_count": null,
   "metadata": {
    "collapsed": false
   },
   "outputs": [],
   "source": [
    "print(\"\\nDescriptive features in X:\\n\", X_train.head(5))\n",
    "print(\"\\nTarget feature in y:\\n\", y_train.head(5))"
   ]
  },
  {
   "attachments": {},
   "cell_type": "markdown",
   "metadata": {
    "collapsed": false
   },
   "source": [
    "#### Reset the indexes of the training and test splits\n",
    "- We can see from the X_train printout below that the indexes are out of order\n",
    "- This is the same for y_train, X_test, y_test\n",
    "- This will need to be dealt with next as it could affect the merging of dataframes"
   ]
  },
  {
   "attachments": {},
   "cell_type": "markdown",
   "metadata": {
    "collapsed": false
   },
   "source": [
    "We will now reset the index of all training and test dataframes"
   ]
  },
  {
   "cell_type": "code",
   "execution_count": null,
   "metadata": {
    "collapsed": false
   },
   "outputs": [],
   "source": [
    "# reset the index of X\n",
    "X_train.reset_index(drop=True, inplace=True)\n",
    "X_test.reset_index(drop=True, inplace=True)\n",
    "X_train.head(5)"
   ]
  },
  {
   "cell_type": "code",
   "execution_count": null,
   "metadata": {
    "collapsed": false
   },
   "outputs": [],
   "source": [
    "# reset the index of y\n",
    "y_train.reset_index(drop=True, inplace=True)\n",
    "y_test.reset_index(drop=True, inplace=True)\n",
    "y_train.head(5)"
   ]
  },
  {
   "attachments": {},
   "cell_type": "markdown",
   "metadata": {
    "collapsed": false
   },
   "source": [
    "The datasets are now ready for modeling"
   ]
  },
  {
   "attachments": {},
   "cell_type": "markdown",
   "metadata": {
    "collapsed": false
   },
   "source": [
    "## (4) Random Forest Model"
   ]
  },
  {
   "attachments": {},
   "cell_type": "markdown",
   "metadata": {
    "collapsed": false
   },
   "source": [
    "### 4.1 Train a random forest model using only the descriptive features selected from part 1 above\n",
    "- A random forest model will now be trained on our test data.\n",
    "- We use the RandomForestClassifier() function.\n",
    "- The random state will be set to 1 to allow the results to be repeated"
   ]
  },
  {
   "cell_type": "code",
   "execution_count": null,
   "metadata": {
    "collapsed": false
   },
   "outputs": [],
   "source": [
    "# Train RF with 100 trees\n",
    "rfc = RandomForestClassifier(n_estimators=100, max_features='auto', oob_score=True, random_state=1)\n",
    "# Train RF on training data\n",
    "rfc.fit(X_train, y_train)"
   ]
  },
  {
   "attachments": {},
   "cell_type": "markdown",
   "metadata": {
    "collapsed": false
   },
   "source": [
    "### 4.2 Understanding the Random Forest model\n",
    "A random forest model works by first creating a decision tree, it is a collection of individual decision trees\n",
    "- A decision tree is a set of if-then-else rules based on splitting the data based on specific features\n",
    "    - The decision on which feature to split on is based on the information gain (Gini index).\n",
    "    - The tree will always split on the feature that gives the highest information gain\n",
    "    - The feature with the highest information gain will sit at the root of each decision tree\n",
    "    - Each decision tree will be a single prediction\n",
    "- Random Forest\n",
    "    - The random forest is made up of numerous decision trees\n",
    "    - The output of the random forest is then based on the majority output of all combined decision trees\n",
    "    - This gives reliable results but can be hard to interpret\n",
    "    - The random forest will keep track of the importance of features in terms of information gain, which we will see\n",
    "\n",
    "Below is an example of a single decision tree to get a better understanding"
   ]
  },
  {
   "attachments": {},
   "cell_type": "markdown",
   "metadata": {
    "collapsed": false
   },
   "source": [
    "####  4.2.1  Train Decision tree\n",
    "We will train 2 decision trees, with the same test data\n",
    "- One with max_depth=4 and the other max_depth=10\n",
    "- Max depth determines how deep a decision tree can go before it must give an answer"
   ]
  },
  {
   "cell_type": "code",
   "execution_count": null,
   "metadata": {
    "collapsed": false
   },
   "outputs": [],
   "source": [
    "dtc4 = DecisionTreeClassifier(max_depth=4, random_state=1)\n",
    "dtc10 = DecisionTreeClassifier(max_depth=10, random_state=1)\n",
    "dtc4.fit(X_train, y_train)\n",
    "dtc10.fit(X_train, y_train)\n",
    "print(\"Max depth 4: \\n\",dtc4)\n",
    "print(\"Max depth 10: \\n\",dtc10)"
   ]
  },
  {
   "attachments": {},
   "cell_type": "markdown",
   "metadata": {
    "collapsed": false
   },
   "source": [
    "####  4.2.2  Display Decision tree\n",
    "We will create graph of each tree and store as an image"
   ]
  },
  {
   "cell_type": "code",
   "execution_count": null,
   "metadata": {
    "collapsed": false
   },
   "outputs": [],
   "source": [
    "# create a Graphviz png\n",
    "with open(\"DecisionTree4.dot\", 'w') as f1:\n",
    "    f1 = export_graphviz(dtc4, out_file=f1, feature_names=X_train.columns)\n",
    "with open(\"DecisionTree10.dot\", 'w') as f2:\n",
    "    f2 = export_graphviz(dtc10, out_file=f2, feature_names=X_train.columns)\n",
    "!dot -Tpng DecisionTree4.dot -o DecisionTree4.png\n",
    "!dot -Tpng DecisionTree10.dot -o DecisionTree10.png"
   ]
  },
  {
   "attachments": {},
   "cell_type": "markdown",
   "metadata": {
    "collapsed": false
   },
   "source": [
    "We can see below the decision tree with max_depth=4\n",
    "- We can see the root is age_group_65+years with a value of 0.5  - This splits the data best i.e. has the highest information gain\n",
    "- For each split the model selects the next best feature\n",
    "- This continues until it reaches a leaf node where the data cannot be split anymore\n",
    "- The output of this is the prediction\n",
    "- We can see one path below is resolved in 3 branches\n",
    "    - age_group_65+ years <= 0.5 -> hosp_yn <= 0.5 -> state_fips_code_6 <= 0.5> -> Resolved to TRUE\n",
    "    - Note: only 1 entry meets this requirement.\n",
    "    - All other entries need additional branches to be resolved"
   ]
  },
  {
   "attachments": {},
   "cell_type": "markdown",
   "metadata": {
    "collapsed": false
   },
   "source": [
    "<img src=\"DecisionTree4.png\">"
   ]
  },
  {
   "attachments": {},
   "cell_type": "markdown",
   "metadata": {
    "collapsed": false
   },
   "source": [
    "Viewing a decision tree with maxdepth=10 shows how dense and complex this model becomes\n",
    "- This is only one example of a decision tree\n",
    "- A Random forests has 100 decision trees by default\n",
    "- Each decision tree is given a slightly different view of the data and would become too complex to display in images"
   ]
  },
  {
   "attachments": {},
   "cell_type": "markdown",
   "metadata": {
    "collapsed": false
   },
   "source": [
    "<img src=\"DecisionTree10.png\">"
   ]
  },
  {
   "attachments": {},
   "cell_type": "markdown",
   "metadata": {
    "collapsed": false
   },
   "source": [
    "#### 4.2.3 Interpretation of the random forest model\n",
    "As mentioned above the random forest will keep track of the importance of features\n",
    "- We can see from the dataframe below the results of this feature importance ranking\n",
    "- The more important features are the features that the random forest has identified as having higher information gain\n",
    "- This list is the combined result of the 100 decision trees that make up the random forest model\n",
    "- This feature ranking will help us in our optimisation process going forward\n",
    "    - What are the best features to keep?\n",
    "    - What features can be safely dropped without loosing information?"
   ]
  },
  {
   "cell_type": "code",
   "execution_count": null,
   "metadata": {
    "collapsed": false
   },
   "outputs": [],
   "source": [
    "# random forest model finds importance of different features\n",
    "importance = pd.DataFrame({'feature': X_train.columns, 'importance':rfc.feature_importances_})\n",
    "importance.sort_values('importance', ascending=False)"
   ]
  },
  {
   "attachments": {},
   "cell_type": "markdown",
   "metadata": {
    "collapsed": false
   },
   "source": [
    "We can see from the list above that many of the features provide little to no information gain. Only 3 provide appear to be statistically significant from the table above."
   ]
  },
  {
   "attachments": {},
   "cell_type": "markdown",
   "metadata": {
    "collapsed": false
   },
   "source": [
    "### 4.4 Printing 100 predicted target features and evaluate the prediction\n",
    "- Here we will print the predicted target feature value for the first 100 training examples."
   ]
  },
  {
   "cell_type": "code",
   "execution_count": null,
   "metadata": {
    "collapsed": false
   },
   "outputs": [],
   "source": [
    "# Predicted class labels for all examples,\n",
    "# using the trained model, on in-sample data (same sample used for training and test)\n",
    "rfc_predictions_train = rfc.predict(X_train)\n",
    "df_true_vs_rfc_predicted = pd.DataFrame({'ActualClass': y_train, 'PredictedClass': rfc_predictions_train})\n",
    "df_true_vs_rfc_predicted.head(100)"
   ]
  },
  {
   "attachments": {},
   "cell_type": "markdown",
   "metadata": {
    "collapsed": false
   },
   "source": [
    "### 4.5 Evaluation metrics based on training data\n",
    "- We will print the classification evaluation measures computed on the training set (e.g. Accuracy, Confusion matrix, Precision, Recall, F1)\n",
    "- We will discuss finding based on these measures"
   ]
  },
  {
   "cell_type": "code",
   "execution_count": null,
   "metadata": {
    "collapsed": false
   },
   "outputs": [],
   "source": [
    "print(\"==================== Train Data =======================\")\n",
    "print(\"Accuracy: \", metrics.accuracy_score(y_train, rfc_predictions_train))\n",
    "print(\"Confusion matrix: \\n\", metrics.confusion_matrix(y_train, rfc_predictions_train))\n",
    "print(\"Classification report:\\n \", metrics.classification_report(y_train, rfc_predictions_train))"
   ]
  },
  {
   "attachments": {},
   "cell_type": "markdown",
   "metadata": {
    "collapsed": false
   },
   "source": [
    "Interpretation of results\n",
    "- Given the values are so high, the model may have learned the results leading to overfitting\n",
    "- The RF model achieved an accuracy of approx. 0.98 on the training data\n",
    "- The confusion matrix shows that 20737 instances of class 0 and 6834 instances of class 1 were classified correctly but the model misclassified 248 instances of class 0 and 181 instances of class 1\n",
    "    - In this case class 0 is no death and class 1 records a death\n",
    "- The precision of the model for class 0 is 0.99, which means that 99% of the predictions for class 0 were actually class 0, while 96% of class 1 predicted instances were class 1.\n",
    "- The recall of the model for class 0 is also 0.99 and for class 0 is 0.97, meaning it correctly identified 99% of the instances of class 0 and correctly identified 97% class 1 respectively\n",
    "- The f1-score is the harmonic mean of precision and recall combining the metrics into a single score, it's level suggests the model may be overfitting which will be checked against the test set and with cross-validation"
   ]
  },
  {
   "attachments": {},
   "cell_type": "markdown",
   "metadata": {
    "collapsed": false
   },
   "source": [
    "### 4.6 Evaluate the model using the hold-out (30% examples) test set\n",
    "- These results from the test data will be compared the results from the training data.\n",
    "- In addition they will be compared to the results from a cross-validated model (i.e., a new model trained and evaluated using cross-validation on the full dataset) and the out of the bag accuracy from unused data"
   ]
  },
  {
   "attachments": {},
   "cell_type": "markdown",
   "metadata": {
    "collapsed": false
   },
   "source": [
    "Printing Actual death_yn vs predicted based on test data"
   ]
  },
  {
   "cell_type": "code",
   "execution_count": null,
   "metadata": {
    "collapsed": false
   },
   "outputs": [],
   "source": [
    "# Predicted class labels for all examples,\n",
    "# using the trained model, on in-sample data (same sample used for training and test)\n",
    "rfc_predictions_test = rfc.predict(X_test)\n",
    "df_true_vs_rfc_predicted_test = pd.DataFrame({'ActualClass': y_test, 'PredictedClass': rfc_predictions_test})\n",
    "df_true_vs_rfc_predicted_test.head(20)"
   ]
  },
  {
   "attachments": {},
   "cell_type": "markdown",
   "metadata": {
    "collapsed": false
   },
   "source": [
    "Evaluation metrics based on test data"
   ]
  },
  {
   "cell_type": "code",
   "execution_count": null,
   "metadata": {
    "collapsed": false
   },
   "outputs": [],
   "source": [
    "print(\"==================== Test Data =======================\")\n",
    "print(\"Accuracy: \", metrics.accuracy_score(y_test, rfc_predictions_test))\n",
    "print(\"Confusion matrix: \\n\", metrics.confusion_matrix(y_test, rfc_predictions_test))\n",
    "print(\"Classification report:\\n \", metrics.classification_report(y_test, rfc_predictions_test))\n",
    "print(\"==================== Train Data =======================\")\n",
    "print(\"Accuracy: \", metrics.accuracy_score(y_train, rfc_predictions_train))\n",
    "print(\"Confusion matrix: \\n\", metrics.confusion_matrix(y_train, rfc_predictions_train))\n",
    "print(\"Classification report:\\n \", metrics.classification_report(y_train, rfc_predictions_train))\n",
    "print(\"======================================================\")"
   ]
  },
  {
   "attachments": {},
   "cell_type": "markdown",
   "metadata": {
    "collapsed": false
   },
   "source": [
    "Interpretation of test results and comparison with training results\n",
    "- The accuracy for the test is a bit lower as we are not testing the model with data it has not seen before,  the accuracy with the training data was approx 0.98, but slightly lower accuracy of approx. 0.95 on the test data\n",
    "- The precision and recall scores for both classes are slightly lower on the test data than on the training data but this would be  expected as the data is new to the model\n",
    "- The test suggests there could be some overfitting which will be examined with cross validation of 10-fold in the next section"
   ]
  },
  {
   "attachments": {},
   "cell_type": "markdown",
   "metadata": {
    "collapsed": false
   },
   "source": [
    "### 4.7 Cross validation\n",
    "- Cross validation provides a more robust estimate of model performance through the use of multiple train-test splits over a single split\n",
    "- We will preform cross validation and store the results in a dictionary for later use\n",
    "- Evaluate the model using 10-fold cross-validation"
   ]
  },
  {
   "cell_type": "code",
   "execution_count": null,
   "metadata": {
    "collapsed": false
   },
   "outputs": [],
   "source": [
    "def cross_val_RandomForest_DF(X,y, depth=None, estimators=100):\n",
    "    \"\"\"Function to perform cross validation and store results\n",
    "    in dataframe. Cross validation looks at accuracy, precision,\n",
    "    recall, f1. Returns a dataframe with results\"\"\"\n",
    "\n",
    "    # store results in dict\n",
    "    RandomForestResults = {}\n",
    "    # metrics to test against\n",
    "    test_metrics = ['accuracy','precision','recall', 'f1']\n",
    "\n",
    "    for metric in test_metrics:\n",
    "        # generate test results\n",
    "        result = cross_val_score(RandomForestClassifier(n_estimators=estimators, max_features='auto', oob_score=True, random_state=1, max_depth=depth), X, y, scoring=metric, cv=10)\n",
    "        # store result in dict\n",
    "        RandomForestResults[metric] = result.mean()\n",
    "\n",
    "    # create dataframe with results\n",
    "    RandomForestDF = pd.DataFrame.from_dict(RandomForestResults, orient='index', columns=['Random_Forests'])\n",
    "\n",
    "    return RandomForestDF"
   ]
  },
  {
   "attachments": {},
   "cell_type": "markdown",
   "metadata": {
    "collapsed": false
   },
   "source": [
    "#### The results for Random Forests are summarized below"
   ]
  },
  {
   "cell_type": "code",
   "execution_count": null,
   "metadata": {
    "collapsed": false
   },
   "outputs": [],
   "source": [
    "RandomForestDF = cross_val_RandomForest_DF(X,y)\n",
    "print(f\"Mean results from 10 fold cross validation are:\")\n",
    "RandomForestDF"
   ]
  },
  {
   "attachments": {},
   "cell_type": "markdown",
   "metadata": {
    "collapsed": false
   },
   "source": [
    "The results above show\n",
    "- On average, the RF model correctly classified approx. 94.98% of instances in the validation sets across all folds\n",
    "- The f1 score is a little lower than from the training and test data but it is still relatively high meaning there is a good balance between the precision and recall figures\n",
    "- Finally we"
   ]
  },
  {
   "attachments": {},
   "cell_type": "markdown",
   "metadata": {
    "collapsed": false
   },
   "source": [
    "### 4.8 Out of bag accuracy\n",
    "- This is the out of bag error estimate\n",
    "- It is an internal error estimate of a random forest as it is being constructed. When training an RF, only a subset of the original data is used for training, the unused data, is \"out of the bag\"\n",
    "- It is used as a proxy measure for checking the true accuracy of cross validation results, using until now, unused data\n",
    "- It should be lower than the accuracy of cross validation"
   ]
  },
  {
   "cell_type": "code",
   "execution_count": null,
   "metadata": {
    "collapsed": false
   },
   "outputs": [],
   "source": [
    "# compute the out-of-bag classification accuracy\n",
    "rfc.oob_score_"
   ]
  },
  {
   "attachments": {},
   "cell_type": "markdown",
   "metadata": {
    "collapsed": false
   },
   "source": [
    "This value is close to be less than the cross validation results above and shows that the model, given the inputs, is likely a good prediction model for the target feature of \"death_yn\""
   ]
  },
  {
   "attachments": {},
   "cell_type": "markdown",
   "metadata": {},
   "source": [
    "## 5 Improving Predictive Models"
   ]
  },
  {
   "attachments": {},
   "cell_type": "markdown",
   "metadata": {},
   "source": [
    "### 5.1 Which model of the ones trained above performs better at predicting the target feature? \n",
    "- All models preform almost identical on the test dataset +/- 1%\n",
    "- Summary of the results so far can be seen below (based on predicting good outcome (RiskEstimate=0))\n",
    "- Note these results are for a subset of the original features i.e. In part 1 we dropped many of the low correlation features\n",
    "    - In part 5.3 we will review the impact to the decisions taken in part 1"
   ]
  },
  {
   "cell_type": "code",
   "execution_count": null,
   "metadata": {},
   "outputs": [],
   "source": [
    "ResultsDF = pd.concat([linRegDF, logRegDF, RandomForestDF], axis=1)\n",
    "ResultsDF"
   ]
  },
  {
   "attachments": {},
   "cell_type": "markdown",
   "metadata": {},
   "source": [
    "### 5.2 Is the model more accurate than a simple model that always predicts the majority class\n",
    "- We will compare our results above to a simple model which predicts for the majority class\n",
    "- First we will get the breakdown of the test dataset and see which is the majority class"
   ]
  },
  {
   "cell_type": "code",
   "execution_count": null,
   "metadata": {},
   "outputs": [],
   "source": [
    "good_count = y_test[y_test == 1].count()\n",
    "bad_count = y_test[y_test == 0].count()\n",
    "total = good_count+ bad_count\n",
    "print(f'From original dataset: \\t\\tCount {total}')\n",
    "print(f'Total number never delinquent:\\t {good_count}\\t{round(good_count/len(y_test)*100,2)}%')\n",
    "print(f'Total number delinquent:\\t {bad_count}\\t{round(bad_count/len(y_test)*100,2)}%')"
   ]
  },
  {
   "attachments": {},
   "cell_type": "markdown",
   "metadata": {},
   "source": [
    "- We can see the majority class is 0 or RiskOutcome=Bad \n",
    "- We will now generate scores for predicting the majority class"
   ]
  },
  {
   "cell_type": "code",
   "execution_count": null,
   "metadata": {},
   "outputs": [],
   "source": [
    "# generate array of 253 zeros (length of test dataset)\n",
    "majority = np.zeros(12000)\n",
    "# create dataframe \n",
    "df_majorityClass = pd.DataFrame(majority, columns=['prediction'])\n",
    "# calculate scores of simple prediction vs actual\n",
    "print(\"Accuracy: \", metrics.accuracy_score(y_test, df_majorityClass))\n",
    "print(\"Confusion matrix: \\n\", metrics.confusion_matrix(y_test, df_majorityClass))\n",
    "print(\"Classification report:\\n \", metrics.classification_report(y_test, df_majorityClass))"
   ]
  },
  {
   "attachments": {},
   "cell_type": "markdown",
   "metadata": {},
   "source": [
    "- For predicting good outcome the simple model fails completely as expected\n",
    "- For predicting the bad outcome the simple model fares much better but still worse than all the other models outlined above\n",
    "    - The precision is the same as the accuracy in this case - i.e. how good is it at predicting 0\n",
    "    - The recall is 100% as all of the actual 0 values were predicted 0\n",
    "    - The f1 is between the precision and recall as it is a weighted average of the two"
   ]
  },
  {
   "attachments": {},
   "cell_type": "markdown",
   "metadata": {},
   "source": [
    "### 5.3 Compare Model performance using different feature subsets \n",
    "#### 5.3.1 All features\n",
    "- We will now repeat the tests using all features \n",
    "- First we set up the dataframe using the original features"
   ]
  },
  {
   "cell_type": "code",
   "execution_count": null,
   "metadata": {},
   "outputs": [],
   "source": [
    "# dataframe with all features = original dataframe\n",
    "df_all = pd.get_dummies(df)\n",
    "# set X,y\n",
    "y = df_all[\"death_yn\"]\n",
    "X = df_all.drop([\"death_yn\"],1)\n",
    "print(\"number of features incl dummies: \", len(X.columns))"
   ]
  },
  {
   "attachments": {},
   "cell_type": "markdown",
   "metadata": {},
   "source": [
    "With the dataframe now setup we will generate new set of results based on all the features\n",
    "- This operation is simplified as we have set up functions in part 2,3,4 to allow cross validated scores to be returned in dataframes "
   ]
  },
  {
   "cell_type": "code",
   "execution_count": null,
   "metadata": {},
   "outputs": [],
   "source": [
    "# calculate Linear regression, logistic regression, random forest results again using all features\n",
    "linRegDF = cross_val_LinReg_DF(X,y)\n",
    "logRegDF = cross_val_LogReg_DF(X,y)\n",
    "RandomForestDF = cross_val_RandomForest_DF(X,y)\n",
    "# merge all 3 models into dataframe\n",
    "ResultsDF_allFeatures = pd.concat([linRegDF, logRegDF, RandomForestDF], axis=1)\n",
    "ResultsDF_allFeatures"
   ]
  },
  {
   "attachments": {},
   "cell_type": "markdown",
   "metadata": {},
   "source": [
    "#### 5.3.2 High correlation features only\n",
    "- We will now repeat the tests using the high correlation features identified in part (1.2.3)\n",
    "- Again we set up the dataframe but now we use the list of high_correlation_features only"
   ]
  },
  {
   "cell_type": "code",
   "execution_count": null,
   "metadata": {},
   "outputs": [],
   "source": [
    "df_highCorr = pd.get_dummies(df)\n",
    "y = df_highCorr[\"death_yn\"]\n",
    "X = df_highCorr[\"death_prob_month\", \"death_prob_medical_mean\", \"death_prob_sex_age_median\"]\n",
    "print(\"Number of features: \", len(X.columns))"
   ]
  },
  {
   "cell_type": "code",
   "execution_count": null,
   "metadata": {},
   "outputs": [],
   "source": [
    "# calculate Linear regression, logistic regression, random forest results again\n",
    "linRegDF = cross_val_LinReg_DF(X,y)\n",
    "logRegDF = cross_val_LogReg_DF(X,y)\n",
    "RandomForestDF = cross_val_RandomForest_DF(X,y)\n",
    "# merge all 3 models into dataframe\n",
    "ResultsDF_HighCorrFeatures = pd.concat([linRegDF, logRegDF, RandomForestDF], axis=1)\n",
    "ResultsDF_HighCorrFeatures"
   ]
  },
  {
   "attachments": {},
   "cell_type": "markdown",
   "metadata": {},
   "source": [
    "### 5.3.3 Comparison of feature set so far"
   ]
  },
  {
   "cell_type": "code",
   "execution_count": null,
   "metadata": {},
   "outputs": [],
   "source": [
    "print(\"\\nScores using all features: 28 features (0 features dropped)\")\n",
    "print(\"===================================================================\")\n",
    "print(ResultsDF_allFeatures)\n",
    "print(\"\\nScores using subset of features: 18 features (10 features dropped - from part 1)\")\n",
    "print(\"===================================================================\")\n",
    "print(ResultsDF)\n",
    "print(\"\\nScores using high Correlation features only: 5 features (23 features dropped)\")\n",
    "print(\"===================================================================\")\n",
    "print(ResultsDF_HighCorrFeatures)"
   ]
  },
  {
   "attachments": {},
   "cell_type": "markdown",
   "metadata": {},
   "source": [
    "We can see from the above set of results that there is very little reduction in accuracy as we remove a significant number of low value features. We see that linear and logistic regression models are the most stable as we reduce the number of features. On average we get a 2-4% reduction in scores for an 80% reduction in the number of features. For Random forests there is a more significant reduction in scores but it is still not too bad."
   ]
  },
  {
   "attachments": {},
   "cell_type": "markdown",
   "metadata": {},
   "source": [
    "### 5.4 Further optimisations\n",
    "- There are two possible options for optimizing the linear and logistic regression models\n",
    "    - Deriving new features - All of the derived features proposed in homework 1 performed poorly and so additional features will not be proposed.\n",
    "    - Further reviewing the existing features to find the best combination - This has already been attempted \n",
    "- We will therefore focus in the random forest model to see what optimization is possible. We will look at the following:\n",
    "    1. Find best performing Max_Depth of decision tree while keeping accuracy high - reduce potential for overfitting and speed up model \n",
    "    2. Find lowest number estimators while keeping accuracy high- reduce unnecessary estimators as will slow down the model\n",
    "    3. Find best preforming list of features ranked by feature importance - As we know there are many feature that add little the the model. Removing them will help generalise the model\n",
    "        - Results here can be applied to all models "
   ]
  },
  {
   "attachments": {},
   "cell_type": "markdown",
   "metadata": {},
   "source": [
    "#### 5.4.1 Optimise Max Depth\n",
    "**Note: This calculation may take some time**"
   ]
  },
  {
   "cell_type": "code",
   "execution_count": null,
   "metadata": {},
   "outputs": [],
   "source": [
    "# setup dataframe\n",
    "df_all = pd.get_dummies(df)\n",
    "y = df_all[\"death_yn\"]\n",
    "X = df_all.drop([\"death_yn\"],1)\n",
    "\n",
    "# initialised empty daraframe\n",
    "RandomForest_Depth = pd.DataFrame()\n",
    "\n",
    "# calculate cross val score incrementing max depth by 1 each iteration\n",
    "# append results to dataframe\n",
    "for i in range(1,11):\n",
    "    df1 = cross_val_RandomForest_DF(X,y,i)\n",
    "    df1.rename(columns={'Random_Forests':f'depth={i}'}, inplace=True)\n",
    "    RandomForest_Depth = pd.concat([RandomForest_Depth, df1], axis=1)\n",
    "\n",
    "# same calculation but use no max depth this time\n",
    "no_max_depth = cross_val_RandomForest_DF(X,y)\n",
    "no_max_depth.rename(columns={'Random_Forests':f'no_max_depth'}, inplace=True)\n",
    "RandomForest_Depth = pd.concat([RandomForest_Depth, no_max_depth], axis=1)\n",
    "RandomForest_Depth"
   ]
  },
  {
   "attachments": {},
   "cell_type": "markdown",
   "metadata": {},
   "source": [
    "We can see from above that the sweet spot appears to be with a max depth of 6. This will vary between datasets but it does let us know that there is little to be gained by having max_depth=None. Max_depth=None will significantly increase the model size. "
   ]
  },
  {
   "attachments": {},
   "cell_type": "markdown",
   "metadata": {},
   "source": [
    "#### 5.4.2 Optimise Number of estimators\n",
    "**Note: This calculation may take some time**"
   ]
  },
  {
   "cell_type": "code",
   "execution_count": null,
   "metadata": {},
   "outputs": [],
   "source": [
    "# setup dataframe\n",
    "df_all = pd.get_dummies(df)\n",
    "y = df_all[\"death_yn\"]\n",
    "X = df_all.drop([\"death_yn\"],1)\n",
    "\n",
    "# initialised empty daraframe\n",
    "RandomForest_Estimators = pd.DataFrame()\n",
    "\n",
    "n_estimators = [1, 2, 4, 8, 16, 32, 64, 100, 200]\n",
    "\n",
    "for item in n_estimators:\n",
    "    df1 = cross_val_RandomForest_DF(X,y,estimators=item)\n",
    "    df1.rename(columns={'Random_Forests':f'estimators={item}'}, inplace=True)\n",
    "    RandomForest_Estimators = pd.concat([RandomForest_Estimators, df1], axis=1)\n",
    "\n",
    "RandomForest_Estimators"
   ]
  },
  {
   "attachments": {},
   "cell_type": "markdown",
   "metadata": {},
   "source": [
    "We can see from the above dataframe that accuracy continues to improve with increasing number of estimators. I hoped to see the accuracy level off quickly but it does seem to continue to increase after 100. For the sake of keeping the model size manageable we will keep the number of estimators at the default of 100"
   ]
  },
  {
   "attachments": {},
   "cell_type": "markdown",
   "metadata": {},
   "source": [
    "#### 5.4.3 Optimise Number of features\n",
    "- First calculate feature order of importance using all features"
   ]
  },
  {
   "cell_type": "code",
   "execution_count": null,
   "metadata": {},
   "outputs": [],
   "source": [
    "# setup dataframe\n",
    "df_all = pd.get_dummies(df)\n",
    "y = df_all[\"death_yn\"]\n",
    "X = df_all.drop([\"death_yn\"],1)\n",
    "X_train, X_test, y_train, y_test = train_test_split(X, y, random_state=1 , test_size=0.3)\n",
    "\n",
    "# Train RF with 100 trees\n",
    "rfc = RandomForestClassifier(n_estimators=100, max_features='auto', oob_score=True, random_state=1)\n",
    "rfc.fit(X_train, y_train)\n",
    "importance = pd.DataFrame({'feature': X_train.columns, 'importance':rfc.feature_importances_})\n",
    "importance.sort_values('importance', ascending=False, inplace=True)\n",
    "importance.set_index('feature',1, inplace=True)\n",
    "importance"
   ]
  },
  {
   "attachments": {},
   "cell_type": "markdown",
   "metadata": {},
   "source": [
    "- Next calculate the optimum number of features\n",
    "- There are 39 features in total (more due to dummy features)\n",
    "- We will only calculate the top 22 features to keep the execution time down\n",
    "- After the top 22 features we can see from the importance list that any additional features add little to no value\n",
    "- We can see worst preforming features are the categorical which was not expected\n",
    "\n",
    "**Note: This calculation may take some time**"
   ]
  },
  {
   "cell_type": "code",
   "execution_count": null,
   "metadata": {},
   "outputs": [],
   "source": [
    "# set up empty list to store features\n",
    "list_features = []\n",
    "\n",
    "# set up empty dataframe to store results\n",
    "RandomForest_Features = pd.DataFrame()\n",
    "count=0\n",
    "\n",
    "# loop over 'importance' dataframe adding 1 feature per loop (will be the next most important feature)\n",
    "# each loop calculates the score for the current number of features in the list_features\n",
    "# Each loop appends result to RandomForest_Features dataframe\n",
    "for index, row in importance.iterrows():\n",
    "    # only calculate the top 22 features to keep runtime down\n",
    "    if count < 22:\n",
    "        list_features.append(index)\n",
    "        X = df_all[list_features]\n",
    "        df1 = cross_val_RandomForest_DF(X,y, depth=6)\n",
    "        df1.rename(columns={'Random_Forests':f'features={len(list_features)}'}, inplace=True)\n",
    "        RandomForest_Features = pd.concat([RandomForest_Features, df1], axis=1)\n",
    "        count+=1\n",
    "    else:\n",
    "        break\n",
    "\n",
    "# to display all columns    \n",
    "#pd.set_option('display.max_columns', 40)\n",
    "RandomForest_Features  "
   ]
  },
  {
   "attachments": {},
   "cell_type": "markdown",
   "metadata": {},
   "source": [
    "Here we see that after the top 10 features the accuracy of the model stabilises. Therefore was can trim the model to the optimum number of features i.e. 10 \n",
    "- It is interesting to note that we achieve reasonable accuracy using one feature only - External Risk Estimate. This had the highest correlation with the target from part 1 and also the highest importance in the random forest model.\n",
    "- The top three feature from the random forest importance list are also the top 3 correlated features from part 1\n",
    "\n",
    "We can now define our list of optimum features"
   ]
  },
  {
   "cell_type": "code",
   "execution_count": null,
   "metadata": {},
   "outputs": [],
   "source": [
    "# set list of optimum features\n",
    "optimum_features = list_features[0:10]"
   ]
  },
  {
   "attachments": {},
   "cell_type": "markdown",
   "metadata": {},
   "source": [
    "### 5.5  Finally review performance of all models using what we have learned so far\n",
    "- For all models use optimum_features based on random forests feature importance evaluation\n",
    "- For random forests model use max_depth=6 and keep default number estimators=100"
   ]
  },
  {
   "cell_type": "code",
   "execution_count": null,
   "metadata": {},
   "outputs": [],
   "source": [
    "df_optimum_features = pd.get_dummies(df)\n",
    "y = df_optimum_features[\"death_yn\"]\n",
    "X = df_optimum_features[optimum_features]\n",
    "print(\"Number of features: \", len(X.columns))\n",
    "\n",
    "# calculate Linear regression, logistic regression, random forest results again\n",
    "linRegDF = cross_val_LinReg_DF(X,y)\n",
    "logRegDF = cross_val_LogReg_DF(X,y)\n",
    "RandomForestDF = cross_val_RandomForest_DF(X,y,depth=6,estimators=100)\n",
    "# merge all 3 models into dataframe\n",
    "ResultsDF_optimum_features = pd.concat([linRegDF, logRegDF, RandomForestDF], axis=1)\n",
    "ResultsDF_optimum_features"
   ]
  },
  {
   "attachments": {},
   "cell_type": "markdown",
   "metadata": {},
   "source": [
    "####  Comparison of all"
   ]
  },
  {
   "cell_type": "code",
   "execution_count": null,
   "metadata": {},
   "outputs": [],
   "source": [
    "print(\"\\nScores using all features: 28 features (0 features dropped)\")\n",
    "print(\"===================================================================\")\n",
    "print(ResultsDF_allFeatures)\n",
    "print(\"\\nScores using subset of features: 18 features (10 features dropped - from part 1)\")\n",
    "print(\"===================================================================\")\n",
    "print(ResultsDF)\n",
    "print(\"\\nScores using high Correlation features: 5 features (23 features dropped)\")\n",
    "print(\"===================================================================\")\n",
    "print(ResultsDF_HighCorrFeatures)\n",
    "print(\"\\nScores using optimum features: 10 features (18 features dropped)\")\n",
    "print(\"===================================================================\")\n",
    "print(ResultsDF_optimum_features)"
   ]
  },
  {
   "attachments": {},
   "cell_type": "markdown",
   "metadata": {},
   "source": [
    "- We can see from the comparison above that using the optimum features from the random forest evaluation performs best for all models. \n",
    "- This is a good result as we have trimmed the number of features and are achieving better scores all round. \n",
    "- We have also made some efficiency gains for the random forests model \n",
    "    - Finding sweet spot for the max depth (=6), which will in turn limit the chances of overfitting\n",
    "    - Finding the optimum number of estimators (=100) - this happens to be the default\n",
    "- The linear regression marginally preforms best but is not recommended as results could be skewed by valid outliers\n",
    "- The logistic and random forest models preform almost the same +/-1% and both could be used. "
   ]
  },
  {
   "attachments": {},
   "cell_type": "markdown",
   "metadata": {},
   "source": [
    "### 5.6 Further work\n",
    "Additional evaluation measures could be preformed on each model that were outside the scope of this homework\n",
    "- Receiver Operating Characteristics (ROC) \n",
    "    - A Plot used to visualize how well our classifier is doing\n",
    "    - Tells us how good the model is for distinguishing given classes\n",
    "    - Plots False Positive Rate (FPR) against True Positive Rate (TPR)\n",
    "- Area Under ROC Curve (AUC) \n",
    "    - Measures the quality of the ROC curve by calculating the total area under the ROC curve\n",
    "    - The bigger the area covered, the better the model is at distinguishing the given classes"
   ]
  },
  {
   "attachments": {},
   "cell_type": "markdown",
   "metadata": {},
   "source": [
    "### 5.7 Summary\n",
    "- 3 predictive models have been evaluated in this notebook, with all models preform similarly\n",
    "- The majority of the features in the dataset have been found to have little impact on the target\n",
    "- A number of optimisations have been made that have improved all models\n",
    "- The biggest effect is finding the optimised list of features as this can be applied to all models\n",
    "- The linear regression marginally preforms best but is not recommended as results could be skewed by valid outliers\n",
    "- The logistic and random forest models preform almost the same +/-1% and both could be used. \n",
    "- The logistic model is more lightweight and will be faster to retain, however provides marginally lower accuracy.\n",
    "\n",
    "#### Recommendations: \n",
    "1. Re-evaluate each model on the **whole** dataset\n",
    "2. Use the additional evaluation measures outlined in 5.6"
   ]
  }
 ],
 "metadata": {
  "kernelspec": {
   "display_name": "Python 3 (ipykernel)",
   "language": "python",
   "name": "python3"
  },
  "language_info": {
   "codemirror_mode": {
    "name": "ipython",
    "version": 3
   },
   "file_extension": ".py",
   "mimetype": "text/x-python",
   "name": "python",
   "nbconvert_exporter": "python",
   "pygments_lexer": "ipython3",
   "version": "3.9.16"
  }
 },
 "nbformat": 4,
 "nbformat_minor": 1
}
